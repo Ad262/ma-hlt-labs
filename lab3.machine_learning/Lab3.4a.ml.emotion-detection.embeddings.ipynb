{
 "cells": [
  {
   "cell_type": "markdown",
   "metadata": {},
   "source": [
    "# Lab3.3 Training an emotion classifier using embeddings"
   ]
  },
  {
   "cell_type": "markdown",
   "metadata": {},
   "source": [
    "Copyright: Vrije Universiteit Amsterdam, Faculty of Humanities, CLTL"
   ]
  },
  {
   "cell_type": "markdown",
   "metadata": {},
   "source": [
    "### Table of Contents\n",
    "\n",
    "* [Section 1: Quick introduction to embeddings](#section1)\n",
    "* [Section 2: Loading the emotion data](#section2)\n",
    "* [Section 3: Preparing the training and test data](#section3)\n",
    "* [Section 4: Training and applying the model](#section4)\n",
    "* [Section 5: Generating the test report](#section5)\n",
    "* [Section 6: Applying the classifier to your own text](#section6)\n"
   ]
  },
  {
   "cell_type": "markdown",
   "metadata": {},
   "source": [
    "## 1 Quick introduction to embeddings  <a class=\"anchor\" id =\"section1\"></a> \n",
    "\n",
    "Extracting features manually can get us a long way. In addition to lemma and part-of-speech, people have used other information: features of the previous words (on the left) or the next words (on the right), whether the current word starts with a capital, whether it is an abbreviation, etc.\n",
    "\n",
    "A recent alternative way to create a 'semantic' representation of a word is by word embeddings: mapping words (or phrases) from the vocabulary to vectors of real numbers. Conceptually it involves a mathematical embedding from a space with many dimensions per word to a continuous vector space with a much lower dimension. For this reason, they are called dense representations.\n",
    "\n",
    "In linguistics, word embeddings were discussed in the research area of distributional semantics. The idea is to quantify and categorize semantic similarities between linguistic items based on their distributional properties in large samples of language data. The underlying notion is that \"a word is characterized by the company it keeps\" (Firth). Embeddings are however the weights in the hidden layer of a neural network that is trained to predict the contexts rather than representing the context in a vector directly.\n",
    "\n",
    "### Reference:\n",
    "\n",
    "For a nice explanation how word embedddings can improve classical bag-of-word approaches, check out this page:\n",
    "\n",
    "https://radimrehurek.com/gensim/auto_examples/tutorials/run_word2vec.html\n"
   ]
  },
  {
   "cell_type": "markdown",
   "metadata": {},
   "source": [
    "In this section, we will load pre-trained word embeddings called word2vec, created by Google. The embeddings have 300 dimensions.\n",
    "\n",
    "First, download the file from [Kaggle](https://www.kaggle.com/pkugoodspeed/nlpword2vecembeddingspretrained) or from [Google code archive](https://code.google.com/archive/p/word2vec/). Then, create a folder and unpack the word2vec file in that folder.\n",
    "\n",
    "We will load the embedding model with the Gensim package that we used before."
   ]
  },
  {
   "cell_type": "code",
   "execution_count": 1,
   "metadata": {},
   "outputs": [],
   "source": [
    "from sklearn.metrics.pairwise import cosine_similarity\n",
    "import gensim\n",
    "import numpy as np"
   ]
  },
  {
   "cell_type": "code",
   "execution_count": 2,
   "metadata": {},
   "outputs": [],
   "source": [
    "##### Change to path to the location of your local copy of the GoogleNews embeddings\n",
    "##### It may take a  minute to load the model\n",
    "path_to_model = '/Users/piek/Desktop/ONDERWIJS/data/word-embeddings/classical-models/GoogleNews-vectors-negative300.bin'\n",
    "word_embedding_model = gensim.models.KeyedVectors.load_word2vec_format(path_to_model, binary=True)  \n",
    "\n"
   ]
  },
  {
   "cell_type": "code",
   "execution_count": 3,
   "metadata": {},
   "outputs": [],
   "source": [
    "### this model has 300 dimensions so we set the number of features to 300\n",
    "\n",
    "num_features = 300"
   ]
  },
  {
   "cell_type": "markdown",
   "metadata": {},
   "source": [
    "In case you computer cannot handle big models such as the Google news model, you can also download one of the smaller 'Glove' datasets. These are provided as text files and 'gensim' provides a function to convert and load them. Note that these models have less domensions than the Google model and you need to adapt the number of features in the code below."
   ]
  },
  {
   "cell_type": "code",
   "execution_count": 12,
   "metadata": {},
   "outputs": [],
   "source": [
    "from gensim.test.utils import datapath, get_tmpfile\n",
    "from gensim.models import KeyedVectors\n",
    "from gensim.scripts.glove2word2vec import glove2word2vec\n",
    "\n",
    "glove_file = datapath('/Users/piek/Desktop/ONDERWIJS/data/word-embeddings/classical-models/glove.6B.50d.txt')\n",
    "tmp_file = get_tmpfile(\"test_word2vec.txt\")\n",
    "\n",
    "_ = glove2word2vec(glove_file, tmp_file)\n",
    "word_embedding_model = KeyedVectors.load_word2vec_format(tmp_file)\n",
    "\n",
    "### this model has 50 dimensions so we set the number of features to 50\n",
    "\n",
    "num_features = 50"
   ]
  },
  {
   "cell_type": "markdown",
   "metadata": {},
   "source": [
    "Instead of downloading the models to disk, 'gensim' also provides a downloader API to load the model from the web when needed. In the next cell, we use this API to download a word embeddding model trained on tweets. Note that these are GloVe embeddings built using Tweets as the name suggests. These vectors are based on 2B tweets, 27B tokens, 1.2M vocab, uncased. The original source can be found here: https://nlp.stanford.edu/projects/glove/. The 25 in the model name refers to the dimensionality of the vectors."
   ]
  },
  {
   "cell_type": "code",
   "execution_count": 15,
   "metadata": {},
   "outputs": [],
   "source": [
    "from gensim.models.word2vec import Word2Vec\n",
    "import gensim.downloader as api\n",
    "# download the model and return as object ready for use\n",
    "word_embedding_model = api.load(\"glove-twitter-25\")\n",
    "\n",
    "### this model has 25 dimensions so we set the number of features to 25\n",
    "num_features = 25"
   ]
  },
  {
   "cell_type": "markdown",
   "metadata": {},
   "source": [
    "Let's check if the model works."
   ]
  },
  {
   "cell_type": "code",
   "execution_count": 4,
   "metadata": {},
   "outputs": [
    {
     "name": "stdout",
     "output_type": "stream",
     "text": [
      "[[0.7609458]]\n"
     ]
    }
   ],
   "source": [
    "word1='cat'\n",
    "word2='dog'\n",
    "word1_vector=np.array(word_embedding_model[word1]).reshape(1, -1)\n",
    "word2_vector=np.array(word_embedding_model[word2]).reshape(1, -1)\n",
    "print(cosine_similarity(word1_vector, word2_vector))"
   ]
  },
  {
   "cell_type": "markdown",
   "metadata": {},
   "source": [
    "## 2. Loading the emotion data  <a class=\"anchor\" id =\"section2\"></a> "
   ]
  },
  {
   "cell_type": "code",
   "execution_count": 5,
   "metadata": {},
   "outputs": [],
   "source": [
    "import pandas as pd\n",
    "filepath = './data/MELD/train_sent_emo.csv'\n",
    "df = pd.read_csv(filepath)"
   ]
  },
  {
   "cell_type": "markdown",
   "metadata": {},
   "source": [
    "# 3. Preparing the training and test data  <a class=\"anchor\" id =\"section3\"></a> \n",
    "\n",
    "The following import are needed again:"
   ]
  },
  {
   "cell_type": "code",
   "execution_count": 6,
   "metadata": {},
   "outputs": [],
   "source": [
    "import sklearn\n",
    "import numpy as np\n",
    "import nltk\n",
    "from nltk.corpus import stopwords"
   ]
  },
  {
   "cell_type": "markdown",
   "metadata": {},
   "source": [
    "In the previous notebook, we used CountVectorizer to obtain the full vocabulary of the data set and generate vectors for the one-hot-endcoing of each word. In these vectors, each slot represents a word and a value '1' indicates that the word was present in the utterance and a '0' means absence. This results is large and sparse vector representations for each utterance. We have also seen that we can weight the relevance of a word using the 'TF.IDF' function. This still results in large and sparse vectors but weights are more subtle. The down side is sparseness, lack of generalisation and lack robustness. \n",
    "\n",
    "In the following, we are going to represent the utterances by an embedding representation. In fact, we take the word embedding of each token in the utterance and add these together, after which we take the average. All the embeddings have the same number of dimensions in the same order. So if two tokens have a high weight for one dimension then their co-uccurrence in an utterance will enforce that weight. Note that by adding and taking the average, we normalize for the length of the utterance and the order of the tokens is not relevant."
   ]
  },
  {
   "cell_type": "markdown",
   "metadata": {},
   "source": [
    "We are going to define two customized function using 'def' to create an embedding representation for each utterance. These functions are taken from: https://www.kaggle.com/varun08/sentiment-analysis-using-word2vec\n",
    "\n",
    "The first function, called 'featureVecMethod', takes the words of the utterance and the embedding model as parameters. The num_features parameter determines the size of the vector. "
   ]
  },
  {
   "cell_type": "code",
   "execution_count": 16,
   "metadata": {},
   "outputs": [],
   "source": [
    "unknown_words =[]\n",
    "known_words = []\n",
    "# Function to average all word vectors in a paragraph\n",
    "def featureVecMethod(words, stopwords, model, modelword_index, num_features):\n",
    "    # Pre-initialising empty numpy array for speed\n",
    "    # This create a numpy array with the length of the num_features set to zero values\n",
    "    featureVec = np.zeros(num_features,dtype=\"float32\")\n",
    "    nwords = 0\n",
    "        \n",
    "    for word in  words:\n",
    "        if not word in stop_words: \n",
    "            if word in index2word_set:\n",
    "                nwords = nwords + 1\n",
    "                featureVec = np.add(featureVec,model[word])\n",
    "                known_words.append(word)\n",
    "            else:\n",
    "                word = word.lower()\n",
    "                if word in index2word_set:\n",
    "                    nwords = nwords + 1\n",
    "                    featureVec = np.add(featureVec,model[word])\n",
    "                    #we keep track of the words detected\n",
    "                    known_words.append(word)\n",
    "                else:\n",
    "                    #we keep track of the unknown words to see how well our model fits the data\n",
    "                    unknown_words.append(word)\n",
    "    # Dividing the result by number of words to get average\n",
    "    featureVec = np.divide(featureVec, nwords)\n",
    "    return featureVec"
   ]
  },
  {
   "cell_type": "markdown",
   "metadata": {},
   "source": [
    "The next function just deals with all the data and creates the list of input vectors. This function calls the previous function"
   ]
  },
  {
   "cell_type": "code",
   "execution_count": 17,
   "metadata": {},
   "outputs": [],
   "source": [
    "# Function for calculating the average feature vector\n",
    "def getAvgFeatureVecs(texts, stopwords, model, modelword_index, num_features):\n",
    "    counter = 0\n",
    "    textFeatureVecs = np.zeros((len(texts),num_features),dtype=\"float32\")\n",
    "    for text in texts:\n",
    "        # Printing a status message every 1000th text\n",
    "        if counter%200 == 0:\n",
    "            print(\"Review %d of %d\"%(counter,len(texts)))\n",
    "            \n",
    "        textFeatureVecs[counter] = featureVecMethod(text, stopwords, model, modelword_index,num_features)\n",
    "        counter = counter+1\n",
    "    return textFeatureVecs"
   ]
  },
  {
   "cell_type": "markdown",
   "metadata": {},
   "source": [
    "Now back to our input data. We iterate over the Pandas frame in the same way as before but now we extract for each utterance the embedding representation."
   ]
  },
  {
   "cell_type": "code",
   "execution_count": 18,
   "metadata": {},
   "outputs": [
    {
     "name": "stderr",
     "output_type": "stream",
     "text": [
      "/Users/piek/opt/anaconda3/lib/python3.7/site-packages/ipykernel_launcher.py:7: DeprecationWarning: Call to deprecated `wv` (Attribute will be removed in 4.0.0, use self instead).\n",
      "  import sys\n"
     ]
    },
    {
     "name": "stdout",
     "output_type": "stream",
     "text": [
      "Review 0 of 9989\n",
      "Review 200 of 9989\n",
      "Review 400 of 9989\n",
      "Review 600 of 9989\n",
      "Review 800 of 9989\n",
      "Review 1000 of 9989\n",
      "Review 1200 of 9989\n",
      "Review 1400 of 9989\n",
      "Review 1600 of 9989\n",
      "Review 1800 of 9989\n",
      "Review 2000 of 9989\n",
      "Review 2200 of 9989\n",
      "Review 2400 of 9989\n",
      "Review 2600 of 9989\n",
      "Review 2800 of 9989\n",
      "Review 3000 of 9989\n",
      "Review 3200 of 9989\n",
      "Review 3400 of 9989\n",
      "Review 3600 of 9989\n",
      "Review 3800 of 9989\n",
      "Review 4000 of 9989\n",
      "Review 4200 of 9989\n",
      "Review 4400 of 9989\n",
      "Review 4600 of 9989\n",
      "Review 4800 of 9989\n",
      "Review 5000 of 9989\n",
      "Review 5200 of 9989\n",
      "Review 5400 of 9989\n",
      "Review 5600 of 9989\n",
      "Review 5800 of 9989\n",
      "Review 6000 of 9989\n",
      "Review 6200 of 9989\n",
      "Review 6400 of 9989\n",
      "Review 6600 of 9989\n",
      "Review 6800 of 9989\n",
      "Review 7000 of 9989\n",
      "Review 7200 of 9989\n",
      "Review 7400 of 9989\n",
      "Review 7600 of 9989\n",
      "Review 7800 of 9989\n",
      "Review 8000 of 9989\n",
      "Review 8200 of 9989\n",
      "Review 8400 of 9989\n",
      "Review 8600 of 9989\n",
      "Review 8800 of 9989\n",
      "Review 9000 of 9989\n",
      "Review 9200 of 9989\n",
      "Review 9400 of 9989\n",
      "Review 9600 of 9989\n",
      "Review 9800 of 9989\n"
     ]
    },
    {
     "name": "stderr",
     "output_type": "stream",
     "text": [
      "/Users/piek/opt/anaconda3/lib/python3.7/site-packages/ipykernel_launcher.py:27: RuntimeWarning: invalid value encountered in true_divide\n"
     ]
    }
   ],
   "source": [
    "# Calculating average feature vector for training set\n",
    "### This is the number of dimensions in the word2vec model used. \n",
    "###The Google news model has 300 dimensions but if you use a Glove model you may have to adapt this accordinlgy\n",
    "\n",
    "#Converting Index2Word which is a list to a set for better speed in the execution.\n",
    "#Allows for quicker lookup if the words exist\n",
    "index2word_set = set(word_embedding_model.wv.index2word)\n",
    "stop_words = set(stopwords.words('english'))\n",
    "\n",
    "training_vectors = []\n",
    "training_labels = []\n",
    "for index, utterance in enumerate(df['Utterance']):\n",
    "    ### Running this for all data requires a lot of memory and takes about an hour.\n",
    "    ### For teaching purposes, it makes sense to limit the data\n",
    "    ### we limit the data to the first 1000 utterances\n",
    "    ##if index==2000:\n",
    "    ##    break\n",
    "    training_vectors.append(nltk.tokenize.word_tokenize(utterance))\n",
    "    training_labels.append(df['Emotion'].iloc[index])\n",
    "\n",
    "trainDataVecs = getAvgFeatureVecs(training_vectors, stop_words, word_embedding_model, index2word_set, num_features)\n",
    "#### Due to the averaging, there could be infinitive values or NaN values. The next numpy function turns these value to \"0\" scores\n",
    "trainDataVecs = np.nan_to_num(trainDataVecs)  "
   ]
  },
  {
   "cell_type": "markdown",
   "metadata": {},
   "source": [
    "Training the classifier may take a while. If you laptop cannot handle it, reduce the number of training data. Alternatively, you can use a smaller word2vec embeddings model. Here is a website with many ready to use models: http://vectors.nlpl.eu/repository/\n",
    "\n",
    "You can either choose a model with a smaller vocabulary or with less dimensions. Whatever you choose, make sure you can load the model using the 'gensim' package. If you choose a model with less than 300 dimensions (e.g. 100 or 200), you also need to adapt the value for *num_features* accordingly = 300.\n",
    "\n",
    "Let's inspect our training data a bit more. Depending on the break set for loading the training data, you will have a list of vectors with according length:"
   ]
  },
  {
   "cell_type": "code",
   "execution_count": 19,
   "metadata": {},
   "outputs": [
    {
     "data": {
      "text/plain": [
       "9989"
      ]
     },
     "execution_count": 19,
     "metadata": {},
     "output_type": "execute_result"
    }
   ],
   "source": [
    "len(trainDataVecs)"
   ]
  },
  {
   "cell_type": "markdown",
   "metadata": {},
   "source": [
    "We can inspect the first element in the list:"
   ]
  },
  {
   "cell_type": "code",
   "execution_count": 20,
   "metadata": {},
   "outputs": [
    {
     "name": "stdout",
     "output_type": "stream",
     "text": [
      "Vector length 300\n",
      "[ 8.44395980e-02 -3.91489677e-02 -3.98813896e-02  1.29191086e-01\n",
      " -7.57039413e-02  3.86454277e-02  4.34163399e-02 -1.05855308e-01\n",
      "  7.66703263e-02 -1.61132812e-02 -2.07354221e-02 -2.13623047e-01\n",
      "  4.65799980e-02 -1.03851318e-01 -1.14990234e-01  3.64176445e-02\n",
      "  4.88281250e-02 -2.69266758e-02 -4.19108057e-03 -1.00046791e-01\n",
      "  6.75455714e-03  6.46769181e-02  8.85009766e-02 -2.89204922e-02\n",
      "  1.74560547e-02 -1.18052168e-02 -1.38753250e-01  2.27457676e-02\n",
      "  2.07519531e-02 -9.46044922e-03 -4.80143242e-02 -1.43178301e-02\n",
      " -5.51554374e-02 -1.12501783e-02  1.15275063e-01  4.34875488e-03\n",
      "  5.06896973e-02 -4.02221680e-02 -4.39453125e-02  4.84415703e-02\n",
      "  9.26513672e-02 -2.76285801e-02  1.28906250e-01  1.61126461e-02\n",
      "  6.06689453e-02 -1.81477871e-02 -7.12687150e-02  1.75679531e-02\n",
      " -6.51448593e-02  3.47493477e-02  6.72200546e-02 -3.51053886e-02\n",
      "  1.53808594e-02 -6.93257675e-02  9.27480031e-03  7.63346329e-02\n",
      " -7.54394531e-02 -3.40169258e-02  3.14737968e-02 -9.62320939e-02\n",
      " -4.94384766e-02  8.47371444e-02 -1.42415360e-01  6.52058935e-03\n",
      "  6.20727539e-02 -1.52587891e-04 -5.87158203e-02  1.27563477e-01\n",
      " -8.97216797e-03  8.64461288e-02  5.53385401e-03 -1.29089355e-02\n",
      "  4.49015312e-02 -8.68733749e-02 -9.85107422e-02 -1.30432129e-01\n",
      "  7.15662614e-02  1.11994423e-01  7.28047714e-02  1.42333984e-01\n",
      "  1.58101395e-01 -2.79642735e-02  1.33046463e-01 -5.49214669e-02\n",
      "  5.21418266e-02 -7.79215479e-03 -8.20719376e-02  1.43351242e-01\n",
      "  1.12856545e-01 -5.00488281e-03  4.15039062e-02  6.29933691e-03\n",
      " -1.11490889e-02 -4.08121757e-02  5.13509102e-02 -4.96215820e-02\n",
      "  2.76692715e-02  4.26432304e-02  4.03823853e-02  4.69360352e-02\n",
      " -5.30268364e-02 -2.85517368e-02 -4.28059883e-02  6.10961914e-02\n",
      " -4.39707451e-02  4.80143214e-03 -8.82364884e-02 -2.52024340e-03\n",
      "  8.64664689e-02 -8.63138810e-02 -1.20849609e-02 -9.60896835e-02\n",
      " -7.86132812e-02  2.41699219e-02  1.16210938e-01  4.60815430e-02\n",
      " -1.43432617e-02 -7.91829452e-02  9.41314697e-02 -1.22960405e-02\n",
      " -1.09914146e-01 -1.56453457e-02 -2.62451172e-03  1.20564781e-01\n",
      " -3.12029514e-02 -2.45463047e-02 -2.49328613e-02 -7.64973974e-03\n",
      "  4.57763672e-02  1.28621414e-01 -4.65494804e-02 -9.55047607e-02\n",
      " -1.16963707e-01  6.10351562e-03 -1.96126308e-02 -1.19384766e-01\n",
      "  1.28987627e-02  3.11075840e-02 -2.97037754e-02  7.04040527e-02\n",
      "  3.97033691e-02 -6.84814453e-02 -3.31217460e-02  5.64168282e-02\n",
      "  2.97851562e-02  4.57356758e-02 -5.85301705e-02 -7.25453719e-02\n",
      " -3.03548183e-02  3.78061943e-02  6.45141602e-02  6.06587715e-02\n",
      " -1.50858566e-01  6.97428361e-02 -1.32853193e-02  2.19726562e-02\n",
      " -8.12733993e-02 -5.81158809e-02 -9.54589844e-02  2.82592773e-02\n",
      " -1.02539062e-02  5.39957695e-02  9.70865861e-02  4.65087891e-02\n",
      " -8.80533829e-02  2.62858067e-02  6.30696639e-02 -3.33557129e-02\n",
      "  1.36800125e-01  4.02069092e-03 -2.13724766e-02 -2.55991612e-02\n",
      "  6.01399727e-02 -1.28926590e-01  5.93261719e-02 -2.71301270e-02\n",
      "  7.24487305e-02 -8.69547501e-02 -4.65494804e-02  3.76281738e-02\n",
      " -9.15527344e-02 -3.15755196e-02  2.87882481e-02  2.72725429e-02\n",
      " -3.53495288e-03  3.51511650e-02 -4.14225273e-02  1.01064049e-01\n",
      " -5.32023096e-03 -6.02213526e-03 -1.31429033e-02 -8.82975291e-03\n",
      "  1.51011152e-02  3.21502686e-02 -5.23071289e-02 -5.09440117e-02\n",
      " -1.58121750e-01 -2.76285801e-02 -1.21175133e-01 -1.87744141e-01\n",
      "  5.33040380e-03  8.00170898e-02  1.08235674e-02  6.87484741e-02\n",
      " -3.15348315e-03 -1.05509438e-01 -5.03540039e-03 -3.77566032e-02\n",
      "  8.68835449e-02 -4.61832695e-02 -5.85428886e-02  3.81266288e-02\n",
      " -6.23779297e-02  7.83894882e-02 -1.62808731e-01 -4.62824516e-02\n",
      "  6.34155273e-02  1.68050136e-02 -1.13403320e-01 -5.62311821e-02\n",
      "  1.98567715e-02 -3.08227539e-02  1.77001953e-02 -2.14843750e-02\n",
      "  6.74489364e-02 -5.16967773e-02  8.48174095e-02  1.74458828e-02\n",
      " -3.56648751e-02 -7.12076799e-05  1.26342773e-02 -3.98763008e-02\n",
      "  1.40889483e-02  6.26627589e-03 -8.46354198e-03  1.65201817e-02\n",
      " -9.87752303e-02  1.55843096e-02  3.04768886e-02  1.61437988e-02\n",
      "  3.24045829e-02  1.83105469e-04  5.89192696e-02 -1.50726318e-01\n",
      " -3.99576835e-02  3.14534493e-02 -6.12182617e-02  5.11067696e-02\n",
      " -1.20391846e-02  2.31018066e-02  6.32324219e-02  5.51503487e-02\n",
      " -1.62760410e-02 -6.92240382e-03  2.31119785e-02 -2.66625080e-02\n",
      "  1.17813110e-01  5.59895821e-02 -1.11124672e-01 -6.61417618e-02\n",
      "  1.00936890e-01 -5.50333671e-02 -4.70377617e-02  2.34375000e-02\n",
      "  6.09537773e-02  7.44628906e-02  4.39046212e-02  3.12296543e-02\n",
      " -2.27498367e-01  3.80045585e-02  1.42466230e-02 -3.69262695e-02\n",
      "  7.88167343e-02  6.51041642e-02 -2.49023438e-02 -4.06901026e-03\n",
      "  4.86246729e-03 -1.81355789e-01 -5.31209297e-02 -1.44246416e-02\n",
      " -1.86360683e-02 -1.72869358e-02  2.13572178e-02  1.39729813e-01\n",
      "  3.86149101e-02 -7.73518905e-02 -1.97957363e-02 -1.51733398e-01\n",
      "  1.38346357e-02  2.41546631e-02 -1.23779297e-01  3.65804024e-02\n",
      " -1.11816406e-01 -8.92537460e-02 -7.89794922e-02  6.29882812e-02\n",
      " -1.10677080e-02 -2.58255005e-02 -4.88281250e-03 -5.63964844e-02]\n"
     ]
    }
   ],
   "source": [
    "print('Vector length', len(trainDataVecs[0]))\n",
    "print (trainDataVecs[0])"
   ]
  },
  {
   "cell_type": "markdown",
   "metadata": {},
   "source": [
    "It is simply a list with digits, each representing the averaged weight of the tokens or words that made up the utterance. We can checks the length, which should be '300', '100', '50' or '25', etc. depending on the number of dimensions of the word2vec model that you used.\n",
    "\n",
    "There are two major differences with the bag-of-tokens that we used in the previous notebook:\n",
    "\n",
    "1. the vectors are short\n",
    "2. there are no zero's \n",
    "\n",
    "Instead of *large sparse* vectors, we now have *short dense* vectors representing each utterance. Whereas in the previous representation, each slot in the vector corresponds with a token, now each slot is a weight from the hidden layer to learn to predict others words in the context."
   ]
  },
  {
   "cell_type": "markdown",
   "metadata": {},
   "source": [
    "This is true for each utterance, each having a unique set of values for the same hidden layer weights. These weights now represent the meaning of the utterance for a machine, which can use a similarity function such as cosine similairty to measure the degree of equivalence across these representations. When we inspects any other utterance, we see it is represented in a simlar way."
   ]
  },
  {
   "cell_type": "code",
   "execution_count": 21,
   "metadata": {},
   "outputs": [
    {
     "name": "stdout",
     "output_type": "stream",
     "text": [
      "300\n",
      "[-0.01953125  0.1188151  -0.05525716  0.10058594 -0.07259115 -0.01420085\n",
      " -0.10164388  0.0633138   0.04850261  0.10223898  0.04638672 -0.12011719\n",
      " -0.0460612   0.07820638 -0.10758463  0.18945312  0.24088542  0.26106772\n",
      " -0.15364583 -0.08650716  0.03776042  0.15722656  0.2084961   0.07409668\n",
      "  0.16845195  0.09130859 -0.20377605  0.08414713 -0.0386556   0.04886882\n",
      " -0.13769531  0.04764811  0.2063802  -0.1110026   0.10302734  0.11572266\n",
      " -0.06542969  0.09765625 -0.02050781  0.05655925  0.21777344 -0.07486979\n",
      "  0.19905598  0.10103353  0.06445312  0.07438151 -0.02278646 -0.04264323\n",
      "  0.01302083 -0.04980469  0.03352864  0.18147786  0.00911458 -0.04402669\n",
      "  0.03971354  0.0616862  -0.04947917 -0.03222656  0.10253906 -0.13330078\n",
      " -0.08317057  0.15234375 -0.38085938 -0.12141927 -0.04394531  0.12109375\n",
      "  0.02132162  0.01106771 -0.22672527 -0.0320638   0.06217448 -0.02473958\n",
      "  0.07779948  0.04931641 -0.26497397 -0.01839193 -0.08691406  0.11287435\n",
      "  0.07181803  0.20703125  0.02392578  0.01883952 -0.00306066  0.1480306\n",
      " -0.10709635 -0.21875    -0.09651693  0.16634114  0.10005697  0.04138184\n",
      "  0.03125     0.05485026  0.00146484  0.09602865 -0.04280599 -0.13964844\n",
      "  0.09041341  0.20279948 -0.02722168 -0.15999348 -0.02685547  0.10481771\n",
      " -0.04253006  0.0234375   0.00374349  0.05171712 -0.01997884 -0.12174479\n",
      " -0.02958171 -0.07381185  0.00585938  0.21516927 -0.05143229 -0.14029948\n",
      "  0.29947916 -0.15657552  0.01464844 -0.05481974 -0.03385417 -0.02978516\n",
      " -0.11507162  0.01920573  0.02396647  0.06477865 -0.19295247  0.05273438\n",
      "  0.02726237 -0.12067667 -0.06030273 -0.06445312 -0.21638997 -0.22884114\n",
      "  0.03027344  0.00390625 -0.04663086 -0.15332031  0.14778645  0.04361979\n",
      "  0.01318359  0.12792969  0.00292969  0.0546875   0.0625     -0.02037557\n",
      " -0.2376302  -0.06445312 -0.11376953 -0.2076823   0.18351237 -0.11010742\n",
      "  0.14029948  0.0686849  -0.1385498   0.2669271  -0.05362956 -0.00911458\n",
      "  0.08251953  0.015625   -0.08414713  0.02539062 -0.08744303  0.14029948\n",
      "  0.10709635  0.11946615  0.22550456 -0.20084636 -0.05811564 -0.00390625\n",
      "  0.02441406 -0.05761719 -0.2467448   0.02266439  0.05957031 -0.10054525\n",
      "  0.0670166   0.15917969  0.09130859 -0.07259115  0.034139   -0.02750651\n",
      " -0.11490885 -0.18904622  0.07706705  0.01464844 -0.15820312 -0.0152181\n",
      " -0.25846353 -0.04248047 -0.05192057 -0.00813802 -0.20084636  0.06738281\n",
      " -0.01928711 -0.18261719 -0.05908203 -0.04785156 -0.02075195 -0.14485677\n",
      "  0.05013021 -0.10742188  0.09781901  0.11816406 -0.02766927  0.02897135\n",
      "  0.02149455 -0.1031901  -0.23567708 -0.00375875 -0.09700521  0.15039062\n",
      " -0.07209269  0.08935547 -0.02994792  0.09309896 -0.10050455  0.12923177\n",
      "  0.19694011  0.02750651  0.01985677  0.12801106 -0.01350911  0.06681315\n",
      " -0.19921875 -0.04516602  0.18977864 -0.04191081  0.07417806 -0.12239584\n",
      " -0.0094401   0.09082031 -0.03499349 -0.10465495  0.14697266 -0.03297424\n",
      "  0.12076823 -0.07108053 -0.13916016 -0.15478516  0.02132162  0.12109375\n",
      "  0.23925781  0.21744792  0.0953776  -0.01529439  0.04722087 -0.00396729\n",
      " -0.08064779  0.04410807 -0.13850911 -0.16748047  0.04899089  0.20589192\n",
      "  0.19726562  0.2467448   0.04280599 -0.06673177 -0.03157552  0.05487061\n",
      " -0.05192057 -0.09067789 -0.0625      0.00179036 -0.20703125 -0.01595052\n",
      " -0.00585938  0.12076823 -0.03181966 -0.1496989  -0.06030273 -0.00146484\n",
      " -0.0480957   0.14225261  0.12434896 -0.02189128  0.08463541 -0.11328125\n",
      "  0.09521484 -0.16300456 -0.11132812  0.23242188  0.10432943 -0.0271403\n",
      "  0.06999207  0.07226562 -0.03527832 -0.07210287 -0.17480469 -0.1122233\n",
      " -0.11230469  0.15673828  0.07881673  0.1875     -0.15104167  0.08740234\n",
      " -0.04801432 -0.0164388  -0.00660706 -0.0797526   0.09959412  0.05371094]\n"
     ]
    }
   ],
   "source": [
    "print(len(trainDataVecs[1000]))\n",
    "print(trainDataVecs[1000])"
   ]
  },
  {
   "cell_type": "markdown",
   "metadata": {},
   "source": [
    "Since the vectors are compatible, we can compare them in the same way as we did before for the word2vec embeddings of *cat* and *dog*:"
   ]
  },
  {
   "cell_type": "code",
   "execution_count": 22,
   "metadata": {},
   "outputs": [
    {
     "name": "stdout",
     "output_type": "stream",
     "text": [
      "[[0.33458045]]\n"
     ]
    }
   ],
   "source": [
    "word1_vector=np.array(trainDataVecs[0]).reshape(1, -1)\n",
    "word2_vector=np.array(trainDataVecs[1000]).reshape(1, -1)\n",
    "print(cosine_similarity(word1_vector, word2_vector))"
   ]
  },
  {
   "cell_type": "markdown",
   "metadata": {},
   "source": [
    "For training, we use the same labels as before:"
   ]
  },
  {
   "cell_type": "code",
   "execution_count": 23,
   "metadata": {},
   "outputs": [
    {
     "name": "stdout",
     "output_type": "stream",
     "text": [
      "neutral neutral\n"
     ]
    }
   ],
   "source": [
    "print(training_labels[0], training_labels[1])"
   ]
  },
  {
   "cell_type": "markdown",
   "metadata": {},
   "source": [
    "So now we have a numeric representation of each text, based on the embeddings of the words. We feed this to a classifier in the same way as we did in the previous notebooks with the Countvectorizer output.\n",
    "\n",
    "Before we can train the classifier, we stil need to convert the labels to numeric values as we did before."
   ]
  },
  {
   "cell_type": "markdown",
   "metadata": {},
   "source": [
    "Before we do that, it may be good to check which words are not in the embedding model and therefore do not contribute to the representation of the utterance. In the above function, we kept track of the unknown words. Now we can inspect this list. We use the *Counter* function to get a frequency count of these words."
   ]
  },
  {
   "cell_type": "code",
   "execution_count": 24,
   "metadata": {},
   "outputs": [
    {
     "name": "stdout",
     "output_type": "stream",
     "text": [
      "Proportion of unknown tokens 0.3712182372983402\n",
      "Number of unknown words 1029\n",
      "Number of unknown word tokens: 27129\n",
      "Unknown words counts\n",
      "Counter({',': 7237, '.': 6476, '!': 4266, '?': 2887, \"'s\": 661, 'i\\x92m': 496, 'don\\x92t': 372, 'it\\x92s': 334, '...': 301, 'that\\x92s': 248, 'you\\x92re': 222, 'y\\x92know': 157, 'can\\x92t': 132, 'we\\x92re': 98, 'i\\x92ll': 95, '``': 90, \"''\": 86, 'i-i': 81, 'pheebs': 78, 'he\\x92s': 76, 'i\\x92ve': 75, 'didn\\x92t': 75, \"'\": 68, 'she\\x92s': 59, 'there\\x92s': 58, '’': 58, 'let\\x92s': 52, 'what\\x92s': 49, 'they\\x92re': 43, '..': 42, 'doesn\\x92t': 40, 'i\\x92d': 33, ':': 31, '\\x91cause': 31, 'uh-huh': 29, 'no-no': 29, 'we\\x92ll': 28, 'wouldn\\x92t': 27, 'and-and': 26, 'you\\x92ve': 24, 'you\\x92ll': 22, 'you-you': 21, 'won\\x92t': 21, 'couldn\\x92t': 19, 'who\\x92s': 19, 'no-no-no': 18, 'wasn\\x92t': 18, 'haven\\x92t': 17, '\\x91em': 16, 'i\\x92m-i\\x92m': 16, 'i-i-i': 16, 'isn\\x92t': 15, 'here\\x92s': 14, 'hey-hey': 14, 'uh-oh': 13, 'what-what': 13, 'aren\\x92t': 12, 'you\\x92d': 12, 'no-no-no-no': 11, 'shouldn\\x92t': 11, 'bye-bye': 11, 'we-we': 11, 'doin\\x92': 11, 'monica\\x92s': 11, \"'cause\": 11, 'so-so': 10, 'chandler\\x92s': 10, 'oh-oh': 10, ';': 10, 'it\\x92s-it\\x92s': 9, '--': 9, 'that-that': 9, '10': 9, 'i-i\\x92m': 8, 'yeah-yeah': 8, \"'em\": 8, 'would\\x92ve': 8, 'we\\x92ve': 8, 'good-bye': 8, 'must\\x92ve': 7, '30': 7, 'how\\x92s': 7, 'joey\\x92s': 7, 'it\\x92ll': 7, 'he\\x92ll': 7, '(': 7, 'ok.': 6, '\\x91kay': 6, 'everything\\x92s': 6, 'that\\x92s-that\\x92s': 6, 'buffay': 6, 'what\\x92d': 6, 'oh-ho': 6, 'morning\\x92s': 6, 'um-hmm': 6, 'guy\\x92s': 6, 'grandmother\\x92s': 6, 'gim': 5, 'rachel\\x92s': 5, 'realise': 5, 'they\\x92ve': 5, 'he-': 5, 'this-this': 5, '25': 5, 'one\\x92s': 5, '40': 5, 'phoebe\\x92s': 5, 'but-but': 5, 'they-they': 5, 'o\\x92clock': 5, 'she\\x92ll': 5, 'it-it': 5, 'the-the': 5, 'heldi': 5, 'hey-hey-hey': 4, 'how\\x92d': 4, 'how-how': 4, 'nothin\\x92': 4, '50': 4, 'he\\x92d': 4, '17': 4, 'it\\x92d': 4, 'somebody\\x92s': 4, 'you-you-you': 4, 'ross\\x92s': 4, '15': 4, 'remoray': 4, 'ex-wife': 4, 'if-if': 4, 'mary-angela': 4, 'i-i-i-i': 3, 'talkin\\x92': 3, 'ah-ha': 3, '[': 3, ']': 3, 'chick-chick': 3, '-': 3, 'ha-ha': 3, 'ha-ha-ha': 3, '19': 3, 'favour': 3, 'spacecamp': 3, 'ho-ho': 3, 'just-just': 3, '\\x91cha': 3, 'a-a': 3, 'look-look': 3, '20': 3, 'phoebs': 3, '13': 3, 'when-when': 3, 'where\\x92s': 3, 'weren\\x92t': 3, 'women\\x92s': 3, 'wait-wait': 3, 'goin\\x92': 3, 'uh-': 3, '\\x91til': 3, '500': 3, 'they\\x92re-they\\x92re': 3, 'should\\x92ve': 3, 'break-up': 3, '700': 3, 'that-that\\x92s': 3, 'she\\x92s-she\\x92s': 3, 'just\\x97i': 3, '27': 3, 'we\\x92ll-we\\x92ll': 3, 'magioni': 3, '200': 3, 'and-': 3, 'and-and-and': 3, 'scrud': 3, 'half-hour': 3, 'siadic': 3, 'thquirt': 3, 'sauti': 3, 'there\\x92ll': 2, 'um-mm': 2, 'ameri-can': 2, 'wh-what': 2, 'or-or': 2, \"i'm-i\": 2, 'apologise': 2, 'not-i\\x92m': 2, 'hadn\\x92t': 2, 'yuh-huh': 2, 'this-': 2, '\\x91sup': 2, 'they\\x92ll': 2, 'i-': 2, 'band-aid': 2, '\\x91bout': 2, 'moustache': 2, 'some-some': 2, 'lookin\\x92': 2, 'oh-oh-oh': 2, 'baby\\x92s': 2, 'waxine': 2, 'a.m': 2, 'could\\x92ve': 2, 'forward\\x97stop': 2, 'cheshhh': 2, 'like-like': 2, 'the-': 2, '48': 2, 'i-i-i-i-i': 2, 'cancelled': 2, 'whoa-whoa': 2, 'a-gogo': 2, 'c.h.e.e.s.e.': 2, \"i'm-\": 2, '\\x91ya': 2, '\\x91is': 2, 'cinderelly': 2, 'gettin\\x92': 2, '1,000': 2, '22': 2, '18': 2, 'it-it-it\\x92s': 2, 'in-in': 2, 'mom\\x92s': 2, 'hurely': 2, 'wife\\x92s': 2, 'your-your': 2, 'please-please': 2, '33': 2, 'she-she': 2, 'that\\x92': 2, '35': 2, 'woman\\x92s': 2, 'man\\x92s': 2, '\\x9274': 2, 'mississ-pete': 2, '41': 2, 'fight\\x92s': 2, 'friend\\x92s': 2, '93': 2, '76': 2, 'hm-mmm': 2, 'where-where': 2, 'wh-what\\x92s': 2, 'we\\x92d': 2, 'ow-ow': 2, '8:00': 2, \"d'you\": 2, \"'you\": 2, '45': 2, '2,000': 2, 'no-no-no-no-no': 2, 'dum-dum-dum': 2, 'uh-oh-okay': 2, 'they\\x92d': 2, 'as-as': 2, \"you're-you\": 2, 'knuckle-cracking': 2, 'he-he': 2, 'wh-why': 2, '23': 2, '7.50': 2, 'jo\\x92s': 2, 'lover\\x92s': 2, '4:00': 2, 'whoa-whoa-whoa': 2, 'forty-five': 2, 'just-': 2, 'now-now': 2, '28': 2, '-ow': 2, \"'it\": 2, 'chatracus': 2, 'everyone\\x92s': 2, 'she\\x92d': 2, 'liam\\x92s': 2, 'woowoo': 2, 'bapstein-king': 2, 'that-that-that': 2, 'base-alan': 2, 'bing-geller': 2, 'comin\\x92': 2, '717': 2, 'e-mail': 2, 'company\\x92s': 1, 'kl-5': 1, 'gr-6': 1, \"'my\": 1, 'ameri-ccan': 1, 'oh-ho-ho': 1, 'did-did': 1, 'truth-day': 1, \"'bout\": 1, 'five-ish': 1, 'you\\x92ll-you\\x92ll': 1, 'phobo': 1, 'phewbedo': 1, 'phaybobo': 1, 'to\\x97you-you': 1, '15s': 1, 'dwha': 1, '\\x91see': 1, 'saturday\\x92': 1, 'pa-haa': 1, 'nose\\x97i': 1, 'it-it\\x92s': 1, 'elizabeth\\x92s': 1, 'eh-wh\\x97excuse': 1, 'lauer\\x92s': 1, 'ooooohh': 1, 'are-are': 1, 'and-and-and-and-and': 1, 'people\\x92s': 1, 'mashuga': 1, 'adrienne\\x92s': 1, 'character\\x92s': 1, 'number\\x92s': 1, 'bazida': 1, \"y'ever\": 1, \"d'know\": 1, \"y'have\": 1, '21st': 1, 'judgey': 1, 'holierthanthou': 1, 'mcnailshisstudents': 1, 'love-i': 1, 'ah-ah': 1, 'with-with': 1, 'nuts\\x97oh': 1, 'bobby\\x92s': 1, 'straight-up': 1, \"'hey\": 1, 'og-ee-op': 1, '8:30': 1, 'joel-burg': 1, 'ye-ye-yeah': 1, 'semi-first': 1, 'batman\\x92s': 1, 'bond\\x92s': 1, 'so\\x97if': 1, 'ross-ross': 1, 'know\\x97well': 1, 'travelling': 1, 'chickeeeen': 1, 'don\\x92t-don\\x92t': 1, 'geller-green': 1, 'not-gay-stuff': 1, 'back-less': 1, 'doooo': 1, 'anyway\\x97umm': 1, 'dubbies': 1, '6:00': 1, 'enhh': 1, 'wait-wait-wait-wait-wait-wait-wait-wait': 1, 'th-th-that': 1, 'run-of-the-mill': 1, 'run-of-the-mill-slice-it-right-off': 1, 'uh-hmm\\x97wait': 1, 'tibidaybo': 1, 'we\\x92re-we\\x92re': 1, 'filter-tipped': 1, 'really\\x97i': 1, 'what\\x97y\\x92know': 1, 'to\\x97i': 1, 'huh\\x97hmm': 1, 'there-there': 1, 'man-child': 1, 'everybody\\x92s': 1, 'puzzle\\x97beer': 1, 'we-': 1, 'velula': 1, 'oh-ho-kay': 1, 'begins\\x97stop': 1, '\\x97now': 1, 'bernie\\x92s': 1, 'realised': 1, 'given\\x92': 1, 'ain\\x92t': 1, 'ben-ben': 1, 'giiiiiiift': 1, 'traumatised': 1, 'clock\\x92s': 1, 'here\\x97': 1, 'no-n-n-n-no': 1, 'pyjama': 1, 'ooooh-oooh-ooooh': 1, 'de-clawing': 1, 'he-he\\x92s': 1, 'ooh\\x97hey': 1, 'odour': 1, 'but\\x97i': 1, 'hasn\\x92t': 1, '\\x91okay': 1, 'pheebs\\x92': 1, 'nuh-uh': 1, 'underwear\\x97you': 1, 'what-wh-what': 1, 'her-': 1, '-leg': 1, 'ju-': 1, 'real-': 1, 'g-go': 1, 're-wired': 1, 'whazzup': 1, 'r-r-richard': 1, 'tellin\\x92': 1, 'think-': 1, 'here\\x97but': 1, '29': 1, 'oh-no-no-no': 1, 'song\\x92s': 1, '\\x91look': 1, 'meaning\\x92': 1, \"it's-it\": 1, 'radio\\x92s': 1, 'mood-killer': 1, \"'me\": 1, '1939': 1, '24': 1, 'look-look-look-look-look': 1, 'hear\\x97\\x97mother': 1, 'it-does': 1, 'anyone\\x92s': 1, 'ta-da': 1, 'wonerful': 1, 'one-woman': 1, 'f-hah': 1, 'flennin': 1, \"do\\x97y'know\": 1, 'be\\x97okay': 1, 'ezels': 1, 'half-caf': 1, 'non-fat': 1, 'a-ha': 1, 'job-': 1, 'artelle': 1, 'blobbies': 1, 'voulez-vous': 1, 'coucher': 1, 'picture\\x97i': 1, 'churo': 1, '\\x91easy': 1, 'tab\\x92': 1, 'ow-oh-oh': 1, 'pain-free': 1, 'pain-zine': 1, 'ow-ow-ow-ow': 1, 'someone\\x92s': 1, 'squatternut': 1, 'buash': 1, 'i\\x97y\\x92know': 1, 'parents\\x92': 1, 'they-they-they': 1, 'bing-ette': 1, 'leg-chewing': 1, '4-6': 1, '112': 1, '110': 1, '7143457': 1, 'colours': 1, 'schemp': 1, 'unmarriable': 1, 'dressy-dress': 1, '\\x91cut': 1, '\\x91cos': 1, 't-shirt': 1, 'back\\x97stop': 1, 'mini-van': 1, '2030': 1, 'ni-chou': 1, 'chi-ma': 1, 'okay-okay': 1, 'but\\x97okay': 1, 'just\\x97there\\x92s': 1, 'okay-dokey': 1, '.what\\x92s': 1, 'oh-hey-hey-hey': 1, 'goofin': 1, 'you-you-you-you': 1, '\\x93aww': 1, 'wait-wait-wait': 1, 'she\\x92d-she\\x92d': 1, 'rape\\x97': 1, 'night-night': 1, 'a\\x97ah-ah': 1, 'pl-place': 1, 'this\\x97ah-ha-ha': 1, 'stripper\\x92s': 1, 'just\\x97if': 1, 'havin\\x92': 1, '1200': 1, 'lacys': 1, 'i…it': 1, 'uh-uh': 1, 'that…': 1, 'suity-man': 1, 'but\\x97come': 1, 'cha-ching': 1, 'just\\x97y\\x92know': 1, 'dead-end': 1, 'hang-hang': 1, 'like-like-like': 1, 'that\\x97it\\x92s': 1, '-she': 1, 'she-': 1, 'costalano': 1, 'd.d.s': 1, 'robert\\x92s': 1, 'spackel': 1, 'ah-ah-ah': 1, 'issac\\x92s': 1, 'd.j.-ing': 1, 'bloomingdale\\x92s': 1, 'okayyyyy': 1, 'balded': 1, 'y-yeah': 1, 'nnnnn': 1, 'one-on-one': 1, 'key\\x92s': 1, '98': 1, '90/10': 1, 'wh\\x97no': 1, 'case\\x97\\x97yay': 1, 'callin\\x92': 1, '92.3': 1, 'k-rock': 1, 'ross-a-tron': 1, 'oh-wha-ho': 1, '49': 1, 'jill\\x92s': 1, 'deep-deep-deep': 1, 'trench-coat': 1, 'yeah-no': 1, '12': 1, '\\x91laser': 1, 'floyd\\x92': 1, '\\x91the': 1, 'munchies.\\x92': 1, \"'cookie\": 1, 'need\\x97\\x97what': 1, 'i\\x92ll-i\\x92ll': 1, 'not\\x97that\\x92s-that\\x92s': 1, 'after\\x97i': 1, 'lyin\\x92': 1, 'think\\x97oh': 1, 'life-like': 1, 'a-doin': 1, 'ewwuck': 1, 'who-who\\x92s': 1, 'abandoner': 1, 'licence': 1, 'care\\x97i-i': 1, 'wenus': 1, 'whooooaaaa': 1, 'hygienist\\x92s': 1, '\\x91albino': 1, 'bob\\x92': 1, 'there\\x92s-there\\x92s': 1, 'oooh-hoo': 1, 'ooh-hoo': 1, 'twenty-one': 1, 'i\\x97he': 1, 'j-just': 1, 'd-cup': 1, '100': 1, '1,500': 1, 'get\\x97no': 1, 'tuttle\\x92s': 1, '37135': 1, 'that\\x97i': 1, 'greely\\x92s': 1, 'shmair': 1, 'say-i': 1, 'don\\x92t\\x97whoa': 1, 'rach-rach-rach': 1, 'headin\\x92': 1, '1982': 1, 'the\\x97that': 1, '\\x91hi': 1, 'kind\\x92ve': 1, 'erwin\\x92s': 1, 'joshua\\x92s': 1, 'style\\x97what': 1, 'cupert-hewitt': 1, 'j-j-just': 1, 'gepeto': 1, '5,000': 1, '300': 1, 'six-letter': 1, '16': 1, 'draddle': 1, 'may-pole': 1, '26': 1, 'was\\x97if': 1, 'ex-boyfriend': 1, 'stop-stop': 1, 'ho-ho-hold': 1, 'kissey': 1, \"just\\x97y'know\\x97stop\": 1, 'wha\\x97what': 1, 'coast\\x92s': 1, 'yo\\x97you': 1, 'else\\x92s': 1, 'nokululu': 1, 'pete-chicago': 1, 'who\\x92s-who\\x92s': 1, 'something\\x92s': 1, '\\x93hey': 1, '\\x93nah': 1, 'place.\\x94': 1, 'j437-a': 1, 'so\\x92s': 1, 'valente\\x92s': 1, 'momma\\x92s': 1, 'ah-': 1, 'whatever\\x97\\x97ca': 1, 'sandra\\x92s': 1, 'very\\x97really': 1, 'very-very': 1, 'julie\\x92s': 1, 'al-you': 1, 'giraffe\\x92s': 1, 'pete\\x92s': 1, 'bowmont\\x92s': 1, 'howie\\x92s': 1, 'he-he-he': 1, 'she\\x97well': 1, 'officer\\x97fireman': 1, 'can-can': 1, 'you\\x97okay': 1, 'doorman-': 1, 'nngghhh': 1, 'rdtor': 1, 'actor\\x92s': 1, \"c'mere\": 1, 'west-westmont': 1, '80': 1, 'wo-women': 1, 'whoa\\x97hey\\x97wh-wh-what': 1, 'wh-wh-what': 1, 'other\\x92s': 1, 'candels': 1, \"that's-that\": 1, 'to\\x97whoa': 1, 'semi-private': 1, 'passin\\x92': 1, 'luchhi': 1, 'thank-thank': 1, 'wait\\x97oh\\x97hey\\x97huh': 1, 'realilized': 1, \"they're-\": 1, 'then-': 1, 'do-': 1, 'wh-which': 1, 'floopy': 1, 'what\\x92s-what\\x92s': 1, 'zelner\\x92s': 1, 'anything\\x97minute': 1, 'chip\\x92s': 1, 'he\\x92s-he\\x92s': 1, 'hey\\x97ooh': 1, 'is\\x97it\\x92s': 1, 'uh-hey': 1, '80-foot': 1, 'a-five': 1, 'crumbies': 1, 'y\\x92think': 1, 'at-at': 1, 'break-up\\x92s': 1, 'ummmmmmmm': 1, 'date\\x97oh': 1, 'dinner\\x92s': 1, 'ho-ho-ho': 1, 'lot\\x92s': 1, \"it's\\x97not\": 1, 'pinchable': 1, 'biceps\\x97she': 1, 'a-live': 1, 'oooooooooooooohhhhhhhhhhh': 1, 'scary-ass': 1, '\\x91i': 1, 'it\\x92': 1, '232': 1, 'c\\x92mon': 1, 'azzz': 1, 'got-i\\x92ve': 1, 'if\\x97no': 1, 'semi-finals': 1, 'and\\x97oh': 1, 'kyle\\x92s': 1, 'ramoray\\x92s': 1, 'baby-sitting': 1, 'we-we\\x92re': 1, 'might\\x92ve': 1, 'right-': 1, 'the\\x97\\x97wowww': 1, 'bunny\\x92s': 1, 'we\\x92re-we\\x92re-we\\x92re': 1, 'woo-hoo': 1, 'big-': 1, 'no-one-': 1, 'no-one': 1, '46': 1, '47': 1, 'bwah-hah-hah': 1, 'mwwwooooo-hah-hah': 1, 'never-never': 1, 'left-': 1, 'du-du-i': 1, 'see\\x97darnit': 1, 'nesele': 1, 'nestley': 1, 'over-pronouncing': 1, 'ohh-ho-hooohhh': 1, 'paper\\x92s': 1, '\\x91probably\\x92': 1, 'on-on': 1, 'yoo-hoo': 1, 'litman-neurolic': 1, 'i\\x97that\\x92s': 1, 'disgustingtons': 1, 'see\\x97i': 1, 'would-would': 1, 'was-i': 1, 'santa\\x92s': 1, 'th-they': 1, '9-1-1': 1, 'let\\x92s-let\\x92s': 1, 'yeah\\x97wait': 1, '94': 1, '350': 1, 'na-uh': 1, 'ju\\x97\\x97hi': 1, 's-it': 1, 's…': 1, 'is…do': 1, '6-year-old': 1, 'those-those': 1, 'du-ude': 1, 'bla-bla-bla-bla': 1, 'startin\\x92': 1, 'roommate\\x92s': 1, 'hel-lo': 1, \"'excuse\": 1, 'blarrglarrghh': 1, 'kiddin\\x92': 1, 'valentine\\x92s': 1, 'it\\x92s-it\\x92s-it\\x92s': 1, '\\x91c\\x92': 1, '\\x91k\\x92': 1, 'kleinman\\x92s': 1, 'testosteroney': 1, 'indeedy-o': 1, 'scooching': 1, 'hm-mm': 1, \"'cha\": 1, 'now\\x97go': 1, 'embryossss': 1, '75': 1, '16,000': 1, 'that\\x97okay': 1, 'johnos': 1, \"we'll-we\": 1, 'are-': 1, 'spelt': 1, 'm-o-n-a-y': 1, 'ad-libbing': 1, '\\x91does': 1, 'yes-yes-yes': 1, 'cross-eyed': 1, \"'poor\": 1, 'that\\x92ll': 1, 'runnin\\x92': 1, '555-9323': 1, 'b-b-but': 1, 'world\\x92s': 1, 'high-profile': 1, 'trrrribbiani': 1, 'audition\\x92s': 1, 'that\\x92d': 1, '437': 1, 'are-are-are': 1, 'theatre': 1, 'oh-oi': 1, 'oh-oi-ho': 1, 'oh-whoa-hey': 1, 'gee-e-e-eez': 1, 'not-not': 1, 'yeah\\x97no': 1, 'girlfriend\\x97which': 1, 'took-off': 1, 'quick-quick': 1, 'ice-skating': 1, 'dad\\x92s': 1, 'is-is': 1, 'take-off': 1, \"'co-dependent\": 1, \"'self-destructive\": 1, \"he's-\": 1, 'thought-': 1, 'do-i': 1, 'what-what-what-what': 1, 'it-it\\x97the': 1, 'you\\x97i': 1, 'chan-chan': 1, \"i've-i\": 1, 'g.i': 1, '56': 1, 'sarah\\x92s': 1, '321': 1, '278': 1, '-hey': 1, 'woo-hoo-hoo': 1, 'not\\x97no-no-no': 1, 'jus-': 1, 'go.you': 1, 'buddy-boy': 1, 'lee-lo': 1, 'monnnnn': 1, 'beef-tips': 1, 'ramoray': 1, 'ground-up': 1, 'whoooaa': 1, '1989': 1, 'redecorate\\x97and': 1, 'knock-offs': 1, 'here\\x92s-here\\x92s': 1, '60': 1, 'the\\x97okay': 1, '16-hour': 1, 'sit-in': 1, 'shoppin\\x92': 1, 'i\\x92m-i\\x92m-i\\x92m': 1, 'ho-oh': 1, 'paul\\x92s': 1, 'c-sections': 1, 'co-star': 1, 'italy—please': 1, 'i…': 1, 'colour': 1, \"'memo-\": 1, 'up\\x97i': 1, 'didn\\x92t\\x97i': 1, 'whoa-whoops': 1, 'parent\\x92s': 1, 'just\\x97it\\x92s': 1, 'whoo-ho-hoo': 1, 'whoo-ho-ho': 1, 'no\\x97\\x97one': 1, 'gar\\x92': 1, 'mm-hm': 1, 'like-': 1, 'grandma\\x92s': 1, 'sleeperson': 1, 'mcpretty': 1, \"'were\": 1, 'off-broadway': 1, \"'pretty\": 1, 'orrr': 1, 'see-saw': 1, 'fabutec': 1, 'info-mercial': 1, 'never-ever': 1, \"'scuse\": 1, 'varrrrrroom': 1, 'varrrrrrrrrrom': 1, 'varrrrrrrrroom': 1, 'bed\\x92s': 1, 'pictures\\x97are': 1, '\\x91where': 1, 'win\\x97ross': 1, '3\\x97go': 1, '2:17': 1, 'you\\x92re\\x97you': 1, 'custom-made': 1, 'empire-waisted': 1, 'see-i': 1, 'these-these': 1, 'good-good': 1, '\\x91i\\x92': 1, 'y\\x97': 1, 'ohhhhhhhh': 1, 'hm-hmm': 1, 'i-i-i-i\\x97i': 1, 'good\\x97ohh': 1, 'blurtin\\x92': 1, 'oh-okay': 1, 'off-stage': 1, 'err-err': 1, 'from-': 1, 'pre-approved': 1, 'hookin\\x92': 1, \"'maybe\": 1, \"'ohh\": 1, \"'yes\": 1, \"'wh-whoa\": 1, \"'hhiii\": 1, \"'man\": 1, 'six-pack': 1, 'don\\x92t\\x97maybe': 1, 'just\\x97it': 1, 'high-speed': 1, 'did-did-did': 1, 'why\\x92s': 1, 'upset\\x97for': 1, 'uh-hmm': 1, 'again\\x97nooooooo': 1, 'uh\\x97how': 1, 'vice-president': 1, 'but\\x97y\\x92know': 1, 'girl\\x92s': 1, 'oh-no': 1, 'moment\\x92s': 1, 'janice\\x92s': 1, '\\x91dear': 1, 'hubba-bubba': 1, 'birthday\\x92': 1, '\\x91mattress': 1, 'king\\x92': 1, 'ex-husband': 1, 'maaaaadd': 1, 'plan\\x92s': 1, \"'euphoria\": 1, '79': 1, \"'mistress\": 1, 'cinamon': 1, 'n.y.p.d': 1, 'come\\x97i': 1, 'believe\\x97i': 1, 'nature\\x92s': 1, 'right-right': 1, 'right\\x97hey': 1, 'bapstein': 1, 'sting\\x92s': 1, 'ben\\x92s': 1, 'base-': 1, 'jewellers': 1, 'alan-ness': 1, 'weeeell': 1, 'about-about': 1, 'mean-i\\x92m': 1, 'you\\x92re-you\\x92re': 1, 'mean\\x97no': 1, 'you\\x97you': 1, 'jalepino': 1, '3:30': 1, 'fact\\x97yes': 1, 'she-she-she': 1, 'you\\x97yeah': 1, 'schmoon': 1, 'ooh-ooh': 1, 'kostelick': 1, '\\x97eh': 1, 'groom\\x97no': 1, 'guys\\x92': 1, 'i\\x97rachel': 1, 'ohh\\x97do': 1, 'hydrosaurids': 1, 'hydrosaurs': 1, 'loreo': 1, 'uhh…': 1, 'well…did': 1, 'll-i': 1, 'just…i': 1, 'beaudalire': 1, 'these\\x92ll': 1, 'yentel': 1, 'i-i-i\\x92ve': 1, 'woo-woo': 1, 'alessandro\\x92s': 1, 'shirvel': 1, 'argentinaaaa': 1, 'seeeeen': 1, 'spleeeen': 1, 'medeio': 1, 'trorro': 1, 'womba': 1, 'be-because': 1, 'oh-oh-oh-oh': 1, 'rattraps': 1, 'possom': 1, 'do-do': 1, '5:30': 1, 'you-what': 1, 'whoa-hey-oh': 1, 'hey-hey-hey-ho-ho': 1, 'you-how': 1, 'plinky-plunky': 1, 'f.y.i': 1, 'or\\x97oh': 1, 'stand-up': 1, 'pipe-fitting': 1, 'out-of-work': 1, 'pre-cooking': 1, 'i-i-i\\x92m': 1, 'realises': 1, 'sister\\x92s': 1, 'teeny-tiny': 1, 'half-decent': 1, '\\x91or\\x92': 1, 'please\\x97': 1, '87': 1, 'lisettie': 1, 'enh': 1, 'that\\x97this': 1, '11-b': 1, 'u.s.s': 1, 'half-charred': 1, 'picture\\x97wow': 1, \"'pl\": 1, 'fat-free': 1, 'g.stephanopoulos': 1, 'snuffalopagus': 1, 'no-o-o': 1, 'boredddd': 1, 'askin\\x92': 1, 'don\\x92t-you': 1, 'i\\x97it': 1, 'i\\x92ll-i\\x92ll-i\\x92ll-i\\x92ll': 1, 'oh-kay': 1, 'shakin\\x92': 1, 'cowlicky': 1, 'sweepin\\x92': 1, 'but\\x97bye-bye': 1, 'janine\\x92s': 1, 'whippin\\x92': 1, '\\x93oh': 1, 'here\\x97do': 1, 'i-i-i-i\\x92m': 1, 'anybody\\x92s': 1, 'sulkov': 1})\n"
     ]
    }
   ],
   "source": [
    "from collections import Counter\n",
    "\n",
    "unknown_words_count = Counter(unknown_words)\n",
    "print('Proportion of unknown tokens', len(unknown_words)/(len(unknown_words)+len(known_words)))\n",
    "print('Number of unknown words',len(unknown_words_count))\n",
    "print('Number of unknown word tokens:', len(unknown_words))\n",
    "print('Unknown words counts')\n",
    "print(unknown_words_count)"
   ]
  },
  {
   "cell_type": "markdown",
   "metadata": {},
   "source": [
    "We also kept track of the *known* words, so lets check these as well:"
   ]
  },
  {
   "cell_type": "code",
   "execution_count": 25,
   "metadata": {},
   "outputs": [
    {
     "name": "stdout",
     "output_type": "stream",
     "text": [
      "Number of known words 5535\n",
      "Number of known words tokens: 45952\n",
      "Known words counts\n",
      "Counter({'I': 3424, 'Oh': 1018, 'You': 512, 'Yeah': 510, 'know': 502, 'Okay': 502, 'na': 482, 'No': 471, 'Hey': 441, 'right': 430, 'What': 425, 'Well': 418, \"n't\": 401, 'gon': 365, 'like': 350, 'go': 347, 'get': 341, 'got': 321, \"'m\": 299, 'think': 294, 'So': 279, 'really': 262, 'one': 250, 'And': 248, 'mean': 241, 'Ross': 214, 'want': 205, 'All': 201, 'uh': 199, 'God': 195, 'see': 194, \"'re\": 194, 'Joey': 185, 'tell': 180, 'sorry': 176, 'It': 173, 'okay': 163, 'guys': 162, 'look': 161, 'That': 158, 'going': 158, 'But': 157, 'could': 153, 'Hi': 150, 'good': 147, 'time': 147, 'would': 146, 'back': 141, 'yeah': 140, 'We': 139, 'great': 138, 'come': 137, 'little': 134, 'say': 130, 'love': 130, 'Chandler': 130, 'something': 126, 'Yes': 124, 'Rachel': 119, 'well': 118, 'guy': 118, 'Monica': 116, 'Phoebe': 116, 'Look': 114, 'wan': 112, 'This': 111, 'Why': 111, 'How': 109, 'The': 106, 'make': 106, 'said': 104, 'thing': 101, 'us': 100, 'He': 95, \"'ll\": 95, 'people': 92, \"y'know\": 92, 'never': 92, 'take': 91, 'much': 91, 'Uh': 89, 'Now': 85, 'still': 85, 'two': 85, 'Do': 84, 'let': 84, 'way': 83, 'Come': 82, 'need': 81, 'umm': 81, 'believe': 78, 'Really': 76, 'Thank': 76, \"'ve\": 75, 'thought': 75, 'first': 75, 'Umm': 75, 'sure': 74, 'even': 73, 'man': 73, 'give': 70, 'Wow': 70, \"Y'know\": 68, 'ta': 68, 'wait': 68, 'actually': 67, 'please': 66, 'ca': 66, 'stuff': 66, 'work': 66, 'talk': 65, 'call': 65, 'Are': 64, 'She': 64, 'big': 63, 'night': 63, 'feel': 63, 'ya': 63, 'Ok': 62, 'place': 61, 'maybe': 61, 'lot': 60, 'put': 59, 'ever': 58, 'ah': 58, 'My': 57, 'married': 57, 'baby': 56, 'anything': 56, 'fine': 56, 'nice': 56, 'things': 56, 'hey': 55, 'huh': 53, 'Just': 52, 'wanted': 52, 'girl': 52, 'Hello': 52, 'went': 51, 'Ohh': 51, 'Rach': 50, 'Thanks': 50, 'around': 50, \"'d\": 50, 'room': 50, 'last': 49, 'pretty': 49, 'happened': 49, 'name': 49, 'told': 49, 'Here': 48, 'um': 48, 'play': 48, 'stop': 48, 'kinda': 47, 'wedding': 47, 'better': 47, 'made': 47, 'care': 47, 'They': 46, 'new': 46, 'listen': 46, 'help': 46, 'thinking': 46, 'Good': 45, 'talking': 45, 'Can': 45, 'oh': 45, 'best': 45, 'Did': 45, 'date': 45, 'Is': 44, 'guess': 44, 'getting': 44, 'Listen': 43, 'together': 43, 'kind': 43, 'friend': 43, 'friends': 43, 'always': 43, 'pick': 42, 'fun': 42, 'second': 42, 'remember': 42, 'phone': 41, 'tonight': 41, 'ask': 41, 'Who': 40, 'yet': 40, 'Wait': 40, 'bad': 40, 'left': 40, 'woman': 39, 'There': 39, 'Let': 39, 'next': 39, 'day': 39, 'eat': 38, 'whole': 37, 'Great': 37, 'wrong': 37, 'else': 37, 'If': 37, 'Right': 37, 'Ooh': 37, 'Not': 37, 'thank': 36, 'job': 36, 'coming': 36, 'funny': 36, 'Because': 36, 'years': 36, '....': 36, 'hear': 35, 'totally': 35, 'ring': 35, 'another': 35, 'try': 35, 'find': 35, 'stupid': 35, 'called': 35, 'happy': 34, 'See': 34, 'old': 34, 'might': 34, 'idea': 34, 'problem': 34, 'Maybe': 34, 'game': 34, 'Where': 33, 'nothing': 33, 'long': 33, 'course': 33, 'looking': 33, 'Whoa': 33, 'home': 33, 'done': 32, 'honey': 32, 'Um': 32, 'tomorrow': 32, 'someone': 32, 'stay': 32, 'ready': 32, 'A': 32, 'trying': 32, 'When': 32, 'money': 32, 'later': 31, 'probably': 31, 'supposed': 31, 'away': 31, 'came': 31, 'wants': 30, 'three': 30, 'leave': 30, 'yes': 30, 'today': 30, 'Sorry': 30, 'party': 30, 'enough': 29, 'happen': 29, 'weird': 29, 'keep': 29, 'five': 29, 'hot': 29, 'life': 29, 'coffee': 28, 'crazy': 28, 'part': 28, 'minute': 28, 'Please': 28, 'Go': 28, 'Huh': 28, 'hard': 28, 'women': 28, 'sex': 28, 'saying': 28, 'real': 27, 'Ben': 27, 'took': 27, 'matter': 27, 'move': 27, 'every': 27, 'Ah': 26, 'serious': 26, 'apartment': 26, 'knew': 26, 'head': 26, 'anymore': 26, 'Dr.': 26, 'dinner': 26, 'Does': 26, 'hand': 26, 'Me': 25, 'Fine': 25, 'Nothing': 25, 'ok': 25, 'hours': 25, 'sleep': 25, 'knows': 25, 'Mr.': 25, 'telling': 25, 'Ow': 25, 'year': 25, 'morning': 25, 'may': 25, 'anyone': 25, 'says': 24, 'show': 24, 'bring': 24, 'marry': 24, 'seen': 24, 'naked': 24, 'high': 24, 'Janice': 24, 'minutes': 24, 'turn': 24, 'Joe': 23, 'start': 23, 'Get': 23, 'amazing': 23, 'thanks': 23, 'mine': 23, 'Sure': 23, 'live': 23, 'everything': 23, 'couple': 23, 'comes': 23, 'hang': 22, 'everybody': 22, 'wish': 22, 'though': 22, 'late': 22, 'throw': 22, 'beautiful': 22, 'meet': 22, 'chance': 22, 'check': 22, 'question': 22, 'Bing': 22, 'sister': 22, 'deal': 22, 'wearing': 22, 'lost': 22, 'use': 22, 'house': 22, 'person': 21, 'world': 21, 'god': 21, 'watch': 21, 'Geller': 21, 'understand': 21, 'kids': 21, 'asked': 21, 'father': 21, 'mind': 21, 'read': 21, 'walk': 21, 'already': 21, 'making': 21, 'kiss': 21, 'Would': 20, 'bed': 20, 'looks': 20, 'hurt': 20, 'number': 20, 'hell': 20, 'mom': 20, 'saw': 20, 'anyway': 20, 'OK': 20, 'school': 20, 'pants': 20, 'also': 19, 'bit': 19, 'mad': 19, 'hold': 19, 'alone': 19, 'since': 19, 'either': 19, 'babies': 19, 'kill': 19, 'girls': 19, 'kidding': 19, 'Of': 19, 'hate': 19, 'Then': 19, 'Like': 19, 'promise': 19, 'must': 19, 'Bob': 18, 'doctor': 18, 'without': 18, 'Honey': 18, 'wear': 18, 'true': 18, 'four': 18, 'forget': 18, 'break': 18, 'sweet': 18, 'somebody': 18, 'Alright': 18, 'gone': 18, 'cool': 18, 'whoa': 18, 'working': 17, 'different': 17, 'Ahh': 17, 'gave': 17, 'Yep': 17, 'food': 17, 'miss': 17, 'kid': 17, 'used': 17, 'brother': 17, 'glad': 17, 'buy': 17, 'gets': 17, 'worry': 17, 'cute': 17, 'makes': 17, 'found': 17, 'Carol': 17, 'Stop': 17, 'goes': 17, 'wo': 17, 'parents': 17, 'ten': 17, 'started': 16, 'able': 16, 'dad': 16, 'Actually': 16, 'movie': 16, 'important': 16, 'For': 16, 'In': 16, 'story': 16, 'easy': 16, 'soon': 16, 'picture': 16, 'sweetie': 16, 'half': 16, 'Your': 16, '$': 16, 'liked': 15, 'Which': 15, 'Thanksgiving': 15, 'open': 15, 'sounds': 15, 'wow': 15, 'broke': 15, 'unbelievable': 15, 'times': 15, 'Excuse': 15, 'perfect': 15, 'Nice': 15, 'anybody': 15, 'gay': 15, 'feeling': 15, 'book': 15, 'Ugh': 15, 'Kathy': 15, 'pay': 15, 'machine': 15, 'win': 15, 'family': 15, 'plan': 15, 'candy': 15, 'asleep': 14, 'Or': 14, 'table': 14, 'end': 14, 'ball': 14, 'Uhh': 14, 'dance': 14, 'girlfriend': 14, 'lady': 14, 'Remember': 14, 'sit': 14, 'One': 14, 'bet': 14, 'hit': 14, 'means': 14, 'sir': 14, 'moving': 14, 'face': 14, 'hope': 14, 'museum': 14, 'son': 14, 'small': 14, 'message': 14, 'everyone': 14, 'marriage': 14, 'free': 14, 'car': 14, 'Mon': 13, 'buddy': 13, 'realize': 13, 'Bye': 13, 'Anyway': 13, 'bathroom': 13, 'Man': 13, 'clothes': 13, 'many': 13, 'huge': 13, 'men': 13, 'David': 13, 'word': 13, 'taking': 13, 'brought': 13, 'six': 13, 'cut': 13, 'touch': 13, 'seeing': 13, 'asking': 13, 'Very': 13, 'playing': 13, 'Hmm': 13, 'shower': 13, 'hi': 13, 'Mrs.': 13, 'song': 13, 'soup': 13, 'fire': 13, 'eyes': 13, 'roommate': 12, 'seem': 12, 'thinks': 12, 'line': 12, 'fell': 12, 'reason': 12, 'blue': 12, 'talked': 12, 'change': 12, 'street': 12, 'Dude': 12, 'fact': 12, 'ass': 12, 'pregnant': 12, 'scared': 12, 'Ohhh': 12, 'Aw': 12, 'close': 12, 'Check': 12, 'spend': 12, 'lives': 12, 'bye': 12, 'eye': 12, 'dog': 12, 'least': 12, 'Susan': 12, 'list': 12, 'plans': 12, 'sick': 12, 'seven': 12, 'building': 11, 'moment': 11, 'Big': 11, 'boy': 11, 'rest': 11, 'bag': 11, 'figure': 11, 'terrible': 11, 'smell': 11, 'Mom': 11, 'team': 11, 'special': 11, 'side': 11, 'fault': 11, 'Aww': 11, 'moved': 11, 'bucks': 11, 'card': 11, 'Green': 11, 'lose': 11, 'lunch': 11, 'ago': 11, 'underwear': 11, 'floor': 11, 'hello': 11, 'week': 11, 'questions': 11, 'New': 11, 'Give': 11, 'restaurant': 11, 'tickets': 11, 'write': 11, 'grab': 11, 'These': 11, 'porn': 11, 'hour': 11, 'spent': 11, 'hands': 10, 'answer': 10, 'relax': 10, 'Mark': 10, 'absolutely': 10, 'fast': 10, 'happens': 10, 'grandmother': 10, 'Ew': 10, 'dead': 10, 'luck': 10, 'weeks': 10, 'heart': 10, 'Dad': 10, 'excited': 10, 'whatever': 10, 'excuse': 10, 'quit': 10, 'Richard': 10, 'chef': 10, 'stuck': 10, 'forgot': 10, 'almost': 10, 'turned': 10, 'living': 10, 'meant': 10, 'birthday': 10, 'Joshua': 10, 'top': 10, 'months': 10, 'hole': 10, 'heard': 10, 'shirt': 10, 'felt': 10, 'drunk': 10, 'cookies': 10, 'idiot': 10, 'Emily': 10, 'store': 10, 'town': 10, 'city': 10, 'owe': 10, 'bought': 10, 'door': 10, 'sometimes': 10, 'stick': 10, 'window': 10, 'Tell': 10, 'shot': 10, 'business': 10, 'boxes': 10, 'class': 10, 'Chip': 10, 'point': 9, 'Absolutely': 9, 'sucks': 9, 'wrote': 9, 'exactly': 9, 'scene': 9, 'stand': 9, 'Last': 9, 'loves': 9, 'hair': 9, 'Tribbiani': 9, 'completely': 9, 'ones': 9, 'Was': 9, 'sweater': 9, 'Happy': 9, 'bitch': 9, 'mistake': 9, 'box': 9, 'ran': 9, 'office': 9, 'loved': 9, 'With': 9, 'calling': 9, 'looked': 9, 'tired': 9, 'somewhere': 9, 'Say': 9, 'decided': 9, 'third': 9, 'dollars': 9, 'needs': 9, 'taste': 9, 'dude': 9, 'lie': 9, 'To': 9, 'news': 9, 'front': 9, 'entire': 9, 'feels': 9, 'laundry': 9, 'rule': 9, 'Barry': 9, 'interested': 9, 'cup': 9, 'sad': 9, 'figured': 9, 'yesterday': 9, 'Could': 9, 'Have': 9, 'suck': 9, 'speak': 9, 'grade': 9, 'watching': 9, 'bigger': 9, 'Nah': 9, 'starts': 9, 'mother': 9, 'Drake': 9, 'heads': 9, 'actor': 9, 'full': 8, 'inside': 8, 'wondering': 8, 'Damn': 8, 'middle': 8, 'cat': 8, 'difference': 8, 'switch': 8, 'nervous': 8, 'boyfriend': 8, 'breaking': 8, 'audition': 8, 'Will': 8, 'kissed': 8, 'duck': 8, 'Jill': 8, 'neither': 8, 'run': 8, 'definitely': 8, 'crush': 8, 'drink': 8, 'fight': 8, 'test': 8, 'days': 8, 'missed': 8, 'nickname': 8, 'set': 8, 'dating': 8, 'favor': 8, 'mess': 8, 'early': 8, 'quick': 8, 'trust': 8, 'Casey': 8, 'downstairs': 8, 'invite': 8, 'sent': 8, 'Porsche': 8, 'died': 8, 'Eh': 8, 'divorce': 8, 'pass': 8, '2': 8, '8': 8, 'stripper': 8, 'strong': 8, 'holding': 8, 'Hold': 8, 'romantic': 8, 'lying': 8, 'Am': 8, 'Bijan': 8, 'birds': 8, 'light': 8, 'weekend': 8, 'using': 8, 'system': 7, 'month': 7, 'Got': 7, 'Italian': 7, 'empty': 7, 'route': 7, 'tough': 7, 'shut': 7, 'proud': 7, 'jealous': 7, 'Nobody': 7, 'London': 7, 'kept': 7, 'feelings': 7, 'straight': 7, 'fan': 7, 'water': 7, 'putting': 7, 'welcome': 7, 'worth': 7, 'TV': 7, 'Guys': 7, 'surprise': 7, 'letting': 7, 'bike': 7, 'stole': 7, 'starting': 7, 'Although': 7, 'By': 7, 'worked': 7, 'Seriously': 7, 'rules': 7, 'seems': 7, 'clear': 7, 'favorite': 7, 'keeps': 7, 'shopping': 7, 'happening': 7, 'sitting': 7, 'Christmas': 7, 'gotten': 7, 'Vegas': 7, 'along': 7, 'dancing': 7, 'Take': 7, 'Exactly': 7, 'leaving': 7, 'showing': 7, 'across': 7, 'worried': 7, 'worse': 7, 'changed': 7, 'trip': 7, 'clean': 7, 'fair': 7, 'page': 7, 'wife': 7, 'Tag': 7, 'piece': 7, 'Mona': 7, 'Nooo': 7, 'Were': 7, 'human': 7, 'choose': 7, 'red': 7, 'relationship': 7, 'charming': 7, 'Roger': 7, 'button': 7, 'freak': 7, 'finish': 7, 'leg': 7, 'body': 7, 'wonder': 7, 'behind': 7, 'apologize': 7, 'sound': 7, 'giving': 7, 'turkey': 7, 'purse': 7, 'far': 7, 'lovely': 7, 'cry': 7, 'teach': 7, 'cowboy': 7, 'mouth': 7, 'alright': 7, 'Noo': 7, 'Larry': 7, 'lights': 7, 'die': 7, 'upset': 7, 'picked': 7, 'birth': 7, 'crap': 7, 'la': 7, 'smart': 7, 'decide': 7, 'ride': 7, 'rooms': 7, 'mail': 7, 'ate': 7, 'children': 7, 'eight': 7, 'movies': 7, 'quarter': 7, 'Issac': 7, 'Tulsa': 7, 'dump': 6, 'bar': 6, 'apparently': 6, 'fall': 6, 'Everybody': 6, 'surprised': 6, 'finally': 6, 'paid': 6, 'hoping': 6, 'bunch': 6, 'health': 6, 'conversation': 6, 'catch': 6, 'Yay': 6, 'fashion': 6, '.....': 6, 'incredible': 6, 'size': 6, 'Mike': 6, 'interesting': 6, 'broken': 6, 'Daddy': 6, 'pocket': 6, 'warm': 6, 'First': 6, 'Ma': 6, 'Her': 6, 'worst': 6, 'sensitive': 6, 'follow': 6, 'college': 6, 'couch': 6, 'fix': 6, 'Some': 6, 'takes': 6, 'twice': 6, 'hooked': 6, 'annoying': 6, 'except': 6, 'ticket': 6, 'Jason': 6, 'bride': 6, 'As': 6, 'white': 6, 'guest': 6, 'wine': 6, 'outside': 6, 'hundred': 6, 'sell': 6, 'universe': 6, 'fat': 6, 'cheesecake': 6, 'cares': 6, 'choice': 6, 'roll': 6, 'appreciate': 6, 'listening': 6, 'past': 6, 'cooking': 6, 'trouble': 6, 'knock': 6, 'daughter': 6, 'forever': 6, 'checking': 6, 'walking': 6, 'tie': 6, 'dream': 6, 'feet': 6, 'words': 6, 'sing': 6, 'nine': 6, 'Nope': 6, 'speed': 6, 'order': 6, 'Bonnie': 6, 'walked': 6, 'imagine': 6, 'sleeping': 6, 'kicking': 6, 'Boutros': 6, 'York': 6, 'personal': 6, 'engaged': 6, 'final': 6, 'Jake': 6, 'sometime': 6, 'drop': 6, 'teacher': 6, '\\x92': 6, 'books': 6, 'brain': 6, 'thoughts': 6, 'busy': 6, 'view': 6, 'comfortable': 6, 'Father': 6, 'honest': 6, 'Shh': 6, 'wake': 6, 'Shoot': 6, 'boat': 6, 'maid': 6, 'honor': 6, 'Either': 6, 'save': 6, 'sold': 6, 'Five': 6, 'sense': 6, 'Open': 6, 'gift': 6, 'nap': 6, 'milk': 6, 'met': 6, 'pig': 6, 'Frank': 6, 'reading': 6, 'names': 6, 'places': 6, 'outta': 6, 'presents': 6, 'hanging': 6, 'cover': 6, 'noodle': 6, 'hospital': 6, 'husband': 6, 'band': 6, 'keys': 6, 'Alan': 6, 'spending': 6, 'teaching': 5, 'case': 5, 'James': 5, 'Central': 5, 'Even': 5, 'evil': 5, 'pain': 5, 'key': 5, 'Something': 5, 'share': 5, 'wonderful': 5, 'pink': 5, 'inappropriate': 5, 'hung': 5, 'age': 5, 'sudden': 5, 'embarrassed': 5, 'hotel': 5, 'dirty': 5, 'script': 5, 'camera': 5, 'ridiculous': 5, 'Jack': 5, 'pack': 5, 'technically': 5, 'careful': 5, 'genius': 5, 'robot': 5, 'fired': 5, 'Stupid': 5, 'easier': 5, 'music': 5, 'bank': 5, 'ended': 5, 'accident': 5, 'tux': 5, 'less': 5, 'boring': 5, 'ladies': 5, 'control': 5, 'future': 5, 'sink': 5, 'blew': 5, 'Pretty': 5, 'canoe': 5, 'center': 5, 'throwing': 5, 'fake': 5, 'familiar': 5, 'Europe': 5, 'MY': 5, 'dress': 5, 'remembered': 5, 'handle': 5, 'assistant': 5, 'chicken': 5, 'nipple': 5, 'Ms.': 5, 'accept': 5, 'sec': 5, 'eh': 5, 'kick': 5, 'asks': 5, 'British': 5, 'obviously': 5, 'actual': 5, 'covered': 5, 'foot': 5, 'truth': 5, 'enjoy': 5, 'dumped': 5, 'copy': 5, 'sauce': 5, 'extra': 5, 'writing': 5, 'turns': 5, 'rather': 5, 'explain': 5, 'desk': 5, 'Julie': 5, 'shoot': 5, 'expecting': 5, 'fill': 5, 'instead': 5, 'soo': 5, 'experience': 5, 'standing': 5, 'opened': 5, 'hates': 5, 'lemonade': 5, 'jerk': 5, 'suppose': 5, 'cheese': 5, 'pie': 5, 'John': 5, 'drive': 5, 'subway': 5, 'Our': 5, 'tour': 5, 'Park': 5, 'chute': 5, 'Isabella': 5, 'Elizabeth': 5, \"c'mon\": 5, 'board': 5, 'flowers': 5, 'French': 5, 'coat': 5, 'celebrate': 5, 'invited': 5, 'saving': 5, '7': 5, 'trick': 5, 'forward': 5, 'spot': 5, 'memories': 5, 'computer': 5, 'plane': 5, 'air': 5, 'Those': 5, 'San': 5, 'tiny': 5, 'secrets': 5, 'killed': 5, 'interview': 5, 'learned': 5, 'Ready': 5, 'gym': 5, 'treat': 5, 'Anybody': 5, 'goin': 5, 'doin': 5, 'nobody': 5, 'waiting': 5, 'Chloe': 5, 'Relax': 5, 'candles': 5, 'cross': 5, 'poker': 5, '%': 5, 'Totally': 5, 'hooker': 5, 'selling': 5, 'possible': 5, 'hall': 5, 'device': 5, 'needed': 5, 'jam': 5, 'shoes': 5, 'Move': 5, 'lately': 5, 'safe': 5, 'single': 5, 'kitchen': 5, 'bedroom': 5, 'calm': 5, 'Little': 5, 'short': 5, 'calls': 5, 'ways': 5, 'dry': 5, 'Gunther': 5, 'judge': 5, 'swear': 5, 'picking': 5, 'black': 5, 'secret': 5, 'hats': 5, 'tree': 5, 'pizza': 5, 'brave': 5, 'suds': 5, 'bug': 5, 'Monday': 4, 'fit': 4, 'closing': 4, 'beer': 4, 'touched': 4, 'Done': 4, 'paper': 4, 'Be': 4, 'legs': 4, 'afternoon': 4, 'arms': 4, 'horny': 4, 'bucket': 4, 'garbage': 4, 'insurance': 4, 'toilet': 4, 'professor': 4, 'pool': 4, 'blind': 4, 'delivery': 4, 'sports': 4, 'loud': 4, 'earrings': 4, 'bus': 4, 'practice': 4, 'Treeger': 4, 'sort': 4, 'joke': 4, 'Stevens': 4, 'usually': 4, 'address': 4, 'lucky': 4, 'nuts': 4, 'attracted': 4, 'likes': 4, 'sandwich': 4, 'otherwise': 4, 'king': 4, 'seriously': 4, 'Professor': 4, 'hearing': 4, 'Wh': 4, 'uncle': 4, 'Uncle': 4, 'company': 4, 'meeting': 4, 'vestibule': 4, 'train': 4, 'department': 4, 'bastard': 4, 'land': 4, 'saved': 4, 'opportunity': 4, 'trade': 4, 'entertainment': 4, 'Yemen': 4, 'child': 4, 'library': 4, 'chick': 4, 'everywhere': 4, 'quickly': 4, 'Santa': 4, 'About': 4, 'act': 4, 'zoo': 4, 'Looks': 4, 'groom': 4, 'regular': 4, 'present': 4, 'drinking': 4, 'horrible': 4, 'account': 4, 'dates': 4, 'cafeteria': 4, 'Grandma': 4, 'salad': 4, 'rid': 4, 'Congratulations': 4, 'Dear': 4, 'attention': 4, '1': 4, 'space': 4, 'double': 4, 'sheet': 4, 'rock': 4, 'strip': 4, 'Pete': 4, 'Aunt': 4, 'shop': 4, 'bra': 4, 'daddy': 4, 'Shut': 4, 'soap': 4, 'Post': 4, 'litter': 4, 'plastic': 4, 'notice': 4, 'freaked': 4, 'sexy': 4, 'Kip': 4, 'massage': 4, 'noise': 4, 'twenty': 4, 'service': 4, 'rip': 4, 'Wan': 4, 'click': 4, 'bite': 4, 'major': 4, 'become': 4, 'guitar': 4, 'tea': 4, 'switching': 4, 'holiday': 4, 'divorced': 4, 'slept': 4, 'Always': 4, 'Danny': 4, 'Friday': 4, 'ha': 4, 'Jane': 4, 'Rogers': 4, 'cost': 4, 'trash': 4, 'tall': 4, 'Rosselini': 4, 'twelve': 4, 'biggest': 4, 'altar': 4, \"C'mon\": 4, 'works': 4, 'named': 4, 'ow': 4, 'park': 4, 'chasing': 4, 'fifth': 4, 'pull': 4, 'blazer': 4, 'tried': 4, 'hormones': 4, 'boss': 4, 'sexual': 4, 'Knicks': 4, 'anywhere': 4, 'market': 4, 'cab': 4, 'ruin': 4, 'lean': 4, 'neck': 4, 'Diego': 4, 'percent': 4, 'nurse': 4, 'goofing': 4, 'quite': 4, 'longer': 4, 'jokes': 4, 'bottom': 4, 'games': 4, 'pair': 4, 'Ha': 4, 'lipstick': 4, 'Robert': 4, 'Still': 4, 'Damnit': 4, 'killing': 4, 'Apparently': 4, 'million': 4, 'dinosaur': 4, 'Wha': 4, 'Aruba': 4, 'Farber': 4, 'cream': 4, 'note': 4, 'expect': 4, 'Welcome': 4, 'Cause': 4, 'coats': 4, 'hitting': 4, 'On': 4, 'cameras': 4, 'goggles': 4, 'Mine': 4, 'dentist': 4, 'allowed': 4, 'country': 4, 'centimeters': 4, 'May': 4, 'honeymoon': 4, 'millions': 4, 'respect': 4, 'Jim': 4, 'tight': 4, 'bee': 4, 'enjoying': 4, 'rhyme': 4, 'Poughkeepsie': 4, 'bars': 4, 'letters': 4, 'wet': 4, 'Stay': 4, 'dumb': 4, 'jail': 4, 'Fun': 4, 'ordered': 4, 'unfair': 4, 'reset': 4, 'crying': 4, 'near': 4, 'backup': 4, 'numbers': 4, 'Whew': 4, 'afraid': 4, 'Night': 4, 'host': 4, 'screw': 4, 'Paolo': 4, 'George': 4, 'ice': 4, 'deserve': 4, 'Chuck': 4, 'loose': 4, 'People': 4, 'available': 4, 'realized': 4, 'Had': 4, 'Dum': 4, 'area': 4, 'needle': 4, 'gun': 4, 'annulment': 4, 'basket': 4, 'quitting': 4, 'played': 4, 'shoe': 4, 'bake': 4, 'especially': 4, 'ladle': 4, 'bunny': 4, 'information': 4, 'Hope': 4, 'Ursula': 4, 'lots': 4, 'learn': 4, 'Speech': 4, 'Montreal': 4, 'letter': 4, 'duties': 3, 'heading': 3, 'Forget': 3, 'poem': 3, 'vase': 3, 'notch': 3, 'specifics': 3, 'kangaroo': 3, 'dying': 3, 'impression': 3, 'thinkin': 3, 'sees': 3, 'pure': 3, 'Estelle': 3, 'stomach': 3, 'century': 3, 'young': 3, 'Out': 3, 'speech': 3, 'conference': 3, 'gentlemen': 3, 'GO': 3, 'hat': 3, 'Oy': 3, 'scary': 3, 'commercial': 3, 'responsibilities': 3, 'Pizza': 3, 'sandwiches': 3, 'issue': 3, 'public': 3, 'Calm': 3, 'breathe': 3, 'insane': 3, 'ahh': 3, 'nerve': 3, 'sign': 3, 'narrowed': 3, 'Raymond': 3, 'Later': 3, 'borrowed': 3, 'bloody': 3, 'barely': 3, 'advice': 3, 'Paul': 3, 'prefer': 3, 'boyfriends': 3, 'wall': 3, 'tape': 3, 'Call': 3, 'history': 3, 'character': 3, 'appointment': 3, 'Since': 3, 'burning': 3, 'dropped': 3, 'bringing': 3, 'From': 3, 'Ace': 3, 'known': 3, 'Especially': 3, 'Dana': 3, 'Any': 3, 'Morning': 3, 'actors': 3, 'wanting': 3, 'Bobby': 3, 'death': 3, 'Secret': 3, 'Goodacre': 3, 'rich': 3, 'apartments': 3, 'lines': 3, 'Tomorrow': 3, 'Phil': 3, 'Way': 3, 'pal': 3, 'Toby': 3, 'eleven': 3, 'Guess': 3, 'film': 3, 'perform': 3, 'staring': 3, 'Oo': 3, 'coulda': 3, 'stain': 3, 'hero': 3, 'pardon': 3, 'built': 3, 'credit': 3, 'cast': 3, 'drinks': 3, 'Vince': 3, 'jumping': 3, 'lived': 3, 'support': 3, 'OH': 3, 'planning': 3, 'typical': 3, 'send': 3, 'circles': 3, 'stars': 3, 'smoke': 3, 'Excellent': 3, 'pieces': 3, 'clinic': 3, 'handling': 3, 'raise': 3, 'Saturday': 3, 'Cassie': 3, 'slice': 3, 'France': 3, 'Barcelona': 3, 'hiking': 3, 'Chi': 3, 'club': 3, 'someplace': 3, 'threw': 3, 'rent': 3, 'tells': 3, 'afford': 3, 'City': 3, 'Cups': 3, 'impossible': 3, 'Steady': 3, 'seconds': 3, 'field': 3, 'Julio': 3, 'blond': 3, 'serve': 3, 'collection': 3, 'knocked': 3, 'pressure': 3, 'obvious': 3, 'critic': 3, 'review': 3, 'classy': 3, 'kitty': 3, 'hungry': 3, 'evening': 3, 'Sounds': 3, 'stack': 3, 'Ten': 3, 'waving': 3, 'toast': 3, 'oatmeal': 3, 'basically': 3, 'furniture': 3, 'breakfast': 3, 'Angela': 3, 'commitment': 3, 'ugly': 3, 'Heckles': 3, 'oboe': 3, 'fool': 3, 'peeking': 3, '3': 3, 'falling': 3, 'hidden': 3, 'beard': 3, 'drew': 3, 'pretending': 3, 'road': 3, 'Everything': 3, 'musician': 3, 'tomato': 3, 'finished': 3, 'taken': 3, 'license': 3, 'labor': 3, 'Both': 3, 'shame': 3, 'Kinda': 3, 'expensive': 3, 'Smelly': 3, 'ton': 3, 'admit': 3, 'laminated': 3, 'misunderstood': 3, 'lets': 3, 'bell': 3, 'agreed': 3, 'Jamie': 3, 'cramp': 3, 'Sergei': 3, 'Gali': 3, 'opening': 3, 'upstairs': 3, 'Cut': 3, 'toy': 3, 'fund': 3, 'Only': 3, 'beach': 3, 'fear': 3, 'court': 3, 'knocking': 3, 'engagement': 3, 'Boy': 3, 'gala': 3, 'whose': 3, 'fancy': 3, 'ad': 3, 'goodbye': 3, 'glass': 3, 'yell': 3, 'hypothetically': 3, '4': 3, '6': 3, 'cards': 3, 'insist': 3, 'carry': 3, 'certainly': 3, 'combination': 3, 'law': 3, 'Basically': 3, 'uncomfortable': 3, 'yelling': 3, 'Marcel': 3, 'whoever': 3, 'results': 3, 'states': 3, 'suddenly': 3, '\\x94': 3, 'pulling': 3, 'Op': 3, 'aware': 3, 'homemade': 3, 'moon': 3, 'return': 3, 'safely': 3, 'Oww': 3, 'plate': 3, 'rude': 3, 'drums': 3, 'skin': 3, 'flesh': 3, 'breast': 3, 'paying': 3, 'Mac': 3, 'schedule': 3, 'Oberman': 3, 'cervix': 3, 'Gim': 3, 'emergency': 3, 'jump': 3, 'Mindy': 3, 'tile': 3, 'lifetime': 3, 'heat': 3, 'possibly': 3, 'manager': 3, 'running': 3, 'closed': 3, 'forgive': 3, 'Chelsea': 3, 'naming': 3, 'Gee': 3, 'awful': 3, 'Ehh': 3, 'energy': 3, 'Doctor': 3, 'blocks': 3, 'Thread': 3, 'eating': 3, 'points': 3, 'cause': 3, 'dressed': 3, 'oil': 3, 'sale': 3, 'sweeping': 3, \"o'clock\": 3, 'fruit': 3, 'docks': 3, 'borrow': 3, 'America': 3, 'attractive': 3, 'unless': 3, 'international': 3, 'odds': 3, 'drugs': 3, 'beat': 3, 'sake': 3, 'bing': 3, 'boom': 3, 'Sperm': 3, 'Brown': 3, 'liking': 3, 'bugs': 3, 'privacy': 3, 'sisters': 3, 'color': 3, 'Better': 3, 'disgusting': 3, 'ocean': 3, 'Lily': 3, 'gosh': 3, 'bill': 3, 'Ed': 3, 'Begley': 3, 'Jr.': 3, 'Ca': 3, 'More': 3, 'Wells': 3, 'natural': 3, 'instincts': 3, 'fly': 3, 'whispering': 3, 'poor': 3, 'pregnancy': 3, 'wash': 3, 'hurry': 3, 'group': 3, 'pearls': 3, 'Adam': 3, 'Eww': 3, 'showed': 3, 'Plus': 3, 'sickness': 3, 'Almost': 3, 'Sit': 3, 'dear': 3, 'considered': 3, 'puck': 3, 'bother': 3, 'pong': 3, 'Four': 3, 'terrific': 3, 'butt': 3, 'noticed': 3, 'alarm': 3, 'Sidney': 3, 'answering': 3, 'Route': 3, 'saves': 3, 'Definitely': 3, 'taught': 3, 'stealing': 3, 'dial': 3, 'television': 3, 'Island': 3, 'screwed': 3, 'join': 3, 'forbidden': 3, 'novels': 3, 'evaluation': 3, 'concentrate': 3, 'popular': 3, 'Matthews': 3, 'partner': 3, 'twin': 3, 'flea': 3, 'Naked': 3, 'Guy': 3, 'Every': 3, \"y'see\": 3, 'drapes': 3, 'twins': 3, 'Noooo': 3, 'fling': 3, 'Never': 3, 'poking': 3, 'retract': 3, 'flip': 3, 'clowns': 3, 'Heads': 3, 'hollow': 3, 'uterus': 3, 'slip': 3, 'worker': 3, 'snack': 3, 'gum': 3, 'neighbors': 3, 'towel': 3, 'exciting': 3, 'lawyer': 3, 'negative': 3, 'keeping': 3, 'star': 3, 'magic': 3, 'recipe': 3, 'Awww': 3, 'Kind': 3, 'fourth': 3, 'normal': 3, 'limit': 3, 'brothers': 3, 'seat': 3, 'gives': 3, 'vent': 3, 'dark': 3, 'friendly': 3, 'smile': 3, 'type': 3, 'Bamboozled': 3, 'greatest': 3, 'Kristen': 3, 'Kristin': 3, 'sorta': 3, 'Mm': 3, 'fifteen': 3, 'McDowell': 3, 'Amy': 3, 'bond': 3, 'pages': 3, 'muscles': 3, 'section': 3, 'security': 3, 'giant': 3, 'leather': 3, 'puppet': 3, 'smooth': 3, 'Geez': 3, 'problems': 3, 'blame': 3, 'dictionary': 3, 'tank': 3, 'gas': 3, 'healthy': 3, 'following': 3, 'waiter': 3, 'director': 3, 'heaven': 3, 'squeeze': 3, 'strength': 3, 'Paris': 3, 'conscious': 3, 'rain': 3, 'freaking': 3, 'staying': 3, 'breasts': 3, 'Red': 3, 'Too': 3, 'comet': 3, 'Bugs': 3, 'Die': 3, 'Hard': 3, 'decision': 3, 'loser': 3, 'thirsty': 3, 'chop': 3, 'division': 2, 'perhaps': 2, 'certain': 2, 'beg': 2, 'waitress': 2, 'seemed': 2, 'World': 2, 'epic': 2, 'suggestions': 2, 'messed': 2, 'dessert': 2, 'buried': 2, 'spirit': 2, 'partying': 2, 'stranger': 2, 'video': 2, 'hug': 2, 'lined': 2, 'hernia': 2, 'Indian': 2, 'dinosaurs': 2, 'sum': 2, 'laughing': 2, 'scientists': 2, 'importantly': 2, 'damage': 2, 'diaper': 2, 'dropping': 2, 'pee': 2, 'awkward': 2, 'common': 2, 'exploded': 2, 'Water': 2, 'Breathe': 2, 'Gina': 2, 'Dina': 2, 'lecture': 2, 'Unless': 2, 'Kyle': 2, 'Want': 2, 'hint': 2, 'propose': 2, 'Uma': 2, 'Thurman': 2, 'actress': 2, 'charity': 2, 'embarrassing': 2, 'embarrass': 2, 'easily': 2, 'secure': 2, 'wuss': 2, 'lobby': 2, 'charge': 2, 'Vic': 2, 'Such': 2, 'deli': 2, 'Ronni': 2, 'pet': 2, 'navy': 2, 'memory': 2, 'tomatoes': 2, 'league': 2, 'chair': 2, 'era': 2, 'queen': 2, 'King': 2, 'von': 2, 'Going': 2, 'level': 2, 'earlier': 2, 'anniversary': 2, 'promised': 2, 'complement': 2, 'Krista': 2, 'ATM': 2, 'switched': 2, 'gravy': 2, 'fridge': 2, 'maniac': 2, 'adding': 2, 'thin': 2, 'Made': 2, 'worn': 2, 'famous': 2, 'Internet': 2, 'marrying': 2, 'legitimate': 2, 'member': 2, 'saliva': 2, 'playfully': 2, 'cushion': 2, 'spill': 2, 'exact': 2, 'Dammit': 2, 'robe': 2, 'latte': 2, 'pretend': 2, 'sissy': 2, 'Baby': 2, 'Girl': 2, 'nowhere': 2, 'virginity': 2, 'GOD': 2, 'Also': 2, 'invitation': 2, 'finds': 2, 'drag': 2, 'oughta': 2, 'bum': 2, 'neat': 2, 'match': 2, 'apart': 2, 'rushed': 2, 'nuclear': 2, 'goods': 2, 'enjoyed': 2, 'create': 2, 'Sophie': 2, 'unbelievably': 2, 'nurses': 2, 'male': 2, 'Watch': 2, 'dealing': 2, 'Johnson': 2, 'Western': 2, 'checked': 2, 'messages': 2, 'round': 2, 'lap': 2, 'nutmeg': 2, 'professional': 2, 'sailing': 2, 'whenever': 2, 'strangers': 2, 'signed': 2, 'sells': 2, 'helping': 2, 'India': 2, 'Atlantic': 2, 'invented': 2, 'seventh': 2, 'betting': 2, 'answers': 2, 'written': 2, 'goalie': 2, 'Correct': 2, 'hairy': 2, 'eligible': 2, 'wig': 2, 'boobs': 2, 'respectfully': 2, 'disagree': 2, 'ignore': 2, 'Sunshine': 2, 'sky': 2, 'begin': 2, 'Ooohh': 2, 'drama': 2, 'burn': 2, 'Times': 2, 'spilled': 2, 'Problem': 2, 'research': 2, 'fits': 2, 'competition': 2, 'chest': 2, 'convinced': 2, 'gorilla': 2, 'Somebody': 2, 'pile': 2, 'football': 2, 'nights': 2, 'stuffing': 2, 'honing': 2, 'dishes': 2, 'caught': 2, 'grow': 2, 'cook': 2, 'trusted': 2, 'shave': 2, 'impressions': 2, 'butter': 2, 'lamp': 2, 'Ukrainian': 2, 'Burn': 2, 'fellow': 2, 'intense': 2, 'appears': 2, 'Loved': 2, 'Singing': 2, 'Left': 2, 'songs': 2, 'pen': 2, 'draw': 2, 'Ladies': 2, 'iced': 2, 'juice': 2, 'Hmmm': 2, 'Goodbye': 2, 'fella': 2, 'Glad': 2, 'Use': 2, 'voice': 2, 'Sing': 2, 'delicious': 2, 'criticism': 2, 'feast': 2, 'difficult': 2, 'gang': 2, 'dare': 2, 'grown': 2, 'blow': 2, 'Saint': 2, 'stolen': 2, 'starving': 2, 'arm': 2, 'spooky': 2, 'OK.': 2, 'Ole': 2, 'Days': 2, 'factory': 2, 'pin': 2, 'waking': 2, 'smelly': 2, 'feeding': 2, 'jingle': 2, 'nut': 2, 'whip': 2, 'ahead': 2, 'popcorn': 2, 'Pick': 2, 'pushing': 2, 'success': 2, 'disease': 2, 'Freeze': 2, 'vacation': 2, 'Florida': 2, 'Krog': 2, 'fully': 2, 'specials': 2, 'chocolate': 2, 'midnight': 2, 'truck': 2, 'Jordie': 2, 'Knock': 2, 'Interesting': 2, 'suit': 2, 'sun': 2, 'mountain': 2, 'jogging': 2, 'Action': 2, 'lovers': 2, 'After': 2, 'linen': 2, 'strips': 2, 'motion': 2, 'painful': 2, 'wax': 2, 'satin': 2, 'learning': 2, 'scientist': 2, 'Russia': 2, 'Whatever': 2, 'waiters': 2, 'chefs': 2, 'audience': 2, 'depressed': 2, 'Ho': 2, 'Doug': 2, 'bear': 2, 'congratulations': 2, 'behaved': 2, 'telethon': 2, 'Tuesday': 2, 'balls': 2, 'Tom': 2, 'Cool': 2, 'blackout': 2, 'beginning': 2, 'sheer': 2, 'blouse': 2, 'punch': 2, 'doctors': 2, 'Armadillo': 2, 'became': 2, 'yelled': 2, 'routine': 2, 'catching': 2, '5': 2, 'post': 2, 'American': 2, 'push': 2, 'Janine': 2, 'dum': 2, 'wind': 2, 'airport': 2, 'Charlie': 2, 'ai': 2, 'maternity': 2, 'hogging': 2, 'July': 2, 'apple': 2, 'cubicle': 2, 'cube': 2, 'Careful': 2, 'Light': 2, 'sweep': 2, 'hammer': 2, 'Otherwise': 2, 'cruel': 2, 'ringing': 2, 'helped': 2, 'Sid': 2, 'deposit': 2, 'assumed': 2, 'alive': 2, 'focus': 2, 'Joan': 2, 'Collins': 2, 'sea': 2, 'large': 2, 'SANDWICH': 2, 'Cute': 2, 'counter': 2, 'flattered': 2, 'sensed': 2, 'unagi': 2, 'Apollo': 2, 'sixth': 2, 'Katie': 2, 'nicest': 2, 'kicked': 2, 'rapist': 2, 'Should': 2, 'brochures': 2, 'coffeehouse': 2, 'paste': 2, 'situation': 2, 'yay': 2, 'Maria': 2, 'silk': 2, 'theme': 2, 'nipples': 2, 'career': 2, 'depends': 2, 'needy': 2, 'egg': 2, 'muffins': 2, 'exist': 2, 'controls': 2, 'wasting': 2, 'guilty': 2, 'graduated': 2, 'lobster': 2, 'shake': 2, 'plates': 2, 'Celtics': 2, 'Bernice': 2, 'tiles': 2, 'unit': 2, 'customer': 2, 'scare': 2, 'junior': 2, 'plus': 2, 'kisser': 2, 'toner': 2, 'Empire': 2, 'supply': 2, 'catering': 2, 'lock': 2, 'often': 2, 'hopping': 2, 'daily': 2, 'Joseph': 2, 'Francis': 2, 'cancel': 2, 'Love': 2, 'conquered': 2, 'physical': 2, 'Ultimate': 2, 'Fighting': 2, 'Champion': 2, 'training': 2, 'designer': 2, 'row': 2, 'blood': 2, 'beeped': 2, 'spleen': 2, 'Including': 2, 'bald': 2, 'chess': 2, 'soak': 2, 'blazers': 2, 'rejoin': 2, 'spelled': 2, 'boobies': 2, 'mint': 2, 'treasures': 2, 'price': 2, 'Score': 2, 'disposable': 2, 'groceries': 2, 'report': 2, 'eaten': 2, 'Enough': 2, 'sharp': 2, 'wheel': 2, 'jackass': 2, 'contestants': 2, 'mix': 2, 'horse': 2, 'allergies': 2, 'soda': 2, 'Sweety': 2, 'bags': 2, 'refuse': 2, 'faster': 2, 'broom': 2, 'Bet': 2, '*': 2, 'opposite': 2, 'batch': 2, 'dies': 2, 'aunt': 2, 'Mary': 2, 'mailman': 2, 'teeth': 2, 'boarding': 2, 'jacket': 2, 'Sir': 2, 'lens': 2, 'Double': 2, 'countdown': 2, 'alien': 2, 'An': 2, 'green': 2, 'suite': 2, 'lounge': 2, 'Manly': 2, 'slut': 2, 'brings': 2, 'Avenue': 2, 'reasons': 2, 'hardly': 2, 'Nelson': 2, 'grass': 2, 'dingy': 2, 'doubt': 2, 'hamper': 2, 'remove': 2, 'uhh': 2, 'Liam': 2, 'unusual': 2, 'Abott': 2, 'cable': 2, 'loan': 2, 'jet': 2, 'helps': 2, 'dammit': 2, 'Back': 2, 'pledges': 2, 'performance': 2, 'pill': 2, 'guts': 2, 'Without': 2, 'sayin': 2, 'attack': 2, 'issues': 2, 'confident': 2, 'manage': 2, 'picnic': 2, 'finger': 2, 'impressive': 2, 'breath': 2, 'boxer': 2, 'shorts': 2, 'awfully': 2, 'application': 2, 'panicked': 2, 'Latour': 2, 'unacceptable': 2, 'punk': 2, 'state': 2, 'blades': 2, 'reservations': 2, 'complicated': 2, 'magazines': 2, 'aisle': 2, 'incredibly': 2, 'paints': 2, 'charcoal': 2, 'paranoid': 2, 'proposed': 2, 'goose': 2, 'bumps': 2, 'chin': 2, 'puff': 2, 'Another': 2, 'forgotten': 2, 'tastes': 2, 'crust': 2, 'Chicago': 2, 'Illinois': 2, 'hopefully': 2, 'Stick': 2, 'Next': 2, 'rough': 2, 'Try': 2, 'forgetting': 2, 'Surprise': 2, 'Ping': 2, 'competitive': 2, 'Hot': 2, 'fish': 2, 'Nine': 2, 'lotion': 2, 'planned': 2, 'Howie': 2, 'hated': 2, 'label': 2, 'search': 2, 'lapsed': 2, 'agent': 2, 'rented': 2, 'mention': 2, 'barium': 2, 'laugh': 2, 'urgent': 2, 'belt': 2, 'lasagne': 2, 'Things': 2, 'Contraction': 2, 'Los': 2, 'Gary': 2, 'boots': 2, 'tan': 2, 'opera': 2, 'recent': 2, 'Neil': 2, 'heh': 2, 'lasagna': 2, 'fulfilling': 2, 'Yikes': 2, 'animal': 2, 'bumped': 2, 'none': 2, 'Heh': 2, 'accent': 2, 'Long': 2, 'Obviously': 2, 'nanny': 2, 'princess': 2, 'Betty': 2, 'chocolates': 2, 'Zelner': 2, 'uniform': 2, 'specially': 2, 'project': 2, 'classes': 2, 'Tall': 2, '\\x96': 2, 'sheets': 2, 'cried': 2, 'Ugly': 2, 'suggestion': 2, 'potatoes': 2, 'kinds': 2, 'Underdog': 2, 'balloon': 2, 'cartoon': 2, 'reached': 2, 'observe': 2, 'quiet': 2, 'chairs': 2, 'identical': 2, 'study': 2, 'smells': 2, 'officially': 2, 'fairly': 2, 'Horny': 2, 'Patrick': 2, 'Instead': 2, 'sweetheart': 2, 'sugar': 2, 'Place': 2, 'Time': 2, 'balance': 2, 'Cobb': 2, 'cobb': 2, 'ducks': 2, 'direction': 2, 'south': 2, 'clever': 2, 'ideas': 2, 'wished': 2, 'Joanna': 2, 'beating': 2, 'mistakes': 2, 'jerks': 2, 'ballroom': 2, 'finals': 2, 'Whitney': 2, 'mouse': 2, 'Terry': 2, 'hopeless': 2, 'Stryker': 2, 'miracle': 2, 'tin': 2, 'emotional': 2, 'burned': 2, 'Awesome': 2, 'intuitive': 2, 'Stevie': 2, 'backstage': 2, 'smoking': 2, 'mouthing': 2, 'Sunday': 2, 'lighter': 2, 'thumb': 2, 'Mel': 2, 'Probably': 2, 'Aaron': 2, 'fanny': 2, 'carrying': 2, 'medical': 2, 'terms': 2, 'steal': 2, 'laughed': 2, 'blast': 2, 'Funny': 2, 'Clown': 2, 'naps': 2, 'Jew': 2, 'inspector': 2, 'everyday': 2, 'filing': 2, 'designers': 2, 'laid': 2, 'kissing': 2, 'sweaty': 2, 'subtle': 2, 'sticks': 2, 'react': 2, 'brownie': 2, 'violated': 2, 'peel': 2, 'Feels': 2, 'Helen': 2, 'photos': 2, 'fiancee': 2, 'scooch': 2, 'teaches': 2, 'Annabelle': 2, 'swimming': 2, 'eggs': 2, 'embryos': 2, 'gumball': 2, 'regatta': 2, 'Monana': 2, 'canvas': 2, 'Monet': 2, 'phonetically': 2, 'memorize': 2, 'clearly': 2, 'carefully': 2, 'client': 2, 'testify': 2, 'owes': 2, 'cursed': 2, 'Andie': 2, 'horoscope': 2, 'spat': 2, 'psyched': 2, 'Tooty': 2, 'landlord': 2, 'damnit': 2, 'makin': 2, 'joy': 2, 'practicing': 2, 'Paleontology': 2, 'seats': 2, 'prove': 2, 'Glen': 2, 'fiancée': 2, 'guide': 2, 'roommates': 2, 'boles': 2, 'avoid': 2, 'attic': 2, 'given': 2, 'purpose': 2, 'growing': 2, 'official': 2, 'guilt': 2, 'vibe': 2, 'steak': 2, 'overseas': 2, 'mirror': 2, 'sophisticated': 2, 'cereal': 2, 'flicks': 2, 'pushover': 2, 'Albany': 2, 'younger': 2, 'taller': 2, 'science': 2, 'Wesley': 2, 'stopped': 2, 'worrying': 2, 'weirdest': 2, 'Magic': 2, 'caller': 2, 'Alice': 2, 'data': 2, 'pleasant': 2, 'postpone': 2, 'ding': 2, 'Elaine': 2, 'Fortunately': 2, 'slight': 2, 'integrity': 2, 'drops': 2, 'swing': 2, 'slide': 2, 'lift': 2, 'happiness': 2, 'weak': 2, 'Martin': 2, 'Scorcese': 2, 'sat': 2, 'vision': 2, 'recently': 2, 'Comin': 2, 'Unfortunately': 2, 'Staten': 2, 'island': 2, 'tasted': 2, 'Rhonda': 2, 'Scott': 2, 'masculine': 2, 'casting': 2, 'tons': 2, 'cuter': 2, 'cleaner': 2, 'stage': 2, 'restaurants': 2, 'Used': 2, 'liquor': 2, 'loveable': 2, 'cold': 2, 'thousand': 2, 'expression': 2, 'moms': 2, '&': 2, 'ordinary': 2, 'knives': 2, 'ankle': 2, 'hip': 2, 'reject': 2, 'revenge': 2, 'bouillabaisse': 2, 'stare': 2, 'Hurry': 2, 'speacial': 2, 'crab': 2, 'cakes': 2, 'Bitch': 2, 'cigarette': 2, 'Backup': 2, 'tar': 2, 'dunno': 2, 'station': 2, 'hamburger': 2, 'Coffee': 2, 'customers': 2, 'Morgan': 2, 'Chase': 2, 'cancellation': 2, 'facility': 2, 'chippy': 2, 'Jennifer': 2, 'master': 2, 'marks': 2, 'poet': 2, 'shadow': 2, 'lip': 2, 'related': 2, 'Howdy': 2, 'wa': 2, 'bearnaise': 2, 'convention': 2, 'Kate': 2, 'Miller': 2, 'wrapped': 2, 'female': 2, 'Ball': 2, 'skip': 2, 'peep': 2, 'nose': 2, 'Welch': 2, 'Mia': 2, 'Hamm': 2, 'summer': 2, 'slow': 2, 'Cuba': 2, 'minister': 2, 'power': 2, 'northern': 2, 'parade': 2, 'Need': 2, 'Bird': 2, 'hired': 2, 'swans': 2, 'Lem': 2, 'messing': 2, 'Petrie': 2, 'sulk': 2, 'Huntley': 2, 'Scottish': 2, 'trifle': 2, 'bicep': 2, 'memorial': 2, 'salt': 2, 'Simmons': 2, 'transition': 1, 'amount': 1, 'detail': 1, 'definite': 1, 'confidence': 1, 'Chris': 1, 'turning': 1, 'betcha': 1, 'Poor': 1, 'vessel': 1, 'emptier': 1, 'interviewed': 1, 'coached': 1, 'Top': 1, 'War': 1, 'ambulance': 1, 'wander': 1, 'nether': 1, 'eternity': 1, 'usual': 1, 'aerobics': 1, 'Bond': 1, 'poster': 1, 'Perk': 1, 'Village': 1, 'Having': 1, 'tomorow': 1, 'seek': 1, 'comfort': 1, 'wry': 1, 'respects': 1, 'auditions': 1, 'blinding': 1, 'lifting': 1, 'weights': 1, 'passed': 1, 'sticking': 1, 'eighteenth': 1, 'artifact': 1, 'Calcutta': 1, 'homo': 1, 'erectus': 1, 'hum': 1, 'keynote': 1, 'speaker': 1, 'Clerk': 1, 'academics': 1, 'sand': 1, 'flood': 1, 'bash': 1, 'lima': 1, 'bean': 1, 'bubbling': 1, 'ahhh': 1, 'forth': 1, 'Erin': 1, 'calms': 1, 'although': 1, 'Met': 1, 'peaceful': 1, 'nodded': 1, 'insecure': 1, 'deaf': 1, 'constantly': 1, 'reassure': 1, 'Dark': 1, 'airplane': 1, 'monger': 1, 'nailed': 1, 'Foxtrot': 1, 'Tango': 1, 'Marge': 1, 'wracking': 1, 'unfortunately': 1, 'callbacks': 1, 'concussion': 1, 'sensing': 1, 'controlled': 1, 'glee': 1, 'recover': 1, 'Matt': 1, 'cleaned': 1, 'scouts': 1, 'camped': 1, 'Ooo': 1, 'moral': 1, 'obligation': 1, 'feminist': 1, 'Feminist': 1, 'Oop': 1, 'event': 1, 'hilarious': 1, 'hundreds': 1, 'rode': 1, 'faced': 1, 'fears': 1, 'ultimately': 1, 'overcame': 1, 'Total': 1, 'options': 1, 'prototypes': 1, 'mushroom': 1, 'cap': 1, 'bologna': 1, 'toothpicks': 1, 'Tasty': 1, 'Victor': 1, 'Peel': 1, 'onion': 1, 'rookie': 1, 'Greg': 1, 'Jenny': 1, 'Ask': 1, 'souvenirs': 1, 'Eighth': 1, 'poisoning': 1, 'mortician': 1, 'yard': 1, 'ships': 1, 'Dick': 1, 'Guru': 1, 'Saj': 1, 'waaay': 1, 'shampoo': 1, 'Mesozoic': 1, 'ace': 1, 'low': 1, 'Tickets': 1, 'courtside': 1, 'anvil': 1, 'Women': 1, 'Quick': 1, 'aim': 1, 'babes': 1, 'immodest': 1, 'whiff': 1, 'frowned': 1, 'upon': 1, 'reputation': 1, 'block': 1, 'Thursday': 1, 'Keystone': 1, 'Caplin': 1, 'Wayne': 1, 'rumors': 1, 'stressed': 1, 'swore': 1, 'gods': 1, 'sock': 1, 'forcing': 1, 'Numb': 1, 'gangster': 1, 'rap': 1, 'I.': 1, 'visiting': 1, 'Victoria': 1, 'model': 1, 'trapped': 1, 'Personal': 1, 'snooty': 1, 'stocked': 1, 'donut': 1, 'conclusion': 1, 'briefcase': 1, 'Forgot': 1, 'basis': 1, 'Everyday': 1, 'freakish': 1, 'hanger': 1, 'expressly': 1, 'Val': 1, 'Kilmer': 1, 'Batman': 1, 'Anyone': 1, 'ordained': 1, 'weddings': 1, 'clergy': 1, 'passion': 1, 'rubs': 1, 'dot': 1, 'ink': 1, 'sofa': 1, 'cushions': 1, 'spaghetti': 1, 'homeless': 1, 'Hero': 1, 'Denise': 1, 'secretly': 1, 'hire': 1, 'Lose': 1, 'espresso': 1, 'brutal': 1, 'willing': 1, 'handing': 1, 'initiated': 1, 'DANGER': 1, 'waste': 1, 'Olivia': 1, 'extras': 1, 'scenes': 1, 'Christian': 1, 'Sanders': 1, 'bitten': 1, 'peacock': 1, 'RSVP': 1, 'veil': 1, 'Kurt': 1, 'Douglas': 1, 'pep': 1, 'rally': 1, 'pyramid': 1, 'marijuana': 1, 'cigarettes': 1, 'ripped': 1, 'microphones': 1, 'Handling': 1, 'holocaust': 1, 'Earth': 1, 'canned': 1, 'dug': 1, 'Said': 1, 'occasional': 1, 'ing': 1, 'binge': 1, 'position': 1, 'buyer': 1, 'Effective': 1, 'expense': 1, 'Harder': 1, 'magician': 1, 'cheeks': 1, 'Technically': 1, 'bossy': 1, 'domineering': 1, 'sloppy': 1, 'immature': 1, 'Cousin': 1, 'obsessive': 1, 'shrill': 1, 'Shrill': 1, 'voices': 1, 'Hamilton': 1, 'rear': 1, 'backpacking': 1, 'studied': 1, 'foothills': 1, 'Mount': 1, 'error': 1, 'credited': 1, 'inconvenience': 1, 'copies': 1, 'Ones': 1, 'panties': 1, 'exotic': 1, 'Vermont': 1, 'daiquiris': 1, 'virgin': 1, 'carpet': 1, 'layman': 1, 'arrogance': 1, 'Today': 1, 'unable': 1, 'incident': 1, 'Once': 1, 'scale': 1, 'dumbest': 1, 'Young': 1, 'appointments': 1, 'greasy': 1, 'Cold': 1, 'faeces': 1, 'videos': 1, 'museums': 1, 'version': 1, 'gooooood': 1, 'racecar': 1, 'Jester': 1, 'wins': 1, 'daydreaming': 1, 'outer': 1, 'Taj': 1, 'Mahal': 1, 'slots': 1, 'grope': 1, 'square': 1, 'parallel': 1, 'windows': 1, 'stairway': 1, 'counting': 1, 'lightning': 1, 'hockey': 1, 'claims': 1, 'Dangerous': 1, 'Liaisons': 1, 'Weekend': 1, 'Phase': 1, 'Two': 1, 'topic': 1, 'Ruth': 1, 'plain': 1, 'disarray': 1, 'flung': 1, 'physically': 1, 'Depending': 1, 'species': 1, 'alumni': 1, 'reads': 1, 'DISAGREE': 1, 'Rocks': 1, 'fossil': 1, 'samples': 1, 'rocks': 1, 'steps': 1, 'entirely': 1, 'drying': 1, 'rod': 1, 'horribly': 1, 'mommy': 1, 'Twice': 1, 'ambitious': 1, 'HEY': 1, 'Stating': 1, 'Ohhhhh': 1, 'Become': 1, 'plague': 1, 'houses': 1, 'cats': 1, 'donuts': 1, 'Chinese': 1, 'Transit': 1, 'Authority': 1, 'carseat': 1, 'onto': 1, 'stroller': 1, 'introducing': 1, 'applied': 1, 'fierce': 1, 'applaud': 1, 'intended': 1, 'admitted': 1, 'friendship': 1, 'Farrell': 1, 'overheard': 1, 'Laundry': 1, 'ot': 1, 'Bigot': 1, 'Tests': 1, 'learners': 1, 'essay': 1, 'documents': 1, 'toss': 1, 'shedder': 1, 'claim': 1, 'Mexico': 1, 'national': 1, 'Sundays': 1, 'Danielle': 1, 'telescope': 1, 'creeps': 1, 'spatters': 1, 'watched': 1, 'pot': 1, 'beeps': 1, 'saddest': 1, 'camper': 1, 'minimal': 1, 'rethink': 1, 'fabric': 1, 'softener': 1, 'adventure': 1, 'Delvecchio': 1, 'imagination': 1, 'split': 1, 'hibachi': 1, 'affect': 1, 'form': 1, 'Ms': 1, 'grant': 1, 'accidentally': 1, 'valuable': 1, 'socks': 1, 'girlie': 1, 'stereo': 1, 'disturbing': 1, 'Inappropriate': 1, 'belongs': 1, 'peek': 1, 'fantastic': 1, 'spoil': 1, 'Molly': 1, 'complex': 1, 'unlikely': 1, 'geeky': 1, 'older': 1, 'vulnerability': 1, 'factor': 1, 'Sometime': 1, 'savings': 1, 'focusing': 1, 'Consider': 1, 'length': 1, 'rope': 1, 'nouse': 1, 'grace': 1, 'rhyming': 1, 'styles': 1, 'beside': 1, 'Partners': 1, 'doodle': 1, 'besides': 1, 'Busty': 1, 'Cover': 1, 'general': 1, 'ment': 1, 'brilliant': 1, 'Sincerely': 1, 'wisely': 1, 'selfish': 1, 'particular': 1, 'superb': 1, 'complaint': 1, 'traditional': 1, 'grilled': 1, 'fixin': 1, 'Funyuns': 1, 'havin': 1, 'magnificent': 1, 'vividly': 1, 'mouthful': 1, 'pumpkin': 1, 'reverse': 1, 'Nana': 1, 'Java': 1, 'poison': 1, 'involved': 1, 'mature': 1, 'category': 1, 'Favorite': 1, 'Returning': 1, 'Male': 1, 'Character': 1, 'nominees': 1, 'Wheeler': 1, 'Aquarius': 1, 'Gemini': 1, 'Taurus': 1, 'Virgo': 1, 'Sagittarius': 1, 'meantime': 1, 'Bernard': 1, 'Weirdest': 1, 'contracting': 1, 'wide': 1, 'pelvis': 1, 'unwitting': 1, 'essence': 1, 'crawl': 1, 'meddled': 1, 'according': 1, 'Sparkly': 1, 'capades': 1, 'Ice': 1, 'Wooo': 1, 'matador': 1, 'Life': 1, 'stupider': 1, 'medieval': 1, 'nighttime': 1, 'Remembered': 1, 'antique': 1, 'fortune': 1, 'ridiculously': 1, 'crystal': 1, 'depressing': 1, 'soft': 1, 'pretzel': 1, 'ID': 1, 'bras': 1, 'Jurassic': 1, 'scarf': 1, 'Imagine': 1, 'tucked': 1, 'Ewww': 1, 'campaign': 1, 'millionaire': 1, 'Magician': 1, 'Box': 1, 'Mix': 1, 'Up': 1, 'hazel': 1, 'foam': 1, 'missy': 1, 'alternate': 1, 'crawler': 1, 'Wo': 1, 'raised': 1, 'awareness': 1, 'angry': 1, 'Ooooh': 1, 'Doorknob': 1, 'grows': 1, 'spring': 1, 'adorable': 1, 'equipped': 1, 'destroy': 1, 'fourteen': 1, 'protected': 1, 'tornado': 1, 'dreamless': 1, 'dirt': 1, 'dumping': 1, 'reality': 1, 'Waitressing': 1, 'waitressing': 1, 'cleansing': 1, 'firemen': 1, 'cramps': 1, 'avec': 1, 'moi': 1, 'ce': 1, 'soir': 1, 'Cafe': 1, 'Maurice': 1, 'fascinated': 1, 'talky': 1, 'golden': 1, 'menu': 1, 'Mischa': 1, 'silently': 1, 'airhead': 1, 'forgets': 1, 'bird': 1, 'damn': 1, 'property': 1, 'Paulette': 1, 'Vincent': 1, 'Wonderful': 1, 'awesome': 1, 'soaked': 1, 'thrilled': 1, 'Judy': 1, 'diaphragm': 1, 'chew': 1, 'Halloween': 1, 'withdrawal': 1, 'applying': 1, 'Grasp': 1, 'nighties': 1, 'nerves': 1, 'deadened': 1, 'haircut': 1, 'thirty': 1, 'guides': 1, 'alley': 1, 'wave': 1, 'Butternut': 1, 'squash': 1, 'reliving': 1, 'Indians': 1, 'tad': 1, 'edgy': 1, 'Hormones': 1, 'papers': 1, 'Finally': 1, 'chewed': 1, 'trap': 1, 'harassment': 1, 'cases': 1, 'urine': 1, 'cuts': 1, 'broiling': 1, 'pan': 1, 'caterpillars': 1, 'William': 1, 'Sonoma': 1, 'Expect': 1, 'champ': 1, 'nooo': 1, 'battery': 1, 'skimp': 1, 'flying': 1, 'mingle': 1, 'ease': 1, 'solider': 1, 'Tommy': 1, 'lobbing': 1, 'Yellow': 1, 'Pages': 1, 'method': 1, 'chord': 1, 'layering': 1, 'fabrics': 1, 'instance': 1, 'deadline': 1, 'fundamentally': 1, 'parachute': 1, 'knapsack': 1, 'Franzblau': 1, 'armadillo': 1, 'Merry': 1, 'Holiday': 1, 'platform': 1, 'Millennium': 1, 'eighth': 1, 'update': 1, 'stronger': 1, 'scarves': 1, 'tulip': 1, 'tourists': 1, 'poems': 1, 'Empty': 1, 'Vase': 1, 'neutral': 1, 'Haul': 1, 'computers': 1, 'functions': 1, 'theoretically': 1, 'download': 1, 'interfacing': 1, 'Ba': 1, 'bumb': 1, 'stays': 1, 'Bernoulli': 1, 'principle': 1, 'Newton': 1, 'fabulous': 1, 'Aaargh': 1, 'slutty': 1, 'lingerie': 1, 'hurtin': 1, 'Skidmark': 1, 'overdue': 1, 'apology': 1, 'overweight': 1, 'stroke': 1, 'tingly': 1, 'hickey': 1, 'speaks': 1, 'held': 1, 'Focus': 1, 'scores': 1, 'winning': 1, 'roast': 1, 'Fourth': 1, 'pizzas': 1, 'indeedy': 1, 'peeing': 1, 'brush': 1, 'lid': 1, 'per': 1, 'se': 1, 'interactive': 1, 'wildlife': 1, 'animals': 1, 'docile': 1, 'cornered': 1, 'objects': 1, 'banana': 1, 'whatcha': 1, 'blade': 1, 'rabbit': 1, 'gains': 1, 'specimen': 1, 'process': 1, 'allow': 1, 'Haha': 1, 'hyphen': 1, 'Bicentennial': 1, 'Ethan': 1, 'felon': 1, 'fallin': 1, 'shiny': 1, 'Chad': 1, 'miserable': 1, 'seahorse': 1, 'seahorses': 1, 'toward': 1, 'Terrified': 1, 'namesake': 1, 'clamed': 1, 'avoiding': 1, 'entering': 1, 'Puppies': 1, 'wound': 1, 'exposed': 1, 'sexually': 1, 'lover': 1, 'satisfy': 1, 'fulfill': 1, 'Unagi': 1, 'eel': 1, 'replica': 1, 'sends': 1, 'orbit': 1, 'Captain': 1, 'Clark': 1, 'stood': 1, 'happier': 1, 'ceremony': 1, 'reinforcements': 1, 'hitchhiker': 1, 'killer': 1, 'Tiffany': 1, 'Princess': 1, 'Paper': 1, 'pays': 1, 'matches': 1, 'timing': 1, 'fires': 1, 'gossiping': 1, 'diets': 1, 'moderation': 1, 'Understood': 1, 'unbearable': 1, 'Tequila': 1, 'partly': 1, 'lesson': 1, 'session': 1, 'lycra': 1, 'spandex': 1, 'dared': 1, 'briefs': 1, 'flap': 1, 'heels': 1, 'posture': 1, 'lumberjack': 1, 'masculinity': 1, 'lusts': 1, 'nursing': 1, 'Emma': 1, 'Yowza': 1, 'Lord': 1, 'Doesn': 1, 'Y': 1, 'Pillman': 1, 'counselor': 1, 'added': 1, 'bail': 1, 'Pathetic': 1, 'vulnerable': 1, 'sung': 1, 'Birthday': 1, 'authorized': 1, 'distribute': 1, 'reciprocate': 1, 'blessing': 1, 'meaningless': 1, 'surrounded': 1, 'charm': 1, 'mistaken': 1, 'badly': 1, 'convince': 1, 'ravioli': 1, 'supportive': 1, 'Quack': 1, 'quack': 1, 'opens': 1, 'Robbie': 1, 'cups': 1, 'snow': 1, 'Knick': 1, '.......': 1, 'Ewing': 1, 'rebuilding': 1, 'waah': 1, 'aa': 1, 'Sweetheart': 1, 'choking': 1, 'retainer': 1, 'Hating': 1, 'sweating': 1, 'punches': 1, 'devil': 1, 'Satan': 1, 'smock': 1, 'complementary': 1, 'climbing': 1, 'retiling': 1, 'Yo': 1, 'Build': 1, 'lay': 1, 'Finish': 1, 'copying': 1, '........': 1, 'Philly': 1, 'champagne': 1, 'anniversaries': 1, 'lasts': 1, 'fantasy': 1, 'fantasies': 1, 'sour': 1, 'sneak': 1, 'cockpit': 1, 'stewardess': 1, 'trial': 1, 'Office': 1, 'Supplies': 1, 'blouses': 1, 'dresses': 1, 'purses': 1, 'paint': 1, 'sword': 1, 'replace': 1, 'baguette': 1, 'Tennille': 1, 'cilantro': 1, 'Cilantro': 1, 'Reporter': 1, 'influence': 1, 'dozens': 1, 'WXRK': 1, 'challenge': 1, 'Karen': 1, 'Talk': 1, 'ditch': 1, 'possibility': 1, 'girlfriends': 1, 'Lights': 1, 'intellectual': 1, 'missing': 1, 'conquer': 1, 'banned': 1, 'trainer': 1, 'Koon': 1, 'Doe': 1, 'Brazilian': 1, 'fighting': 1, 'octagon': 1, 'designed': 1, 'ruptured': 1, 'Stu': 1, 'joked': 1, 'shows': 1, 'Morse': 1, 'lied': 1, 'risky': 1, 'frozen': 1, 'lake': 1, 'mask': 1, 'Cameron': 1, 'Diaz': 1, 'sabotage': 1, 'gate': 1, 'packing': 1, 'bums': 1, 'genuinely': 1, 'fort': 1, 'danced': 1, 'fallen': 1, 'apologizing': 1, 'furnished': 1, 'rage': 1, 'cookie': 1, 'seventeen': 1, 'planetarium': 1, 'occurred': 1, 'NYU': 1, 'dorms': 1, 'envelope': 1, 'stuffers': 1, 'stamp': 1, 'lickers': 1, 'resumes': 1, 'Soaps': 1, 'Shampoos': 1, 'cake': 1, 'Murray': 1, 'handed': 1, 'Yugoslavian': 1, 'Milan': 1, 'respond': 1, 'superiors': 1, 'L.A': 1, 'Lean': 1, 'Triskaidekaphobia': 1, 'edges': 1, 'entitled': 1, 'Angel': 1, 'Pass': 1, 'losing': 1, 'losers': 1, 'spin': 1, 'Google': 1, 'Choose': 1, 'Gimmie': 1, 'Other': 1, 'Flirt': 1, 'Gone': 1, 'graceful': 1, 'visit': 1, 'dried': 1, 'seashores': 1, 'revoked': 1, 'slips': 1, 'Pack': 1, 'cotton': 1, 'lifeguards': 1, 'dismantle': 1, 'Explain': 1, 'offered': 1, 'tramp': 1, 'Tramp': 1, 'Fran': 1, 'picky': 1, 'musta': 1, 'grieve': 1, 'Went': 1, 'wholesale': 1, 'socket': 1, 'Fruit': 1, 'Jam': 1, 'tinted': 1, 'brownies': 1, 'tooth': 1, 'invisible': 1, 'dentists': 1, 'oral': 1, 'hygiene': 1, 'floss': 1, 'coincidence': 1, 'dreadful': 1, 'acted': 1, 'England': 1, 'Three': 1, 'Celebrities': 1, 'spots': 1, 'forgiving': 1, 'Sarandon': 1, 'political': 1, 'donated': 1, 'cans': 1, 'geography': 1, 'Sucker': 1, 'oooh': 1, 'jetway': 1, 'Federal': 1, 'regulations': 1, 'La': 1, 'beats': 1, 'receive': 1, 'doubling': 1, 'bonus': 1, 'total': 1, 'somehow': 1, 'Presenting': 1, 'Sarah': 1, 'Private': 1, 'Special': 1, 'Stand': 1, 'mission': 1, 'asteroid': 1, 'Fraid': 1, 'kiddin': 1, 'hmm': 1, 'Aaaah': 1, 'wonderfulness': 1, 'Intense': 1, 'creepy': 1, 'screwing': 1, 'handshake': 1, 'theory': 1, 'dominance': 1, 'Freeman': 1, 'graduate': 1, 'seminar': 1, 'sounded': 1, 'Fair': 1, 'Future': 1, 'superstar': 1, 'pouring': 1, 'feasted': 1, 'closet': 1, 'crushing': 1, 'bones': 1, 'Ouch': 1, 'constructive': 1, 'solution': 1, 'chalk': 1, 'lesbian': 1, 'hardware': 1, 'redo': 1, 'highly': 1, 'inch': 1, 'glued': 1, 'pry': 1, 'gouged': 1, 'surgeons': 1, 'colon': 1, 'tummy': 1, 'purred': 1, 'heck': 1, 'homesick': 1, 'lads': 1, 'babe': 1, 'scrum': 1, 'JOEY': 1, 'Admit': 1, 'Warm': 1, 'gorgeous': 1, 'bedrooms': 1, 'baths': 1, 'skinny': 1, 'sunglasses': 1, 'ho': 1, 'radio': 1, 'holds': 1, 'Paid': 1, 'Flying': 1, 'spaceship': 1, 'woo': 1, 'stung': 1, 'Victorian': 1, 'doorknobs': 1, 'dragged': 1, 'ornate': 1, 'ninth': 1, 'DUMB': 1, 'DRUNKEN': 1, 'BITCH': 1, 'finest': 1, 'oak': 1, 'East': 1, 'Mississippi': 1, 'prettiest': 1, 'lace': 1, 'Stunning': 1, 'craftsmanship': 1, 'changing': 1, 'offer': 1, 'profit': 1, 'accountant': 1, 'Same': 1, 'shark': 1, 'crossword': 1, 'Connect': 1, 'Dots': 1, 'maroon': 1, 'action': 1, 'comedy': 1, 'petite': 1, 'wee': 1, 'mute': 1, 'jewelry': 1, 'neurologist': 1, 'comprehensive': 1, 'overview': 1, 'status': 1, 'response': 1, 'Clifford': 1, 'Burnett': 1, 'Date': 1, 'November': 1, 'Age': 1, 'based': 1, 'Cliff': 1, 'mathematician': 1, 'widower': 1, 'Muriel': 1, 'rhymes': 1, 'Lots': 1, 'Bagel': 1, 'Mail': 1, 'Jail': 1, 'Bail': 1, 'Able': 1, 'Pumpkin': 1, 'deep': 1, 'breaths': 1, 'atmosphere': 1, 'sidestep': 1, 'Hardest': 1, 'Mazel': 1, 'tov': 1, 'uptown': 1, 'racist': 1, 'positive': 1, 'trading': 1, 'Zinfandel': 1, 'closest': 1, 'Angelica': 1, 'bask': 1, 'triumph': 1, 'meaning': 1, 'European': 1, 'culture': 1, 'Makes': 1, 'puke': 1, 'grabs': 1, 'cheered': 1, 'wisdom': 1, 'clown': 1, 'river': 1, 'Coast': 1, 'Guard': 1, 'walls': 1, 'ceilings': 1, 'sage': 1, 'branches': 1, 'sacramental': 1, 'oregano': 1, 'semen': 1, 'righteous': 1, 'ritual': 1, 'Ritter': 1, 'receipt': 1, 'Oon': 1, 'Scotty': 1, 'Jared': 1, 'Paulo': 1, 'grappa': 1, 'salmon': 1, 'sets': 1, 'slash': 1, 'bathtub': 1, 'sooo': 1, 'Closer': 1, 'skedaddle': 1, 'highness': 1, 'loaner': 1, 'helper': 1, 'imaginary': 1, 'Lafite': 1, 'nicely': 1, 'damaged': 1, 'zillionaire': 1, 'Dakota': 1, 'zip': 1, 'Nude': 1, 'Nudes': 1, 'roller': 1, 'shrink': 1, 'Ever': 1, 'stumble': 1, 'Item': 1, 'winterberry': 1, 'herbal': 1, 'savory': 1, 'resist': 1, 'Brides': 1, 'Donna': 1, 'Carin': 1, 'clubbing': 1, 'imagining': 1, 'guests': 1, 'fireman': 1, 'journal': 1, 'drawings': 1, 'colors': 1, 'access': 1, 'math': 1, 'paths': 1, 'stayed': 1, 'random': 1, 'intimidated': 1, 'bore': 1, 'manipulative': 1, 'doors': 1, 'guard': 1, 'Rush': 1, 'adjustment': 1, 'Miss': 1, 'progress': 1, 'removal': 1, 'glaucoma': 1, 'haunt': 1, 'step': 1, 'cubby': 1, 'max': 1, 'snug': 1, 'Sergio': 1, 'Power': 1, 'delivered': 1, 'buttery': 1, 'crumbly': 1, 'graham': 1, 'cracker': 1, 'filling': 1, 'filled': 1, 'tempted': 1, 'Bakery': 1, 'scooter': 1, 'hill': 1, 'Clear': 1, 'tracks': 1, 'boobie': 1, 'payback': 1, 'express': 1, 'Wrong': 1, 'Silence': 1, 'Lambs': 1, 'specifically': 1, 'rubber': 1, 'glue': 1, \"C'mere\": 1, 'ER': 1, 'GIVE': 1, 'ME': 1, 'PUCK': 1, 'dilated': 1, 'fingers': 1, 'compare': 1, 'interrupting': 1, 'fed': 1, 'bridal': 1, 'ruined': 1, 'raining': 1, 'bright': 1, 'paleontologists': 1, 'shirts': 1, 'ping': 1, 'others': 1, 'punched': 1, 'clunked': 1, 'massager': 1, 'reach': 1, 'originated': 1, 'Aroma': 1, 'Room': 1, 'pirate': 1, 'Foster': 1, 'puppets': 1, 'interviewing': 1, 'opponent': 1, 'trains': 1, 'Iran': 1, 'thieves': 1, 'capable': 1, 'burger': 1, 'slap': 1, 'conducting': 1, 'experiment': 1, 'smack': 1, 'websites': 1, 'website': 1, 'unnecessary': 1, 'government': 1, 'tabs': 1, 'Brother': 1, 'branching': 1, 'solidify': 1, 'declare': 1, 'editing': 1, 'edit': 1, 'spoken': 1, 'Refill': 1, 'Don': 1, 'Janet': 1, 'Fire': 1, 'wrap': 1, 'blanket': 1, 'Property': 1, 'warrant': 1, 'reattach': 1, 'disconnect': 1, 'Reset': 1, 'Circle': 1, 'hoop': 1, 'Ring': 1, 'Mother': 1, 'pointing': 1, 'irony': 1, 'peeper': 1, 'Marks': 1, 'Heating': 1, 'Radiator': 1, 'Heyy': 1, 'Screen': 1, 'Guild': 1, 'residual': 1, 'Benefits': 1, 'benefits': 1, 'expired': 1, 'Amazing': 1, 'boats': 1, 'viking': 1, 'Mmm': 1, 'moist': 1, 'surefire': 1, 'talker': 1, 'tissues': 1, 'Triple': 1, 'Freemont': 1, 'Westburg': 1, 'drove': 1, 'enema': 1, 'wonderment': 1, 'gaze': 1, 'Local': 1, 'drowning': 1, 'moron': 1, 'guarantee': 1, 'deals': 1, 'locked': 1, 'shook': 1, 'seal': 1, 'meat': 1, 'sweats': 1, 'President': 1, 'press': 1, 'Pie': 1, 'sliver': 1, 'hometowns': 1, 'classroom': 1, 'students': 1, 'picturing': 1, 'Forever': 1, 'Windows': 1, 'lit': 1, 'midterms': 1, 'Whenever': 1, 'COME': 1, 'ON': 1, 'president': 1, 'countries': 1, 'private': 1, 'tone': 1, 'dogs': 1, 'lag': 1, 'flies': 1, 'Angeles': 1, 'loses': 1, 'touching': 1, 'cell': 1, 'rang': 1, 'features': 1, 'handbag': 1, 'Puzzler': 1, 'puzzle': 1, 'contracts': 1, 'genitals': 1, 'phones': 1, 'noisy': 1, 'harder': 1, 'closer': 1, 'High': 1, 'rocked': 1, 'globe': 1, 'United': 1, 'States': 1, 'knitting': 1, 'knit': 1, 'careers': 1, 'ashamed': 1, 'advised': 1, 'role': 1, 'homosexually': 1, 'auditioned': 1, 'contract': 1, 'daytime': 1, 'unexpected': 1, 'nominated': 1, 'Reservations': 1, 'Simon': 1, 'sorts': 1, 'closes': 1, 'duh': 1, 'judgmental': 1, 'Destiny': 1, 'fulfilled': 1, 'ageist': 1, 'fresh': 1, 'chipper': 1, 'Nooooo': 1, 'napping': 1, 'whaddya': 1, 'shy': 1, 'preppy': 1, 'understanding': 1, 'flattery': 1, 'dismiss': 1, 'draft': 1, 'Wynona': 1, 'Rider': 1, 'local': 1, 'ironic': 1, 'goofy': 1, 'lurker': 1, 'Chan': 1, 'listener': 1, 'trays': 1, 'nonsense': 1, 'English': 1, 'paleontology': 1, 'permanent': 1, 'organize': 1, 'Plural': 1, 'Allright': 1, 'YOU': 1, \"'RE\": 1, 'stable': 1, 'obstacles': 1, 'mediocre': 1, 'lure': 1, 'distract': 1, 'Abort': 1, 'abort': 1, 'finding': 1, 'iron': 1, 'steel': 1, 'operators': 1, 'schools': 1, 'motorcycle': 1, 'letterman': 1, 'wore': 1, 'Home': 1, 'Ec': 1, 'mascot': 1, 'mellow': 1, 'loosen': 1, 'strings': 1, 'mena': 1, 'unattractive': 1, 'laying': 1, 'someday': 1, 'bathrooms': 1, 'spice': 1, 'threesome': 1, 'diner': 1, 'skates': 1, 'cocoa': 1, 'lumps': 1, 'whipped': 1, 'add': 1, 'peas': 1, 'onions': 1, 'inflatable': 1, 'Lot': 1, 'yoghurt': 1, 'containers': 1, 'uncoordinated': 1, 'adjoining': 1, 'corneas': 1, 'reserve': 1, 'Walls': 1, 'donate': 1, 'fluids': 1, 'cycles': 1, 'applicants': 1, 'studies': 1, 'participate': 1, 'Testing': 1, 'effects': 1, 'receptionists': 1, 'potato': 1, 'chips': 1, 'oven': 1, 'monkey': 1, 'wiped': 1, 'biggie': 1, 'platforms': 1, 'taping': 1, 'underpants': 1, 'dancer': 1, 'loosened': 1, 'hips': 1, 'rhythm': 1, 'Kick': 1, 'deliveries': 1, 'description': 1, 'fried': 1, 'inflate': 1, 'flopping': 1, 'Broadway': 1, 'cocktails': 1, 'Appalachia': 1, 'Close': 1, 'tongue': 1, 'ear': 1, 'rambunctious': 1, 'graduation': 1, 'surrogate': 1, 'cufflinks': 1, 'pulse': 1, 'Saucy': 1, 'Electrical': 1, 'judging': 1, 'Mister': 1, 'pinching': 1, 'explanation': 1, 'bulging': 1, 'Wrestle': 1, 'manuver': 1, 'fortunately': 1, 'hangs': 1, 'poke': 1, 'higher': 1, 'angle': 1, 'approaching': 1, '\\x97': 1, 'pervert': 1, 'Pat': 1, 'Sajak': 1, 'Alex': 1, 'Trebek': 1, 'Woolery': 1, 'eyelash': 1, 'curler': 1, 'Oohh': 1, 'IN': 1, 'LONDON': 1, 'Thomas': 1, 'Gobb': 1, 'Ducks': 1, 'assign': 1, 'tricks': 1, 'tweezers': 1, 'convey': 1, 'basic': 1, 'fishhook': 1, 'eyebrow': 1, 'divide': 1, 'acting': 1, 'dismissed': 1, 'Trib': 1, 'Eric': 1, 'winter': 1, 'bench': 1, 'directly': 1, 'assuming': 1, 'nurturing': 1, 'Philadelphia': 1, 'layers': 1, 'Find': 1, 'thread': 1, 'licked': 1, 'presumptuous': 1, 'lame': 1, 'divert': 1, 'Sports': 1, 'International': 1, 'Apartment': 1, 'listings': 1, 'coma': 1, 'swallow': 1, 'sonic': 1, 'blaster': 1, 'zone': 1, 'triple': 1, 'lodged': 1, 'throat': 1, 'naturally': 1, 'hurts': 1, 'Gellers': 1, 'Porsch': 1, 'stories': 1, 'neighbor': 1, 'chunk': 1, 'newspaper': 1, 'darlings': 1, 'Drop': 1, 'beyond': 1, 'lasted': 1, 'Eight': 1, 'Hanukkah': 1, 'Easter': 1, 'funeral': 1, 'lighting': 1, 'Japan': 1, 'fictitious': 1, 'agree': 1, 'psychic': 1, 'substantial': 1, 'ridicule': 1, 'Fisher': 1, 'firm': 1, 'represents': 1, 'fooled': 1, 'cancer': 1, 'emphysema': 1, 'candle': 1, '9': 1, 'definitive': 1, 'crowd': 1, 'beans': 1, 'aww': 1, 'shuffleboard': 1, 'relatives': 1, 'Tolouse': 1, 'Toulouse': 1, 'Nestlé': 1, 'Toll': 1, 'House': 1, 'Americans': 1, 'butcher': 1, 'language': 1, 'cupboard': 1, 'plaid': 1, 'appealing': 1, 'patches': 1, 'Patch': 1, 'Sisters': 1, 'cigs': 1, 'contest': 1, 'collect': 1, 'flaw': 1, 'constant': 1, 'snort': 1, 'laughs': 1, 'flaws': 1, 'chews': 1, 'endearing': 1, 'speaking': 1, 'correctly': 1, 'Indeed': 1, 'gloves': 1, 'Torme': 1, 'hopes': 1, 'keeper': 1, 'admire': 1, 'raising': 1, 'meets': 1, 'Boobs': 1, 'Tim': 1, 'wheeled': 1, 'juicy': 1, 'crowning': 1, 'example': 1, 'normally': 1, 'sweatpants': 1, 'triplets': 1, 'thrice': 1, 'randy': 1, 'explains': 1, 'cardboard': 1, 'cutout': 1, 'Evander': 1, 'Holyfield': 1, 'bachelor': 1, 'irreplaceable': 1, 'generations': 1, 'objectively': 1, 'Stood': 1, 'rush': 1, 'humidity': 1, 'dense': 1, 'poetry': 1, 'windshield': 1, 'mommies': 1, 'Eddie': 1, 'Moskowitz': 1, 'Reaffirms': 1, 'faith': 1, 'strain': 1, 'straightener': 1, 'unattended': 1, 'drift': 1, 'Boring': 1, 'Uncomfortable': 1, 'bonding': 1, 'Crap': 1, 'belong': 1, 'Oranges': 1, 'memorized': 1, '1A': 1, 'layer': 1, 'crack': 1, 'foundation': 1, 'asbestos': 1, 'ceiling': 1, 'childhood': 1, 'uncooked': 1, 'batter': 1, 'eater': 1, 'unreasonable': 1, 'rescue': 1, 'resume': 1, 'implementing': 1, 'Filing': 1, 'colored': 1, 'labels': 1, 'folders': 1, 'brighten': 1, 'cabinets': 1, 'mentor': 1, 'bagel': 1, 'cultivating': 1, 'relationships': 1, 'Wash': 1, 'geographically': 1, 'awhile': 1, 'defense': 1, 'genie': 1, 'Sweetie': 1, 'brunch': 1, 'Hypothetically': 1, 'deciding': 1, 'disrupts': 1, 'wrecking': 1, 'phial': 1, 'pox': 1, 'release': 1, 'hallway': 1, 'drum': 1, 'throws': 1, 'annoy': 1, 'Lilies': 1, 'flower': 1, 'faint': 1, 'Foosball': 1, 'subscription': 1, 'protective': 1, 'kettle': 1, 'differ': 1, 'Oooooh': 1, 'raquetball': 1, 'grip': 1, 'Ciao': 1, 'bela': 1, 'Uhhhh': 1, 'jockstrap': 1, 'Day': 1, 'handbook': 1, 'describe': 1, 'naughty': 1, 'taboo': 1, 'December': 1, 'Oooh': 1, 'photographer': 1, 'Jeffrey': 1, 'nude': 1, 'Swing': 1, 'Kings': 1, 'heavy': 1, 'metal': 1, 'Carcass': 1, 'overpriced': 1, 'schoolchildren': 1, 'dangle': 1, 'pressuring': 1, 'Francisco': 1, 'interestingly': 1, 'leaf': 1, 'blower': 1, 'spontaneous': 1, 'phrase': 1, 'shove': 1, 'Riggs': 1, 'Willick': 1, '......': 1, 'funnily': 1, 'hop': 1, 'patio': 1, 'ladybugs': 1, 'insects': 1, 'suggest': 1, 'dining': 1, 'spraying': 1, 'cologne': 1, 'hottest': 1, 'waved': 1, 'myth': 1, 'Lenny': 1, 'believes': 1, 'implantation': 1, 'thick': 1, 'prepare': 1, 'stairs': 1, 'attach': 1, 'costs': 1, 'yum': 1, 'efficient': 1, 'condom': 1, 'wallet': 1, 'tanned': 1, 'fluff': 1, 'pillows': 1, 'bills': 1, 'Helloooo': 1, 'arrested': 1, 'Note': 1, 'painterly': 1, 'impasto': 1, 'painted': 1, 'outdoors': 1, 'elusive': 1, 'subject': 1, 'monster': 1, 'trucks': 1, 'impressed': 1, 'Frontal': 1, 'temporal': 1, 'zygomatic': 1, 'craniotomy': 1, 'Renaissance': 1, 'Caravaggio': 1, 'uses': 1, 'chiaroscuro': 1, 'highlight': 1, 'anguish': 1, 'central': 1, 'Touch': 1, 'bumpy': 1, 'thorough': 1, 'glance': 1, 'Third': 1, 'overall': 1, 'attorney': 1, 'drunken': 1, 'annulled': 1, 'therapy': 1, 'forms': 1, 'Easy': 1, 'witnesses': 1, 'teachin': 1, 'spends': 1, 'Bad': 1, 'leaves': 1, 'Rodney': 1, 'Lucky': 1, 'nightmare': 1, 'Storming': 1, 'manuscript': 1, 'Josephine': 1, 'connect': 1, 'Square': 1, 'ninja': 1, 'advantage': 1, 'advance': 1, 'twelfth': 1, 'nineteenth': 1, 'announces': 1, 'crime': 1, 'sidekick': 1, 'lead': 1, 'series': 1, 'dreamed': 1, 'preparing': 1, 'technology': 1, 'Hotel': 1, 'Bactine': 1, 'owner': 1, 'During': 1, 'trampled': 1, 'steam': 1, 'responsibility': 1, 'correct': 1, 'Shhh': 1, 'prom': 1, 'product': 1, 'contraction': 1, 'violation': 1, 'grief': 1, 'illegally': 1, 'subletting': 1, 'Whose': 1, 'matters': 1, 'handsome': 1, 'repeating': 1, 'comic': 1, 'confront': 1, 'Shall': 1, 'intercourse': 1, 'hike': 1, 'toots': 1, 'Sells': 1, 'arrest': 1, 'register': 1, 'hangover': 1, 'Making': 1, 'Brooklyn': 1, 'Heights': 1, 'Cleveland': 1, 'waitin': 1, 'Lorraine': 1, 'yellin': 1, 'Christmastime': 1, 'donations': 1, 'spreading': 1, 'spread': 1, 'timer': 1, 'brag': 1, 'sore': 1, 'Quarter': 1, 'Dime': 1, 'Lint': 1, 'Canadian': 1, 'coin': 1, 'Set': 1, 'contribution': 1, 'complaints': 1, 'hoops': 1, 'shift': 1, 'increase': 1, 'rolling': 1, 'referring': 1, 'increasing': 1, 'understaffed': 1, 'appreciation': 1, 'sanctity': 1, 'defend': 1, 'drain': 1, 'ants': 1, 'Uff': 1, 'thigh': 1, 'multiplex': 1, 'Free': 1, 'anytime': 1, 'posters': 1, 'Ahhh': 1, 'foosball': 1, 'taped': 1, 'survived': 1, 'YES': 1, 'fellas': 1, 'Much': 1, 'instinct': 1, 'risked': 1, 'carat': 1, 'Congress': 1, 'debating': 1, 'deficit': 1, 'reduction': 1, 'mayor': 1, 'fares': 1, 'teams': 1, 'Agamemnon': 1, 'Waaay': 1, 'stares': 1, 'knack': 1, 'reacquainted': 1, 'Donald': 1, 'Trump': 1, 'Blue': 1, 'expert': 1, 'torture': 1, 'war': 1, 'captured': 1, 'Smooth': 1, 'shorten': 1, 'MUSE': 1, 'confusion': 1, 'MET': 1, 'rare': 1, 'bookstore': 1, 'Madison': 1, 'architecture': 1, 'Cathedral': 1, 'pastry': 1, 'mood': 1, 'Thai': 1, 'Slow': 1, 'antiquities': 1, 'wing': 1, 'Ancient': 1, 'Egypt': 1, 'Mesopotamia': 1, 'Byzantine': 1, 'Fabulous': 1, 'critics': 1, 'monogamy': 1, 'carryon': 1, 'Deep': 1, 'Impact': 1, 'shin': 1, 'estate': 1, 'limb': 1, 'modeling': 1, 'clap': 1, 'tune': 1, 'chorus': 1, 'favored': 1, 'unconsciously': 1, 'marvel': 1, 'sail': 1, 'cheer': 1, 'pony': 1, 'Count': 1, 'Rules': 1, 'Dehydrated': 1, 'Japanese': 1, 'noodles': 1, 'fluorescent': 1, 'Question': 1, 'Shelley': 1, 'flush': 1, 'Perhaps': 1, 'bump': 1, 'charisma': 1, 'fail': 1, 'midterm': 1, 'blushed': 1, 'toughest': 1, 'protects': 1, 'U.S.': 1, 'interests': 1, 'swimmers': 1, 'Down': 1, 'tallies': 1, 'Ohhhh': 1, 'Debbie': 1, 'Charla': 1, 'platonic': 1, 'goof': 1, 'term': 1, 'technical': 1, 'definition': 1, 'fangled': 1, 'original': 1, 'Know': 1, 'Dan': 1, 'neighborhood': 1, 'Barley': 1, 'serves': 1, 'barley': 1, 'planet': 1, 'pathetic': 1, 'yarns': 1, 'weave': 1, 'flick': 1, 'prison': 1, 'bitches': 1, 'hide': 1, 'lunges': 1, 'maintenance': 1, 'flaky': 1, 'Someone': 1, 'cranky': 1, 'cuz': 1, 'kiddy': 1, 'invasive': 1, 'vaginal': 1, 'exam': 1, 'suckers': 1, 'Mugsy': 1, 'magical': 1, 'regularly': 1, 'scheduled': 1, 'programming': 1, 'wigging': 1, 'luggage': 1, 'Canada': 1, 'ill': 1, 'Felicity': 1, 'unsuccessful': 1, 'sized': 1, 'Brady': 1, 'cole': 1, 'slaw': 1, 'buns': 1, 'formerly': 1, 'cows': 1, 'turkeys': 1, 'ew': 1, 'Men': 1, 'senior': 1, 'CIty': 1, 'Milwaukee': 1, 'Disneyland': 1, 'Small': 1, 'mechanical': 1, 'Dutch': 1, 'fixed': 1, 'Kingdom': 1, 'patience': 1, 'yore': 1, 'yesteryear': 1, 'cheap': 1, 'junk': 1, 'ooh': 1, 'Colonial': 1, 'portion': 1, 'Rick': 1, 'injure': 1, 'Greenpeace': 1, 'Crew': 1, 'screaming': 1, 'await': 1, 'MRI': 1, 'scans': 1, 'DNA': 1, 'testing': 1, 'gathered': 1, 'simple': 1, 'carbon': 1, 'leathery': 1, 'wrinkled': 1, 'massaging': 1, 'stimulate': 1, 'flow': 1, 'frustrating': 1, 'ba': 1, 'lovable': 1, 'Clearly': 1, 'continue': 1, 'glare': 1, 'streetlight': 1, 'breadstick': 1, 'fangs': 1, 'advanced': 1, 'Café': 1, 'afterwards': 1, 'sixteen': 1, 'pound': 1, 'childbirth': 1, 'stretching': 1, 'Knowing': 1, 'lips': 1, 'knowing': 1, 'Kiss': 1, 'involve': 1, 'projectile': 1, 'vomiting': 1, 'Vail': 1, 'syphilis': 1, 'thankful': 1, 'Thanksgivings': 1, 'sucked': 1, 'lousy': 1, 'crappy': 1, 'Year': 1, 'bugger': 1, 'Irony': 1, 'strapping': 1, 'jaw': 1, 'crash': 1, 'embassy': 1, 'parties': 1, 'Smell': 1, 'phobia': 1, 'needles': 1, 'PhD': 1, 'orally': 1, 'circumstances': 1, 'injection': 1, 'Tho': 1, 'Sting': 1, 'balcony': 1, 'checkbook': 1, 'loyal': 1, 'Ummm': 1, 'clogging': 1, 'unclogging': 1, 'coveralls': 1, 'Amanda': 1, 'salami': 1, 'unhook': 1, 'bouquet': 1, 'moonlit': 1, 'Rue': 1, 'de': 1, 'Keep': 1, 'sprinkle': 1, 'rose': 1, 'pedals': 1, 'loooot': 1, 'electricity': 1, 'Sudden': 1, 'goal': 1, 'Seems': 1, 'hammered': 1, 'shooting': 1, 'fork': 1, 'luckiest': 1, 'luckier': 1, 'wires': 1, 'wire': 1, 'disappears': 1, 'baseboard': 1, 'darling': 1, 'teamwork': 1, 'Lift': 1, 'Carl': 1, 'Gawd': 1, 'pooper': 1, 'within': 1, 'coyotes': 1, 'members': 1, 'herd': 1, 'beef': 1, 'slimmer': 1, 'Married': 1, 'Junior': 1, 'visited': 1, 'Nancy': 1, 'Thompson': 1, 'sucker': 1, 'blowing': 1, 'budget': 1, 'period': 1, 'Sleepy': 1, 'remembering': 1, 'nicknames': 1, 'Brownshirt': 1, 'Cutie': 1, 'student': 1, 'frank': 1, 'Burt': 1, 'rejections': 1, 'believable': 1, 'yummy': 1, 'kissin': 1, 'obsessed': 1, 'restraining': 1, 'mop': 1, 'waxing': 1, 'Organic': 1, 'substances': 1, 'discovered': 1, 'depths': 1, 'forest': 1, 'sucking': 1, 'corporate': 1, 'upstate': 1, 'cars': 1, 'mercy': 1, 'burring': 1, 'rides': 1, 'barn': 1, 'bend': 1, 'outdoorsy': 1, 'build': 1, 'handy': 1, 'jinx': 1, 'meal': 1, 'seller': 1, 'suitcases': 1, 'raisin': 1, 'proves': 1, 'harm': 1, 'Starlight': 1, 'suicide': 1, 'blueberry': 1, 'muffin': 1, 'His': 1, 'cash': 1, 'yearly': 1, 'trips': 1, 'rec': 1, 'lilies': 1, 'rustic': 1, 'duchess': 1, 'gown': 1, 'rack': 1, 'Phillips': 1, 'unnatural': 1, 'Division': 1, 'shed': 1, 'separate': 1, 'underneath': 1, 'squat': 1, 'Ted': 1, 'scares': 1, 'Teddy': 1, 'Andrew': 1, 'pear': 1, 'martini': 1, 'Chuckles': 1, 'aboard': 1, 'Works': 1, 'ohh': 1, 'steered': 1, 'noticing': 1, 'commercials': 1, 'Sugar': 1, 'Smacks': 1, 'vacuum': 1, 'polish': 1, 'Boyfriend': 1, 'tip': 1, 'stoop': 1, 'bridge': 1, 'talkin': 1, 'liar': 1, 'police': 1, 'suspects': 1, 'load': 1, 'Nor': 1, 'curtain': 1, 'hazard': 1, 'safety': 1, 'rub': 1, 'Gibson': 1, 'Clint': 1, 'Eastwood': 1, 'tension': 1, 'onstage': 1, 'chemistry': 1, 'benefit': 1, 'erotic': 1, 'wildly': 1, 'unpopular': 1, 'Ph.D': 1, 'Huge': 1, 'fuzzy': 1, 'mints': 1, 'gross': 1, 'Sweet': 1, 'n': 1, 'pets': 1, 'occasionally': 1, 'pose': 1, 'tail': 1, 'frisbee': 1, 'tuxedos': 1, 'Anything': 1, 'attend': 1, 'Limited': 1, 'seating': 1, 'Gellar': 1, 'relative': 1, 'Blood': 1, 'fewer': 1, 'bricks': 1, 'musicians': 1, 'Coming': 1, 'bone': 1, 'practical': 1, 'Monroe': 1, 'becoming': 1, 'confidant': 1, 'complain': 1, 'musical': 1, 'op': 1, 'visits': 1, 'meanwhile': 1, 'Sensitive': 1, 'understands': 1, 'wise': 1, 'geeks': 1, 'anthropologists': 1, 'dudes': 1, 'Hulk': 1, 'mentioned': 1, 'forty': 1, 'independent': 1, 'chubby': 1, 'puzzles': 1, 'PBS': 1, 'Telethon': 1, 'supporting': 1, 'controversial': 1, 'wallets': 1, 'Half': 1, 'garden': 1, 'gentleman': 1, 'reacted': 1, 'Bummer': 1, 'craziest': 1, 'endless': 1, 'unfulfilling': 1, 'exclusive': 1, 'granted': 1, 'settle': 1, 'Make': 1, 'lane': 1, 'cartoons': 1, 'Again': 1, 'knife': 1, 'Pregnant': 1, 'Woman': 1, 'Slays': 1, 'attacking': 1, 'attacked': 1, 'stopping': 1, 'Dead': 1, 'finishing': 1, 'inflict': 1, 'closely': 1, 'Devon': 1, 'swift': 1, 'bloke': 1, 'knees': 1, 'Brolin': 1, 'Russell': 1, 'assume': 1, 'youngest': 1, 'reconfiguration': 1, 'statistical': 1, 'factoring': 1, 'companies': 1, 'cooked': 1, 'School': 1, 'Restaurant': 1, 'reviewer': 1, 'admits': 1, 'Minister': 1, 'spit': 1, 'Everyone': 1, 'cocky': 1, 'shining': 1, 'leak': 1, 'Luckily': 1, 'settled': 1, 'destined': 1, 'soul': 1, 'mate': 1, 'misses': 1, 'Crazy': 1, 'Seven': 1, 'sight': 1, 'delicacy': 1, 'enemas': 1, 'showroom': 1, 'Bambi': 1, 'dances': 1, 'super': 1, 'electrician': 1, 'shocks': 1, 'responsible': 1, 'Folks': 1, 'Unbound': 1, 'Nora': 1, 'Tyler': 1, 'passing': 1, 'cider': 1, 'eraser': 1, \"Ma'am\": 1, \"ma'am\": 1, 'Until': 1, 'busted': 1, 'Book': 1, 'Save': 1, 'slammer': 1, 'Cancel': 1, 'spectacular': 1, 'phenomenon': 1, 'Show': 1, 'pipe': 1, 'respected': 1, 'astronomer': 1, 'passageway': 1, 'Trudie': 1, 'mum': 1, 'WE': 1, 'WON': 1, 'Fantastic': 1, 'Bunny': 1, 'positions': 1, 'Hassidic': 1, 'softball': 1, 'innate': 1, 'adore': 1, 'personally': 1, 'gallon': 1, 'Learned': 1, 'Acting': 1, 'Beginners': 1, 'basics': 1, 'upstage': 1, 'downstage': 1, 'snuggle': 1, 'volcano': 1, 'driving': 1, 'bowl': 1, 'crank': 1, 'intrigued': 1, 'fluid': 1, 'darts': 1, 'spackle': 1, 'Tiki': 1, 'Death': 1, 'Punch': 1, 'rum': 1, 'zero': 1, 'frightening': 1, 'tryin': 1, 'suggested': 1, 'mozzarella': 1, 'poppers': 1, 'Drum': 1, 'Help': 1, 'Barney': 1, 'courthouse': 1, 'Markson': 1, 'brains': 1, 'smeared': 1, 'Tweezers': 1, 'Manhattan': 1, 'stores': 1, 'Face': 1, 'transferring': 1, 'Rome': 1, 'Vienna': 1, 'transferred': 1, 'attract': 1, 'stinkers': 1, 'Tedlock': 1, 'prank': 1, 'memos': 1, 'sweets': 1, 'surprisingly': 1, 'strict': 1, 'classics': 1, 'marshmellows': 1, 'concentric': 1, 'feature': 1, 'McClane': 1, 'botched': 1, 'operation': 1, 'murder': 1, 'punctuated': 1, 'equilibrium': 1, 'Devonian': 1, 'Friends': 1, 'hooking': 1, 'smarter': 1, 'cracks': 1, 'wink': 1, 'apron': 1, 'aprons': 1, 'screening': 1, 'minor': 1, 'setback': 1, 'argument': 1, 'Las': 1, 'Dice': 1, 'nothin': 1, 'Pay': 1, 'deserves': 1, 'informed': 1, 'chase': 1, 'unearthed': 1, 'main': 1, 'locations': 1, 'Beth': 1, 'unfortunate': 1, 'weight': 1, 'levels': 1, 'Adiós': 1, 'Flowers': 1, 'Evil': 1, 'translation': 1, 'ferry': 1, 'Nova': 1, 'Scotia': 1, 'orange': 1, 'demeaning': 1, 'remotely': 1, 'Order': 1, 'Beans': 1, 'Dowdy': 1, 'dues': 1, 'Mira': 1, 'arthritic': 1, 'seamstress': 1, 'misery': 1, 'amusing': 1, 'mannequin': 1, 'Mannequins': 1, 'pickle': 1, 'potential': 1, 'hearts': 1, 'plunge': 1, 'pit': 1, 'depression': 1, 'Momma': 1, 'Whistle': 1, 'whistle': 1, 'Spoon': 1, 'torn': 1, 'desire': 1, 'abysmal': 1, 'thata': 1, 'introduction': 1, 'hollandaise': 1, 'yolk': 1, 'base': 1, 'shallots': 1, 'tarragon': 1, 'fifty': 1, 'pesos': 1, 'Human': 1, 'Olé': 1, 'entertain': 1, 'requesting': 1, 'bored': 1, 'pharmaceutical': 1, 'pharmacists': 1, 'Eva': 1, 'fringe': 1, 'sides': 1, 'goodnight': 1, 'Gay': 1, 'readers': 1, 'Mikey': 1, 'P': 1, 'Setting': 1, 'capture': 1, 'wisecracking': 1, 'owl': 1, 'traps': 1, 'Suzie': 1, 'rejection': 1, 'waited': 1, 'puts': 1, 'bath': 1, 'loong': 1, 'cracking': 1, 'Front': 1, 'carried': 1, 'breadsticks': 1, 'marinara': 1, 'vodka': 1, 'celery': 1, 'Lebanon': 1, 'Hand': 1, 'nasty': 1, 'Hanks': 1, 'Meg': 1, 'Ryan': 1, 'bullets': 1, 'guns': 1, 'slower': 1, 'bleeding': 1, 'grandfather': 1, 'ugh': 1, 'crotch': 1, 'soccer': 1, 'player': 1, 'patch': 1, 'pinned': 1, 'tickled': 1, 'freckles': 1, 'muscle': 1, 'meadow': 1, 'breeze': 1, 'moonlight': 1, 'flowing': 1, 'trees': 1, 'wagering': 1, 'permitted': 1, 'waterfalls': 1, 'trickling': 1, 'fountains': 1, 'calming': 1, 'babbling': 1, 'brook': 1, 'awake': 1, 'somethin': 1, 'singing': 1, 'afternoons': 1, 'Stephanie': 1, 'swirl': 1, 'strippers': 1, 'exit': 1, 'Awwwww': 1, 'Quite': 1, 'competitor': 1, 'hardest': 1, 'At': 1, 'queens': 1, 'traveled': 1, 'southern': 1, 'bees': 1, 'solved': 1, 'Bastard': 1, 'grocery': 1, 'Linda': 1, 'camp': 1, 'Doing': 1, 'Phone': 1, 'tradition': 1, 'abandoned': 1, 'couples': 1, 'Its': 1, 'Braverman': 1, 'protecting': 1, 'Kicky': 1, 'pancakes': 1, 'distance': 1, 'cave': 1, 'courage': 1, 'Fettuccini': 1, 'Alfredo': 1, 'Cheese': 1, 'bubbles': 1, 'Hate': 1, 'perceptive': 1, 'freaks': 1, 'sending': 1, 'cruise': 1, 'razor': 1, 'Gon': 1, 'Stitches': 1, 'Postpone': 1, 'comprehends': 1, 'thousands': 1, 'miles': 1, 'disappointed': 1, 'Anywhere': 1, 'booked': 1, 'postponing': 1, 'option': 1, 'backwards': 1, 'NOOOO': 1, 'refer': 1, 'Bobo': 1, 'sullies': 1, 'Leon': 1, 'purchasing': 1, 'kidney': 1, 'Gotcha': 1, 'VCR': 1, 'penis': 1, 'Bleaker': 1, 'Street': 1, 'Mama': 1, 'setting': 1, 'Section': 1, 'Health': 1, 'Code': 1, 'requires': 1, 'material': 1, 'convenience': 1, 'warning': 1, 'bust': 1, 'vendor': 1, 'picks': 1, 'towels': 1, 'loaned': 1, 'nineteen': 1, 'Nimitz': 1, 'interviews': 1, 'napkin': 1, 'greeting': 1, 'hairier': 1, 'Chief': 1, 'bonfire': 1, 'Valentine': 1, 'busiest': 1, 'Food': 1, 'mediterranean': 1, 'curiously': 1, 'intelligent': 1, 'stunning': 1, 'Stephanopoulos': 1, 'spying': 1, 'rainy': 1, 'Strip': 1, 'allll': 1, 'choices': 1, 'printed': 1, 'Winona': 1, 'Ryder': 1, 'Michelle': 1, 'Pfieffer': 1, 'Dorothy': 1, 'Hammel': 1, 'spins': 1, 'Fonzie': 1, 'resident': 1, 'specified': 1, 'needing': 1, 'qualified': 1, 'Doogie': 1, 'shh': 1, 'Officer': 1, 'Petty': 1, 'margaritas': 1, 'Wonder': 1, 'weekly': 1, 'Gerston': 1, 'Santos': 1, 'pleased': 1, 'pickles': 1, 'tampons': 1, 'penny': 1, 'stock': 1, 'tow': 1, 'innocent': 1, 'victim': 1, 'punish': 1, 'bound': 1, 'rights': 1, 'minks': 1, 'including': 1, 'sits': 1, 'straighten': 1, 'via': 1, 'burritos': 1, 'reservation': 1, 'burrito': 1, 'Places': 1, \"O'Mally\": 1, 'quicker': 1, 'required': 1, 'evaluate': 1, 'gel': 1, 'Turn': 1, 'chimney': 1, 'vicar': 1, 'Zelda': 1, 'erotica': 1, 'sexuality': 1, 'shortbread': 1, 'Scotland': 1, 'Vikings': 1, 'rediscover': 1, 'roots': 1, 'bagpipes': 1, 'personalities': 1, 'Pillow': 1, 'Fight': 1, 'G': 1, 'String': 1, 'doggy': 1, 'Kitten': 1, 'dancers': 1, 'alot': 1, 'Grandfather': 1, 'Swedish': 1, 'Grandmother': 1, 'opinion': 1, 'foxy': 1, 'sexless': 1, 'misunderstand': 1, 'flexed': 1, 'concert': 1, 'Allan': 1, 'planner': 1, 'Theta': 1, 'Beta': 1, 'Pi': 1, 'Syracuse': 1, 'repeat': 1, 'closets': 1, 'blacken': 1, 'edge': 1, 'forehead': 1, 'pencil': 1, 'Hoshi': 1, 'ringside': 1, 'affected': 1, 'concentration': 1, 'bout': 1, 'Zana': 1, 'Spindler': 1, 'Devane': 1, 'Kelly': 1, 'Goldie': 1, 'McGuire': 1, 'J.T.': 1, 'Beardsley': 1, 'Dorfman': 1, 'wedgie': 1, 'architect': 1, 'fiction': 1, 'writers': 1, 'Shame': 1, 'Stanley': 1, 'leading': 1, 'temporary': 1, 'invest': 1, 'nostril': 1, 'sneezed': 1, 'bats': 1, 'flew': 1, 'tellin': 1, 'leaned': 1, 'perfectly': 1, 'superficial': 1, 'insignificant': 1, 'apples': 1})\n"
     ]
    }
   ],
   "source": [
    "known_words_count = Counter(known_words)\n",
    "print('Number of known words',len(known_words_count))\n",
    "print('Number of known words tokens:', len(known_words))\n",
    "print('Known words counts')\n",
    "print(known_words_count)"
   ]
  },
  {
   "cell_type": "markdown",
   "metadata": {},
   "source": [
    "Just as in the previous notebook, we need to turn the labels into numerical values:"
   ]
  },
  {
   "cell_type": "code",
   "execution_count": 26,
   "metadata": {},
   "outputs": [
    {
     "name": "stdout",
     "output_type": "stream",
     "text": [
      "['anger', 'disgust', 'fear', 'joy', 'neutral', 'sadness', 'surprise']\n",
      "[4, 4, 4, 4, 6, 4, 4, 4, 4, 4, 2, 4, 6, 4, 6, 5, 6, 2, 4, 4]\n"
     ]
    }
   ],
   "source": [
    "from sklearn import preprocessing\n",
    "# first we instantiate a label encode\n",
    "le = preprocessing.LabelEncoder()\n",
    "# we fee this encoder with the complete list of labels from our data\n",
    "le.fit(training_labels)\n",
    "print(list(le.classes_))\n",
    "training_classes = le.transform(training_labels)\n",
    "print(list(training_classes[0:20]))"
   ]
  },
  {
   "cell_type": "markdown",
   "metadata": {},
   "source": [
    "The next steps are the same as for the previous notebook, except that we pass the embedding representations of the training data."
   ]
  },
  {
   "cell_type": "code",
   "execution_count": 27,
   "metadata": {},
   "outputs": [],
   "source": [
    "# Split data into training and test sets\n",
    "# from sklearn.cross_validation import train_test_split  # deprecated in 0.18\n",
    "from sklearn.model_selection import train_test_split\n",
    "\n",
    "### we again use a aplit of 80% train and 20% test\n",
    "docs_train, docs_test, y_train, y_test = train_test_split(\n",
    "    trainDataVecs, # the tf-idf model\n",
    "    training_classes, # the category values for each utterance represented as numeric values\n",
    "    test_size = 0.20 # we use 80% for training and 20% for development\n",
    "    ) \n"
   ]
  },
  {
   "cell_type": "code",
   "execution_count": 28,
   "metadata": {},
   "outputs": [
    {
     "name": "stdout",
     "output_type": "stream",
     "text": [
      "[4 4 0 ... 4 5 4]\n",
      "<class 'numpy.ndarray'>\n"
     ]
    }
   ],
   "source": [
    "print(y_test)\n",
    "print(type(y_test))"
   ]
  },
  {
   "cell_type": "code",
   "execution_count": 29,
   "metadata": {},
   "outputs": [
    {
     "name": "stdout",
     "output_type": "stream",
     "text": [
      "[[ 0.13769531  0.19140625  0.06982422 ... -0.01904297  0.11083984\n",
      "   0.07275391]\n",
      " [ 0.02927246  0.03244629 -0.01005859 ... -0.08608399  0.05111084\n",
      "  -0.14296874]\n",
      " [ 0.1368103   0.02407837  0.10354614 ... -0.19647217  0.02563477\n",
      "  -0.03149414]\n",
      " [-0.06994629  0.0707194  -0.04036458 ... -0.00495402  0.02033234\n",
      "  -0.05684407]\n",
      " [ 0.11912028  0.10304467  0.0969162  ... -0.01472982 -0.01257324\n",
      "   0.02475993]]\n"
     ]
    }
   ],
   "source": [
    "print(docs_train[0:5])"
   ]
  },
  {
   "cell_type": "markdown",
   "metadata": {},
   "source": [
    "## 4. Training and applying the model  <a class=\"anchor\" id =\"section4\"></a> "
   ]
  },
  {
   "cell_type": "code",
   "execution_count": 30,
   "metadata": {},
   "outputs": [
    {
     "data": {
      "text/plain": [
       "CalibratedClassifierCV(base_estimator=LinearSVC(C=1.0, class_weight=None,\n",
       "                                                dual=True, fit_intercept=True,\n",
       "                                                intercept_scaling=1,\n",
       "                                                loss='squared_hinge',\n",
       "                                                max_iter=1000,\n",
       "                                                multi_class='ovr', penalty='l2',\n",
       "                                                random_state=None, tol=0.0001,\n",
       "                                                verbose=0),\n",
       "                       cv=10, method='sigmoid')"
      ]
     },
     "execution_count": 30,
     "metadata": {},
     "output_type": "execute_result"
    }
   ],
   "source": [
    "from sklearn import svm\n",
    "from sklearn.calibration import CalibratedClassifierCV\n",
    "\n",
    "# We choose a Linear model\n",
    "linear_model = svm.LinearSVC()\n",
    "\n",
    "# The next function is needed to get some confidence score from this model. This score is derived by 10-folded cross-validation: *cv=10* and using a sigmoid function\n",
    "svm_linear_clf = CalibratedClassifierCV(linear_model , method='sigmoid', cv=10)\n",
    "\n",
    "### we train the classifier through the *fit* function and by passing the training vectors and the training labels as paramters:\n",
    "svm_linear_clf.fit(docs_train, y_train)"
   ]
  },
  {
   "cell_type": "code",
   "execution_count": 31,
   "metadata": {},
   "outputs": [],
   "source": [
    "# Predicting the Test set results, find macro recall\n",
    "y_pred_svm_linear = svm_linear_clf.predict(docs_test)"
   ]
  },
  {
   "cell_type": "markdown",
   "metadata": {},
   "source": [
    "If the data is complex, a non-linear SVM may be preferable. A non-linear SVM uses the kernel-trick to separate positive and negative cases when the data is not lineary correlated. We can initialise such a classifier in the same way as done before."
   ]
  },
  {
   "cell_type": "code",
   "execution_count": null,
   "metadata": {},
   "outputs": [],
   "source": [
    "nonlinear_model = svm.SVC(probability=True)\n",
    "svm_nonlinear_clf = CalibratedClassifierCV(nonlinear_model,  method='sigmoid', cv=5)\n",
    "svm_nonlinear_clf.fit(docs_train, y_train)"
   ]
  },
  {
   "cell_type": "code",
   "execution_count": 33,
   "metadata": {},
   "outputs": [],
   "source": [
    "# Predicting the Test set results, find macro recall\n",
    "y_pred_svm_nonlinear = svm_nonlinear_clf.predict(docs_test)"
   ]
  },
  {
   "cell_type": "code",
   "execution_count": 34,
   "metadata": {},
   "outputs": [
    {
     "name": "stdout",
     "output_type": "stream",
     "text": [
      "[[0.05727301 0.0605564  0.01256164 ... 0.48935933 0.02644762 0.15417167]\n",
      " [0.10692003 0.03648545 0.0128729  ... 0.51751337 0.07558563 0.02868661]\n",
      " [0.20359886 0.02875817 0.02688259 ... 0.54077241 0.08125842 0.03054965]\n",
      " ...\n",
      " [0.10476192 0.03855785 0.01295518 ... 0.51650307 0.0746161  0.02900226]\n",
      " [0.20225783 0.03805203 0.01360721 ... 0.54356266 0.08296208 0.03007048]\n",
      " [0.1464218  0.01729576 0.03563543 ... 0.53027047 0.08528737 0.03218758]]\n"
     ]
    }
   ],
   "source": [
    "# the next function obtain the scores for all the classes for each text\n",
    "y_pred_svm_nonlinear_proba= svm_nonlinear_clf.predict_proba(docs_test)\n",
    "print(y_pred_svm_nonlinear_proba)"
   ]
  },
  {
   "cell_type": "markdown",
   "metadata": {},
   "source": [
    "## 5. Generating the test report  <a class=\"anchor\" id =\"section5\"></a> "
   ]
  },
  {
   "cell_type": "code",
   "execution_count": 35,
   "metadata": {},
   "outputs": [],
   "source": [
    "from sklearn.metrics import classification_report\n"
   ]
  },
  {
   "cell_type": "code",
   "execution_count": 36,
   "metadata": {},
   "outputs": [
    {
     "name": "stdout",
     "output_type": "stream",
     "text": [
      "['anger' 'disgust' 'fear' 'joy' 'neutral' 'sadness' 'surprise']\n",
      "SVM LINEAR ----------------------------------------------------------------\n",
      "              precision    recall  f1-score   support\n",
      "\n",
      "           0  0.1500000 0.0146341 0.0266667       205\n",
      "           1  0.0000000 0.0000000 0.0000000        58\n",
      "           2  0.0000000 0.0000000 0.0000000        58\n",
      "           3  0.4827586 0.1517615 0.2309278       369\n",
      "           4  0.5040369 0.9407966 0.6564026       929\n",
      "           5  0.6666667 0.0431655 0.0810811       139\n",
      "           6  0.5882353 0.2916667 0.3899721       240\n",
      "\n",
      "    accuracy                      0.5050050      1998\n",
      "   macro avg  0.3416711 0.2060035 0.1978643      1998\n",
      "weighted avg  0.4559466 0.5050050 0.4030734      1998\n",
      "\n"
     ]
    },
    {
     "name": "stderr",
     "output_type": "stream",
     "text": [
      "/Users/piek/opt/anaconda3/lib/python3.7/site-packages/sklearn/metrics/_classification.py:1272: UndefinedMetricWarning: Precision and F-score are ill-defined and being set to 0.0 in labels with no predicted samples. Use `zero_division` parameter to control this behavior.\n",
      "  _warn_prf(average, modifier, msg_start, len(result))\n"
     ]
    }
   ],
   "source": [
    "#### this report gives the results for the LINEAR classifier\n",
    "report = classification_report(y_test,y_pred_svm_linear,digits = 7)\n",
    "print(le.classes_)\n",
    "print('SVM LINEAR ----------------------------------------------------------------')\n",
    "print(report)"
   ]
  },
  {
   "cell_type": "code",
   "execution_count": 37,
   "metadata": {},
   "outputs": [
    {
     "name": "stdout",
     "output_type": "stream",
     "text": [
      "['anger' 'disgust' 'fear' 'joy' 'neutral' 'sadness' 'surprise']\n",
      "SVM NONLINEAR ----------------------------------------------------------------\n",
      "              precision    recall  f1-score   support\n",
      "\n",
      "           0  0.3333333 0.0097561 0.0189573       205\n",
      "           1  0.0000000 0.0000000 0.0000000        58\n",
      "           2  0.0000000 0.0000000 0.0000000        58\n",
      "           3  0.5955056 0.1436314 0.2314410       369\n",
      "           4  0.4991559 0.9547901 0.6555802       929\n",
      "           5  0.6666667 0.0431655 0.0810811       139\n",
      "           6  0.5775862 0.2791667 0.3764045       240\n",
      "\n",
      "    accuracy                      0.5080080      1998\n",
      "   macro avg  0.3817497 0.2043585 0.1947806      1998\n",
      "weighted avg  0.4920311 0.5080080 0.4003650      1998\n",
      "\n"
     ]
    }
   ],
   "source": [
    "# this report gives the results for the nonlinear classifier\n",
    "report = classification_report(y_test,y_pred_svm_nonlinear,digits = 7)\n",
    "print(le.classes_)\n",
    "print('SVM NONLINEAR ----------------------------------------------------------------')\n",
    "print(report)"
   ]
  },
  {
   "cell_type": "markdown",
   "metadata": {},
   "source": [
    "Remember the results from the notebook where we trained a NaiveBayes and SVM classifiers with one-hot-encodings of the words? Take some time to compare the results and think about the differences."
   ]
  },
  {
   "cell_type": "markdown",
   "metadata": {},
   "source": [
    "## 6. Applying the model to new data  <a class=\"anchor\" id =\"section6\"></a> "
   ]
  },
  {
   "cell_type": "markdown",
   "metadata": {},
   "source": [
    "We would like to apply the embedding based model to our own data but this works a bit different as we cannot simply use the 'transform' function to represent the utterances using the one-hot vector representation of the training vocabulary.\n",
    "\n",
    "What we need to do is to create an embedding representation using the same function we used above and assume that our classifier finds sufficient similarity in the embeddings of our data with the correct training data.\n",
    "\n",
    "We use the same set of utterances."
   ]
  },
  {
   "cell_type": "code",
   "execution_count": 39,
   "metadata": {},
   "outputs": [
    {
     "data": {
      "text/plain": [
       "9"
      ]
     },
     "execution_count": 39,
     "metadata": {},
     "output_type": "execute_result"
    }
   ],
   "source": [
    "# some utterances\n",
    "some_chat = ['That is sweet of you', \n",
    "               'You are so funny', \n",
    "               'Are you a man or a woman?', \n",
    "               'Chatbots make me sad and feel lonely.', \n",
    "               'Your are stupid and boring.', \n",
    "               'Two thumbs up', \n",
    "               'I fell asleep halfway through this conversation', \n",
    "               'Wow, I am really amazed.', \n",
    "               'You are amazing.']\n",
    "\n",
    "\n",
    "len(some_chat)"
   ]
  },
  {
   "cell_type": "markdown",
   "metadata": {},
   "source": [
    "Next, we define the list of labels that go with our chat."
   ]
  },
  {
   "cell_type": "code",
   "execution_count": 40,
   "metadata": {},
   "outputs": [],
   "source": [
    "some_chat_emotions = ['joy', 'joy', 'neutral', 'sadness', 'anger', 'joy', 'anger', 'surprise', 'joy']"
   ]
  },
  {
   "cell_type": "markdown",
   "metadata": {},
   "source": [
    "We  use the LabelEncoder *le* to convert this list into a numpy array with digits:"
   ]
  },
  {
   "cell_type": "code",
   "execution_count": 41,
   "metadata": {},
   "outputs": [
    {
     "name": "stdout",
     "output_type": "stream",
     "text": [
      "labels ['anger' 'disgust' 'fear' 'joy' 'neutral' 'sadness' 'surprise']\n",
      "[3 3 4 5 0 3 0 6 3]\n"
     ]
    }
   ],
   "source": [
    "print('labels',le.classes_)\n",
    "some_chat_labels = le.transform(some_chat_emotions)\n",
    "print(some_chat_labels)"
   ]
  },
  {
   "cell_type": "code",
   "execution_count": 44,
   "metadata": {},
   "outputs": [
    {
     "name": "stdout",
     "output_type": "stream",
     "text": [
      "Review 0 of 9\n"
     ]
    }
   ],
   "source": [
    "some_chat_tokens = []\n",
    "for utterance in some_chat:\n",
    "    some_chat_tokens.append(nltk.tokenize.word_tokenize(utterance))\n",
    "\n",
    "some_chat_embedding_vectors = getAvgFeatureVecs(some_chat_tokens, stop_words, word_embedding_model, index2word_set, num_features)\n",
    "#### Due to the averaging, there could be infinitive values or NaN values. The next numpy function turns these value to \"0\" scores\n",
    "some_chat_embedding_vectors = np.nan_to_num(some_chat_embedding_vectors)  "
   ]
  },
  {
   "cell_type": "code",
   "execution_count": 46,
   "metadata": {},
   "outputs": [
    {
     "name": "stdout",
     "output_type": "stream",
     "text": [
      "System predictions [3 3 4 4 0 3 4 6 3]\n",
      "Gold labels [3 3 4 5 0 3 0 6 3]\n",
      "That is sweet of you => joy\n",
      "You are so funny => joy\n",
      "Are you a man or a woman? => neutral\n",
      "Chatbots make me sad and feel lonely. => neutral\n",
      "Your are stupid and boring. => anger\n",
      "Two thumbs up => joy\n",
      "I fell asleep halfway through this conversation => neutral\n",
      "Wow, I am really amazed. => surprise\n",
      "You are amazing. => joy\n"
     ]
    }
   ],
   "source": [
    "# have classifier make a prediction\n",
    "#pred = svm_linear_clf.predict(ourDataVecs)\n",
    "from sklearn.calibration import CalibratedClassifierCV\n",
    "\n",
    "some_chat_pred = svm_linear_clf.predict(some_chat_embedding_vectors)\n",
    "print('System predictions', some_chat_pred)\n",
    "print('Gold labels', some_chat_labels)\n",
    "for review, predicted_label in zip(some_chat, some_chat_pred):\n",
    "    \n",
    "    print('%s => %s' % (review, \n",
    "                        le.classes_[predicted_label]))\n",
    "\n",
    "\n"
   ]
  },
  {
   "cell_type": "code",
   "execution_count": 47,
   "metadata": {},
   "outputs": [
    {
     "name": "stdout",
     "output_type": "stream",
     "text": [
      "[[0.04761473 0.01158879 0.0162128  0.47619004 0.34488579 0.05194794\n",
      "  0.05155991]\n",
      " [0.14686937 0.01795713 0.03158916 0.36852899 0.15075793 0.03478174\n",
      "  0.24951567]\n",
      " [0.20240196 0.03007896 0.02393157 0.02459954 0.40257576 0.04715669\n",
      "  0.26925552]\n",
      " [0.16862088 0.02253751 0.04177757 0.16615773 0.33473105 0.24561419\n",
      "  0.02056106]\n",
      " [0.2932923  0.0791925  0.02004016 0.15719427 0.26723984 0.06413371\n",
      "  0.11890721]\n",
      " [0.07028081 0.03052093 0.03224515 0.49416629 0.3127675  0.00351845\n",
      "  0.05650087]\n",
      " [0.18037703 0.02289737 0.01605887 0.04442399 0.53031717 0.04648082\n",
      "  0.15944475]\n",
      " [0.046185   0.03339277 0.02868321 0.34612863 0.08314988 0.03093737\n",
      "  0.43152313]\n",
      " [0.03205453 0.01786641 0.01521225 0.65378362 0.03539541 0.02985222\n",
      "  0.21583556]]\n"
     ]
    }
   ],
   "source": [
    "some_chat_pred_probabilities = svm_linear_clf.predict_proba(some_chat_embedding_vectors)\n",
    "print(some_chat_pred_probabilities)"
   ]
  },
  {
   "cell_type": "markdown",
   "metadata": {},
   "source": [
    "Using *Pandas* we can nicely visualise the results. "
   ]
  },
  {
   "cell_type": "code",
   "execution_count": 48,
   "metadata": {},
   "outputs": [
    {
     "data": {
      "text/html": [
       "<div>\n",
       "<style scoped>\n",
       "    .dataframe tbody tr th:only-of-type {\n",
       "        vertical-align: middle;\n",
       "    }\n",
       "\n",
       "    .dataframe tbody tr th {\n",
       "        vertical-align: top;\n",
       "    }\n",
       "\n",
       "    .dataframe thead th {\n",
       "        text-align: right;\n",
       "    }\n",
       "</style>\n",
       "<table border=\"1\" class=\"dataframe\">\n",
       "  <thead>\n",
       "    <tr style=\"text-align: right;\">\n",
       "      <th></th>\n",
       "      <th>anger</th>\n",
       "      <th>disgust</th>\n",
       "      <th>fear</th>\n",
       "      <th>joy</th>\n",
       "      <th>neutral</th>\n",
       "      <th>sadness</th>\n",
       "      <th>surprise</th>\n",
       "      <th>Chat</th>\n",
       "      <th>Predication</th>\n",
       "      <th>Gold</th>\n",
       "    </tr>\n",
       "  </thead>\n",
       "  <tbody>\n",
       "    <tr>\n",
       "      <th>0</th>\n",
       "      <td>4.761473</td>\n",
       "      <td>1.158879</td>\n",
       "      <td>1.621280</td>\n",
       "      <td>47.619004</td>\n",
       "      <td>34.488579</td>\n",
       "      <td>5.194794</td>\n",
       "      <td>5.155991</td>\n",
       "      <td>That is sweet of you</td>\n",
       "      <td>joy</td>\n",
       "      <td>joy</td>\n",
       "    </tr>\n",
       "    <tr>\n",
       "      <th>1</th>\n",
       "      <td>14.686937</td>\n",
       "      <td>1.795713</td>\n",
       "      <td>3.158916</td>\n",
       "      <td>36.852899</td>\n",
       "      <td>15.075793</td>\n",
       "      <td>3.478174</td>\n",
       "      <td>24.951567</td>\n",
       "      <td>You are so funny</td>\n",
       "      <td>joy</td>\n",
       "      <td>joy</td>\n",
       "    </tr>\n",
       "    <tr>\n",
       "      <th>2</th>\n",
       "      <td>20.240196</td>\n",
       "      <td>3.007896</td>\n",
       "      <td>2.393157</td>\n",
       "      <td>2.459954</td>\n",
       "      <td>40.257576</td>\n",
       "      <td>4.715669</td>\n",
       "      <td>26.925552</td>\n",
       "      <td>Are you a man or a woman?</td>\n",
       "      <td>neutral</td>\n",
       "      <td>neutral</td>\n",
       "    </tr>\n",
       "    <tr>\n",
       "      <th>3</th>\n",
       "      <td>16.862088</td>\n",
       "      <td>2.253751</td>\n",
       "      <td>4.177757</td>\n",
       "      <td>16.615773</td>\n",
       "      <td>33.473105</td>\n",
       "      <td>24.561419</td>\n",
       "      <td>2.056106</td>\n",
       "      <td>Chatbots make me sad and feel lonely.</td>\n",
       "      <td>neutral</td>\n",
       "      <td>sadness</td>\n",
       "    </tr>\n",
       "    <tr>\n",
       "      <th>4</th>\n",
       "      <td>29.329230</td>\n",
       "      <td>7.919250</td>\n",
       "      <td>2.004016</td>\n",
       "      <td>15.719427</td>\n",
       "      <td>26.723984</td>\n",
       "      <td>6.413371</td>\n",
       "      <td>11.890721</td>\n",
       "      <td>Your are stupid and boring.</td>\n",
       "      <td>anger</td>\n",
       "      <td>anger</td>\n",
       "    </tr>\n",
       "    <tr>\n",
       "      <th>5</th>\n",
       "      <td>7.028081</td>\n",
       "      <td>3.052093</td>\n",
       "      <td>3.224515</td>\n",
       "      <td>49.416629</td>\n",
       "      <td>31.276750</td>\n",
       "      <td>0.351845</td>\n",
       "      <td>5.650087</td>\n",
       "      <td>Two thumbs up</td>\n",
       "      <td>joy</td>\n",
       "      <td>joy</td>\n",
       "    </tr>\n",
       "    <tr>\n",
       "      <th>6</th>\n",
       "      <td>18.037703</td>\n",
       "      <td>2.289737</td>\n",
       "      <td>1.605887</td>\n",
       "      <td>4.442399</td>\n",
       "      <td>53.031717</td>\n",
       "      <td>4.648082</td>\n",
       "      <td>15.944475</td>\n",
       "      <td>I fell asleep halfway through this conversation</td>\n",
       "      <td>neutral</td>\n",
       "      <td>anger</td>\n",
       "    </tr>\n",
       "    <tr>\n",
       "      <th>7</th>\n",
       "      <td>4.618500</td>\n",
       "      <td>3.339277</td>\n",
       "      <td>2.868321</td>\n",
       "      <td>34.612863</td>\n",
       "      <td>8.314988</td>\n",
       "      <td>3.093737</td>\n",
       "      <td>43.152313</td>\n",
       "      <td>Wow, I am really amazed.</td>\n",
       "      <td>surprise</td>\n",
       "      <td>surprise</td>\n",
       "    </tr>\n",
       "    <tr>\n",
       "      <th>8</th>\n",
       "      <td>3.205453</td>\n",
       "      <td>1.786641</td>\n",
       "      <td>1.521225</td>\n",
       "      <td>65.378362</td>\n",
       "      <td>3.539541</td>\n",
       "      <td>2.985222</td>\n",
       "      <td>21.583556</td>\n",
       "      <td>You are amazing.</td>\n",
       "      <td>joy</td>\n",
       "      <td>joy</td>\n",
       "    </tr>\n",
       "  </tbody>\n",
       "</table>\n",
       "</div>"
      ],
      "text/plain": [
       "       anger   disgust      fear        joy    neutral    sadness   surprise  \\\n",
       "0   4.761473  1.158879  1.621280  47.619004  34.488579   5.194794   5.155991   \n",
       "1  14.686937  1.795713  3.158916  36.852899  15.075793   3.478174  24.951567   \n",
       "2  20.240196  3.007896  2.393157   2.459954  40.257576   4.715669  26.925552   \n",
       "3  16.862088  2.253751  4.177757  16.615773  33.473105  24.561419   2.056106   \n",
       "4  29.329230  7.919250  2.004016  15.719427  26.723984   6.413371  11.890721   \n",
       "5   7.028081  3.052093  3.224515  49.416629  31.276750   0.351845   5.650087   \n",
       "6  18.037703  2.289737  1.605887   4.442399  53.031717   4.648082  15.944475   \n",
       "7   4.618500  3.339277  2.868321  34.612863   8.314988   3.093737  43.152313   \n",
       "8   3.205453  1.786641  1.521225  65.378362   3.539541   2.985222  21.583556   \n",
       "\n",
       "                                              Chat Predication      Gold  \n",
       "0                             That is sweet of you         joy       joy  \n",
       "1                                 You are so funny         joy       joy  \n",
       "2                        Are you a man or a woman?     neutral   neutral  \n",
       "3            Chatbots make me sad and feel lonely.     neutral   sadness  \n",
       "4                      Your are stupid and boring.       anger     anger  \n",
       "5                                    Two thumbs up         joy       joy  \n",
       "6  I fell asleep halfway through this conversation     neutral     anger  \n",
       "7                         Wow, I am really amazed.    surprise  surprise  \n",
       "8                                 You are amazing.         joy       joy  "
      ]
     },
     "execution_count": 48,
     "metadata": {},
     "output_type": "execute_result"
    }
   ],
   "source": [
    "some_chat_pred_labels = []\n",
    "for predicted_label in some_chat_pred:\n",
    "    some_chat_pred_labels.append(le.classes_[predicted_label])\n",
    "\n",
    "some_chat_gold_labels = []\n",
    "for gold_label in some_chat_labels:\n",
    "    some_chat_gold_labels.append(le.classes_[gold_label])\n",
    "\n",
    "\n",
    "result_frame = pd.DataFrame(some_chat_pred_probabilities*100, columns=le.classes_)\n",
    "result_frame['Chat']=some_chat\n",
    "result_frame['Predication']=some_chat_pred_labels\n",
    "result_frame['Gold']=some_chat_gold_labels\n",
    "\n",
    "result_frame"
   ]
  },
  {
   "cell_type": "code",
   "execution_count": 50,
   "metadata": {},
   "outputs": [
    {
     "name": "stdout",
     "output_type": "stream",
     "text": [
      "['anger' 'disgust' 'fear' 'joy' 'neutral' 'sadness' 'surprise']\n",
      "SVM LINEAR ----------------------------------------------------------------\n",
      "              precision    recall  f1-score   support\n",
      "\n",
      "           0  1.0000000 0.5000000 0.6666667         2\n",
      "           3  1.0000000 1.0000000 1.0000000         4\n",
      "           4  0.3333333 1.0000000 0.5000000         1\n",
      "           5  0.0000000 0.0000000 0.0000000         1\n",
      "           6  1.0000000 1.0000000 1.0000000         1\n",
      "\n",
      "    accuracy                      0.7777778         9\n",
      "   macro avg  0.6666667 0.7000000 0.6333333         9\n",
      "weighted avg  0.8148148 0.7777778 0.7592593         9\n",
      "\n"
     ]
    },
    {
     "name": "stderr",
     "output_type": "stream",
     "text": [
      "/Users/piek/opt/anaconda3/lib/python3.7/site-packages/sklearn/metrics/_classification.py:1272: UndefinedMetricWarning: Precision and F-score are ill-defined and being set to 0.0 in labels with no predicted samples. Use `zero_division` parameter to control this behavior.\n",
      "  _warn_prf(average, modifier, msg_start, len(result))\n"
     ]
    }
   ],
   "source": [
    "report = classification_report(some_chat_labels,some_chat_pred,digits = 7)\n",
    "print(le.classes_)\n",
    "print('SVM LINEAR ----------------------------------------------------------------')\n",
    "print(report)"
   ]
  },
  {
   "cell_type": "markdown",
   "metadata": {},
   "source": [
    "### 7. Saving the classifier to disk"
   ]
  },
  {
   "cell_type": "markdown",
   "metadata": {},
   "source": [
    "Just as with the previous notebook, you can save the emotion classification model to disk and load the model some other time. Note that you need to load the same word2vec model as well to represent any text input with vector representations that are compatible."
   ]
  },
  {
   "cell_type": "code",
   "execution_count": 51,
   "metadata": {},
   "outputs": [],
   "source": [
    "import pickle\n",
    "\n",
    "# save the classifier to disk\n",
    "filename_classifier = 'svm_nonlinear_clf_embeddings.sav'\n",
    "pickle.dump(svm_nonlinear_clf, open(filename_classifier, 'wb'))\n",
    " \n",
    "# some time later...\n",
    " \n",
    "# load the classifier and the vectorizer from disk\n",
    "loaded_classifier = pickle.load(open(filename_classifier, 'rb'))\n"
   ]
  },
  {
   "cell_type": "markdown",
   "metadata": {},
   "source": [
    "# End of this notebook"
   ]
  },
  {
   "cell_type": "code",
   "execution_count": null,
   "metadata": {},
   "outputs": [],
   "source": []
  },
  {
   "cell_type": "code",
   "execution_count": null,
   "metadata": {},
   "outputs": [],
   "source": []
  }
 ],
 "metadata": {
  "kernelspec": {
   "display_name": "Python 3",
   "language": "python",
   "name": "python3"
  },
  "language_info": {
   "codemirror_mode": {
    "name": "ipython",
    "version": 3
   },
   "file_extension": ".py",
   "mimetype": "text/x-python",
   "name": "python",
   "nbconvert_exporter": "python",
   "pygments_lexer": "ipython3",
   "version": "3.7.6"
  }
 },
 "nbformat": 4,
 "nbformat_minor": 4
}
