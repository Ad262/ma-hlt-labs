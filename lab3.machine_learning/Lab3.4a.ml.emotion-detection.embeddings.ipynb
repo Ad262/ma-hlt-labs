{
 "cells": [
  {
   "cell_type": "markdown",
   "metadata": {},
   "source": [
    "# Lab3.3 Training an emotion classifier using embeddings"
   ]
  },
  {
   "cell_type": "markdown",
   "metadata": {},
   "source": [
    "Copyright: Vrije Universiteit Amsterdam, Faculty of Humanities, CLTL"
   ]
  },
  {
   "cell_type": "markdown",
   "metadata": {},
   "source": [
    "### Table of Contents\n",
    "\n",
    "* [Section 1: Quick introduction to embeddings](#section1)\n",
    "* [Section 2: Loading the emotion data](#section2)\n",
    "* [Section 3: Preparing the training and test data](#section3)\n",
    "* [Section 4: Training and applying the model](#section4)\n",
    "* [Section 5: Generating the test report](#section5)\n",
    "* [Section 6: Applying the classifier to your own text](#section6)\n"
   ]
  },
  {
   "cell_type": "markdown",
   "metadata": {},
   "source": [
    "## 1 Quick introduction to embeddings  <a class=\"anchor\" id =\"section1\"></a> \n",
    "\n",
    "Extracting features manually can get us a long way. In addition to lemma and part-of-speech, people have used other information: features of the previous words (on the left) or the next words (on the right), whether the current word starts with a capital, whether it is an abbreviation, etc.\n",
    "\n",
    "A recent alternative way to create a 'semantic' representation of a word is by word embeddings: mapping words (or phrases) from the vocabulary to vectors of real numbers. Conceptually it involves a mathematical embedding from a space with many dimensions per word to a continuous vector space with a much lower dimension. For this reason, they are called dense representations.\n",
    "\n",
    "In linguistics, word embeddings were discussed in the research area of distributional semantics. The idea is to quantify and categorize semantic similarities between linguistic items based on their distributional properties in large samples of language data. The underlying notion is that \"a word is characterized by the company it keeps\" (Firth). Embeddings are however the weights in the hidden layer of a neural network that is trained to predict the contexts rather than representing the context in a vector directly.\n",
    "\n",
    "### Reference:\n",
    "\n",
    "For a nice explanation how word embedddings can improve classical bag-of-word approaches, check out this page:\n",
    "\n",
    "https://radimrehurek.com/gensim/auto_examples/tutorials/run_word2vec.html\n"
   ]
  },
  {
   "cell_type": "markdown",
   "metadata": {},
   "source": [
    "In this section, we will load pre-trained word embeddings called word2vec, created by Google. The embeddings have 300 dimensions.\n",
    "\n",
    "First, download the file from [Kaggle](https://www.kaggle.com/pkugoodspeed/nlpword2vecembeddingspretrained) or from [Google code archive](https://code.google.com/archive/p/word2vec/). Then, create a folder and unpack the word2vec file in that folder.\n",
    "\n",
    "We will load the embedding model with the Gensim package that we used before."
   ]
  },
  {
   "cell_type": "code",
   "execution_count": 1,
   "metadata": {},
   "outputs": [],
   "source": [
    "from sklearn.metrics.pairwise import cosine_similarity\n",
    "import numpy as np\n",
    "import gensim\n",
    "import json"
   ]
  },
  {
   "cell_type": "code",
   "execution_count": 2,
   "metadata": {},
   "outputs": [],
   "source": [
    "##### Change to path to the location of your local copy of the GoogleNews embeddings\n",
    "##### It may take a  minute to load the model\n",
    "\n",
    "# path_to_model = '/Users/piek/Desktop/ONDERWIJS/data/word-embeddings/classical-models/GoogleNews-vectors-negative300.bin'\n",
    "# word_embedding_model = gensim.models.KeyedVectors.load_word2vec_format(path_to_model, binary=True)  \n",
    "\n",
    "# ### this model has 300 dimensions so we set the number of features to 300\n",
    "# num_features = 300"
   ]
  },
  {
   "cell_type": "markdown",
   "metadata": {},
   "source": [
    "In case you computer cannot handle big models such as the Google news model, you can also download one of the smaller 'Glove' datasets. These are provided as text files and 'gensim' provides a function to convert and load them. Note that these models have less domensions than the Google model and you need to adapt the number of features in the code below."
   ]
  },
  {
   "cell_type": "code",
   "execution_count": 3,
   "metadata": {},
   "outputs": [],
   "source": [
    "# from gensim.test.utils import datapath, get_tmpfile\n",
    "# from gensim.models import KeyedVectors\n",
    "# from gensim.scripts.glove2word2vec import glove2word2vec\n",
    "\n",
    "# glove_file = datapath('/Users/piek/Desktop/ONDERWIJS/data/word-embeddings/classical-models/glove.6B.50d.txt')\n",
    "# tmp_file = get_tmpfile(\"test_word2vec.txt\")\n",
    "\n",
    "# _ = glove2word2vec(glove_file, tmp_file)\n",
    "# word_embedding_model = KeyedVectors.load_word2vec_format(tmp_file)\n",
    "\n",
    "# ### this model has 50 dimensions so we set the number of features to 50\n",
    "# num_features = 50"
   ]
  },
  {
   "cell_type": "markdown",
   "metadata": {},
   "source": [
    "Instead of downloading the models to disk, 'gensim' also provides a downloader API to load the model from the web when needed. In the next cell, we use this API to download a word embeddding model trained on tweets. Note that these are GloVe embeddings built using Tweets as the name suggests. These vectors are based on 2B tweets, 27B tokens, 1.2M vocab, uncased. The original source can be found here: https://nlp.stanford.edu/projects/glove/. The 25 in the model name refers to the dimensionality of the vectors."
   ]
  },
  {
   "cell_type": "code",
   "execution_count": 4,
   "metadata": {
    "scrolled": false
   },
   "outputs": [],
   "source": [
    "from gensim.models.word2vec import Word2Vec\n",
    "import gensim.downloader as api\n",
    "\n",
    "# Inspect available models\n",
    "# print(json.dumps(api.info(), indent=4))\n",
    "\n",
    "# download the model and return as object ready for use\n",
    "word_embedding_model = api.load(\"glove-wiki-gigaword-300\")\n",
    "\n",
    "## this model has 25 dimensions so we set the number of features to 25\n",
    "num_features = 300"
   ]
  },
  {
   "cell_type": "markdown",
   "metadata": {},
   "source": [
    "Let's check if the model works."
   ]
  },
  {
   "cell_type": "code",
   "execution_count": 5,
   "metadata": {},
   "outputs": [
    {
     "name": "stdout",
     "output_type": "stream",
     "text": [
      "[[0.6816747]]\n"
     ]
    }
   ],
   "source": [
    "word1='cat'\n",
    "word2='dog'\n",
    "word1_vector=np.array(word_embedding_model[word1]).reshape(1, -1)\n",
    "word2_vector=np.array(word_embedding_model[word2]).reshape(1, -1)\n",
    "print(cosine_similarity(word1_vector, word2_vector))"
   ]
  },
  {
   "cell_type": "markdown",
   "metadata": {},
   "source": [
    "## 2. Loading the emotion data  <a class=\"anchor\" id =\"section2\"></a> "
   ]
  },
  {
   "cell_type": "code",
   "execution_count": 6,
   "metadata": {},
   "outputs": [],
   "source": [
    "import pandas as pd\n",
    "filepath = './data/MELD/train_sent_emo.csv'\n",
    "df = pd.read_csv(filepath)"
   ]
  },
  {
   "cell_type": "markdown",
   "metadata": {},
   "source": [
    "# 3. Preparing the training and test data  <a class=\"anchor\" id =\"section3\"></a> \n",
    "\n",
    "The following import are needed again:"
   ]
  },
  {
   "cell_type": "code",
   "execution_count": 7,
   "metadata": {},
   "outputs": [],
   "source": [
    "import sklearn\n",
    "import numpy as np\n",
    "import nltk\n",
    "from nltk.corpus import stopwords"
   ]
  },
  {
   "cell_type": "markdown",
   "metadata": {},
   "source": [
    "In the previous notebook, we used CountVectorizer to obtain the full vocabulary of the data set and generate vectors for the one-hot-endcoing of each word. In these vectors, each slot represents a word and a value '1' indicates that the word was present in the utterance and a '0' means absence. This results is large and sparse vector representations for each utterance. We have also seen that we can weight the relevance of a word using the 'TF.IDF' function. This still results in large and sparse vectors but weights are more subtle. The down side is sparseness, lack of generalisation and lack robustness. \n",
    "\n",
    "In the following, we are going to represent the utterances by an embedding representation. In fact, we take the word embedding of each token in the utterance and add these together, after which we take the average. All the embeddings have the same number of dimensions in the same order. So if two tokens have a high weight for one dimension then their co-uccurrence in an utterance will enforce that weight. Note that by adding and taking the average, we normalize for the length of the utterance and the order of the tokens is not relevant."
   ]
  },
  {
   "cell_type": "markdown",
   "metadata": {},
   "source": [
    "We are going to define two customized function using 'def' to create an embedding representation for each utterance. These functions are taken from: https://www.kaggle.com/varun08/sentiment-analysis-using-word2vec\n",
    "\n",
    "The first function, called 'featureVecMethod', takes the words of the utterance and the embedding model as parameters. The num_features parameter determines the size of the vector. "
   ]
  },
  {
   "cell_type": "code",
   "execution_count": 8,
   "metadata": {},
   "outputs": [],
   "source": [
    "unknown_words =[]\n",
    "known_words = []\n",
    "# Function to average all word vectors in a paragraph\n",
    "def featureVecMethod(words, stopwords, model, modelword_index, num_features):\n",
    "    # Pre-initialising empty numpy array for speed\n",
    "    # This create a numpy array with the length of the num_features set to zero values\n",
    "    featureVec = np.zeros(num_features,dtype=\"float32\")\n",
    "    nwords = 0\n",
    "        \n",
    "    for word in  words:\n",
    "        if not word in stop_words: \n",
    "            if word in index2word_set:\n",
    "                nwords = nwords + 1\n",
    "                featureVec = np.add(featureVec,model[word])\n",
    "                known_words.append(word)\n",
    "            else:\n",
    "                word = word.lower()\n",
    "                if word in index2word_set:\n",
    "                    nwords = nwords + 1\n",
    "                    featureVec = np.add(featureVec,model[word])\n",
    "                    #we keep track of the words detected\n",
    "                    known_words.append(word)\n",
    "                else:\n",
    "                    #we keep track of the unknown words to see how well our model fits the data\n",
    "                    unknown_words.append(word)\n",
    "    # Dividing the result by number of words to get average\n",
    "    featureVec = np.divide(featureVec, nwords)\n",
    "    return featureVec"
   ]
  },
  {
   "cell_type": "markdown",
   "metadata": {},
   "source": [
    "The next function just deals with all the data and creates the list of input vectors. This function calls the previous function"
   ]
  },
  {
   "cell_type": "code",
   "execution_count": 9,
   "metadata": {},
   "outputs": [],
   "source": [
    "# Function for calculating the average feature vector\n",
    "def getAvgFeatureVecs(texts, stopwords, model, modelword_index, num_features):\n",
    "    counter = 0\n",
    "    textFeatureVecs = np.zeros((len(texts),num_features),dtype=\"float32\")\n",
    "    for text in texts:\n",
    "        # Printing a status message every 1000th text\n",
    "        if counter%200 == 0:\n",
    "            print(\"Review %d of %d\"%(counter,len(texts)))\n",
    "            \n",
    "        textFeatureVecs[counter] = featureVecMethod(text, stopwords, model, modelword_index,num_features)\n",
    "        counter = counter+1\n",
    "    return textFeatureVecs"
   ]
  },
  {
   "cell_type": "markdown",
   "metadata": {},
   "source": [
    "Now back to our input data. We iterate over the Pandas frame in the same way as before but now we extract for each utterance the embedding representation."
   ]
  },
  {
   "cell_type": "code",
   "execution_count": 10,
   "metadata": {},
   "outputs": [
    {
     "name": "stderr",
     "output_type": "stream",
     "text": [
      "<ipython-input-10-8d4afdae1641>:7: DeprecationWarning: Call to deprecated `wv` (Attribute will be removed in 4.0.0, use self instead).\n",
      "  index2word_set = set(word_embedding_model.wv.index2word)\n"
     ]
    },
    {
     "name": "stdout",
     "output_type": "stream",
     "text": [
      "Review 0 of 9989\n",
      "Review 200 of 9989\n",
      "Review 400 of 9989\n",
      "Review 600 of 9989\n",
      "Review 800 of 9989\n",
      "Review 1000 of 9989\n",
      "Review 1200 of 9989\n",
      "Review 1400 of 9989\n",
      "Review 1600 of 9989\n",
      "Review 1800 of 9989\n",
      "Review 2000 of 9989\n",
      "Review 2200 of 9989\n",
      "Review 2400 of 9989\n",
      "Review 2600 of 9989\n",
      "Review 2800 of 9989\n",
      "Review 3000 of 9989\n",
      "Review 3200 of 9989\n",
      "Review 3400 of 9989\n",
      "Review 3600 of 9989\n",
      "Review 3800 of 9989\n",
      "Review 4000 of 9989\n",
      "Review 4200 of 9989\n",
      "Review 4400 of 9989\n",
      "Review 4600 of 9989\n",
      "Review 4800 of 9989\n",
      "Review 5000 of 9989\n",
      "Review 5200 of 9989\n",
      "Review 5400 of 9989\n",
      "Review 5600 of 9989\n",
      "Review 5800 of 9989\n",
      "Review 6000 of 9989\n",
      "Review 6200 of 9989\n",
      "Review 6400 of 9989\n",
      "Review 6600 of 9989\n",
      "Review 6800 of 9989\n",
      "Review 7000 of 9989\n",
      "Review 7200 of 9989\n",
      "Review 7400 of 9989\n",
      "Review 7600 of 9989\n",
      "Review 7800 of 9989\n",
      "Review 8000 of 9989\n",
      "Review 8200 of 9989\n",
      "Review 8400 of 9989\n",
      "Review 8600 of 9989\n",
      "Review 8800 of 9989\n",
      "Review 9000 of 9989\n",
      "Review 9200 of 9989\n",
      "Review 9400 of 9989\n",
      "Review 9600 of 9989\n",
      "Review 9800 of 9989\n"
     ]
    },
    {
     "name": "stderr",
     "output_type": "stream",
     "text": [
      "<ipython-input-8-c153e6840d56>:27: RuntimeWarning: invalid value encountered in true_divide\n",
      "  featureVec = np.divide(featureVec, nwords)\n"
     ]
    }
   ],
   "source": [
    "# Calculating average feature vector for training set\n",
    "### This is the number of dimensions in the word2vec model used. \n",
    "###The Google news model has 300 dimensions but if you use a Glove model you may have to adapt this accordinlgy\n",
    "\n",
    "#Converting Index2Word which is a list to a set for better speed in the execution.\n",
    "#Allows for quicker lookup if the words exist\n",
    "index2word_set = set(word_embedding_model.wv.index2word)\n",
    "stop_words = set(stopwords.words('english'))\n",
    "\n",
    "training_vectors = []\n",
    "training_labels = []\n",
    "for index, utterance in enumerate(df['Utterance']):\n",
    "    ### Running this for all data requires a lot of memory and takes about an hour.\n",
    "    ### For teaching purposes, it makes sense to limit the data\n",
    "    ### we limit the data to the first 1000 utterances\n",
    "    ##if index==2000:\n",
    "    ##    break\n",
    "    training_vectors.append(nltk.tokenize.word_tokenize(utterance))\n",
    "    training_labels.append(df['Emotion'].iloc[index])\n",
    "\n",
    "trainDataVecs = getAvgFeatureVecs(training_vectors, stop_words, word_embedding_model, index2word_set, num_features)\n",
    "#### Due to the averaging, there could be infinitive values or NaN values. The next numpy function turns these value to \"0\" scores\n",
    "trainDataVecs = np.nan_to_num(trainDataVecs)  "
   ]
  },
  {
   "cell_type": "markdown",
   "metadata": {},
   "source": [
    "Training the classifier may take a while. If you laptop cannot handle it, reduce the number of training data. Alternatively, you can use a smaller word2vec embeddings model. Here is a website with many ready to use models: http://vectors.nlpl.eu/repository/\n",
    "\n",
    "You can either choose a model with a smaller vocabulary or with less dimensions. Whatever you choose, make sure you can load the model using the 'gensim' package. If you choose a model with less than 300 dimensions (e.g. 100 or 200), you also need to adapt the value for *num_features* accordingly = 300.\n",
    "\n",
    "Let's inspect our training data a bit more. Depending on the break set for loading the training data, you will have a list of vectors with according length:"
   ]
  },
  {
   "cell_type": "code",
   "execution_count": 11,
   "metadata": {},
   "outputs": [
    {
     "data": {
      "text/plain": [
       "9989"
      ]
     },
     "execution_count": 11,
     "metadata": {},
     "output_type": "execute_result"
    }
   ],
   "source": [
    "len(trainDataVecs)"
   ]
  },
  {
   "cell_type": "markdown",
   "metadata": {},
   "source": [
    "We can inspect the first element in the list:"
   ]
  },
  {
   "cell_type": "code",
   "execution_count": 12,
   "metadata": {},
   "outputs": [
    {
     "name": "stdout",
     "output_type": "stream",
     "text": [
      "Vector length 300\n",
      "[-1.37924299e-01  1.16590567e-01  5.68268560e-02 -1.67267710e-01\n",
      " -5.91286039e-03 -3.27249989e-02  2.77890004e-02  1.09937146e-01\n",
      "  2.03285292e-01 -1.83727145e+00  5.68199940e-02  1.19454011e-01\n",
      " -7.03205690e-02 -1.61910020e-02  1.99671417e-01  6.28664643e-02\n",
      " -2.65530020e-01 -1.37555972e-01  5.46851419e-02 -3.20324227e-02\n",
      "  1.18145846e-01  2.18618840e-01  6.41374523e-03  9.28612947e-02\n",
      " -1.49793282e-01 -7.96867162e-02 -6.23320267e-02 -1.17406892e-02\n",
      " -7.88672939e-02  1.04428865e-01  1.46555707e-01  3.48418295e-01\n",
      " -2.18492702e-01  6.74508512e-02 -7.99954414e-01  2.19417140e-01\n",
      " -8.36073514e-03  2.86857132e-02 -6.95371106e-02  6.07981421e-02\n",
      " -9.52264294e-02 -1.33950129e-01 -1.26415431e-01  2.10388601e-02\n",
      " -6.17462806e-02  1.54575139e-01  2.58392721e-01  2.58471578e-01\n",
      " -9.45980027e-02  2.36114319e-02  1.23451455e-02 -8.32298547e-02\n",
      "  1.98540002e-01 -4.39258553e-02 -5.24611473e-02  9.43685845e-02\n",
      "  3.01804245e-02  2.20677152e-01  1.29673332e-01  1.06574290e-01\n",
      "  2.47832701e-01  2.15558410e-01  2.32167274e-01  2.10200879e-03\n",
      " -1.06572285e-01 -1.96085706e-01 -1.14697088e-02  3.32015529e-02\n",
      " -9.61785205e-03  2.81067155e-02  1.18057713e-01 -3.80348563e-02\n",
      " -1.16023146e-01  1.76944271e-01 -1.10486694e-01  1.19100045e-02\n",
      "  7.05401525e-02  1.93148717e-01 -6.83510751e-02 -6.99101537e-02\n",
      " -3.78788635e-02  5.15708551e-02  3.32608283e-01 -1.24633841e-01\n",
      "  1.71882585e-01  1.48884431e-01 -1.57485992e-01  1.63209155e-01\n",
      " -1.12731434e-01  1.45076722e-01 -2.70179421e-01  1.08499937e-01\n",
      " -3.80468130e-01 -2.80115396e-01  1.02601044e-01 -1.53334141e-01\n",
      " -3.51005733e-01  9.30669904e-02  7.37464279e-02 -2.47981414e-01\n",
      " -6.70507103e-02 -3.94938653e-03 -7.01068193e-02 -3.35991420e-02\n",
      "  1.85608149e-01  4.53359969e-02  7.76372924e-02  2.80171454e-01\n",
      " -1.62913442e-01  1.65708557e-01 -9.43209082e-02 -1.66068569e-01\n",
      "  5.08619196e-05 -1.59718275e-01  1.89695433e-01  1.68634266e-01\n",
      " -2.01229956e-02 -1.98789150e-01 -9.72735807e-02 -1.79882850e-02\n",
      " -1.14219628e-01 -1.07289709e-01  3.42550017e-02 -2.83632856e-02\n",
      "  1.40037715e-01 -1.48298934e-01 -3.43005580e-04  2.10179284e-01\n",
      "  1.88373879e-01  4.77742888e-02  1.18508421e-01 -4.82332893e-02\n",
      "  2.21761137e-01  6.08721413e-02 -5.58714308e-02 -4.44310062e-05\n",
      "  5.73541448e-02 -3.35905924e-02  1.42299429e-01  2.95858711e-01\n",
      "  4.00831439e-02  1.35830998e-01 -3.08520012e-02  1.28000274e-01\n",
      " -3.35417539e-01  2.17025876e-02  1.31754279e-01 -7.48487338e-02\n",
      " -2.37242848e-01  1.01397596e-01  6.08625673e-02 -1.60644144e-01\n",
      "  4.01300006e-02  2.50221435e-02  1.85558423e-01  6.58214316e-02\n",
      "  4.96335700e-02 -5.25677130e-02  7.10680755e-03 -7.80441016e-02\n",
      "  6.24862092e-04 -3.66811842e-01 -1.00181028e-01 -1.69054285e-01\n",
      "  4.30717133e-02  1.58058003e-01 -1.02676287e-01  2.04131275e-01\n",
      "  2.94363666e-02  2.97183722e-01  1.36823013e-01  4.28385735e-02\n",
      " -4.80149984e-01  4.31770571e-02  5.16400067e-03 -5.71041405e-02\n",
      " -1.36987139e-02  7.57042840e-02 -3.61157171e-02  3.23681265e-01\n",
      "  6.20326735e-02  1.62243098e-01  9.92348567e-02 -8.40614364e-02\n",
      " -1.56073704e-01 -1.29774854e-01 -2.49046281e-01  9.71495658e-02\n",
      " -7.96595812e-02  2.66931415e-01  7.45256664e-03  2.39215270e-01\n",
      "  1.14108570e-01 -9.27848816e-02 -6.66828454e-03  4.64298483e-03\n",
      "  1.09207164e-02  1.96995828e-02 -5.26287146e-02 -1.69101447e-01\n",
      "  1.00026429e+00 -9.61108580e-02  8.57575685e-02 -1.04128588e-02\n",
      "  1.50891140e-01 -9.38828103e-03 -1.61040574e-01  5.39510772e-02\n",
      "  1.57261454e-02  1.21621430e-01 -1.64614036e-03 -1.02802858e-01\n",
      "  1.83354422e-01 -4.44185408e-03 -5.78499259e-03  5.15442826e-02\n",
      " -4.19675596e-02  1.23902135e-01  5.07471375e-02  4.52491418e-02\n",
      " -1.07470997e-01 -6.90656807e-03 -3.00285704e-02  9.00522992e-02\n",
      "  1.65110484e-01  6.26213774e-02  9.24497172e-02  1.05286717e-01\n",
      " -7.08418563e-02  7.42783621e-02  1.13438545e-02 -7.63080493e-02\n",
      "  1.34349629e-01 -1.79445416e-01 -9.08344314e-02  7.32470080e-02\n",
      " -2.23418437e-02  6.61318973e-02  1.03370853e-01  2.11122140e-01\n",
      "  1.44570004e-02  1.03052281e-01  3.14691126e-01  1.05868597e-02\n",
      " -4.30578291e-01 -1.86885707e-02  1.75875574e-01 -4.01250012e-02\n",
      "  1.39015287e-01 -3.54877152e-02  3.78780030e-02  2.92228488e-03\n",
      " -1.11641422e-01  2.22034268e-02  1.98510006e-01  1.09776959e-01\n",
      "  6.76225647e-02 -4.99376319e-02  1.49517149e-01  1.20484317e-02\n",
      " -1.43792421e-01 -1.26097426e-01  9.57028493e-02  8.01655725e-02\n",
      " -4.60957214e-02 -1.36189133e-01  1.17508031e-01 -2.00632997e-02\n",
      "  1.87914848e-01  3.27797145e-01 -2.59762406e-02 -3.33071463e-02\n",
      "  8.10235739e-02  1.37829155e-01  1.19672716e-01  1.50348023e-01\n",
      " -1.96158576e+00  9.69445631e-02  3.51200014e-01 -1.23876281e-01\n",
      " -1.69405729e-01 -1.04616858e-01 -4.46136517e-04 -1.34037286e-01\n",
      " -3.02220006e-02  1.54140711e-01 -1.35388151e-01  4.32107560e-02\n",
      " -7.81175718e-02 -8.20762888e-02  5.46908565e-02 -7.73247108e-02\n",
      " -1.97008997e-01  5.68897426e-02  2.72421867e-01  5.02531342e-02\n",
      " -1.06441714e-01 -3.47662866e-01 -1.06679432e-01  1.95673853e-01]\n"
     ]
    }
   ],
   "source": [
    "print('Vector length', len(trainDataVecs[0]))\n",
    "print (trainDataVecs[0])"
   ]
  },
  {
   "cell_type": "markdown",
   "metadata": {},
   "source": [
    "It is simply a list with digits, each representing the averaged weight of the tokens or words that made up the utterance. We can checks the length, which should be '300', '100', '50' or '25', etc. depending on the number of dimensions of the word2vec model that you used.\n",
    "\n",
    "There are two major differences with the bag-of-tokens that we used in the previous notebook:\n",
    "\n",
    "1. the vectors are short\n",
    "2. there are no zero's \n",
    "\n",
    "Instead of *large sparse* vectors, we now have *short dense* vectors representing each utterance. Whereas in the previous representation, each slot in the vector corresponds with a token, now each slot is a weight from the hidden layer to learn to predict others words in the context."
   ]
  },
  {
   "cell_type": "markdown",
   "metadata": {},
   "source": [
    "This is true for each utterance, each having a unique set of values for the same hidden layer weights. These weights now represent the meaning of the utterance for a machine, which can use a similarity function such as cosine similairty to measure the degree of equivalence across these representations. When we inspects any other utterance, we see it is represented in a simlar way."
   ]
  },
  {
   "cell_type": "code",
   "execution_count": 13,
   "metadata": {},
   "outputs": [
    {
     "name": "stdout",
     "output_type": "stream",
     "text": [
      "300\n",
      "[-0.16865    -0.071476    0.0975308  -0.2938716   0.082104    0.0152144\n",
      " -0.08172165  0.27428198  0.1996912  -1.97246     0.36207598 -0.11237179\n",
      " -0.1900876   0.32143396 -0.136188    0.05884483 -0.285274    0.018557\n",
      "  0.06247123 -0.0881788  -0.0156726   0.324522    0.28636     0.1654242\n",
      " -0.24520597 -0.122745    0.0141228  -0.25903136 -0.12345479  0.07944966\n",
      " -0.13026461  0.35229802 -0.328014    0.0653716  -1.24339     0.31695202\n",
      " -0.02130622  0.20119819 -0.1479394  -0.04315908  0.25983602 -0.22102681\n",
      " -0.058835    0.005592   -0.016297    0.0627322   0.38388997  0.38245597\n",
      "  0.05021999  0.14013237  0.013308   -0.18288441  0.0873314  -0.19051301\n",
      " -0.23326962  0.3297742  -0.069718    0.22329001  0.23871557 -0.052416\n",
      "  0.30157    -0.10474928  0.25386816 -0.058166   -0.13663751 -0.404972\n",
      "  0.320788   -0.11074319  0.160044   -0.0753178  -0.08160261 -0.12300919\n",
      " -0.1053618   0.20837203 -0.1643672  -0.189079    0.06758799  0.192006\n",
      " -0.13722448 -0.08483861 -0.081459    0.0034722   0.42817777  0.083554\n",
      "  0.11502179  0.1259362  -0.076389    0.07279201 -0.07503819 -0.05727161\n",
      " -0.17720139  0.2760072  -0.290884   -0.2928694   0.0367714   0.0346872\n",
      " -0.1644372  -0.07127921 -0.06995259 -0.0498626   0.0526886  -0.30859402\n",
      " -0.02952055 -0.1112784  -0.0430978   0.02830641  0.05031519  0.24572721\n",
      " -0.3089148  -0.11941961 -0.1260324  -0.30375725 -0.03348876 -0.29724798\n",
      "  0.2664688   0.00805744 -0.06397499 -0.14696011  0.0665288  -0.0806236\n",
      " -0.150574   -0.107358    0.22151342  0.06589739 -0.0299512   0.0215542\n",
      "  0.25145382  0.313935   -0.0487318   0.08946601  0.1501372   0.0789773\n",
      "  0.1715274  -0.03733784 -0.14126602 -0.14538741  0.1013362  -0.1642562\n",
      "  0.168134    0.2288672  -0.1297102   0.23647141  0.125456   -0.13966401\n",
      " -0.339524   -0.08868241  0.0181898  -0.13204601 -0.325914   -0.0428928\n",
      " -0.261854   -0.23402679  0.0638374  -0.0309224   0.263046   -0.050525\n",
      "  0.054092   -0.088634    0.24059156 -0.112267    0.11157219 -0.30888802\n",
      "  0.042542   -0.0971808  -0.00276168  0.08212461 -0.1560216  -0.0869442\n",
      "  0.14168712  0.27208     0.22645     0.07486153 -0.763224    0.170384\n",
      "  0.0504604   0.04443295  0.0232444  -0.1134848  -0.03777596  0.182566\n",
      "  0.09281261 -0.01575201  0.23527241 -0.09177659  0.1374236  -0.18267\n",
      " -0.05928134 -0.0346984  -0.195936    0.196728   -0.1342068   0.25123\n",
      "  0.193854   -0.1423694  -0.13761225 -0.20691578 -0.06635679 -0.27255398\n",
      "  0.1047868  -0.2930068   1.136966   -0.0338308   0.0616484  -0.04489624\n",
      "  0.0990296   0.0969352  -0.019049    0.0310608  -0.0630346  -0.28449202\n",
      " -0.11815099 -0.02474793  0.090268   -0.23161781  0.1978076  -0.0214614\n",
      "  0.0337244   0.0173198   0.02822404 -0.19854161  0.224172    0.0051916\n",
      " -0.25691143  0.1264513  -0.14891002  0.11982672  0.1154392  -0.07075161\n",
      "  0.10409703  0.07143719 -0.07355221 -0.1091154   0.268382   -0.34540802\n",
      " -0.0545368   0.15770881 -0.03141601 -0.0227432  -0.1686864   0.32825598\n",
      "  0.085284    0.2362982   0.24624519  0.14585519 -0.57061607 -0.05526509\n",
      " -0.06010079  0.0421882  -0.0097124   0.043157    0.315668   -0.337802\n",
      " -0.227282    0.0467454   0.41806802  0.3247014   0.05945687 -0.2568896\n",
      "  0.0843468   0.0410644  -0.1047674  -0.1524601   0.0713798   0.13041201\n",
      " -0.0718898   0.12889197 -0.07282788 -0.256418    0.08903895  0.1496086\n",
      " -0.10108839 -0.2295762  -0.0144748  -0.011248    0.14523599  0.19902161\n",
      " -1.76734     0.049397    0.338796   -0.0207246  -0.1993174   0.11005481\n",
      "  0.0513226   0.12560001  0.0418332   0.21154818 -0.029598    0.08515\n",
      "  0.0317876  -0.1784504  -0.0934454  -0.0351474  -0.23742881  0.0829166\n",
      "  0.1416354   0.0048158  -0.1781306  -0.30313998 -0.0070262   0.218658  ]\n"
     ]
    }
   ],
   "source": [
    "print(len(trainDataVecs[1000]))\n",
    "print(trainDataVecs[1000])"
   ]
  },
  {
   "cell_type": "markdown",
   "metadata": {},
   "source": [
    "Since the vectors are compatible, we can compare them in the same way as we did before for the word2vec embeddings of *cat* and *dog*:"
   ]
  },
  {
   "cell_type": "code",
   "execution_count": 14,
   "metadata": {},
   "outputs": [
    {
     "name": "stdout",
     "output_type": "stream",
     "text": [
      "[[0.8313157]]\n"
     ]
    }
   ],
   "source": [
    "word1_vector=np.array(trainDataVecs[0]).reshape(1, -1)\n",
    "word2_vector=np.array(trainDataVecs[1000]).reshape(1, -1)\n",
    "print(cosine_similarity(word1_vector, word2_vector))"
   ]
  },
  {
   "cell_type": "markdown",
   "metadata": {},
   "source": [
    "For training, we use the same labels as before:"
   ]
  },
  {
   "cell_type": "code",
   "execution_count": 15,
   "metadata": {},
   "outputs": [
    {
     "name": "stdout",
     "output_type": "stream",
     "text": [
      "neutral neutral\n"
     ]
    }
   ],
   "source": [
    "print(training_labels[0], training_labels[1])"
   ]
  },
  {
   "cell_type": "markdown",
   "metadata": {},
   "source": [
    "So now we have a numeric representation of each text, based on the embeddings of the words. We feed this to a classifier in the same way as we did in the previous notebooks with the Countvectorizer output.\n",
    "\n",
    "Before we can train the classifier, we stil need to convert the labels to numeric values as we did before."
   ]
  },
  {
   "cell_type": "markdown",
   "metadata": {},
   "source": [
    "Before we do that, it may be good to check which words are not in the embedding model and therefore do not contribute to the representation of the utterance. In the above function, we kept track of the unknown words. Now we can inspect this list. We use the *Counter* function to get a frequency count of these words."
   ]
  },
  {
   "cell_type": "code",
   "execution_count": 16,
   "metadata": {},
   "outputs": [
    {
     "name": "stdout",
     "output_type": "stream",
     "text": [
      "Proportion of unknown tokens 0.0650210716435882\n",
      "Number of unknown words 959\n",
      "Number of unknown word tokens: 4752\n",
      "Unknown words counts\n",
      "Counter({'i\\x92m': 496, 'don\\x92t': 371, 'it\\x92s': 334, 'that\\x92s': 248, 'you\\x92re': 222, \"y'know\": 158, 'y\\x92know': 157, 'can\\x92t': 132, 'we\\x92re': 98, 'i\\x92ll': 95, 'pheebs': 78, 'he\\x92s': 76, 'i\\x92ve': 75, 'didn\\x92t': 75, 'she\\x92s': 59, 'there\\x92s': 58, 'let\\x92s': 52, 'what\\x92s': 49, 'they\\x92re': 43, 'doesn\\x92t': 40, 'i\\x92d': 33, '\\x91cause': 31, 'we\\x92ll': 28, 'wouldn\\x92t': 27, 'and-and': 26, 'you\\x92ve': 24, 'you\\x92ll': 22, 'you-you': 21, 'won\\x92t': 21, 'couldn\\x92t': 19, 'who\\x92s': 19, 'no-no-no': 18, 'wasn\\x92t': 18, 'haven\\x92t': 17, '\\x91em': 16, 'i\\x92m-i\\x92m': 16, 'i-i-i': 16, 'isn\\x92t': 15, 'here\\x92s': 14, 'hey-hey': 14, 'what-what': 13, 'aren\\x92t': 12, 'you\\x92d': 12, 'no-no-no-no': 11, 'shouldn\\x92t': 11, 'we-we': 11, 'doin\\x92': 11, 'monica\\x92s': 11, 'chandler\\x92s': 10, 'oh-oh': 10, 'it\\x92s-it\\x92s': 9, 'that-that': 9, 'ok.': 8, 'i-i\\x92m': 8, 'yeah-yeah': 8, 'would\\x92ve': 8, 'we\\x92ve': 8, 'must\\x92ve': 7, '..': 7, 'how\\x92s': 7, 'joey\\x92s': 7, 'it\\x92ll': 7, 'he\\x92ll': 7, '\\x91kay': 6, 'everything\\x92s': 6, 'that\\x92s-that\\x92s': 6, 'buffay': 6, 'what\\x92d': 6, 'oh-ho': 6, 'morning\\x92s': 6, 'um-hmm': 6, '\\x92': 6, 'damnit': 6, 'guy\\x92s': 6, 'grandmother\\x92s': 6, 'rachel\\x92s': 5, 'they\\x92ve': 5, 'he-': 5, 'this-this': 5, 'one\\x92s': 5, 'phoebe\\x92s': 5, 'but-but': 5, 'they-they': 5, 'o\\x92clock': 5, 'she\\x92ll': 5, 'it-it': 5, 'the-the': 5, 'heldi': 5, 'hey-hey-hey': 4, 'how\\x92d': 4, 'treeger': 4, 'how-how': 4, 'nothin\\x92': 4, 'he\\x92d': 4, 'it\\x92d': 4, 'somebody\\x92s': 4, 'rosselini': 4, 'you-you-you': 4, 'ross\\x92s': 4, 'remoray': 4, 'if-if': 4, 'mary-angela': 4, 'i-i-i-i': 3, 'talkin\\x92': 3, 'ah-ha': 3, 'chick-chick': 3, 'ha-ha-ha': 3, 'spacecamp': 3, 'ho-ho': 3, 'just-just': 3, '\\x91cha': 3, 'look-look': 3, 'phoebs': 3, 'when-when': 3, 'where\\x92s': 3, '\\x94': 3, 'oww': 3, 'weren\\x92t': 3, 'women\\x92s': 3, 'wait-wait': 3, 'goin\\x92': 3, 'uh-': 3, '\\x91til': 3, 'ehh': 3, 'they\\x92re-they\\x92re': 3, 'should\\x92ve': 3, 'that-that\\x92s': 3, 'she\\x92s-she\\x92s': 3, 'just\\x97i': 3, 'we\\x92ll-we\\x92ll': 3, 'magioni': 3, \"y'see\": 3, 'and-': 3, 'and-and-and': 3, 'scrud': 3, 'siadic': 3, 'thquirt': 3, 'there\\x92ll': 2, 'um-mm': 2, 'ameri-can': 2, 'wh-what': 2, 'or-or': 2, \"i'm-i\": 2, 'waaay': 2, 'not-i\\x92m': 2, 'hadn\\x92t': 2, 'yuh-huh': 2, 'this-': 2, '\\x91sup': 2, 'ooohh': 2, 'they\\x92ll': 2, 'i-': 2, '\\x91bout': 2, 'some-some': 2, 'lookin\\x92': 2, 'oh-oh-oh': 2, 'baby\\x92s': 2, 'waxine': 2, 'could\\x92ve': 2, 'forward\\x97stop': 2, 'cheshhh': 2, 'like-like': 2, 'the-': 2, 'i-i-i-i-i': 2, 'whoa-whoa': 2, 'a-gogo': 2, 'c.h.e.e.s.e.': 2, \"i'm-\": 2, '\\x91ya': 2, '\\x91is': 2, 'cinderelly': 2, 'gettin\\x92': 2, 'it-it-it\\x92s': 2, 'in-in': 2, 'mom\\x92s': 2, 'hurely': 2, 'wife\\x92s': 2, 'your-your': 2, 'please-please': 2, 'she-she': 2, 'that\\x92': 2, 'woman\\x92s': 2, 'man\\x92s': 2, '\\x9274': 2, 'mississ-pete': 2, \"c'mere\": 2, 'fight\\x92s': 2, 'friend\\x92s': 2, 'hm-mmm': 2, 'where-where': 2, 'wh-what\\x92s': 2, 'we\\x92d': 2, 'ow-ow': 2, 'zelner': 2, '\\x96': 2, \"'you\": 2, 'no-no-no-no-no': 2, 'dum-dum-dum': 2, 'uh-oh-okay': 2, 'they\\x92d': 2, 'as-as': 2, \"you're-you\": 2, 'knuckle-cracking': 2, 'he-he': 2, 'wh-why': 2, 'monana': 2, 'jo\\x92s': 2, 'lover\\x92s': 2, 'tooty': 2, 'whoa-whoa-whoa': 2, 'just-': 2, 'now-now': 2, '-ow': 2, \"'it\": 2, 'chatracus': 2, 'everyone\\x92s': 2, 'she\\x92d': 2, 'liam\\x92s': 2, 'speacial': 2, 'woowoo': 2, 'bapstein-king': 2, 'hi..': 2, 'that-that-that': 2, 'base-alan': 2, 'bing-geller': 2, 'comin\\x92': 2, 'company\\x92s': 1, 'kl-5': 1, 'gr-6': 1, \"'my\": 1, 'ameri-ccan': 1, 'oh-ho-ho': 1, 'did-did': 1, 'truth-day': 1, \"'bout\": 1, 'five-ish': 1, 'tomorow': 1, 'you\\x92ll-you\\x92ll': 1, 'phobo': 1, 'phewbedo': 1, 'phaybobo': 1, 'to\\x97you-you': 1, 'dwha': 1, '\\x91see': 1, 'saturday\\x92': 1, 'pa-haa': 1, 'nose\\x97i': 1, 'it-it\\x92s': 1, 'elizabeth\\x92s': 1, 'eh-wh\\x97excuse': 1, 'lauer\\x92s': 1, 'ooooohh': 1, 'are-are': 1, 'and-and-and-and-and': 1, 'people\\x92s': 1, 'mashuga': 1, 'adrienne\\x92s': 1, 'character\\x92s': 1, 'number\\x92s': 1, 'bazida': 1, \"y'ever\": 1, \"d'know\": 1, \"y'have\": 1, 'judgey': 1, 'holierthanthou': 1, 'mcnailshisstudents': 1, 'love-i': 1, 'ah-ah': 1, 'with-with': 1, 'nuts\\x97oh': 1, 'bobby\\x92s': 1, \"'hey\": 1, 'og-ee-op': 1, 'joel-burg': 1, 'ye-ye-yeah': 1, 'semi-first': 1, 'batman\\x92s': 1, 'bond\\x92s': 1, 'so\\x97if': 1, 'ross..': 1, 'ross-ross': 1, 'know\\x97well': 1, 'chickeeeen': 1, 'don\\x92t-don\\x92t': 1, 'geller-green': 1, 'not-gay-stuff': 1, 'back-less': 1, 'doooo': 1, 'anyway\\x97umm': 1, 'dubbies': 1, 'enhh': 1, 'wait-wait-wait-wait-wait-wait-wait-wait': 1, 'th-th-that': 1, 'run-of-the-mill-slice-it-right-off': 1, 'uh-hmm\\x97wait': 1, 'tibidaybo': 1, 'we\\x92re-we\\x92re': 1, 'filter-tipped': 1, 'really\\x97i': 1, 'what\\x97y\\x92know': 1, 'to\\x97i': 1, 'huh\\x97hmm': 1, 'there-there': 1, 'man-child': 1, 'everybody\\x92s': 1, 'puzzle\\x97beer': 1, 'we-': 1, 'gooooood': 1, 'velula': 1, 'oh-ho-kay': 1, 'begins\\x97stop': 1, '\\x97now': 1, 'bernie\\x92s': 1, 'given\\x92': 1, 'ain\\x92t': 1, 'ben-ben': 1, 'giiiiiiift': 1, 'clock\\x92s': 1, 'here\\x97': 1, 'no-n-n-n-no': 1, 'ohhhhh': 1, 'ooooh-oooh-ooooh': 1, 'de-clawing': 1, 'he-he\\x92s': 1, 'ooh\\x97hey': 1, 'carseat': 1, 'but\\x97i': 1, 'shedder': 1, 'uh..': 1, 'restaurant..': 1, 'hasn\\x92t': 1, '\\x91okay': 1, 'pheebs\\x92': 1, 'nuh-uh': 1, 'underwear\\x97you': 1, 'what-wh-what': 1, 'her-': 1, '-leg': 1, 'ju-': 1, 'real-': 1, 'g-go': 1, 're-wired': 1, 'whazzup': 1, 'r-r-richard': 1, 'tellin\\x92': 1, 'think-': 1, 'here\\x97but': 1, 'oh-no-no-no': 1, 'nouse': 1, 'more..': 1, 'song\\x92s': 1, '\\x91look': 1, 'meaning\\x92': 1, \"it's-it\": 1, 'as..': 1, 'radio\\x92s': 1, 'oh..please': 1, 'mood-killer': 1, 'funyuns': 1, \"'me\": 1, 'look-look-look-look-look': 1, 'hear\\x97\\x97mother': 1, 'it-does': 1, 'anyone\\x92s': 1, 'ta-da': 1, 'wonerful': 1, 'f-hah': 1, 'flennin': 1, \"do\\x97y'know\": 1, 'be\\x97okay': 1, 'ezels': 1, 'half-caf': 1, 'non-fat': 1, 'job-': 1, \"i'm..\": 1, 'artelle': 1, 'blobbies': 1, 'picture\\x97i': 1, 'churo': 1, '\\x91easy': 1, 'tab\\x92': 1, 'ow-oh-oh': 1, 'pain-free': 1, 'pain-zine': 1, 'ow-ow-ow-ow': 1, 'someone\\x92s': 1, 'squatternut': 1, 'buash': 1, 'i\\x97y\\x92know': 1, 'parents\\x92': 1, 'they-they-they': 1, 'bing-ette': 1, 'leg-chewing': 1, '7143457': 1, 'schemp': 1, 'unmarriable': 1, 'dressy-dress': 1, '\\x91cut': 1, '\\x91cos': 1, 'back\\x97stop': 1, 'mini-van': 1, 'bumb': 1, 'aaargh': 1, 'skidmark': 1, 'ni-chou': 1, 'chi-ma': 1, 'okay-okay': 1, 'but\\x97okay': 1, 'just\\x97there\\x92s': 1, 'indeedy': 1, 'okay-dokey': 1, '.what\\x92s': 1, 'oh-hey-hey-hey': 1, 'goofin': 1, 'you-you-you-you': 1, 'clamed': 1, '\\x93aww': 1, 'wait-wait-wait': 1, 'she\\x92d-she\\x92d': 1, 'rape\\x97': 1, 'night-night': 1, 'a\\x97ah-ah': 1, 'pl-place': 1, 'this\\x97ah-ha-ha': 1, 'stripper\\x92s': 1, 'just\\x97if': 1, 'havin\\x92': 1, 'lacys': 1, 'i…it': 1, 'uh-uh': 1, 'that…': 1, 'suity-man': 1, 'but\\x97come': 1, 'cha-ching': 1, 'just\\x97y\\x92know': 1, 'hang-hang': 1, 'like-like-like': 1, 'that\\x97it\\x92s': 1, 'dinosaur..': 1, 'thing..': 1, '..dr.': 1, '-she': 1, 'she-': 1, 'our..': 1, 'quack..': 1, '.whoa': 1, 'waah': 1, 'wha..aa': 1, 'costalano': 1, 'd.d.s': 1, 'robert\\x92s': 1, 'retiling': 1, 'spackel': 1, 'ah-ah-ah': 1, \"..y'know\": 1, 'issac\\x92s': 1, 'd.j.-ing': 1, 'bloomingdale\\x92s': 1, 'okayyyyy': 1, 'balded': 1, 'y-yeah': 1, 'nnnnn': 1, 'key\\x92s': 1, '90/10': 1, 'wh\\x97no': 1, 'case\\x97\\x97yay': 1, 'callin\\x92': 1, 'ross-a-tron': 1, 'oh-wha-ho': 1, 'jill\\x92s': 1, 'deep-deep-deep': 1, 'trench-coat': 1, 'yeah-no': 1, '.and': 1, '\\x91laser': 1, 'floyd\\x92': 1, '\\x91the': 1, 'munchies.\\x92': 1, \"'cookie\": 1, 'need\\x97\\x97what': 1, 'i\\x92ll-i\\x92ll': 1, 'not\\x97that\\x92s-that\\x92s': 1, 'after\\x97i': 1, 'lyin\\x92': 1, 'triskaidekaphobia': 1, 'think\\x97oh': 1, 'a-doin': 1, 'ewwuck': 1, 'who-who\\x92s': 1, 'abandoner': 1, 'care\\x97i-i': 1, 'wenus': 1, 'whooooaaaa': 1, '*fell*': 1, 'hygienist\\x92s': 1, '\\x91albino': 1, 'bob\\x92': 1, 'there\\x92s-there\\x92s': 1, 'oooh-hoo': 1, 'ooh-hoo': 1, 'i\\x97he': 1, 'j-just': 1, 'd-cup': 1, 'get\\x97no': 1, 'tuttle\\x92s': 1, '37135': 1, 'fraid': 1, 'aaaah': 1, 'tickets..': 1, 'that\\x97i': 1, 'greely\\x92s': 1, 'shmair': 1, 'say-i': 1, 'don\\x92t\\x97whoa': 1, 'rach-rach-rach': 1, 'headin\\x92': 1, 'the\\x97that': 1, '\\x91hi': 1, 'kind\\x92ve': 1, 'erwin\\x92s': 1, 'joshua\\x92s': 1, 'style\\x97what': 1, 'cupert-hewitt': 1, 'j-j-just': 1, 'gepeto': 1, 'six-letter': 1, 'draddle': 1, 'may-pole': 1, 'was\\x97if': 1, 'stop-stop': 1, 'ho-ho-hold': 1, 'kissey': 1, \"just\\x97y'know\\x97stop\": 1, 'wha\\x97what': 1, 'coast\\x92s': 1, 'yo\\x97you': 1, 'else\\x92s': 1, 'nokululu': 1, 'pete-chicago': 1, 'who\\x92s-who\\x92s': 1, 'something\\x92s': 1, '\\x93hey': 1, '\\x93nah': 1, 'place.\\x94': 1, 'j437-a': 1, 'so\\x92s': 1, 'barry..': 1, 'too..': 1, 'valente\\x92s': 1, 'momma\\x92s': 1, 'freak..': 1, 'ah-': 1, 'whatever\\x97\\x97ca': 1, 'sandra\\x92s': 1, 'very\\x97really': 1, 'very-very': 1, 'julie\\x92s': 1, 'al-you': 1, '.been': 1, 'giraffe\\x92s': 1, 'pete\\x92s': 1, 'bowmont\\x92s': 1, 'howie\\x92s': 1, 'he-he-he': 1, 'she\\x97well': 1, 'officer\\x97fireman': 1, 'you\\x97okay': 1, 'god..': 1, 'doorman-': 1, 'nngghhh': 1, 'rdtor': 1, 'heyy': 1, 'actor\\x92s': 1, \"y'know..\": 1, 'huh..': 1, 'west-westmont': 1, 'westburg': 1, 'wo-women': 1, 'whoa\\x97hey\\x97wh-wh-what': 1, 'wh-wh-what': 1, 'other\\x92s': 1, 'nothing..why': 1, 'candels': 1, \"that's-that\": 1, 'to\\x97whoa': 1, 'passin\\x92': 1, 'luchhi': 1, 'thank-thank': 1, 'wait\\x97oh\\x97hey\\x97huh': 1, 'realilized': 1, \"they're-\": 1, 'then-': 1, 'do-': 1, 'wh-which': 1, 'floopy': 1, 'what\\x92s-what\\x92s': 1, 'zelner\\x92s': 1, 'anything\\x97minute': 1, 'chip\\x92s': 1, 'he\\x92s-he\\x92s': 1, 'if..': 1, 'hey\\x97ooh': 1, 'is\\x97it\\x92s': 1, 'uh-hey': 1, 'a-five': 1, 'crumbies': 1, 'y\\x92think': 1, 'don\\x92t..': 1, 'at-at': 1, 'break-up\\x92s': 1, 'ummmmmmmm': 1, 'date\\x97oh': 1, 'dinner\\x92s': 1, 'ho-ho-ho': 1, 'lot\\x92s': 1, \"it's\\x97not\": 1, 'pinchable': 1, 'biceps\\x97she': 1, 'manuver': 1, 'a-live': 1, '\\x97': 1, 'oohh': 1, 'oooooooooooooohhhhhhhhhhh': 1, 'gobb': 1, 'scary-ass': 1, '\\x91i': 1, 'it\\x92': 1, 'c\\x92mon': 1, 'azzz': 1, 'oh..wow': 1, 'got-i\\x92ve': 1, 'if\\x97no': 1, 'and\\x97oh': 1, 'kyle\\x92s': 1, 'ramoray\\x92s': 1, 'baby-sitting': 1, 'we-we\\x92re': 1, 'gellers': 1, 'porsch': 1, 'might\\x92ve': 1, 'right-': 1, 'the\\x97\\x97wowww': 1, 'bunny\\x92s': 1, 'we\\x92re-we\\x92re-we\\x92re': 1, 'woo-hoo': 1, 'big-': 1, '..well': 1, 'no-one-': 1, 'bwah-hah-hah': 1, 'mwwwooooo-hah-hah': 1, 'oh..': 1, 'never-never': 1, 'left-': 1, 'du-du-i': 1, 'see\\x97darnit': 1, 'nesele': 1, 'tolouse': 1, 'nestley': 1, 'nooo..': 1, 'over-pronouncing': 1, 'ohh-ho-hooohhh': 1, 'paper\\x92s': 1, '\\x91probably\\x92': 1, 'on-on': 1, 'yoo-hoo': 1, 'litman-neurolic': 1, 'i\\x97that\\x92s': 1, 'disgustingtons': 1, 'see\\x97i': 1, 'would-would': 1, 'was-i': 1, 'santa\\x92s': 1, 'th-they': 1, 'let\\x92s-let\\x92s': 1, 'yeah\\x97wait': 1, 'na-uh': 1, 'ju\\x97\\x97hi': 1, 's-it': 1, 's…': 1, 'is…do': 1, 'those-those': 1, 'du-ude': 1, 'bla-bla-bla-bla': 1, 'startin\\x92': 1, 'roommate\\x92s': 1, 'raquetball': 1, 'uhhhh': 1, 'hel-lo': 1, \"'excuse\": 1, 'blarrglarrghh': 1, 'kiddin\\x92': 1, 'valentine\\x92s': 1, 'it\\x92s-it\\x92s-it\\x92s': 1, '\\x91c\\x92': 1, '\\x91k\\x92': 1, 'kleinman\\x92s': 1, 'testosteroney': 1, 'indeedy-o': 1, '..which': 1, 'scooching': 1, 'willick': 1, 'hm-mm': 1, \"'cha\": 1, 'now\\x97go': 1, 'embryossss': 1, 'that\\x97okay': 1, 'johnos': 1, \"we'll-we\": 1, 'are-': 1, 'helloooo': 1, 'm-o-n-a-y': 1, '\\x91does': 1, 'yes-yes-yes': 1, 'teachin': 1, 'bactine': 1, \"'poor\": 1, 'that\\x92ll': 1, 'runnin\\x92': 1, '555-9323': 1, 'b-b-but': 1, 'world\\x92s': 1, 'trrrribbiani': 1, 'audition\\x92s': 1, 'that\\x92d': 1, 'are-are-are': 1, 'ahhh..': 1, 'oh-oi': 1, 'oh-oi-ho': 1, 'oh-whoa-hey': 1, 'gee-e-e-eez': 1, 'not-not': 1, 'yeah\\x97no': 1, 'girlfriend\\x97which': 1, 'took-off': 1, 'quick-quick': 1, 'dad\\x92s': 1, \"'co-dependent\": 1, \"'self-destructive\": 1, \"he's-\": 1, 'thought-': 1, 'do-i': 1, 'what-what-what-what': 1, 'it-it\\x97the': 1, 'you\\x97i': 1, 'chan-chan': 1, \"i've-i\": 1, 'sarah\\x92s': 1, '-hey': 1, 'woo-hoo-hoo': 1, 'not\\x97no-no-no': 1, 'jus-': 1, 'go.you': 1, 'buddy-boy': 1, 'lee-lo': 1, 'wigging': 1, 'monnnnn': 1, 'beef-tips': 1, 'ramoray': 1, 'whoooaa': 1, 'redecorate\\x97and': 1, 'here\\x92s-here\\x92s': 1, 'the\\x97okay': 1, 'shoppin\\x92': 1, 'i\\x92m-i\\x92m-i\\x92m': 1, 'ho-oh': 1, 'paul\\x92s': 1, 'c-sections': 1, 'italy—please': 1, 'i…': 1, \"'memo-\": 1, 'up\\x97i': 1, 'didn\\x92t\\x97i': 1, 'whoa-whoops': 1, 'parent\\x92s': 1, 'just\\x97it\\x92s': 1, 'whoo-ho-hoo': 1, 'loooot': 1, 'whoo-ho-ho': 1, 'no\\x97\\x97one': 1, 'gar\\x92': 1, 'mm-hm': 1, 'like-': 1, 'guy..': 1, 'grandma\\x92s': 1, 'sleeperson': 1, 'brownshirt': 1, 'mcpretty': 1, \"'were\": 1, \"'pretty\": 1, 'orrr': 1, 'fabutec': 1, 'info-mercial': 1, 'never-ever': 1, \"'scuse\": 1, 'varrrrrroom': 1, 'varrrrrrrrrrom': 1, 'varrrrrrrrroom': 1, 'bed\\x92s': 1, 'burring': 1, 'pictures\\x97are': 1, '\\x91where': 1, 'win\\x97ross': 1, '3\\x97go': 1, 'you\\x92re\\x97you': 1, 'empire-waisted': 1, 'see-i': 1, 'these-these': 1, 'good-good': 1, '\\x91i\\x92': 1, 'y\\x97': 1, 'ohhhhhhhh': 1, 'hm-hmm': 1, 'listen..': 1, 'i-i-i-i\\x97i': 1, 'good\\x97ohh': 1, 'blurtin\\x92': 1, 'oh-okay': 1, 'err-err': 1, 'from-': 1, 'hookin\\x92': 1, \"'maybe\": 1, \"'ohh\": 1, \"'yes\": 1, \"'wh-whoa\": 1, \"'hhiii\": 1, \"'man\": 1, 'don\\x92t\\x97maybe': 1, 'just\\x97it': 1, 'did-did-did': 1, 'why\\x92s': 1, 'upset\\x97for': 1, 'uh-hmm': 1, 'again\\x97nooooooo': 1, 'uh\\x97how': 1, 'but\\x97y\\x92know': 1, 'girl\\x92s': 1, 'oh-no': 1, 'moment\\x92s': 1, 'janice\\x92s': 1, '\\x91dear': 1, 'hubba-bubba': 1, 'birthday\\x92': 1, '\\x91mattress': 1, 'king\\x92': 1, 'maaaaadd': 1, 'plan\\x92s': 1, \"'euphoria\": 1, \"'mistress\": 1, 'cinamon': 1, 'n.y.p.d': 1, 'come\\x97i': 1, 'believe\\x97i': 1, 'nature\\x92s': 1, 'right-right': 1, 'right\\x97hey': 1, 'bapstein': 1, 'sting\\x92s': 1, 'ben\\x92s': 1, 'well..': 1, 'base-': 1, 'softball..': 1, 'maybe..': 1, 'sometimes..': 1, '..i': 1, 'alan-ness': 1, 'weeeell': 1, 'about-about': 1, 'mean-i\\x92m': 1, 'you\\x92re-you\\x92re': 1, 'mean\\x97no': 1, 'you\\x97you': 1, 'jalepino': 1, 'fact\\x97yes': 1, 'she-she-she': 1, 'you\\x97yeah': 1, 'schmoon': 1, 'ooh-ooh': 1, 'tedlock': 1, 'kostelick': 1, '\\x97eh': 1, 'marshmellows': 1, 'groom\\x97no': 1, 'guys\\x92': 1, 'i\\x97rachel': 1, 'ohh\\x97do': 1, 'hydrosaurids': 1, 'hydrosaurs': 1, 'loreo': 1, 'uhh…': 1, 'well…did': 1, 'll-i': 1, 'just…i': 1, 'beaudalire': 1, 'these\\x92ll': 1, 'yentel': 1, 'i-i-i\\x92ve': 1, 'woo-woo': 1, 'alessandro\\x92s': 1, 'thata': 1, 'here..': 1, 'shirvel': 1, 'argentinaaaa': 1, 'seeeeen': 1, 'spleeeen': 1, 'medeio': 1, 'trorro': 1, 'womba': 1, 'be-because': 1, 'something..': 1, 'oh-oh-oh-oh': 1, 'rattraps': 1, 'possom': 1, 'you-what': 1, 'whoa-hey-oh': 1, 'hey-hey-hey-ho-ho': 1, 'you-how': 1, 'plinky-plunky': 1, 'f.y.i..': 1, 'awwwww': 1, 'or\\x97oh': 1, 'pipe-fitting': 1, 'fettuccini': 1, 'pre-cooking': 1, 'i-i-i\\x92m': 1, 'sister\\x92s': 1, 'teeny-tiny': 1, 'half-decent': 1, '\\x91or\\x92': 1, 'please\\x97': 1, 'lisettie': 1, 'that\\x97this': 1, '11-b': 1, 'u.s.s': 1, 'half-charred': 1, 'picture\\x97wow': 1, \"'pl\": 1, 'g.stephanopoulos': 1, 'snuffalopagus': 1, 'allll': 1, 'no-o-o': 1, 'boredddd': 1, 'askin\\x92': 1, 'don\\x92t-you': 1, '.right': 1, 'i\\x97it': 1, 'i\\x92ll-i\\x92ll-i\\x92ll-i\\x92ll': 1, 'oh-kay': 1, 'shakin\\x92': 1, \"o'mally\": 1, 'cowlicky': 1, 'sweepin\\x92': 1, 'but\\x97bye-bye': 1, 'janine\\x92s': 1, 'whippin\\x92': 1, '\\x93oh': 1, 'here\\x97do': 1, 'i-i-i-i\\x92m': 1, 'anybody\\x92s': 1, 'sulkov': 1})\n"
     ]
    }
   ],
   "source": [
    "from collections import Counter\n",
    "\n",
    "unknown_words_count = Counter(unknown_words)\n",
    "print('Proportion of unknown tokens', len(unknown_words)/(len(unknown_words)+len(known_words)))\n",
    "print('Number of unknown words',len(unknown_words_count))\n",
    "print('Number of unknown word tokens:', len(unknown_words))\n",
    "print('Unknown words counts')\n",
    "print(unknown_words_count)"
   ]
  },
  {
   "cell_type": "markdown",
   "metadata": {},
   "source": [
    "We also kept track of the *known* words, so lets check these as well:"
   ]
  },
  {
   "cell_type": "code",
   "execution_count": 17,
   "metadata": {},
   "outputs": [
    {
     "name": "stdout",
     "output_type": "stream",
     "text": [
      "Number of known words 5064\n",
      "Number of known words tokens: 68332\n",
      "Known words counts\n",
      "Counter({',': 7237, '.': 6509, '!': 4266, 'i': 3422, '?': 2887, 'oh': 1063, 'okay': 665, \"'s\": 661, 'yeah': 650, 'well': 534, 'you': 513, 'know': 503, 'hey': 497, 'na': 482, 'no': 471, 'right': 466, 'what': 425, \"n't\": 401, 'go': 378, 'like': 369, 'gon': 366, 'get': 364, '...': 349, 'really': 338, 'got': 328, \"'m\": 298, 'think': 294, 'uh': 287, 'so': 279, 'look': 275, 'one': 264, 'and': 248, 'mean': 241, 'see': 228, 'come': 220, 'god': 217, 'ross': 213, 'want': 207, 'sorry': 206, 'all': 201, \"'re\": 195, 'good': 192, 'tell': 190, 'joey': 186, 'great': 175, 'it': 173, 'guys': 169, 'would': 166, 'could': 162, 'hi': 161, 'going': 160, 'that': 158, 'but': 157, 'umm': 156, 'yes': 155, 'time': 149, 'back': 143, 'we': 140, 'little': 139, 'say': 139, 'love': 132, 'something': 130, 'chandler': 130, 'let': 123, 'guy': 120, 'rachel': 119, 'wan': 116, 'monica': 116, 'phoebe': 116, 'thank': 112, 'this': 111, 'why': 110, 'how': 109, 'wait': 108, 'ok': 107, 'make': 107, 'the': 106, 'said': 105, 'thing': 100, 'us': 100, 'take': 98, 'sure': 97, 'people': 96, 'he': 95, \"'ll\": 95, 'never': 95, 'maybe': 94, 'please': 93, 'much': 92, '``': 90, 'still': 89, 'listen': 88, 'way': 86, \"''\": 86, 'two': 86, 'man': 86, 'now': 85, 'do': 84, 'ah': 84, 'wow': 84, 'actually': 83, 'need': 83, 'give': 82, 'fine': 81, 'i-i': 81, 'first': 81, 'um': 80, 'huh': 80, 'even': 78, 'believe': 78, \"'ve\": 75, 'thought': 75, 'big': 74, 'thanks': 73, 'nice': 71, 'ca': 69, \"'\": 68, 'call': 68, 'ta': 68, 'night': 67, 'talk': 66, 'stuff': 66, 'work': 66, 'stop': 65, 'are': 64, 'she': 64, 'place': 63, 'feel': 63, 'hello': 63, 'ya': 63, 'my': 62, 'lot': 61, 'ever': 59, 'put': 59, 'last': 58, 'baby': 58, 'married': 58, 'things': 58, '’': 58, 'nothing': 57, 'new': 57, 'anything': 57, 'remember': 56, 'pretty': 54, 'girl': 54, 'went': 52, 'just': 52, 'wanted': 52, 'ohh': 52, 'room': 51, 'kinda': 50, 'honey': 50, 'rach': 50, 'better': 50, 'around': 50, \"'d\": 50, 'whoa': 50, 'happened': 49, 'made': 49, 'name': 49, 'told': 49, 'here': 48, 'play': 48, 'wedding': 47, 'guess': 47, 'care': 47, 'always': 47, 'help': 47, 'they': 46, 'fun': 46, 'kind': 46, 'date': 46, 'thinking': 46, 'talking': 45, 'can': 45, 'best': 45, 'did': 45, 'pick': 44, 'is': 44, 'friends': 44, 'getting': 44, 'happy': 43, 'together': 43, 'friend': 43, 'phone': 42, 'ask': 42, 'left': 42, 'second': 42, 'next': 41, 'tonight': 41, 'bad': 41, 'who': 40, 'totally': 40, 'woman': 40, 'day': 40, 'yet': 40, 'stupid': 40, 'there': 39, 'wrong': 38, 'eat': 38, 'funny': 38, 'ooh': 38, 'whole': 37, 'coming': 37, 'another': 37, 'else': 37, 'if': 37, 'ready': 37, 'try': 37, 'not': 37, 'done': 36, 'job': 36, 'ring': 36, 'stay': 36, 'problem': 36, 'because': 36, 'years': 36, 'find': 36, 'hear': 35, 'tomorrow': 35, 'long': 35, 'five': 35, 'called': 35, 'later': 34, 'old': 34, 'might': 34, 'idea': 34, 'check': 34, 'game': 34, 'home': 34, 'where': 33, 'probably': 33, 'anyway': 33, 'someone': 33, 'course': 33, 'looking': 33, 'a': 32, 'trying': 32, 'move': 32, 'when': 32, 'money': 32, 'enough': 31, ':': 31, 'three': 31, 'supposed': 31, 'hard': 31, 'away': 31, 'came': 31, 'mom': 31, 'today': 31, 'hot': 31, 'coffee': 30, 'wants': 30, 'leave': 30, 'keep': 30, 'party': 30, 'every': 30, 'life': 30, 'crazy': 29, 'happen': 29, 'weird': 29, 'uh-huh': 29, 'no-no': 29, 'women': 29, 'ow': 29, 'may': 29, 'everybody': 28, 'part': 28, 'minute': 28, 'morning': 28, 'sex': 28, 'saying': 28, 'hold': 27, 'apartment': 27, 'real': 27, 'ben': 27, 'father': 27, 'naked': 27, 'took': 27, 'mine': 27, 'matter': 27, 'hand': 27, 'me': 26, 'serious': 26, 'knew': 26, 'head': 26, 'anymore': 26, 'dad': 26, 'dinner': 26, 'does': 26, 'anyone': 26, 'everything': 26, 'year': 26, 'show': 25, 'bye': 25, 'either': 25, 'hours': 25, 'sleep': 25, 'knows': 25, 'mr.': 25, 'dr.': 25, 'excuse': 25, 'bing': 25, 'high': 25, 'telling': 25, 'alright': 25, 'turn': 25, 'says': 24, 'bring': 24, 'amazing': 24, 'looks': 24, 'marry': 24, 'seen': 24, 'use': 24, 'janice': 24, 'minutes': 24, 'joe': 23, 'world': 23, 'watch': 23, 'start': 23, 'question': 23, 'live': 23, 'couple': 23, 'comes': 23, 'house': 23, 'hang': 22, 'wish': 22, 'though': 22, 'late': 22, 'since': 22, 'throw': 22, 'beautiful': 22, 'meet': 22, 'chance': 22, 'sister': 22, 'deal': 22, 'wearing': 22, 'lost': 22, 'making': 22, 'kiss': 22, 'also': 21, 'person': 21, 'forget': 21, 'open': 21, 'doctor': 21, 'geller': 21, 'understand': 21, 'kids': 21, 'asked': 21, 'mind': 21, 'dude': 21, 'four': 21, 'read': 21, 'walk': 21, 'already': 21, 'school': 21, 'without': 20, 'bed': 20, 'ahh': 20, 'hurt': 20, 'hate': 20, 'number': 20, 'hell': 20, 'saw': 20, 'anybody': 20, 'somebody': 20, 'ten': 20, 'cool': 20, 'pants': 20, 'bit': 19, 'absolutely': 19, 'mad': 19, 'alone': 19, 'babies': 19, 'kill': 19, 'girls': 19, 'kidding': 19, 'of': 19, 'used': 19, 'then': 19, 'sweet': 19, 'glad': 19, 'promise': 19, 'cute': 19, 'must': 19, 'gone': 19, 'bob': 18, 'sounds': 18, 'wear': 18, 'true': 18, 'food': 18, 'miss': 18, 'break': 18, 'brother': 18, 'hope': 18, 'makes': 18, 'wo': 18, 'able': 17, 'working': 17, 'different': 17, 'gave': 17, 'yep': 17, 'times': 17, 'kid': 17, 'sit': 17, 'buy': 17, 'gets': 17, 'in': 17, 'worry': 17, 'easy': 17, 'found': 17, 'carol': 17, 'sweetie': 17, 'goes': 17, 'half': 17, 'parents': 17, 'started': 16, 'exactly': 16, 'ball': 16, 'uhh': 16, 'movie': 16, 'cut': 16, 'important': 16, 'for': 16, 'bet': 16, 'gay': 16, 'sir': 16, 'story': 16, 'book': 16, 'ugh': 16, 'soon': 16, 'picture': 16, 'pay': 16, 'your': 16, '$': 16, 'relax': 15, 'liked': 15, 'which': 15, 'thanksgiving': 15, 'broke': 15, 'unbelievable': 15, 'perfect': 15, 'feeling': 15, 'face': 15, 'kathy': 15, 'small': 15, 'machine': 15, 'everyone': 15, 'win': 15, 'family': 15, 'plan': 15, 'free': 15, 'candy': 15, 'asleep': 14, 'or': 14, 'table': 14, 'end': 14, 'boy': 14, 'dance': 14, 'girlfriend': 14, 'huge': 14, 'men': 14, 'lady': 14, 'touch': 14, 'hit': 14, 'means': 14, 'moving': 14, 'museum': 14, 'city': 14, 'hmm': 14, 'son': 14, 'message': 14, 'marriage': 14, 'fire': 14, 'car': 14, 'mon': 13, 'buddy': 13, 'realize': 13, 'uh-oh': 13, 'bathroom': 13, 'clothes': 13, 'many': 13, 'blue': 13, 'david': 13, 'word': 13, 'taking': 13, 'brought': 13, 'street': 13, 'six': 13, 'seeing': 13, 'pregnant': 13, 'asking': 13, 'almost': 13, 'green': 13, 'close': 13, 'very': 13, 'eh': 13, 'playing': 13, 'shower': 13, 'mrs.': 13, 'song': 13, 'soup': 13, 'eyes': 13, 'seven': 13, 'roommate': 12, 'seem': 12, 'thinks': 12, 'line': 12, 'nobody': 12, 'reason': 12, 'talked': 12, 'change': 12, 'bitch': 12, 'fact': 12, 'smell': 12, 'whatever': 12, 'ass': 12, 'scared': 12, 'ohhh': 12, 'special': 12, 'aw': 12, 'aww': 12, 'lose': 12, 'spend': 12, 'lives': 12, 'eye': 12, 'dog': 12, 'least': 12, 'susan': 12, 'stick': 12, 'list': 12, 'plans': 12, 'sick': 12, 'heads': 12, 'building': 11, 'shut': 11, 'top': 11, 'fell': 11, 'moment': 11, 'grandmother': 11, 'ew': 11, 'dead': 11, 'rest': 11, 'bye-bye': 11, 'welcome': 11, 'bag': 11, 'figure': 11, 'terrible': 11, 'tickets': 11, 'seriously': 11, 'loved': 11, 'team': 11, 'forgot': 11, 'side': 11, 'fault': 11, 'moved': 11, 'bucks': 11, 'card': 11, 'definitely': 11, 'birthday': 11, 'lunch': 11, 'ago': 11, 'underwear': 11, 'floor': 11, 'feels': 11, 'week': 11, 'questions': 11, 'shoot': 11, 'restaurant': 11, 'write': 11, 'grab': 11, 'these': 11, 'porn': 11, 'hour': 11, \"'cause\": 11, 'spent': 11, 'hands': 10, 'answer': 10, 'apparently': 10, 'route': 10, 'mark': 10, 'stand': 10, 'fast': 10, 'happens': 10, 'luck': 10, 'weeks': 10, 'heart': 10, 'daddy': 10, 'ones': 10, 'excited': 10, 'box': 10, 'office': 10, 'quit': 10, 'richard': 10, 'chef': 10, 'so-so': 10, 'stuck': 10, 'turned': 10, 'living': 10, 'meant': 10, 'joshua': 10, 'months': 10, 'hole': 10, 'heard': 10, 'third': 10, 'shirt': 10, 'felt': 10, 'drunk': 10, 'days': 10, 'cookies': 10, 'idiot': 10, 'emily': 10, 'store': 10, 'front': 10, 'town': 10, 'laundry': 10, 'owe': 10, 'bought': 10, 'door': 10, 'red': 10, 'window': 10, 'light': 10, ';': 10, 'shot': 10, 'business': 10, 'die': 10, 'mother': 10, 'boxes': 10, 'class': 10, 'chip': 10, 'point': 9, 'sucks': 9, 'wrote': 9, 'scene': 9, 'damn': 9, 'loves': 9, 'boyfriend': 9, 'water': 9, 'hair': 9, 'tribbiani': 9, 'completely': 9, 'was': 9, 'surprise': 9, 'sweater': 9, 'mistake': 9, '--': 9, 'quick': 9, 'ran': 9, 'with': 9, 'calling': 9, 'looked': 9, 'tired': 9, 'somewhere': 9, 'decided': 9, 'fight': 9, 'dollars': 9, 'needs': 9, 'taste': 9, '10': 9, 'lie': 9, 'weekend': 9, 'set': 9, 'to': 9, 'news': 9, 'entire': 9, 'rule': 9, 'interested': 9, 'cup': 9, 'sad': 9, 'figured': 9, 'yesterday': 9, 'have': 9, 'sometimes': 9, 'suck': 9, 'park': 9, \"c'mon\": 9, 'speak': 9, 'grade': 9, 'pass': 9, 'watching': 9, 'bigger': 9, 'nah': 9, 'starts': 9, 'drake': 9, 'actor': 9, 'full': 8, 'empty': 8, 'inside': 8, 'wondering': 8, 'london': 8, 'professor': 8, 'middle': 8, 'cat': 8, 'difference': 8, 'pizza': 8, 'switch': 8, 'yay': 8, 'nervous': 8, 'although': 8, 'met': 8, 'breaking': 8, 'calm': 8, 'audition': 8, 'interesting': 8, 'will': 8, 'kissed': 8, \"'em\": 8, 'duck': 8, 'gim': 8, 'rules': 8, 'seems': 8, 'clear': 8, 'favorite': 8, 'uncle': 8, 'secret': 8, 'jill': 8, 'neither': 8, 'run': 8, 'crush': 8, 'drink': 8, 'test': 8, 'fair': 8, 'missed': 8, 'nickname': 8, 'dating': 8, 'knock': 8, 'favor': 8, 'mess': 8, 'barry': 8, 'early': 8, 'trust': 8, 'casey': 8, 'sing': 8, 'downstairs': 8, 'human': 8, 'invite': 8, 'nine': 8, 'choose': 8, 'ha': 8, 'sent': 8, 'porsche': 8, 'died': 8, 'finish': 8, 'wonder': 8, 'divorce': 8, '2': 8, '8': 8, 'stripper': 8, 'strong': 8, 'holding': 8, 'lights': 8, 'romantic': 8, 'lying': 8, 'am': 8, 'bijan': 8, 'birds': 8, 'crap': 8, 'la': 8, 'mail': 8, 'eight': 8, 'using': 8, 'good-bye': 8, 'quarter': 8, 'system': 7, '30': 7, 'month': 7, 'italian': 7, 'tough': 7, 'proud': 7, 'jealous': 7, 'finally': 7, 'paid': 7, 'health': 7, 'speech': 7, 'kept': 7, 'feelings': 7, 'straight': 7, 'fan': 7, 'putting': 7, 'worth': 7, 'tv': 7, 'warm': 7, 'letting': 7, 'bike': 7, 'stole': 7, 'starting': 7, 'by': 7, 'worked': 7, 'sensitive': 7, 'especially': 7, 'careful': 7, 'keeps': 7, 'personal': 7, 'shopping': 7, 'twice': 7, 'ladies': 7, 'happening': 7, 'sitting': 7, 'christmas': 7, 'gotten': 7, 'vegas': 7, 'along': 7, 'dancing': 7, 'leaving': 7, 'showing': 7, 'across': 7, 'dear': 7, 'worried': 7, 'worse': 7, 'changed': 7, 'trip': 7, 'clean': 7, 'obviously': 7, 'page': 7, 'wife': 7, 'tag': 7, 'piece': 7, 'forever': 7, 'instead': 7, 'mona': 7, 'nooo': 7, 'sometime': 7, 'were': 7, 'cover': 7, 'order': 7, 'relationship': 7, 'charming': 7, 'roger': 7, 'button': 7, 'imagine': 7, 'leg': 7, 'body': 7, 'behind': 7, 'drop': 7, 'apologize': 7, 'sound': 7, 'giving': 7, 'turkey': 7, 'purse': 7, 'far': 7, 'lovely': 7, 'shh': 7, 'cry': 7, 'teach': 7, 'cowboy': 7, 'mouth': 7, '(': 7, 'noo': 7, 'larry': 7, 'save': 7, 'cause': 7, 'upset': 7, 'picked': 7, 'birth': 7, 'frank': 7, 'smart': 7, 'decide': 7, 'ride': 7, 'rooms': 7, 'places': 7, 'ate': 7, 'children': 7, 'movies': 7, 'issac': 7, 'tulsa': 7, 'dump': 6, 'bar': 6, 'fall': 6, 'surprised': 6, 'central': 6, 'hoping': 6, 'evil': 6, 'horny': 6, 'bunch': 6, 'conversation': 6, 'catch': 6, 'fashion': 6, 'incredible': 6, 'size': 6, 'wonderful': 6, 'mike': 6, 'inappropriate': 6, 'broken': 6, 'age': 6, 'sudden': 6, 'pocket': 6, 'hotel': 6, 'sandwich': 6, 'ma': 6, 'her': 6, 'worst': 6, 'otherwise': 6, 'king': 6, 'pack': 6, 'technically': 6, 'follow': 6, 'college': 6, 'couch': 6, 'fix': 6, 'some': 6, 'takes': 6, 'hooked': 6, 'boring': 6, 'annoying': 6, 'future': 6, 'except': 6, 'ticket': 6, 'jason': 6, 'bride': 6, 'as': 6, 'white': 6, 'remembered': 6, 'guest': 6, 'wine': 6, 'congratulations': 6, 'outside': 6, 'hundred': 6, 'kick': 6, 'sell': 6, 'double': 6, 'universe': 6, 'fat': 6, 'cheesecake': 6, 'aunt': 6, 'cares': 6, 'choice': 6, 'roll': 6, 'post': 6, 'appreciate': 6, 'listening': 6, 'explain': 6, 'past': 6, 'cooking': 6, 'basically': 6, 'trouble': 6, 'daughter': 6, 'checking': 6, 'walking': 6, 'tie': 6, 'dream': 6, 'feet': 6, 'words': 6, 'cheese': 6, 'pie': 6, 'nope': 6, 'speed': 6, 'bonnie': 6, 'walked': 6, 'sleeping': 6, 'tall': 6, 'freak': 6, 'kicking': 6, 'flowers': 6, 'boutros': 6, 'york': 6, 'engaged': 6, 'final': 6, 'jake': 6, 'teacher': 6, 'books': 6, 'brain': 6, 'thoughts': 6, 'dum': 6, 'busy': 6, 'view': 6, 'comfortable': 6, 'honest': 6, 'wake': 6, 'learned': 6, 'boat': 6, 'maid': 6, 'honor': 6, 'sold': 6, 'sense': 6, 'jam': 6, 'gift': 6, 'bugs': 6, 'nap': 6, 'milk': 6, 'pig': 6, 'reading': 6, 'names': 6, 'outta': 6, 'presents': 6, 'hanging': 6, 'backup': 6, 'noodle': 6, 'hospital': 6, 'husband': 6, 'band': 6, 'keys': 6, 'alan': 6, 'spending': 6, 'paper': 5, 'teaching': 5, 'case': 5, 'james': 5, 'pain': 5, 'key': 5, 'sports': 5, 'breathe': 5, 'share': 5, 'unless': 5, 'pink': 5, 'hung': 5, 'embarrassed': 5, 'lucky': 5, 'dirty': 5, 'script': 5, 'camera': 5, 'ridiculous': 5, 'jack': 5, 'genius': 5, 'robot': 5, 'fired': 5, 'easier': 5, 'music': 5, 'bank': 5, 'ended': 5, 'accident': 5, 'bastard': 5, 'tux': 5, 'less': 5, 'control': 5, 'sink': 5, 'blew': 5, 'canoe': 5, 'center': 5, 'throwing': 5, 'fake': 5, 'familiar': 5, 'europe': 5, 'dress': 5, 'handle': 5, 'realise': 5, 'assistant': 5, 'chicken': 5, 'nipple': 5, 'ms.': 5, 'accept': 5, 'sec': 5, 'asks': 5, 'british': 5, 'actual': 5, 'strip': 5, 'covered': 5, 'foot': 5, 'truth': 5, 'enjoy': 5, 'become': 5, 'dumped': 5, 'copy': 5, 'sauce': 5, 'extra': 5, 'writing': 5, 'turns': 5, 'rather': 5, 'desk': 5, 'julie': 5, 'expecting': 5, 'ugly': 5, 'fill': 5, 'soo': 5, 'experience': 5, 'standing': 5, 'opened': 5, 'hates': 5, 'lemonade': 5, 'jerk': 5, 'suppose': 5, 'goodbye': 5, 'holiday': 5, '25': 5, 'john': 5, 'drive': 5, 'subway': 5, 'ice': 5, 'our': 5, 'tour': 5, 'chute': 5, 'smelly': 5, 'isabella': 5, 'elizabeth': 5, 'board': 5, 'works': 5, 'french': 5, 'coat': 5, 'hormones': 5, 'celebrate': 5, 'invited': 5, 'expect': 5, 'anywhere': 5, 'saving': 5, '40': 5, '7': 5, 'trick': 5, 'forward': 5, 'spot': 5, 'memories': 5, 'computer': 5, 'plane': 5, 'air': 5, 'lean': 5, 'those': 5, 'san': 5, 'quite': 5, 'tiny': 5, 'secrets': 5, 'killed': 5, 'interview': 5, 'gym': 5, 'treat': 5, 'goin': 5, 'doin': 5, 'waiting': 5, 'chloe': 5, 'candles': 5, 'plus': 5, 'cross': 5, 'poker': 5, '%': 5, 'note': 5, 'hooker': 5, 'selling': 5, 'on': 5, 'possible': 5, 'hall': 5, 'device': 5, 'needed': 5, 'shoes': 5, 'lately': 5, 'dumb': 5, 'safe': 5, 'single': 5, 'lots': 5, 'jail': 5, 'hurry': 5, 'kitchen': 5, 'bedroom': 5, 'short': 5, 'calls': 5, 'reset': 5, 'ways': 5, 'dry': 5, 'gunther': 5, 'island': 5, 'judge': 5, 'swear': 5, 'magic': 5, 'picking': 5, 'black': 5, 'bunny': 5, 'hats': 5, 'tree': 5, 'brave': 5, 'suds': 5, 'bug': 5, 'monday': 4, 'fit': 4, 'closing': 4, 'beer': 4, 'poor': 4, 'touched': 4, 'vase': 4, 'be': 4, 'legs': 4, 'bond': 4, 'afternoon': 4, 'arms': 4, 'bucket': 4, 'garbage': 4, 'insurance': 4, 'toilet': 4, 'young': 4, 'pool': 4, 'blind': 4, 'delivery': 4, 'loud': 4, 'dark': 4, 'earrings': 4, 'bus': 4, 'practice': 4, 'sort': 4, 'joke': 4, 'stevens': 4, 'usually': 4, 'address': 4, 'nuts': 4, 'attracted': 4, 'character': 4, 'likes': 4, 'ace': 4, 'hearing': 4, 'wh': 4, 'death': 4, 'company': 4, 'meeting': 4, 'vestibule': 4, 'train': 4, 'department': 4, 'land': 4, 'saved': 4, 'hero': 4, 'dammit': 4, 'opportunity': 4, '50': 4, 'trade': 4, 'entertainment': 4, 'yemen': 4, 'child': 4, 'library': 4, 'chick': 4, 'everywhere': 4, 'quickly': 4, 'santa': 4, 'about': 4, 'act': 4, 'zoo': 4, 'groom': 4, 'regular': 4, 'handling': 4, 'present': 4, 'drinking': 4, 'horrible': 4, 'account': 4, 'dates': 4, 'cafeteria': 4, 'grandma': 4, 'salad': 4, 'rid': 4, 'attention': 4, '1': 4, 'space': 4, 'cups': 4, 'sheet': 4, 'rock': 4, 'pete': 4, 'shop': 4, 'bra': 4, '17': 4, 'soap': 4, 'burn': 4, 'litter': 4, 'plastic': 4, 'notice': 4, 'freaked': 4, 'sexy': 4, 'kip': 4, 'massage': 4, 'noise': 4, 'twenty': 4, 'service': 4, 'rip': 4, 'click': 4, 'bite': 4, 'major': 4, 'guitar': 4, 'tea': 4, 'switching': 4, 'divorced': 4, 'slept': 4, 'danny': 4, 'friday': 4, 'jane': 4, 'rogers': 4, 'shame': 4, 'cost': 4, 'trash': 4, 'admit': 4, 'twelve': 4, 'biggest': 4, 'altar': 4, 'named': 4, 'chasing': 4, 'fifth': 4, 'pull': 4, 'blazer': 4, 'tried': 4, 'boss': 4, 'sexual': 4, 'knicks': 4, 'whose': 4, 'pages': 4, 'hypothetically': 4, 'market': 4, 'cab': 4, 'ruin': 4, 'neck': 4, 'uncomfortable': 4, 'fourth': 4, 'diego': 4, 'percent': 4, 'states': 4, 'nurse': 4, 'goofing': 4, 'longer': 4, 'op': 4, 'jokes': 4, 'bottom': 4, 'games': 4, 'pair': 4, 'lipstick': 4, 'robert': 4, 'killing': 4, 'million': 4, 'aruba': 4, 'farber': 4, 'cream': 4, 'coats': 4, 'hitting': 4, 'thread': 4, 'cameras': 4, '15': 4, 'fruit': 4, 'goggles': 4, 'dentist': 4, 'allowed': 4, 'international': 4, 'country': 4, 'centimeters': 4, 'honeymoon': 4, 'millions': 4, 'respect': 4, 'sisters': 4, 'jim': 4, 'tight': 4, 'bee': 4, 'enjoying': 4, 'rhyme': 4, 'poughkeepsie': 4, 'wash': 4, 'bars': 4, 'letters': 4, 'wet': 4, 'puck': 4, 'ordered': 4, 'unfair': 4, 'crying': 4, 'near': 4, 'numbers': 4, 'whew': 4, 'afraid': 4, 'ex-wife': 4, 'host': 4, 'screw': 4, 'heh': 4, 'paolo': 4, 'george': 4, 'deserve': 4, 'chuck': 4, 'loose': 4, 'available': 4, 'realized': 4, 'noooo': 4, 'had': 4, 'area': 4, 'needle': 4, 'cobb': 4, 'gun': 4, 'annulment': 4, 'basket': 4, 'quitting': 4, 'played': 4, 'shoe': 4, 'bake': 4, 'ladle': 4, 'section': 4, 'smooth': 4, 'information': 4, 'ursula': 4, 'learn': 4, 'montreal': 4, 'letter': 4, 'duties': 3, 'heading': 3, 'division': 3, 'perhaps': 3, 'poem': 3, 'notch': 3, 'specifics': 3, 'kangaroo': 3, 'dying': 3, 'impression': 3, 'thinkin': 3, 'sees': 3, 'pure': 3, 'estelle': 3, 'stomach': 3, 'century': 3, 'out': 3, 'conference': 3, 'gentlemen': 3, 'hat': 3, 'oy': 3, 'scary': 3, 'commercial': 3, 'responsibilities': 3, 'sandwiches': 3, 'issue': 3, 'public': 3, 'insane': 3, 'nerve': 3, 'unfortunately': 3, 'sign': 3, 'narrowed': 3, 'raymond': 3, 'borrowed': 3, 'bloody': 3, 'barely': 3, 'advice': 3, 'paul': 3, 'prefer': 3, 'boyfriends': 3, 'wall': 3, 'tape': 3, 'history': 3, 'peel': 3, 'appointment': 3, 'burning': 3, 'dropped': 3, 'bringing': 3, 'from': 3, 'known': 3, 'dana': 3, 'any': 3, 'actors': 3, 'wanting': 3, 'bobby': 3, 'goodacre': 3, 'rich': 3, 'apartments': 3, 'lines': 3, 'phil': 3, 'pal': 3, 'toby': 3, 'everyday': 3, 'eleven': 3, 'film': 3, 'perform': 3, 'staring': 3, 'oo': 3, '[': 3, ']': 3, 'coulda': 3, 'stain': 3, 'pardon': 3, 'built': 3, 'credit': 3, 'cast': 3, 'drinks': 3, 'vince': 3, 'jumping': 3, 'lived': 3, 'support': 3, 'planning': 3, 'typical': 3, 'send': 3, 'circles': 3, 'stars': 3, 'smoke': 3, 'excellent': 3, 'pieces': 3, 'clinic': 3, 'raise': 3, 'male': 3, 'saturday': 3, 'cassie': 3, 'slice': 3, 'france': 3, 'barcelona': 3, 'hiking': 3, 'chi': 3, '-': 3, 'ha-ha': 3, 'club': 3, '19': 3, 'whenever': 3, 'someplace': 3, 'cold': 3, 'threw': 3, 'favour': 3, 'rent': 3, 'tells': 3, 'sells': 3, 'afford': 3, 'impossible': 3, 'steady': 3, 'seconds': 3, 'field': 3, 'correct': 3, 'julio': 3, 'blond': 3, 'boobs': 3, 'serve': 3, 'disagree': 3, 'collection': 3, 'knocked': 3, 'pressure': 3, 'obvious': 3, 'critic': 3, 'review': 3, 'classy': 3, 'kitty': 3, 'hungry': 3, 'evening': 3, 'stack': 3, 'waving': 3, 'toast': 3, 'oatmeal': 3, 'furniture': 3, 'breakfast': 3, 'angela': 3, 'commitment': 3, 'heckles': 3, 'oboe': 3, 'fool': 3, 'peeking': 3, '3': 3, 'a-a': 3, 'intense': 3, 'falling': 3, 'singing': 3, 'hidden': 3, 'beard': 3, 'drew': 3, 'pretending': 3, 'road': 3, 'musician': 3, '20': 3, 'tomato': 3, 'finished': 3, 'taken': 3, 'license': 3, 'weirdest': 3, 'labor': 3, 'both': 3, 'expensive': 3, 'ton': 3, 'mix': 3, 'laminated': 3, '13': 3, 'misunderstood': 3, 'lets': 3, 'bell': 3, 'agreed': 3, 'jamie': 3, 'cramp': 3, 'sergei': 3, 'gali': 3, 'opening': 3, 'bird': 3, 'upstairs': 3, 'action': 3, 'awesome': 3, 'toy': 3, 'fund': 3, 'only': 3, 'beach': 3, 'fear': 3, 'ho': 3, 'court': 3, 'knocking': 3, 'engagement': 3, 'telethon': 3, 'gala': 3, 'fancy': 3, 'ad': 3, 'glass': 3, 'yell': 3, 'punch': 3, 'armadillo': 3, '4': 3, '6': 3, 'cards': 3, 'insist': 3, 'carry': 3, 'certainly': 3, 'combination': 3, 'law': 3, 'yelling': 3, 'focus': 3, 'marcel': 3, 'whoever': 3, 'results': 3, 'suddenly': 3, 'pulling': 3, 'unagi': 3, 'aware': 3, 'homemade': 3, 'moon': 3, 'return': 3, 'safely': 3, 'plate': 3, 'princess': 3, 'rude': 3, 'drums': 3, 'skin': 3, 'flesh': 3, 'breast': 3, 'paying': 3, 'mac': 3, 'schedule': 3, 'oberman': 3, 'cervix': 3, 'wha': 3, 'sweetheart': 3, 'emergency': 3, 'jump': 3, 'mindy': 3, 'tile': 3, 'lifetime': 3, 'junior': 3, 'heat': 3, 'possibly': 3, 'manager': 3, 'running': 3, 'closed': 3, 'forgive': 3, 'chelsea': 3, 'naming': 3, 'cancel': 3, 'fighting': 3, 'gee': 3, 'blood': 3, 'including': 3, 'awful': 3, 'energy': 3, 'blocks': 3, '500': 3, 'eating': 3, 'points': 3, 'dressed': 3, 'oil': 3, 'sale': 3, 'sweeping': 3, \"o'clock\": 3, 'docks': 3, 'borrow': 3, 'america': 3, 'attractive': 3, 'odds': 3, 'drugs': 3, 'beat': 3, 'sake': 3, 'boom': 3, 'break-up': 3, '700': 3, 'sperm': 3, 'brown': 3, 'liking': 3, 'privacy': 3, 'color': 3, 'disgusting': 3, 'ocean': 3, 'lily': 3, 'gosh': 3, 'bill': 3, 'ed': 3, 'begley': 3, 'jr.': 3, 'more': 3, 'wells': 3, 'natural': 3, 'instincts': 3, 'fly': 3, 'whispering': 3, 'pregnancy': 3, 'group': 3, 'pearls': 3, 'clown': 3, 'adam': 3, 'eww': 3, 'reservations': 3, 'showed': 3, 'sickness': 3, 'power': 3, 'considered': 3, 'bother': 3, 'ping': 3, 'pong': 3, 'terrific': 3, 'butt': 3, 'noticed': 3, 'alarm': 3, 'sidney': 3, 'marks': 3, 'answering': 3, '27': 3, 'saves': 3, 'taught': 3, 'contraction': 3, 'stealing': 3, 'dial': 3, 'television': 3, 'paleontology': 3, 'screwed': 3, 'join': 3, 'forbidden': 3, 'novels': 3, 'evaluation': 3, 'concentrate': 3, 'popular': 3, 'matthews': 3, 'partner': 3, 'twin': 3, 'flea': 3, 'drapes': 3, 'twins': 3, 'fling': 3, 'sugar': 3, 'fortunately': 3, 'poking': 3, 'retract': 3, 'flip': 3, 'ducks': 3, 'clowns': 3, 'hollow': 3, 'uterus': 3, 'slip': 3, 'worker': 3, 'snack': 3, 'gum': 3, 'neighbors': 3, 'towel': 3, 'exciting': 3, 'lawyer': 3, 'negative': 3, 'keeping': 3, 'star': 3, 'recipe': 3, 'awww': 3, 'normal': 3, 'limit': 3, 'brothers': 3, 'seat': 3, 'gives': 3, 'vent': 3, 'filing': 3, 'friendly': 3, 'smile': 3, 'type': 3, 'bamboozled': 3, 'swing': 3, 'greatest': 3, 'kristen': 3, 'kristin': 3, 'sorta': 3, '200': 3, 'mm': 3, 'clearly': 3, 'fifteen': 3, 'mcdowell': 3, 'amy': 3, 'muscles': 3, 'security': 3, 'giant': 3, 'leather': 3, 'puppet': 3, 'dinosaur': 3, 'geez': 3, 'slow': 3, 'problems': 3, 'blame': 3, 'dictionary': 3, 'tank': 3, 'gas': 3, 'half-hour': 3, 'healthy': 3, 'following': 3, 'waiter': 3, 'postpone': 3, 'director': 3, 'heaven': 3, 'squeeze': 3, 'strength': 3, 'paris': 3, 'conscious': 3, 'lift': 3, 'rain': 3, 'freaking': 3, 'staying': 3, 'breasts': 3, 'minister': 3, 'too': 3, 'comet': 3, 'decision': 3, 'chase': 3, 'loser': 3, 'thirsty': 3, 'chop': 3, 'sauti': 3, 'certain': 2, 'beg': 2, 'waitress': 2, 'seemed': 2, 'war': 2, 'epic': 2, 'suggestions': 2, 'messed': 2, 'dessert': 2, 'buried': 2, 'spirit': 2, 'partying': 2, 'stranger': 2, 'video': 2, 'hug': 2, 'lined': 2, 'hernia': 2, 'indian': 2, 'dinosaurs': 2, 'sum': 2, 'laughing': 2, 'scientists': 2, 'importantly': 2, 'damage': 2, 'diaper': 2, 'dropping': 2, 'pee': 2, 'awkward': 2, 'common': 2, 'exploded': 2, 'gina': 2, 'dina': 2, 'lecture': 2, 'kyle': 2, 'hint': 2, 'propose': 2, 'uma': 2, 'thurman': 2, 'actress': 2, 'feminist': 2, 'charity': 2, 'embarrassing': 2, 'embarrass': 2, 'easily': 2, 'secure': 2, 'total': 2, 'wuss': 2, 'lobby': 2, 'charge': 2, 'vic': 2, 'such': 2, 'eighth': 2, 'deli': 2, 'ronni': 2, 'pet': 2, 'navy': 2, 'memory': 2, 'tomatoes': 2, 'league': 2, 'chair': 2, 'era': 2, 'queen': 2, 'von': 2, 'level': 2, 'earlier': 2, 'apologise': 2, 'anniversary': 2, 'promised': 2, 'complement': 2, 'krista': 2, 'atm': 2, 'switched': 2, 'gravy': 2, 'fridge': 2, 'maniac': 2, 'adding': 2, 'thin': 2, 'worn': 2, 'famous': 2, 'internet': 2, 'marrying': 2, 'legitimate': 2, 'member': 2, 'saliva': 2, 'playfully': 2, 'cushion': 2, 'spill': 2, 'exact': 2, 'robe': 2, 'latte': 2, 'pretend': 2, 'sissy': 2, 'nowhere': 2, 'virginity': 2, 'invitation': 2, 'finds': 2, 'drag': 2, 'oughta': 2, 'bum': 2, 'neat': 2, 'match': 2, 'apart': 2, 'rushed': 2, 'nuclear': 2, 'goods': 2, 'enjoyed': 2, 'create': 2, 'sophie': 2, 'unbelievably': 2, 'nurses': 2, 'harder': 2, 'magician': 2, 'shrill': 2, 'dealing': 2, 'johnson': 2, 'western': 2, 'checked': 2, 'messages': 2, 'round': 2, 'lap': 2, 'nutmeg': 2, 'professional': 2, 'sailing': 2, 'strangers': 2, 'signed': 2, 'helping': 2, 'india': 2, 'atlantic': 2, 'invented': 2, 'square': 2, 'seventh': 2, 'windows': 2, 'betting': 2, 'answers': 2, 'written': 2, 'goalie': 2, 'hairy': 2, 'eligible': 2, 'wig': 2, 'respectfully': 2, 'rocks': 2, 'ignore': 2, 'sunshine': 2, 'sky': 2, 'begin': 2, 'drama': 2, 'spilled': 2, 'research': 2, 'fits': 2, 'competition': 2, 'chest': 2, 'convinced': 2, 'gorilla': 2, 'pile': 2, 'football': 2, 'nights': 2, 'stuffing': 2, 'honing': 2, 'dishes': 2, 'caught': 2, 'grow': 2, 'cook': 2, 'trusted': 2, 'shave': 2, 'impressions': 2, 'butter': 2, 'lamp': 2, 'ukrainian': 2, 'band-aid': 2, 'fantastic': 2, 'fellow': 2, 'appears': 2, 'songs': 2, 'pen': 2, 'draw': 2, 'moustache': 2, 'iced': 2, 'juice': 2, 'hmmm': 2, 'fella': 2, 'voice': 2, 'delicious': 2, 'criticism': 2, 'feast': 2, 'pumpkin': 2, 'difficult': 2, 'gang': 2, 'dare': 2, 'grown': 2, 'blow': 2, 'saint': 2, 'stolen': 2, 'starving': 2, 'arm': 2, 'spooky': 2, 'ole': 2, 'factory': 2, 'pin': 2, 'waking': 2, 'feeding': 2, 'jingle': 2, 'nut': 2, 'whip': 2, 'ahead': 2, 'popcorn': 2, 'pushing': 2, 'success': 2, 'disease': 2, 'freeze': 2, 'vacation': 2, 'florida': 2, 'krog': 2, 'fully': 2, 'waitressing': 2, 'specials': 2, 'chocolate': 2, 'midnight': 2, 'truck': 2, 'jordie': 2, 'suit': 2, 'sun': 2, 'mountain': 2, 'jogging': 2, 'property': 2, 'lovers': 2, 'after': 2, 'linen': 2, 'strips': 2, 'motion': 2, 'painful': 2, 'wax': 2, 'satin': 2, 'learning': 2, 'scientist': 2, 'russia': 2, 'waiters': 2, 'chefs': 2, 'audience': 2, 'depressed': 2, 'doug': 2, 'a.m': 2, 'bear': 2, 'behaved': 2, 'tuesday': 2, 'balls': 2, 'flying': 2, 'tom': 2, 'blackout': 2, 'beginning': 2, 'sheer': 2, 'blouse': 2, 'doctors': 2, 'became': 2, 'yelled': 2, 'routine': 2, 'catching': 2, '5': 2, 'american': 2, 'push': 2, 'janine': 2, 'ba': 2, 'wind': 2, 'airport': 2, 'fabulous': 2, 'charlie': 2, 'ai': 2, 'maternity': 2, 'hogging': 2, 'july': 2, 'apple': 2, 'cubicle': 2, 'cube': 2, 'sweep': 2, 'hammer': 2, 'cruel': 2, 'ringing': 2, 'helped': 2, 'sid': 2, 'deposit': 2, 'assumed': 2, 'alive': 2, '48': 2, 'joan': 2, 'collins': 2, 'sea': 2, 'large': 2, 'cancelled': 2, 'counter': 2, 'flattered': 2, 'sensed': 2, 'apollo': 2, 'sixth': 2, 'stood': 2, 'katie': 2, 'nicest': 2, 'kicked': 2, 'rapist': 2, 'should': 2, 'brochures': 2, 'coffeehouse': 2, 'paste': 2, 'situation': 2, 'maria': 2, 'silk': 2, 'theme': 2, 'nipples': 2, 'career': 2, 'depends': 2, 'bail': 2, 'pathetic': 2, 'needy': 2, 'egg': 2, 'muffins': 2, 'exist': 2, 'controls': 2, 'wasting': 2, 'guilty': 2, 'graduated': 2, 'lobster': 2, 'shake': 2, 'plates': 2, 'celtics': 2, 'bernice': 2, 'tiles': 2, 'build': 2, 'unit': 2, 'customer': 2, 'scare': 2, 'kisser': 2, 'toner': 2, 'empire': 2, 'supply': 2, 'catering': 2, 'lock': 2, 'often': 2, 'cilantro': 2, 'hopping': 2, '1,000': 2, 'daily': 2, 'joseph': 2, 'francis': 2, 'conquered': 2, 'physical': 2, 'ultimate': 2, 'champion': 2, 'training': 2, 'designer': 2, 'row': 2, 'beeped': 2, 'spleen': 2, 'bald': 2, 'chess': 2, 'soak': 2, 'blazers': 2, 'rejoin': 2, '22': 2, '18': 2, 'spelled': 2, 'boobies': 2, 'mint': 2, 'treasures': 2, 'price': 2, 'score': 2, 'disposable': 2, 'groceries': 2, 'report': 2, 'eaten': 2, 'sharp': 2, 'wheel': 2, 'jackass': 2, 'contestants': 2, 'horse': 2, 'allergies': 2, 'soda': 2, 'sweety': 2, 'bags': 2, 'refuse': 2, 'tramp': 2, 'faster': 2, 'broom': 2, 'opposite': 2, 'batch': 2, 'dies': 2, 'mary': 2, 'mailman': 2, 'teeth': 2, 'sucker': 2, 'boarding': 2, 'oooh': 2, 'jacket': 2, 'lens': 2, 'private': 2, 'countdown': 2, 'alien': 2, 'an': 2, 'suite': 2, 'lounge': 2, 'manly': 2, 'slut': 2, 'brings': 2, 'avenue': 2, 'reasons': 2, 'hardly': 2, 'nelson': 2, 'grass': 2, 'dingy': 2, 'doubt': 2, 'hamper': 2, 'remove': 2, 'liam': 2, 'unusual': 2, 'abott': 2, 'cable': 2, 'loan': 2, 'jet': 2, 'helps': 2, 'pledges': 2, 'performance': 2, 'pill': 2, 'guts': 2, 'sayin': 2, 'drunken': 2, 'stunning': 2, 'attack': 2, 'connect': 2, '33': 2, 'issues': 2, 'bagel': 2, 'deep': 2, 'confident': 2, 'manage': 2, 'hardest': 2, 'picnic': 2, 'finger': 2, '35': 2, 'impressive': 2, 'guard': 2, 'breath': 2, 'walls': 2, 'boxer': 2, 'shorts': 2, 'awfully': 2, 'application': 2, 'closer': 2, 'panicked': 2, 'latour': 2, 'unacceptable': 2, 'punk': 2, 'state': 2, 'nude': 2, 'blades': 2, 'complicated': 2, 'magazines': 2, 'aisle': 2, 'incredibly': 2, 'paints': 2, 'charcoal': 2, '41': 2, 'paranoid': 2, 'proposed': 2, 'goose': 2, 'bumps': 2, 'rush': 2, 'chin': 2, 'puff': 2, 'forgotten': 2, 'tastes': 2, 'crust': 2, 'chicago': 2, 'illinois': 2, 'hopefully': 2, 'rough': 2, 'forgetting': 2, 'competitive': 2, 'fish': 2, 'lotion': 2, 'planned': 2, 'howie': 2, 'hated': 2, 'label': 2, 'search': 2, 'irony': 2, 'benefits': 2, 'lapsed': 2, 'agent': 2, 'rented': 2, 'mention': 2, 'triple': 2, '93': 2, '76': 2, 'barium': 2, 'local': 2, 'laugh': 2, 'president': 2, 'urgent': 2, 'belt': 2, 'lasagne': 2, 'los': 2, 'gary': 2, 'boots': 2, 'tan': 2, 'opera': 2, 'recent': 2, '8:00': 2, 'neil': 2, 'lasagna': 2, 'fulfilling': 2, 'yikes': 2, 'animal': 2, 'bumped': 2, 'none': 2, 'accent': 2, 'nanny': 2, 'betty': 2, 'chocolates': 2, 'abort': 2, 'uniform': 2, 'specially': 2, 'project': 2, 'classes': 2, 'sheets': 2, 'cried': 2, 'suggestion': 2, 'potatoes': 2, 'kinds': 2, 'underdog': 2, 'balloon': 2, 'cartoon': 2, 'reached': 2, \"d'you\": 2, 'observe': 2, 'quiet': 2, 'chairs': 2, '45': 2, 'identical': 2, 'study': 2, '2,000': 2, 'testing': 2, 'smells': 2, 'officially': 2, 'fairly': 2, 'patrick': 2, 'balance': 2, 'tweezers': 2, 'acting': 2, 'direction': 2, 'south': 2, 'clever': 2, 'ideas': 2, 'wished': 2, 'joanna': 2, 'beating': 2, 'mistakes': 2, 'jerks': 2, 'ballroom': 2, 'finals': 2, 'whitney': 2, 'mouse': 2, 'terry': 2, 'hopeless': 2, 'stryker': 2, 'miracle': 2, 'tin': 2, 'emotional': 2, 'burned': 2, 'intuitive': 2, 'stevie': 2, 'backstage': 2, 'smoking': 2, 'mouthing': 2, 'beans': 2, 'sunday': 2, 'patch': 2, 'lighter': 2, 'thumb': 2, 'mel': 2, 'aaron': 2, 'fanny': 2, 'carrying': 2, 'medical': 2, 'terms': 2, 'steal': 2, 'laughed': 2, 'blast': 2, 'naps': 2, 'jew': 2, 'inspector': 2, 'designers': 2, 'laid': 2, 'kissing': 2, 'sweaty': 2, 'subtle': 2, 'drum': 2, 'sticks': 2, 'react': 2, 'lilies': 2, 'brownie': 2, 'foosball': 2, 'violated': 2, 'helen': 2, 'photos': 2, 'fiancee': 2, 'scooch': 2, 'teaches': 2, 'annabelle': 2, 'swimming': 2, 'eggs': 2, 'embryos': 2, 'gumball': 2, 'regatta': 2, 'canvas': 2, 'monet': 2, 'phonetically': 2, 'memorize': 2, 'carefully': 2, '23': 2, 'client': 2, 'testify': 2, 'owes': 2, '7.50': 2, 'cursed': 2, 'andie': 2, 'horoscope': 2, 'spat': 2, 'psyched': 2, '4:00': 2, 'landlord': 2, 'makin': 2, 'joy': 2, 'practicing': 2, 'seats': 2, 'prove': 2, 'forty-five': 2, 'glen': 2, 'fiancée': 2, 'guide': 2, 'roommates': 2, 'boles': 2, 'avoid': 2, 'attic': 2, 'given': 2, 'purpose': 2, 'growing': 2, 'official': 2, 'guilt': 2, 'vibe': 2, 'steak': 2, 'overseas': 2, '28': 2, 'mirror': 2, 'barley': 2, 'sophisticated': 2, 'cereal': 2, 'flicks': 2, 'pushover': 2, 'albany': 2, 'younger': 2, 'taller': 2, 'science': 2, 'wesley': 2, 'stopped': 2, 'worrying': 2, 'caller': 2, 'alice': 2, 'data': 2, 'pleasant': 2, 'knowing': 2, 'ding': 2, 'elaine': 2, 'slight': 2, 'integrity': 2, 'drops': 2, 'slide': 2, 'happiness': 2, 'weak': 2, 'martin': 2, 'scorcese': 2, 'sat': 2, 'vision': 2, 'recently': 2, 'comin': 2, 'staten': 2, 'tasted': 2, 'rhonda': 2, 'scott': 2, 'masculine': 2, 'casting': 2, 'tons': 2, 'cuter': 2, 'cleaner': 2, 'stage': 2, 'restaurants': 2, 'liquor': 2, 'loveable': 2, 'thousand': 2, 'expression': 2, 'moms': 2, '&': 2, 'ordinary': 2, 'knives': 2, 'ankle': 2, 'hip': 2, 'reject': 2, 'revenge': 2, 'bouillabaisse': 2, 'stare': 2, 'crab': 2, 'cakes': 2, \"ma'am\": 2, 'cigarette': 2, 'tar': 2, 'dunno': 2, 'station': 2, 'hamburger': 2, 'customers': 2, 'morgan': 2, 'cancellation': 2, 'facility': 2, 'chippy': 2, 'jennifer': 2, 'master': 2, 'poet': 2, 'shadow': 2, 'lip': 2, 'related': 2, 'howdy': 2, 'wa': 2, 'whistle': 2, 'bearnaise': 2, 'convention': 2, 'kate': 2, 'miller': 2, 'wrapped': 2, 'female': 2, 'setting': 2, 'skip': 2, 'peep': 2, 'nose': 2, 'grandfather': 2, 'welch': 2, 'mia': 2, 'hamm': 2, 'summer': 2, 'cuba': 2, 'northern': 2, 'parade': 2, 'hired': 2, 'swans': 2, 'lem': 2, 'messing': 2, 'petrie': 2, '717': 2, 'sulk': 2, 'huntley': 2, 'e-mail': 2, 'scottish': 2, 'trifle': 2, 'bicep': 2, 'memorial': 2, 'salt': 2, 'simmons': 2, 'transition': 1, 'amount': 1, 'detail': 1, 'definite': 1, 'confidence': 1, 'chris': 1, 'turning': 1, 'betcha': 1, 'vessel': 1, 'emptier': 1, 'interviewed': 1, 'coached': 1, 'ambulance': 1, 'wander': 1, 'nether': 1, 'eternity': 1, 'usual': 1, 'aerobics': 1, 'poster': 1, 'perk': 1, 'village': 1, 'having': 1, 'seek': 1, 'comfort': 1, 'wry': 1, 'respects': 1, 'auditions': 1, 'blinding': 1, 'lifting': 1, 'weights': 1, 'passed': 1, 'sticking': 1, '15s': 1, 'eighteenth': 1, 'artifact': 1, 'calcutta': 1, 'homo': 1, 'erectus': 1, 'hum': 1, 'keynote': 1, 'speaker': 1, 'clerk': 1, 'academics': 1, 'sand': 1, 'flood': 1, 'bash': 1, 'lima': 1, 'bean': 1, 'bubbling': 1, 'ahhh': 1, 'forth': 1, 'erin': 1, 'calms': 1, 'peaceful': 1, 'nodded': 1, 'insecure': 1, 'deaf': 1, 'constantly': 1, 'reassure': 1, 'airplane': 1, 'monger': 1, 'nailed': 1, 'foxtrot': 1, 'tango': 1, 'marge': 1, 'wracking': 1, 'callbacks': 1, 'concussion': 1, 'sensing': 1, 'controlled': 1, 'glee': 1, 'recover': 1, 'matt': 1, 'cleaned': 1, 'scouts': 1, 'camped': 1, 'ooo': 1, 'moral': 1, 'obligation': 1, 'oop': 1, 'event': 1, 'hilarious': 1, 'hundreds': 1, 'rode': 1, 'faced': 1, 'fears': 1, 'ultimately': 1, 'overcame': 1, 'options': 1, 'prototypes': 1, 'mushroom': 1, 'cap': 1, 'bologna': 1, 'toothpicks': 1, 'tasty': 1, 'victor': 1, 'onion': 1, 'rookie': 1, 'greg': 1, 'jenny': 1, 'souvenirs': 1, 'poisoning': 1, 'mortician': 1, 'yard': 1, 'ships': 1, 'dick': 1, 'guru': 1, 'saj': 1, 'shampoo': 1, 'mesozoic': 1, '21st': 1, 'low': 1, 'courtside': 1, 'anvil': 1, 'aim': 1, 'babes': 1, 'immodest': 1, 'whiff': 1, 'frowned': 1, 'upon': 1, 'reputation': 1, 'block': 1, 'thursday': 1, 'keystone': 1, 'caplin': 1, 'wayne': 1, 'rumors': 1, 'stressed': 1, 'swore': 1, 'gods': 1, 'sock': 1, 'forcing': 1, 'numb': 1, 'straight-up': 1, 'gangster': 1, 'rap': 1, 'i.': 1, 'visiting': 1, 'victoria': 1, 'model': 1, 'trapped': 1, 'snooty': 1, 'stocked': 1, 'donut': 1, 'conclusion': 1, '8:30': 1, 'briefcase': 1, 'basis': 1, 'freakish': 1, 'hanger': 1, 'expressly': 1, 'val': 1, 'kilmer': 1, 'batman': 1, 'ordained': 1, 'weddings': 1, 'clergy': 1, 'passion': 1, 'rubs': 1, 'dot': 1, 'ink': 1, 'sofa': 1, 'cushions': 1, 'spaghetti': 1, 'homeless': 1, 'denise': 1, 'secretly': 1, 'hire': 1, 'espresso': 1, 'brutal': 1, 'willing': 1, 'travelling': 1, 'handing': 1, 'initiated': 1, 'danger': 1, 'waste': 1, 'olivia': 1, 'extras': 1, 'scenes': 1, 'christian': 1, 'sanders': 1, 'bitten': 1, 'peacock': 1, 'rsvp': 1, 'veil': 1, 'kurt': 1, 'douglas': 1, 'pep': 1, 'rally': 1, 'pyramid': 1, 'marijuana': 1, 'cigarettes': 1, 'ripped': 1, 'microphones': 1, '6:00': 1, 'holocaust': 1, 'earth': 1, 'canned': 1, 'dug': 1, 'occasional': 1, 'ing': 1, 'binge': 1, 'position': 1, 'buyer': 1, 'effective': 1, 'expense': 1, 'cheeks': 1, 'bossy': 1, 'domineering': 1, 'sloppy': 1, 'immature': 1, 'cousin': 1, 'obsessive': 1, 'voices': 1, 'run-of-the-mill': 1, 'hamilton': 1, 'rear': 1, 'backpacking': 1, 'studied': 1, 'foothills': 1, 'mount': 1, 'error': 1, 'credited': 1, 'inconvenience': 1, 'copies': 1, 'panties': 1, 'exotic': 1, 'vermont': 1, 'daiquiris': 1, 'virgin': 1, 'carpet': 1, 'layman': 1, 'arrogance': 1, 'unable': 1, 'incident': 1, 'once': 1, 'scale': 1, 'dumbest': 1, 'appointments': 1, 'greasy': 1, 'faeces': 1, 'videos': 1, 'museums': 1, 'version': 1, 'racecar': 1, 'jester': 1, 'wins': 1, 'daydreaming': 1, 'outer': 1, 'taj': 1, 'mahal': 1, 'slots': 1, 'grope': 1, 'parallel': 1, 'stairway': 1, 'counting': 1, 'lightning': 1, 'hockey': 1, 'claims': 1, 'dangerous': 1, 'liaisons': 1, 'phase': 1, 'realised': 1, 'topic': 1, 'ruth': 1, 'plain': 1, 'disarray': 1, 'flung': 1, 'physically': 1, 'depending': 1, 'species': 1, 'alumni': 1, 'reads': 1, 'fossil': 1, 'samples': 1, 'steps': 1, 'entirely': 1, 'drying': 1, 'rod': 1, 'horribly': 1, 'traumatised': 1, 'mommy': 1, 'ambitious': 1, 'pyjama': 1, 'stating': 1, 'plague': 1, 'houses': 1, 'cats': 1, 'donuts': 1, 'odour': 1, 'chinese': 1, 'transit': 1, 'authority': 1, 'onto': 1, 'stroller': 1, 'introducing': 1, 'applied': 1, 'fierce': 1, 'applaud': 1, 'intended': 1, 'admitted': 1, 'friendship': 1, 'farrell': 1, 'overheard': 1, 'ot': 1, 'bigot': 1, 'tests': 1, 'learners': 1, 'essay': 1, 'documents': 1, 'toss': 1, 'claim': 1, 'mexico': 1, 'national': 1, 'sundays': 1, 'danielle': 1, 'telescope': 1, 'creeps': 1, 'spatters': 1, 'watched': 1, 'pot': 1, 'beeps': 1, 'saddest': 1, 'camper': 1, 'minimal': 1, 'rethink': 1, 'fabric': 1, 'softener': 1, 'adventure': 1, 'delvecchio': 1, 'imagination': 1, 'split': 1, 'hibachi': 1, 'affect': 1, 'form': 1, 'ms': 1, 'grant': 1, 'accidentally': 1, 'valuable': 1, 'socks': 1, 'girlie': 1, 'stereo': 1, 'disturbing': 1, 'belongs': 1, 'peek': 1, 'spoil': 1, 'molly': 1, 'complex': 1, 'unlikely': 1, 'geeky': 1, 'older': 1, 'vulnerability': 1, 'factor': 1, '29': 1, 'savings': 1, 'focusing': 1, 'consider': 1, 'length': 1, 'rope': 1, 'grace': 1, 'rhyming': 1, 'styles': 1, 'beside': 1, 'partners': 1, 'doodle': 1, 'besides': 1, 'busty': 1, 'general': 1, 'ment': 1, 'brilliant': 1, 'sincerely': 1, 'wisely': 1, 'selfish': 1, 'particular': 1, 'superb': 1, 'complaint': 1, 'traditional': 1, 'grilled': 1, 'fixin': 1, 'havin': 1, 'magnificent': 1, 'vividly': 1, 'mouthful': 1, 'reverse': 1, 'nana': 1, 'java': 1, '1939': 1, '24': 1, 'poison': 1, 'involved': 1, 'mature': 1, 'category': 1, 'returning': 1, 'nominees': 1, 'wheeler': 1, 'aquarius': 1, 'gemini': 1, 'taurus': 1, 'virgo': 1, 'sagittarius': 1, 'meantime': 1, 'bernard': 1, 'contracting': 1, 'wide': 1, 'pelvis': 1, 'unwitting': 1, 'essence': 1, 'crawl': 1, 'meddled': 1, 'according': 1, 'sparkly': 1, 'capades': 1, 'wooo': 1, 'matador': 1, 'one-woman': 1, 'stupider': 1, 'medieval': 1, 'nighttime': 1, 'antique': 1, 'fortune': 1, 'ridiculously': 1, 'crystal': 1, 'depressing': 1, 'soft': 1, 'pretzel': 1, 'id': 1, 'bras': 1, 'jurassic': 1, 'scarf': 1, 'tucked': 1, 'ewww': 1, 'campaign': 1, 'millionaire': 1, 'up': 1, 'hazel': 1, 'foam': 1, 'missy': 1, 'alternate': 1, 'crawler': 1, 'a-ha': 1, 'raised': 1, 'awareness': 1, 'angry': 1, 'ooooh': 1, 'doorknob': 1, 'grows': 1, 'spring': 1, 'adorable': 1, 'equipped': 1, 'destroy': 1, 'fourteen': 1, 'protected': 1, 'tornado': 1, 'dreamless': 1, 'dirt': 1, 'dumping': 1, 'reality': 1, 'cleansing': 1, 'firemen': 1, 'cramps': 1, 'voulez-vous': 1, 'coucher': 1, 'avec': 1, 'moi': 1, 'ce': 1, 'soir': 1, 'cafe': 1, 'maurice': 1, 'fascinated': 1, 'talky': 1, 'golden': 1, 'menu': 1, 'mischa': 1, 'silently': 1, 'airhead': 1, 'forgets': 1, 'paulette': 1, 'vincent': 1, 'soaked': 1, 'thrilled': 1, 'judy': 1, 'diaphragm': 1, 'chew': 1, 'halloween': 1, 'withdrawal': 1, 'applying': 1, 'grasp': 1, 'nighties': 1, 'nerves': 1, 'deadened': 1, 'haircut': 1, 'thirty': 1, 'guides': 1, 'alley': 1, 'wave': 1, 'butternut': 1, 'squash': 1, 'reliving': 1, 'indians': 1, 'tad': 1, 'edgy': 1, 'papers': 1, 'chewed': 1, 'trap': 1, 'harassment': 1, 'cases': 1, 'urine': 1, 'cuts': 1, 'broiling': 1, 'pan': 1, 'caterpillars': 1, 'william': 1, 'sonoma': 1, '4-6': 1, 'champ': 1, 'battery': 1, 'skimp': 1, '112': 1, '110': 1, 'mingle': 1, 'ease': 1, 'solider': 1, 'tommy': 1, 'lobbing': 1, 'yellow': 1, 'method': 1, 'chord': 1, 'layering': 1, 'fabrics': 1, 'colours': 1, 'instance': 1, 'deadline': 1, 'fundamentally': 1, 'parachute': 1, 'knapsack': 1, 'franzblau': 1, 'merry': 1, 'platform': 1, 'millennium': 1, 'update': 1, 'stronger': 1, 'scarves': 1, 'tulip': 1, 't-shirt': 1, 'tourists': 1, 'poems': 1, 'neutral': 1, 'haul': 1, '2030': 1, 'computers': 1, 'functions': 1, 'theoretically': 1, 'download': 1, 'interfacing': 1, 'stays': 1, 'bernoulli': 1, 'principle': 1, 'newton': 1, 'slutty': 1, 'lingerie': 1, 'hurtin': 1, 'overdue': 1, 'apology': 1, 'overweight': 1, 'stroke': 1, 'tingly': 1, 'hickey': 1, 'speaks': 1, 'held': 1, 'scores': 1, 'winning': 1, 'roast': 1, 'pizzas': 1, 'peeing': 1, 'brush': 1, 'lid': 1, 'per': 1, 'se': 1, 'interactive': 1, 'wildlife': 1, 'animals': 1, 'docile': 1, 'cornered': 1, 'objects': 1, 'banana': 1, 'whatcha': 1, 'blade': 1, 'rabbit': 1, 'gains': 1, 'specimen': 1, 'process': 1, 'allow': 1, 'haha': 1, 'hyphen': 1, 'bicentennial': 1, 'ethan': 1, 'felon': 1, 'fallin': 1, 'shiny': 1, 'chad': 1, 'miserable': 1, 'seahorse': 1, 'seahorses': 1, 'toward': 1, 'terrified': 1, 'namesake': 1, 'avoiding': 1, 'entering': 1, 'puppies': 1, 'wound': 1, 'exposed': 1, 'sexually': 1, 'lover': 1, 'satisfy': 1, 'fulfill': 1, 'eel': 1, 'replica': 1, 'sends': 1, 'orbit': 1, 'captain': 1, 'clark': 1, 'happier': 1, 'ceremony': 1, 'reinforcements': 1, 'hitchhiker': 1, 'killer': 1, 'tiffany': 1, 'pays': 1, 'matches': 1, 'timing': 1, 'fires': 1, 'gossiping': 1, 'diets': 1, 'moderation': 1, 'understood': 1, 'unbearable': 1, 'tequila': 1, 'partly': 1, 'lesson': 1, 'session': 1, '1200': 1, 'lycra': 1, 'spandex': 1, 'dared': 1, 'briefs': 1, 'flap': 1, 'heels': 1, 'posture': 1, 'lumberjack': 1, 'masculinity': 1, 'lusts': 1, 'nursing': 1, 'emma': 1, 'yowza': 1, 'lord': 1, 'doesn': 1, 'y': 1, 'pillman': 1, 'counselor': 1, 'added': 1, 'vulnerable': 1, 'sung': 1, 'authorized': 1, 'distribute': 1, 'reciprocate': 1, 'blessing': 1, 'meaningless': 1, 'dead-end': 1, 'surrounded': 1, 'charm': 1, 'mistaken': 1, 'badly': 1, 'convince': 1, 'ravioli': 1, 'supportive': 1, 'quack': 1, 'opens': 1, 'robbie': 1, 'snow': 1, 'knick': 1, 'ewing': 1, 'rebuilding': 1, 'choking': 1, 'retainer': 1, 'hating': 1, 'sweating': 1, 'punches': 1, 'devil': 1, 'satan': 1, 'smock': 1, 'complementary': 1, 'climbing': 1, 'yo': 1, 'lay': 1, 'copying': 1, 'philly': 1, 'champagne': 1, 'anniversaries': 1, 'lasts': 1, 'fantasy': 1, 'fantasies': 1, 'sour': 1, 'sneak': 1, 'cockpit': 1, 'stewardess': 1, 'trial': 1, 'supplies': 1, 'blouses': 1, 'dresses': 1, 'purses': 1, 'paint': 1, 'sword': 1, 'replace': 1, 'baguette': 1, 'one-on-one': 1, '98': 1, 'tennille': 1, 'reporter': 1, 'influence': 1, 'dozens': 1, '92.3': 1, 'wxrk': 1, 'k-rock': 1, 'challenge': 1, 'karen': 1, 'ditch': 1, 'possibility': 1, 'girlfriends': 1, 'intellectual': 1, 'missing': 1, 'conquer': 1, 'banned': 1, '49': 1, 'trainer': 1, 'koon': 1, 'doe': 1, 'brazilian': 1, 'octagon': 1, 'designed': 1, 'ruptured': 1, 'stu': 1, 'joked': 1, 'shows': 1, 'morse': 1, 'lied': 1, 'risky': 1, 'frozen': 1, 'lake': 1, 'mask': 1, 'cameron': 1, 'diaz': 1, 'sabotage': 1, 'gate': 1, 'packing': 1, 'bums': 1, 'genuinely': 1, 'fort': 1, 'danced': 1, 'fallen': 1, 'apologizing': 1, 'furnished': 1, 'rage': 1, '12': 1, 'cookie': 1, 'seventeen': 1, 'planetarium': 1, 'occurred': 1, 'nyu': 1, 'dorms': 1, 'envelope': 1, 'stuffers': 1, 'stamp': 1, 'lickers': 1, 'resumes': 1, 'soaps': 1, 'shampoos': 1, 'cake': 1, 'murray': 1, 'handed': 1, 'yugoslavian': 1, 'milan': 1, 'respond': 1, 'superiors': 1, 'l.a': 1, 'edges': 1, 'entitled': 1, 'angel': 1, 'losing': 1, 'losers': 1, 'spin': 1, 'google': 1, 'gimmie': 1, 'other': 1, 'life-like': 1, 'flirt': 1, 'graceful': 1, 'visit': 1, 'dried': 1, 'seashores': 1, 'licence': 1, 'revoked': 1, 'slips': 1, 'cotton': 1, 'lifeguards': 1, 'dismantle': 1, 'offered': 1, 'fran': 1, 'picky': 1, 'musta': 1, 'grieve': 1, 'wholesale': 1, 'socket': 1, 'tinted': 1, 'brownies': 1, 'tooth': 1, 'invisible': 1, 'dentists': 1, 'oral': 1, 'hygiene': 1, 'floss': 1, 'coincidence': 1, 'dreadful': 1, 'acted': 1, 'england': 1, 'celebrities': 1, 'spots': 1, 'forgiving': 1, 'sarandon': 1, 'political': 1, 'donated': 1, 'cans': 1, 'geography': 1, 'twenty-one': 1, 'jetway': 1, 'federal': 1, 'regulations': 1, 'beats': 1, 'receive': 1, 'doubling': 1, 'bonus': 1, '100': 1, '1,500': 1, 'somehow': 1, 'presenting': 1, 'sarah': 1, 'mission': 1, 'asteroid': 1, 'kiddin': 1, 'wonderfulness': 1, 'creepy': 1, 'screwing': 1, 'handshake': 1, 'theory': 1, 'dominance': 1, 'freeman': 1, 'graduate': 1, 'seminar': 1, 'sounded': 1, 'superstar': 1, 'pouring': 1, 'feasted': 1, 'closet': 1, 'crushing': 1, 'bones': 1, 'ouch': 1, 'constructive': 1, 'solution': 1, 'chalk': 1, 'lesbian': 1, '1982': 1, 'hardware': 1, 'redo': 1, 'highly': 1, 'inch': 1, 'glued': 1, 'pry': 1, 'gouged': 1, 'surgeons': 1, 'colon': 1, 'tummy': 1, 'purred': 1, 'heck': 1, 'homesick': 1, 'lads': 1, 'babe': 1, 'scrum': 1, 'gorgeous': 1, 'bedrooms': 1, 'baths': 1, 'skinny': 1, 'sunglasses': 1, 'radio': 1, 'holds': 1, 'spaceship': 1, 'woo': 1, 'stung': 1, 'victorian': 1, 'doorknobs': 1, 'dragged': 1, 'ornate': 1, 'ninth': 1, 'finest': 1, 'oak': 1, 'east': 1, 'mississippi': 1, 'prettiest': 1, 'lace': 1, 'craftsmanship': 1, '5,000': 1, '300': 1, 'changing': 1, 'offer': 1, 'profit': 1, 'accountant': 1, 'same': 1, 'shark': 1, 'crossword': 1, 'dots': 1, 'maroon': 1, 'comedy': 1, 'petite': 1, 'wee': 1, 'mute': 1, 'jewelry': 1, 'neurologist': 1, 'comprehensive': 1, 'overview': 1, 'status': 1, 'response': 1, 'clifford': 1, 'burnett': 1, 'november': 1, '16': 1, 'based': 1, 'cliff': 1, 'mathematician': 1, 'widower': 1, 'muriel': 1, 'rhymes': 1, 'breaths': 1, 'atmosphere': 1, 'sidestep': 1, '26': 1, 'mazel': 1, 'tov': 1, 'uptown': 1, 'racist': 1, 'positive': 1, 'ex-boyfriend': 1, 'trading': 1, 'zinfandel': 1, 'closest': 1, 'angelica': 1, 'bask': 1, 'triumph': 1, 'meaning': 1, 'european': 1, 'culture': 1, 'puke': 1, 'grabs': 1, 'cheered': 1, 'wisdom': 1, 'river': 1, 'coast': 1, 'ceilings': 1, 'sage': 1, 'branches': 1, 'sacramental': 1, 'oregano': 1, 'semen': 1, 'righteous': 1, 'ritual': 1, 'ritter': 1, 'receipt': 1, 'oon': 1, 'scotty': 1, 'jared': 1, 'paulo': 1, 'grappa': 1, 'salmon': 1, 'sets': 1, 'slash': 1, 'bathtub': 1, 'sooo': 1, 'skedaddle': 1, 'highness': 1, 'loaner': 1, 'helper': 1, 'imaginary': 1, 'lafite': 1, 'nicely': 1, 'damaged': 1, 'zillionaire': 1, 'dakota': 1, 'zip': 1, 'nudes': 1, 'roller': 1, 'shrink': 1, 'stumble': 1, 'item': 1, 'winterberry': 1, 'herbal': 1, 'savory': 1, 'resist': 1, 'brides': 1, 'donna': 1, 'carin': 1, 'clubbing': 1, 'imagining': 1, 'guests': 1, 'fireman': 1, 'journal': 1, 'drawings': 1, 'colors': 1, 'access': 1, 'math': 1, 'paths': 1, 'stayed': 1, 'random': 1, 'intimidated': 1, 'bore': 1, 'manipulative': 1, 'doors': 1, 'adjustment': 1, 'progress': 1, 'removal': 1, 'glaucoma': 1, 'haunt': 1, 'step': 1, 'cubby': 1, 'max': 1, 'snug': 1, 'sergio': 1, 'delivered': 1, 'buttery': 1, 'crumbly': 1, 'graham': 1, 'cracker': 1, 'filling': 1, 'filled': 1, 'tempted': 1, 'bakery': 1, 'scooter': 1, 'hill': 1, 'tracks': 1, 'boobie': 1, 'payback': 1, 'express': 1, 'silence': 1, 'lambs': 1, 'specifically': 1, 'rubber': 1, 'glue': 1, 'er': 1, 'dilated': 1, 'fingers': 1, 'compare': 1, 'interrupting': 1, 'fed': 1, 'bridal': 1, 'ruined': 1, 'raining': 1, 'bright': 1, 'paleontologists': 1, 'shirts': 1, 'others': 1, 'punched': 1, 'clunked': 1, 'massager': 1, 'reach': 1, 'originated': 1, 'aroma': 1, 'pirate': 1, 'foster': 1, 'puppets': 1, 'interviewing': 1, 'opponent': 1, 'trains': 1, 'iran': 1, 'thieves': 1, 'capable': 1, 'burger': 1, 'slap': 1, 'conducting': 1, 'experiment': 1, 'smack': 1, 'websites': 1, 'website': 1, 'unnecessary': 1, 'government': 1, 'tabs': 1, 'branching': 1, 'solidify': 1, 'declare': 1, 'editing': 1, 'edit': 1, 'spoken': 1, 'refill': 1, 'don': 1, 'janet': 1, 'can-can': 1, 'wrap': 1, 'blanket': 1, 'warrant': 1, 'reattach': 1, 'disconnect': 1, 'circle': 1, 'hoop': 1, 'pointing': 1, 'peeper': 1, 'heating': 1, 'radiator': 1, 'screen': 1, 'guild': 1, 'residual': 1, 'expired': 1, 'boats': 1, 'viking': 1, 'mmm': 1, 'moist': 1, 'surefire': 1, 'talker': 1, 'tissues': 1, 'freemont': 1, 'drove': 1, 'enema': 1, 'wonderment': 1, 'gaze': 1, 'drowning': 1, 'moron': 1, '80': 1, 'guarantee': 1, 'deals': 1, 'locked': 1, 'shook': 1, 'seal': 1, 'meat': 1, 'sweats': 1, 'press': 1, 'sliver': 1, 'hometowns': 1, 'classroom': 1, 'students': 1, 'picturing': 1, 'lit': 1, 'midterms': 1, 'countries': 1, 'tone': 1, 'semi-private': 1, 'dogs': 1, 'lag': 1, 'flies': 1, 'angeles': 1, 'loses': 1, 'touching': 1, 'cell': 1, 'rang': 1, 'features': 1, 'handbag': 1, 'puzzler': 1, 'puzzle': 1, 'contracts': 1, 'genitals': 1, 'phones': 1, 'noisy': 1, 'rocked': 1, 'globe': 1, 'united': 1, 'knitting': 1, 'knit': 1, 'careers': 1, 'ashamed': 1, 'advised': 1, 'role': 1, 'homosexually': 1, 'auditioned': 1, 'contract': 1, 'daytime': 1, 'unexpected': 1, 'nominated': 1, 'simon': 1, 'sorts': 1, 'closes': 1, 'duh': 1, 'judgmental': 1, 'destiny': 1, 'fulfilled': 1, 'ageist': 1, 'fresh': 1, 'chipper': 1, 'nooooo': 1, 'napping': 1, 'whaddya': 1, 'shy': 1, 'preppy': 1, 'understanding': 1, 'flattery': 1, 'dismiss': 1, 'draft': 1, 'wynona': 1, 'rider': 1, 'ironic': 1, 'goofy': 1, 'lurker': 1, 'chan': 1, 'listener': 1, 'trays': 1, 'nonsense': 1, 'english': 1, 'permanent': 1, 'organize': 1, 'plural': 1, 'allright': 1, 'stable': 1, 'obstacles': 1, 'mediocre': 1, 'lure': 1, 'distract': 1, 'finding': 1, 'iron': 1, 'steel': 1, 'operators': 1, 'schools': 1, 'motorcycle': 1, 'letterman': 1, 'wore': 1, 'ec': 1, 'mascot': 1, 'mellow': 1, 'loosen': 1, 'strings': 1, 'mena': 1, 'unattractive': 1, 'laying': 1, 'someday': 1, 'bathrooms': 1, 'spice': 1, 'threesome': 1, 'diner': 1, 'skates': 1, 'cocoa': 1, 'lumps': 1, 'whipped': 1, 'add': 1, 'peas': 1, 'onions': 1, '80-foot': 1, 'inflatable': 1, 'yoghurt': 1, 'containers': 1, 'uncoordinated': 1, 'adjoining': 1, 'corneas': 1, 'reserve': 1, 'donate': 1, 'fluids': 1, 'cycles': 1, 'applicants': 1, 'studies': 1, 'participate': 1, 'effects': 1, 'receptionists': 1, 'potato': 1, 'chips': 1, 'oven': 1, 'monkey': 1, 'wiped': 1, 'biggie': 1, 'platforms': 1, 'taping': 1, 'underpants': 1, 'dancer': 1, 'loosened': 1, 'hips': 1, 'rhythm': 1, 'deliveries': 1, 'description': 1, 'fried': 1, 'inflate': 1, 'flopping': 1, 'broadway': 1, 'cocktails': 1, 'appalachia': 1, 'tongue': 1, 'ear': 1, 'rambunctious': 1, 'graduation': 1, 'surrogate': 1, 'cufflinks': 1, 'pulse': 1, 'saucy': 1, 'electrical': 1, 'judging': 1, 'mister': 1, 'pinching': 1, 'explanation': 1, 'bulging': 1, 'wrestle': 1, 'hangs': 1, 'poke': 1, 'higher': 1, 'angle': 1, 'approaching': 1, 'pervert': 1, 'pat': 1, 'sajak': 1, 'alex': 1, 'trebek': 1, 'woolery': 1, 'eyelash': 1, 'curler': 1, 'thomas': 1, 'assign': 1, 'tricks': 1, 'convey': 1, 'basic': 1, 'fishhook': 1, 'eyebrow': 1, 'divide': 1, '232': 1, 'dismissed': 1, 'trib': 1, 'eric': 1, 'winter': 1, 'bench': 1, 'directly': 1, 'assuming': 1, 'nurturing': 1, 'philadelphia': 1, 'layers': 1, 'licked': 1, 'presumptuous': 1, 'semi-finals': 1, 'lame': 1, 'divert': 1, 'listings': 1, 'coma': 1, 'swallow': 1, 'sonic': 1, 'blaster': 1, 'zone': 1, 'lodged': 1, 'throat': 1, 'naturally': 1, 'hurts': 1, 'stories': 1, 'neighbor': 1, 'chunk': 1, 'newspaper': 1, 'darlings': 1, 'beyond': 1, 'lasted': 1, 'hanukkah': 1, 'easter': 1, 'funeral': 1, 'lighting': 1, 'japan': 1, 'fictitious': 1, 'agree': 1, 'psychic': 1, 'substantial': 1, 'ridicule': 1, 'fisher': 1, 'firm': 1, 'represents': 1, 'fooled': 1, 'cancer': 1, 'emphysema': 1, 'no-one': 1, 'candle': 1, '9': 1, '46': 1, '47': 1, 'definitive': 1, 'crowd': 1, 'shuffleboard': 1, 'relatives': 1, 'toulouse': 1, 'nestlé': 1, 'toll': 1, 'americans': 1, 'butcher': 1, 'language': 1, 'cupboard': 1, 'plaid': 1, 'appealing': 1, 'patches': 1, 'cigs': 1, 'contest': 1, 'collect': 1, 'flaw': 1, 'constant': 1, 'snort': 1, 'laughs': 1, 'flaws': 1, 'chews': 1, 'endearing': 1, 'speaking': 1, 'correctly': 1, 'indeed': 1, 'gloves': 1, 'torme': 1, 'hopes': 1, 'keeper': 1, 'admire': 1, 'raising': 1, 'meets': 1, 'tim': 1, 'wheeled': 1, 'juicy': 1, 'crowning': 1, 'example': 1, 'normally': 1, 'sweatpants': 1, 'triplets': 1, 'thrice': 1, 'randy': 1, 'explains': 1, 'cardboard': 1, 'cutout': 1, 'evander': 1, 'holyfield': 1, '9-1-1': 1, 'bachelor': 1, 'irreplaceable': 1, 'generations': 1, 'objectively': 1, '94': 1, 'humidity': 1, 'dense': 1, 'poetry': 1, '350': 1, 'windshield': 1, 'mommies': 1, 'eddie': 1, 'moskowitz': 1, 'reaffirms': 1, 'faith': 1, 'strain': 1, 'straightener': 1, 'unattended': 1, 'drift': 1, 'bonding': 1, '6-year-old': 1, 'belong': 1, 'oranges': 1, 'memorized': 1, '1a': 1, 'layer': 1, 'crack': 1, 'foundation': 1, 'asbestos': 1, 'ceiling': 1, 'childhood': 1, 'uncooked': 1, 'batter': 1, 'eater': 1, 'unreasonable': 1, 'rescue': 1, 'resume': 1, 'implementing': 1, 'colored': 1, 'labels': 1, 'folders': 1, 'brighten': 1, 'cabinets': 1, 'mentor': 1, 'cultivating': 1, 'relationships': 1, 'geographically': 1, 'awhile': 1, 'defense': 1, 'genie': 1, 'brunch': 1, 'deciding': 1, 'disrupts': 1, 'wrecking': 1, 'phial': 1, 'pox': 1, 'release': 1, 'hallway': 1, 'throws': 1, 'annoy': 1, 'flower': 1, 'faint': 1, 'subscription': 1, 'protective': 1, 'kettle': 1, 'differ': 1, 'oooooh': 1, 'grip': 1, 'ciao': 1, 'bela': 1, 'jockstrap': 1, 'handbook': 1, 'describe': 1, 'naughty': 1, 'taboo': 1, 'december': 1, 'photographer': 1, 'jeffrey': 1, 'kings': 1, 'heavy': 1, 'metal': 1, 'carcass': 1, 'overpriced': 1, 'schoolchildren': 1, 'dangle': 1, 'pressuring': 1, 'francisco': 1, 'interestingly': 1, 'leaf': 1, 'blower': 1, 'spontaneous': 1, 'phrase': 1, 'shove': 1, 'riggs': 1, 'funnily': 1, 'hop': 1, 'patio': 1, 'ladybugs': 1, 'insects': 1, 'suggest': 1, 'dining': 1, 'spraying': 1, 'cologne': 1, 'hottest': 1, 'waved': 1, 'myth': 1, 'lenny': 1, 'believes': 1, 'implantation': 1, 'thick': 1, 'prepare': 1, 'stairs': 1, 'attach': 1, '75': 1, 'costs': 1, '16,000': 1, 'yum': 1, 'efficient': 1, 'condom': 1, 'wallet': 1, 'tanned': 1, 'fluff': 1, 'pillows': 1, 'bills': 1, 'arrested': 1, 'painterly': 1, 'impasto': 1, 'painted': 1, 'outdoors': 1, 'elusive': 1, 'subject': 1, 'monster': 1, 'trucks': 1, 'spelt': 1, 'impressed': 1, 'frontal': 1, 'temporal': 1, 'zygomatic': 1, 'craniotomy': 1, 'renaissance': 1, 'caravaggio': 1, 'uses': 1, 'chiaroscuro': 1, 'highlight': 1, 'anguish': 1, 'bumpy': 1, 'ad-libbing': 1, 'thorough': 1, 'glance': 1, 'overall': 1, 'attorney': 1, 'annulled': 1, 'therapy': 1, 'forms': 1, 'witnesses': 1, 'cross-eyed': 1, 'spends': 1, 'leaves': 1, 'rodney': 1, 'nightmare': 1, 'storming': 1, 'manuscript': 1, 'josephine': 1, 'ninja': 1, 'advantage': 1, 'advance': 1, 'twelfth': 1, 'nineteenth': 1, 'announces': 1, 'crime': 1, 'sidekick': 1, 'lead': 1, 'series': 1, 'dreamed': 1, 'preparing': 1, 'technology': 1, 'owner': 1, 'during': 1, 'trampled': 1, 'steam': 1, 'responsibility': 1, 'shhh': 1, 'prom': 1, 'product': 1, 'violation': 1, 'grief': 1, 'illegally': 1, 'subletting': 1, 'matters': 1, 'handsome': 1, 'repeating': 1, 'comic': 1, 'confront': 1, 'shall': 1, 'intercourse': 1, 'hike': 1, 'toots': 1, 'arrest': 1, 'register': 1, 'hangover': 1, 'brooklyn': 1, 'heights': 1, 'cleveland': 1, 'waitin': 1, 'lorraine': 1, 'yellin': 1, 'christmastime': 1, 'donations': 1, 'spreading': 1, 'spread': 1, 'timer': 1, 'brag': 1, 'sore': 1, 'dime': 1, 'lint': 1, 'canadian': 1, 'coin': 1, 'contribution': 1, 'complaints': 1, 'high-profile': 1, 'hoops': 1, '437': 1, 'shift': 1, 'increase': 1, 'rolling': 1, 'referring': 1, 'increasing': 1, 'understaffed': 1, 'appreciation': 1, 'sanctity': 1, 'defend': 1, 'drain': 1, 'ants': 1, 'uff': 1, 'thigh': 1, 'theatre': 1, 'multiplex': 1, 'anytime': 1, 'posters': 1, 'taped': 1, 'survived': 1, 'fellas': 1, 'instinct': 1, 'risked': 1, 'carat': 1, 'congress': 1, 'debating': 1, 'deficit': 1, 'reduction': 1, 'mayor': 1, 'fares': 1, 'teams': 1, 'agamemnon': 1, 'stares': 1, 'knack': 1, 'reacquainted': 1, 'donald': 1, 'trump': 1, 'expert': 1, 'torture': 1, 'captured': 1, 'shorten': 1, 'muse': 1, 'confusion': 1, 'rare': 1, 'bookstore': 1, 'madison': 1, 'architecture': 1, 'cathedral': 1, 'pastry': 1, 'mood': 1, 'thai': 1, 'antiquities': 1, 'wing': 1, 'ancient': 1, 'egypt': 1, 'mesopotamia': 1, 'byzantine': 1, 'critics': 1, 'monogamy': 1, 'carryon': 1, 'impact': 1, 'ice-skating': 1, 'shin': 1, 'estate': 1, 'limb': 1, 'modeling': 1, 'clap': 1, 'tune': 1, 'chorus': 1, 'is-is': 1, 'favored': 1, 'unconsciously': 1, 'marvel': 1, 'sail': 1, 'cheer': 1, 'pony': 1, 'count': 1, 'take-off': 1, 'dehydrated': 1, 'japanese': 1, 'noodles': 1, 'fluorescent': 1, 'shelley': 1, 'flush': 1, 'bump': 1, 'charisma': 1, 'fail': 1, 'midterm': 1, 'blushed': 1, 'toughest': 1, 'g.i': 1, 'protects': 1, 'u.s.': 1, 'interests': 1, '56': 1, 'swimmers': 1, 'down': 1, 'tallies': 1, 'ohhhh': 1, 'debbie': 1, '321': 1, 'charla': 1, '278': 1, 'platonic': 1, 'goof': 1, 'term': 1, 'technical': 1, 'definition': 1, 'fangled': 1, 'original': 1, 'dan': 1, 'neighborhood': 1, 'serves': 1, 'planet': 1, 'yarns': 1, 'weave': 1, 'flick': 1, 'prison': 1, 'bitches': 1, 'hide': 1, 'lunges': 1, 'maintenance': 1, 'flaky': 1, 'cranky': 1, 'cuz': 1, 'kiddy': 1, 'invasive': 1, 'vaginal': 1, 'exam': 1, 'suckers': 1, 'mugsy': 1, 'magical': 1, 'regularly': 1, 'scheduled': 1, 'programming': 1, 'luggage': 1, 'canada': 1, 'ill': 1, 'felicity': 1, 'unsuccessful': 1, 'sized': 1, 'brady': 1, 'cole': 1, 'slaw': 1, 'buns': 1, 'ground-up': 1, 'formerly': 1, 'cows': 1, 'turkeys': 1, 'senior': 1, 'milwaukee': 1, 'disneyland': 1, '1989': 1, 'mechanical': 1, 'dutch': 1, 'fixed': 1, 'kingdom': 1, 'patience': 1, 'yore': 1, 'yesteryear': 1, 'cheap': 1, 'knock-offs': 1, 'junk': 1, '60': 1, 'colonial': 1, 'portion': 1, 'rick': 1, 'injure': 1, '16-hour': 1, 'sit-in': 1, 'greenpeace': 1, 'crew': 1, 'screaming': 1, 'await': 1, 'mri': 1, 'scans': 1, 'dna': 1, 'gathered': 1, 'simple': 1, 'carbon': 1, 'leathery': 1, 'wrinkled': 1, 'massaging': 1, 'stimulate': 1, 'flow': 1, 'frustrating': 1, 'lovable': 1, 'continue': 1, 'glare': 1, 'streetlight': 1, 'breadstick': 1, 'fangs': 1, 'advanced': 1, 'café': 1, 'afterwards': 1, 'sixteen': 1, 'pound': 1, 'childbirth': 1, 'stretching': 1, 'co-star': 1, 'lips': 1, 'involve': 1, 'projectile': 1, 'vomiting': 1, 'vail': 1, 'syphilis': 1, 'thankful': 1, 'thanksgivings': 1, 'sucked': 1, 'lousy': 1, 'crappy': 1, 'bugger': 1, 'strapping': 1, 'jaw': 1, 'colour': 1, 'crash': 1, 'embassy': 1, 'parties': 1, 'phobia': 1, 'needles': 1, 'phd': 1, 'orally': 1, 'circumstances': 1, 'injection': 1, 'tho': 1, 'sting': 1, 'balcony': 1, 'checkbook': 1, 'loyal': 1, 'ummm': 1, 'clogging': 1, 'unclogging': 1, 'coveralls': 1, 'amanda': 1, 'salami': 1, 'unhook': 1, 'bouquet': 1, 'moonlit': 1, 'rue': 1, 'de': 1, 'sprinkle': 1, 'rose': 1, 'pedals': 1, 'electricity': 1, 'goal': 1, 'hammered': 1, 'shooting': 1, 'fork': 1, 'luckiest': 1, 'luckier': 1, 'wires': 1, 'wire': 1, 'disappears': 1, 'baseboard': 1, 'darling': 1, 'teamwork': 1, 'carl': 1, 'gawd': 1, 'pooper': 1, 'within': 1, 'coyotes': 1, 'members': 1, 'herd': 1, 'beef': 1, 'slimmer': 1, 'visited': 1, 'nancy': 1, 'thompson': 1, 'blowing': 1, 'budget': 1, 'period': 1, 'sleepy': 1, 'remembering': 1, 'nicknames': 1, 'cutie': 1, 'student': 1, 'burt': 1, 'rejections': 1, 'believable': 1, 'off-broadway': 1, 'yummy': 1, 'kissin': 1, 'obsessed': 1, 'restraining': 1, 'see-saw': 1, 'mop': 1, 'waxing': 1, 'organic': 1, 'substances': 1, 'discovered': 1, 'depths': 1, 'forest': 1, 'sucking': 1, 'corporate': 1, 'upstate': 1, 'cars': 1, 'mercy': 1, 'rides': 1, 'barn': 1, 'bend': 1, 'outdoorsy': 1, 'handy': 1, '2:17': 1, 'jinx': 1, 'meal': 1, 'seller': 1, 'suitcases': 1, 'raisin': 1, 'proves': 1, 'harm': 1, 'starlight': 1, 'suicide': 1, 'blueberry': 1, 'muffin': 1, 'his': 1, 'cash': 1, 'yearly': 1, 'trips': 1, 'rec': 1, 'rustic': 1, 'custom-made': 1, 'duchess': 1, 'gown': 1, 'rack': 1, 'phillips': 1, 'unnatural': 1, 'shed': 1, 'separate': 1, 'underneath': 1, 'squat': 1, 'ted': 1, 'scares': 1, 'teddy': 1, 'andrew': 1, 'pear': 1, 'martini': 1, 'chuckles': 1, 'aboard': 1, 'steered': 1, 'noticing': 1, 'commercials': 1, 'smacks': 1, 'vacuum': 1, 'polish': 1, 'tip': 1, 'stoop': 1, 'bridge': 1, 'talkin': 1, 'liar': 1, 'police': 1, 'suspects': 1, 'load': 1, 'nor': 1, 'curtain': 1, 'hazard': 1, 'safety': 1, 'rub': 1, 'gibson': 1, 'clint': 1, 'eastwood': 1, 'off-stage': 1, 'tension': 1, 'onstage': 1, 'chemistry': 1, 'benefit': 1, 'erotic': 1, 'wildly': 1, 'unpopular': 1, 'ph.d': 1, 'fuzzy': 1, 'mints': 1, 'gross': 1, 'n': 1, 'pets': 1, 'occasionally': 1, 'pose': 1, 'tail': 1, 'frisbee': 1, 'tuxedos': 1, 'pre-approved': 1, 'attend': 1, 'limited': 1, 'seating': 1, 'gellar': 1, 'relative': 1, 'fewer': 1, 'bricks': 1, 'musicians': 1, 'bone': 1, 'practical': 1, 'monroe': 1, 'becoming': 1, 'confidant': 1, 'complain': 1, 'musical': 1, 'visits': 1, 'meanwhile': 1, 'understands': 1, 'wise': 1, 'geeks': 1, 'anthropologists': 1, 'dudes': 1, 'six-pack': 1, 'hulk': 1, 'mentioned': 1, 'forty': 1, 'independent': 1, 'chubby': 1, 'puzzles': 1, 'pbs': 1, 'supporting': 1, 'controversial': 1, 'wallets': 1, 'high-speed': 1, 'garden': 1, 'gentleman': 1, 'reacted': 1, 'bummer': 1, 'craziest': 1, 'endless': 1, 'unfulfilling': 1, 'exclusive': 1, 'granted': 1, 'settle': 1, 'lane': 1, 'cartoons': 1, 'again': 1, 'knife': 1, 'slays': 1, 'attacking': 1, 'attacked': 1, 'stopping': 1, 'finishing': 1, 'inflict': 1, 'closely': 1, 'devon': 1, 'swift': 1, 'bloke': 1, 'knees': 1, 'brolin': 1, 'russell': 1, 'assume': 1, 'youngest': 1, 'vice-president': 1, 'reconfiguration': 1, 'statistical': 1, 'factoring': 1, 'companies': 1, 'cooked': 1, 'reviewer': 1, 'admits': 1, 'spit': 1, 'cocky': 1, 'shining': 1, 'leak': 1, 'luckily': 1, 'settled': 1, 'destined': 1, 'soul': 1, 'mate': 1, 'misses': 1, 'sight': 1, 'delicacy': 1, 'enemas': 1, 'showroom': 1, 'ex-husband': 1, 'bambi': 1, 'dances': 1, 'super': 1, 'electrician': 1, 'shocks': 1, 'responsible': 1, 'folks': 1, 'unbound': 1, 'nora': 1, 'tyler': 1, 'passing': 1, '79': 1, 'cider': 1, 'eraser': 1, 'until': 1, 'busted': 1, 'slammer': 1, 'spectacular': 1, 'phenomenon': 1, 'pipe': 1, 'respected': 1, 'astronomer': 1, 'passageway': 1, 'trudie': 1, 'mum': 1, 'won': 1, 'positions': 1, 'hassidic': 1, 'jewellers': 1, 'innate': 1, 'adore': 1, 'personally': 1, 'gallon': 1, 'beginners': 1, 'basics': 1, 'upstage': 1, 'downstage': 1, 'snuggle': 1, 'volcano': 1, 'driving': 1, 'bowl': 1, 'crank': 1, 'intrigued': 1, 'fluid': 1, 'darts': 1, 'spackle': 1, 'tiki': 1, 'rum': 1, 'zero': 1, 'frightening': 1, 'tryin': 1, 'suggested': 1, 'mozzarella': 1, 'poppers': 1, 'barney': 1, '3:30': 1, 'courthouse': 1, 'markson': 1, 'brains': 1, 'smeared': 1, 'manhattan': 1, 'stores': 1, 'transferring': 1, 'rome': 1, 'vienna': 1, 'transferred': 1, 'attract': 1, 'stinkers': 1, 'prank': 1, 'memos': 1, 'sweets': 1, 'surprisingly': 1, 'strict': 1, 'classics': 1, 'concentric': 1, 'feature': 1, 'mcclane': 1, 'botched': 1, 'operation': 1, 'murder': 1, 'punctuated': 1, 'equilibrium': 1, 'devonian': 1, 'hooking': 1, 'smarter': 1, 'cracks': 1, 'wink': 1, 'apron': 1, 'aprons': 1, 'screening': 1, 'minor': 1, 'setback': 1, 'argument': 1, 'las': 1, 'dice': 1, 'nothin': 1, 'deserves': 1, 'informed': 1, 'unearthed': 1, 'main': 1, 'locations': 1, 'beth': 1, 'unfortunate': 1, 'weight': 1, 'levels': 1, 'adiós': 1, 'translation': 1, 'ferry': 1, 'nova': 1, 'scotia': 1, 'orange': 1, 'demeaning': 1, 'remotely': 1, 'dowdy': 1, 'dues': 1, 'mira': 1, 'arthritic': 1, 'seamstress': 1, 'misery': 1, 'amusing': 1, 'mannequin': 1, 'mannequins': 1, 'pickle': 1, 'potential': 1, 'hearts': 1, 'plunge': 1, 'pit': 1, 'depression': 1, 'momma': 1, 'spoon': 1, 'torn': 1, 'desire': 1, 'abysmal': 1, 'introduction': 1, 'hollandaise': 1, 'yolk': 1, 'base': 1, 'shallots': 1, 'tarragon': 1, 'fifty': 1, 'pesos': 1, 'olé': 1, 'entertain': 1, 'requesting': 1, 'bored': 1, 'pharmaceutical': 1, 'pharmacists': 1, 'eva': 1, 'fringe': 1, 'sides': 1, 'goodnight': 1, 'readers': 1, 'mikey': 1, 'p': 1, 'capture': 1, 'wisecracking': 1, 'owl': 1, 'traps': 1, 'suzie': 1, 'rejection': 1, 'waited': 1, 'puts': 1, 'do-do': 1, 'bath': 1, 'loong': 1, '5:30': 1, 'cracking': 1, 'carried': 1, 'breadsticks': 1, 'marinara': 1, 'vodka': 1, 'celery': 1, 'lebanon': 1, 'nasty': 1, 'hanks': 1, 'meg': 1, 'ryan': 1, 'bullets': 1, 'guns': 1, 'slower': 1, 'bleeding': 1, 'crotch': 1, 'soccer': 1, 'player': 1, 'pinned': 1, 'tickled': 1, 'freckles': 1, 'muscle': 1, 'meadow': 1, 'breeze': 1, 'moonlight': 1, 'flowing': 1, 'trees': 1, 'wagering': 1, 'permitted': 1, 'waterfalls': 1, 'trickling': 1, 'fountains': 1, 'calming': 1, 'babbling': 1, 'brook': 1, 'awake': 1, 'somethin': 1, 'afternoons': 1, 'stephanie': 1, 'swirl': 1, 'strippers': 1, 'exit': 1, 'competitor': 1, 'at': 1, 'queens': 1, 'traveled': 1, 'southern': 1, 'bees': 1, 'solved': 1, 'grocery': 1, 'linda': 1, 'camp': 1, 'doing': 1, 'tradition': 1, 'abandoned': 1, 'couples': 1, 'its': 1, 'braverman': 1, 'protecting': 1, 'kicky': 1, 'pancakes': 1, 'stand-up': 1, 'distance': 1, 'cave': 1, 'out-of-work': 1, 'courage': 1, 'alfredo': 1, 'bubbles': 1, 'perceptive': 1, 'freaks': 1, 'sending': 1, 'cruise': 1, 'razor': 1, 'stitches': 1, 'realises': 1, 'comprehends': 1, 'thousands': 1, 'miles': 1, 'disappointed': 1, 'booked': 1, 'postponing': 1, 'option': 1, 'backwards': 1, 'refer': 1, 'bobo': 1, 'sullies': 1, 'leon': 1, 'purchasing': 1, 'kidney': 1, 'gotcha': 1, '87': 1, 'vcr': 1, 'penis': 1, 'bleaker': 1, 'mama': 1, 'enh': 1, 'code': 1, 'requires': 1, 'material': 1, 'convenience': 1, 'warning': 1, 'bust': 1, 'vendor': 1, 'picks': 1, 'towels': 1, 'loaned': 1, 'nineteen': 1, 'nimitz': 1, 'interviews': 1, 'napkin': 1, 'greeting': 1, 'hairier': 1, 'chief': 1, 'bonfire': 1, 'valentine': 1, 'busiest': 1, 'fat-free': 1, 'mediterranean': 1, 'curiously': 1, 'intelligent': 1, 'stephanopoulos': 1, 'spying': 1, 'rainy': 1, 'choices': 1, 'printed': 1, 'winona': 1, 'ryder': 1, 'michelle': 1, 'pfieffer': 1, 'dorothy': 1, 'hammel': 1, 'spins': 1, 'fonzie': 1, 'resident': 1, 'specified': 1, 'needing': 1, 'qualified': 1, 'doogie': 1, 'officer': 1, 'petty': 1, 'margaritas': 1, 'weekly': 1, 'gerston': 1, 'santos': 1, 'pleased': 1, 'pickles': 1, 'tampons': 1, 'penny': 1, 'stock': 1, 'tow': 1, 'innocent': 1, 'victim': 1, 'punish': 1, 'bound': 1, 'rights': 1, 'minks': 1, 'sits': 1, 'straighten': 1, 'via': 1, 'burritos': 1, 'reservation': 1, 'burrito': 1, 'quicker': 1, 'required': 1, 'evaluate': 1, 'gel': 1, 'chimney': 1, 'vicar': 1, 'zelda': 1, 'erotica': 1, 'sexuality': 1, 'shortbread': 1, 'scotland': 1, 'vikings': 1, 'rediscover': 1, 'roots': 1, 'bagpipes': 1, 'personalities': 1, 'pillow': 1, 'g': 1, 'string': 1, 'doggy': 1, 'kitten': 1, 'dancers': 1, 'alot': 1, 'swedish': 1, 'opinion': 1, 'foxy': 1, 'sexless': 1, 'misunderstand': 1, 'flexed': 1, 'concert': 1, 'allan': 1, 'planner': 1, 'theta': 1, 'beta': 1, 'pi': 1, 'syracuse': 1, 'repeat': 1, 'closets': 1, 'blacken': 1, 'edge': 1, 'forehead': 1, 'pencil': 1, 'hoshi': 1, 'ringside': 1, 'affected': 1, 'concentration': 1, 'bout': 1, 'zana': 1, 'spindler': 1, 'devane': 1, 'kelly': 1, 'goldie': 1, 'mcguire': 1, 'j.t.': 1, 'beardsley': 1, 'dorfman': 1, 'wedgie': 1, 'architect': 1, 'fiction': 1, 'writers': 1, 'stanley': 1, 'leading': 1, 'temporary': 1, 'invest': 1, 'nostril': 1, 'sneezed': 1, 'bats': 1, 'flew': 1, 'tellin': 1, 'leaned': 1, 'perfectly': 1, 'superficial': 1, 'insignificant': 1, 'apples': 1})\n"
     ]
    }
   ],
   "source": [
    "known_words_count = Counter(known_words)\n",
    "print('Number of known words',len(known_words_count))\n",
    "print('Number of known words tokens:', len(known_words))\n",
    "print('Known words counts')\n",
    "print(known_words_count)"
   ]
  },
  {
   "cell_type": "markdown",
   "metadata": {},
   "source": [
    "Just as in the previous notebook, we need to turn the labels into numerical values:"
   ]
  },
  {
   "cell_type": "code",
   "execution_count": 18,
   "metadata": {},
   "outputs": [
    {
     "name": "stdout",
     "output_type": "stream",
     "text": [
      "['anger', 'disgust', 'fear', 'joy', 'neutral', 'sadness', 'surprise']\n",
      "[4, 4, 4, 4, 6, 4, 4, 4, 4, 4, 2, 4, 6, 4, 6, 5, 6, 2, 4, 4]\n"
     ]
    }
   ],
   "source": [
    "from sklearn import preprocessing\n",
    "# first we instantiate a label encode\n",
    "le = preprocessing.LabelEncoder()\n",
    "# we fee this encoder with the complete list of labels from our data\n",
    "le.fit(training_labels)\n",
    "print(list(le.classes_))\n",
    "training_classes = le.transform(training_labels)\n",
    "print(list(training_classes[0:20]))"
   ]
  },
  {
   "cell_type": "markdown",
   "metadata": {},
   "source": [
    "The next steps are the same as for the previous notebook, except that we pass the embedding representations of the training data."
   ]
  },
  {
   "cell_type": "code",
   "execution_count": 19,
   "metadata": {},
   "outputs": [],
   "source": [
    "# Split data into training and test sets\n",
    "# from sklearn.cross_validation import train_test_split  # deprecated in 0.18\n",
    "from sklearn.model_selection import train_test_split\n",
    "\n",
    "### we again use a aplit of 80% train and 20% test\n",
    "docs_train, docs_test, y_train, y_test = train_test_split(\n",
    "    trainDataVecs, # the tf-idf model\n",
    "    training_classes, # the category values for each utterance represented as numeric values\n",
    "    test_size = 0.20 # we use 80% for training and 20% for development\n",
    "    ) \n"
   ]
  },
  {
   "cell_type": "code",
   "execution_count": 20,
   "metadata": {},
   "outputs": [
    {
     "name": "stdout",
     "output_type": "stream",
     "text": [
      "[4 4 4 ... 3 3 4]\n",
      "<class 'numpy.ndarray'>\n"
     ]
    }
   ],
   "source": [
    "print(y_test)\n",
    "print(type(y_test))"
   ]
  },
  {
   "cell_type": "code",
   "execution_count": 21,
   "metadata": {},
   "outputs": [
    {
     "name": "stdout",
     "output_type": "stream",
     "text": [
      "[[-0.01277     0.096773    0.08699    ... -0.2966223  -0.12225801\n",
      "   0.10452   ]\n",
      " [-0.07478025 -0.32193992 -0.06477267 ...  0.06779801 -0.04594325\n",
      "   0.48933765]\n",
      " [-0.15103249  0.03697302 -0.03843162 ... -0.23420173 -0.07220712\n",
      "   0.161805  ]\n",
      " [-0.04567    -0.04644666 -0.01707034 ...  0.09721199 -0.20731331\n",
      "   0.54734665]\n",
      " [-0.08337785  0.13862328 -0.19454452 ... -0.22462443  0.074938\n",
      "   0.13926242]]\n"
     ]
    }
   ],
   "source": [
    "print(docs_train[0:5])"
   ]
  },
  {
   "cell_type": "markdown",
   "metadata": {},
   "source": [
    "## 4. Training and applying the model  <a class=\"anchor\" id =\"section4\"></a> "
   ]
  },
  {
   "cell_type": "code",
   "execution_count": 22,
   "metadata": {},
   "outputs": [
    {
     "name": "stderr",
     "output_type": "stream",
     "text": [
      "/usr/local/anaconda3/envs/ma-hlt-labs/lib/python3.8/site-packages/sklearn/svm/_base.py:976: ConvergenceWarning: Liblinear failed to converge, increase the number of iterations.\n",
      "  warnings.warn(\"Liblinear failed to converge, increase \"\n",
      "/usr/local/anaconda3/envs/ma-hlt-labs/lib/python3.8/site-packages/sklearn/svm/_base.py:976: ConvergenceWarning: Liblinear failed to converge, increase the number of iterations.\n",
      "  warnings.warn(\"Liblinear failed to converge, increase \"\n",
      "/usr/local/anaconda3/envs/ma-hlt-labs/lib/python3.8/site-packages/sklearn/svm/_base.py:976: ConvergenceWarning: Liblinear failed to converge, increase the number of iterations.\n",
      "  warnings.warn(\"Liblinear failed to converge, increase \"\n",
      "/usr/local/anaconda3/envs/ma-hlt-labs/lib/python3.8/site-packages/sklearn/svm/_base.py:976: ConvergenceWarning: Liblinear failed to converge, increase the number of iterations.\n",
      "  warnings.warn(\"Liblinear failed to converge, increase \"\n",
      "/usr/local/anaconda3/envs/ma-hlt-labs/lib/python3.8/site-packages/sklearn/svm/_base.py:976: ConvergenceWarning: Liblinear failed to converge, increase the number of iterations.\n",
      "  warnings.warn(\"Liblinear failed to converge, increase \"\n",
      "/usr/local/anaconda3/envs/ma-hlt-labs/lib/python3.8/site-packages/sklearn/svm/_base.py:976: ConvergenceWarning: Liblinear failed to converge, increase the number of iterations.\n",
      "  warnings.warn(\"Liblinear failed to converge, increase \"\n",
      "/usr/local/anaconda3/envs/ma-hlt-labs/lib/python3.8/site-packages/sklearn/svm/_base.py:976: ConvergenceWarning: Liblinear failed to converge, increase the number of iterations.\n",
      "  warnings.warn(\"Liblinear failed to converge, increase \"\n",
      "/usr/local/anaconda3/envs/ma-hlt-labs/lib/python3.8/site-packages/sklearn/svm/_base.py:976: ConvergenceWarning: Liblinear failed to converge, increase the number of iterations.\n",
      "  warnings.warn(\"Liblinear failed to converge, increase \"\n",
      "/usr/local/anaconda3/envs/ma-hlt-labs/lib/python3.8/site-packages/sklearn/svm/_base.py:976: ConvergenceWarning: Liblinear failed to converge, increase the number of iterations.\n",
      "  warnings.warn(\"Liblinear failed to converge, increase \"\n",
      "/usr/local/anaconda3/envs/ma-hlt-labs/lib/python3.8/site-packages/sklearn/svm/_base.py:976: ConvergenceWarning: Liblinear failed to converge, increase the number of iterations.\n",
      "  warnings.warn(\"Liblinear failed to converge, increase \"\n"
     ]
    },
    {
     "data": {
      "text/plain": [
       "CalibratedClassifierCV(base_estimator=LinearSVC(), cv=10)"
      ]
     },
     "execution_count": 22,
     "metadata": {},
     "output_type": "execute_result"
    }
   ],
   "source": [
    "from sklearn import svm\n",
    "from sklearn.calibration import CalibratedClassifierCV\n",
    "\n",
    "# We choose a Linear model\n",
    "linear_model = svm.LinearSVC()\n",
    "\n",
    "# The next function is needed to get some confidence score from this model. This score is derived by 10-folded cross-validation: *cv=10* and using a sigmoid function\n",
    "svm_linear_clf = CalibratedClassifierCV(linear_model , method='sigmoid', cv=10)\n",
    "\n",
    "### we train the classifier through the *fit* function and by passing the training vectors and the training labels as paramters:\n",
    "svm_linear_clf.fit(docs_train, y_train)"
   ]
  },
  {
   "cell_type": "code",
   "execution_count": 23,
   "metadata": {},
   "outputs": [],
   "source": [
    "# Predicting the Test set results, find macro recall\n",
    "y_pred_svm_linear = svm_linear_clf.predict(docs_test)"
   ]
  },
  {
   "cell_type": "markdown",
   "metadata": {},
   "source": [
    "If the data is complex, a non-linear SVM may be preferable. A non-linear SVM uses the kernel-trick to separate positive and negative cases when the data is not lineary correlated. We can initialise such a classifier in the same way as done before."
   ]
  },
  {
   "cell_type": "code",
   "execution_count": 24,
   "metadata": {},
   "outputs": [
    {
     "data": {
      "text/plain": [
       "CalibratedClassifierCV(base_estimator=SVC(probability=True), cv=5)"
      ]
     },
     "execution_count": 24,
     "metadata": {},
     "output_type": "execute_result"
    }
   ],
   "source": [
    "nonlinear_model = svm.SVC(probability=True)\n",
    "svm_nonlinear_clf = CalibratedClassifierCV(nonlinear_model,  method='sigmoid', cv=5)\n",
    "svm_nonlinear_clf.fit(docs_train, y_train)"
   ]
  },
  {
   "cell_type": "code",
   "execution_count": 25,
   "metadata": {},
   "outputs": [],
   "source": [
    "# Predicting the Test set results, find macro recall\n",
    "y_pred_svm_nonlinear = svm_nonlinear_clf.predict(docs_test)"
   ]
  },
  {
   "cell_type": "code",
   "execution_count": 26,
   "metadata": {},
   "outputs": [
    {
     "name": "stdout",
     "output_type": "stream",
     "text": [
      "[[0.05385151 0.01622981 0.03317709 ... 0.55634578 0.03197617 0.24133155]\n",
      " [0.08911457 0.02598158 0.02880671 ... 0.59493934 0.07425639 0.01488291]\n",
      " [0.05317317 0.01759521 0.03565937 ... 0.60130468 0.10231549 0.02112431]\n",
      " ...\n",
      " [0.4442592  0.02236026 0.04454602 ... 0.05619502 0.04272649 0.16765925]\n",
      " [0.06705054 0.03336897 0.01703803 ... 0.55178175 0.0861462  0.02323939]\n",
      " [0.03795664 0.03741348 0.01701748 ... 0.60452065 0.11181592 0.01796443]]\n"
     ]
    }
   ],
   "source": [
    "# the next function obtain the scores for all the classes for each text\n",
    "y_pred_svm_nonlinear_proba= svm_nonlinear_clf.predict_proba(docs_test)\n",
    "print(y_pred_svm_nonlinear_proba)"
   ]
  },
  {
   "cell_type": "markdown",
   "metadata": {},
   "source": [
    "## 5. Generating the test report  <a class=\"anchor\" id =\"section5\"></a> "
   ]
  },
  {
   "cell_type": "code",
   "execution_count": 27,
   "metadata": {},
   "outputs": [],
   "source": [
    "from sklearn.metrics import classification_report\n"
   ]
  },
  {
   "cell_type": "code",
   "execution_count": 28,
   "metadata": {},
   "outputs": [
    {
     "name": "stdout",
     "output_type": "stream",
     "text": [
      "['anger' 'disgust' 'fear' 'joy' 'neutral' 'sadness' 'surprise']\n",
      "SVM LINEAR ----------------------------------------------------------------\n",
      "              precision    recall  f1-score   support\n",
      "\n",
      "           0  0.3372093 0.1479592 0.2056738       196\n",
      "           1  0.0000000 0.0000000 0.0000000        44\n",
      "           2  0.0000000 0.0000000 0.0000000        63\n",
      "           3  0.5630252 0.3611860 0.4400657       371\n",
      "           4  0.5822700 0.9302575 0.7162330       932\n",
      "           5  0.4375000 0.0482759 0.0869565       145\n",
      "           6  0.5421687 0.3643725 0.4358354       247\n",
      "\n",
      "    accuracy                      0.5640641      1998\n",
      "   macro avg  0.3517390 0.2645787 0.2692520      1998\n",
      "weighted avg  0.5080101 0.5640641 0.4961790      1998\n",
      "\n"
     ]
    }
   ],
   "source": [
    "#### this report gives the results for the LINEAR classifier\n",
    "report = classification_report(y_test,y_pred_svm_linear,digits = 7)\n",
    "print(le.classes_)\n",
    "print('SVM LINEAR ----------------------------------------------------------------')\n",
    "print(report)"
   ]
  },
  {
   "cell_type": "code",
   "execution_count": 29,
   "metadata": {},
   "outputs": [
    {
     "name": "stdout",
     "output_type": "stream",
     "text": [
      "['anger' 'disgust' 'fear' 'joy' 'neutral' 'sadness' 'surprise']\n",
      "SVM NONLINEAR ----------------------------------------------------------------\n",
      "              precision    recall  f1-score   support\n",
      "\n",
      "           0  0.3193277 0.1938776 0.2412698       196\n",
      "           1  0.0000000 0.0000000 0.0000000        44\n",
      "           2  0.0000000 0.0000000 0.0000000        63\n",
      "           3  0.5688406 0.4231806 0.4853168       371\n",
      "           4  0.6068493 0.9506438 0.7408027       932\n",
      "           5  0.0000000 0.0000000 0.0000000       145\n",
      "           6  0.6083916 0.3522267 0.4461538       247\n",
      "\n",
      "    accuracy                      0.5845846      1998\n",
      "   macro avg  0.3004870 0.2742755 0.2733633      1998\n",
      "weighted avg  0.4952374 0.5845846 0.5144993      1998\n",
      "\n"
     ]
    },
    {
     "name": "stderr",
     "output_type": "stream",
     "text": [
      "/usr/local/anaconda3/envs/ma-hlt-labs/lib/python3.8/site-packages/sklearn/metrics/_classification.py:1221: UndefinedMetricWarning: Precision and F-score are ill-defined and being set to 0.0 in labels with no predicted samples. Use `zero_division` parameter to control this behavior.\n",
      "  _warn_prf(average, modifier, msg_start, len(result))\n"
     ]
    }
   ],
   "source": [
    "# this report gives the results for the nonlinear classifier\n",
    "report = classification_report(y_test,y_pred_svm_nonlinear,digits = 7)\n",
    "print(le.classes_)\n",
    "print('SVM NONLINEAR ----------------------------------------------------------------')\n",
    "print(report)"
   ]
  },
  {
   "cell_type": "markdown",
   "metadata": {},
   "source": [
    "Remember the results from the notebook where we trained a NaiveBayes and SVM classifiers with one-hot-encodings of the words? Take some time to compare the results and think about the differences."
   ]
  },
  {
   "cell_type": "markdown",
   "metadata": {},
   "source": [
    "## 6. Applying the model to new data  <a class=\"anchor\" id =\"section6\"></a> "
   ]
  },
  {
   "cell_type": "markdown",
   "metadata": {},
   "source": [
    "We would like to apply the embedding based model to our own data but this works a bit different as we cannot simply use the 'transform' function to represent the utterances using the one-hot vector representation of the training vocabulary.\n",
    "\n",
    "What we need to do is to create an embedding representation using the same function we used above and assume that our classifier finds sufficient similarity in the embeddings of our data with the correct training data.\n",
    "\n",
    "We use the same set of utterances."
   ]
  },
  {
   "cell_type": "code",
   "execution_count": 30,
   "metadata": {},
   "outputs": [
    {
     "data": {
      "text/plain": [
       "9"
      ]
     },
     "execution_count": 30,
     "metadata": {},
     "output_type": "execute_result"
    }
   ],
   "source": [
    "# some utterances\n",
    "some_chat = ['That is sweet of you', \n",
    "               'You are so funny', \n",
    "               'Are you a man or a woman?', \n",
    "               'Chatbots make me sad and feel lonely.', \n",
    "               'Your are stupid and boring.', \n",
    "               'Two thumbs up', \n",
    "               'I fell asleep halfway through this conversation', \n",
    "               'Wow, I am really amazed.', \n",
    "               'You are amazing.']\n",
    "\n",
    "\n",
    "len(some_chat)"
   ]
  },
  {
   "cell_type": "markdown",
   "metadata": {},
   "source": [
    "Next, we define the list of labels that go with our chat."
   ]
  },
  {
   "cell_type": "code",
   "execution_count": 31,
   "metadata": {},
   "outputs": [],
   "source": [
    "some_chat_emotions = ['joy', 'joy', 'neutral', 'sadness', 'anger', 'joy', 'anger', 'surprise', 'joy']"
   ]
  },
  {
   "cell_type": "markdown",
   "metadata": {},
   "source": [
    "We  use the LabelEncoder *le* to convert this list into a numpy array with digits:"
   ]
  },
  {
   "cell_type": "code",
   "execution_count": 32,
   "metadata": {},
   "outputs": [
    {
     "name": "stdout",
     "output_type": "stream",
     "text": [
      "labels ['anger' 'disgust' 'fear' 'joy' 'neutral' 'sadness' 'surprise']\n",
      "[3 3 4 5 0 3 0 6 3]\n"
     ]
    }
   ],
   "source": [
    "print('labels',le.classes_)\n",
    "some_chat_labels = le.transform(some_chat_emotions)\n",
    "print(some_chat_labels)"
   ]
  },
  {
   "cell_type": "code",
   "execution_count": 33,
   "metadata": {},
   "outputs": [
    {
     "name": "stdout",
     "output_type": "stream",
     "text": [
      "Review 0 of 9\n"
     ]
    }
   ],
   "source": [
    "some_chat_tokens = []\n",
    "for utterance in some_chat:\n",
    "    some_chat_tokens.append(nltk.tokenize.word_tokenize(utterance))\n",
    "\n",
    "some_chat_embedding_vectors = getAvgFeatureVecs(some_chat_tokens, stop_words, word_embedding_model, index2word_set, num_features)\n",
    "#### Due to the averaging, there could be infinitive values or NaN values. The next numpy function turns these value to \"0\" scores\n",
    "some_chat_embedding_vectors = np.nan_to_num(some_chat_embedding_vectors)  "
   ]
  },
  {
   "cell_type": "code",
   "execution_count": 34,
   "metadata": {},
   "outputs": [
    {
     "name": "stdout",
     "output_type": "stream",
     "text": [
      "System predictions [3 3 0 5 0 4 4 6 3]\n",
      "Gold labels [3 3 4 5 0 3 0 6 3]\n",
      "That is sweet of you => joy\n",
      "You are so funny => joy\n",
      "Are you a man or a woman? => anger\n",
      "Chatbots make me sad and feel lonely. => sadness\n",
      "Your are stupid and boring. => anger\n",
      "Two thumbs up => neutral\n",
      "I fell asleep halfway through this conversation => neutral\n",
      "Wow, I am really amazed. => surprise\n",
      "You are amazing. => joy\n"
     ]
    }
   ],
   "source": [
    "# have classifier make a prediction\n",
    "#pred = svm_linear_clf.predict(ourDataVecs)\n",
    "from sklearn.calibration import CalibratedClassifierCV\n",
    "\n",
    "some_chat_pred = svm_linear_clf.predict(some_chat_embedding_vectors)\n",
    "print('System predictions', some_chat_pred)\n",
    "print('Gold labels', some_chat_labels)\n",
    "for review, predicted_label in zip(some_chat, some_chat_pred):\n",
    "    \n",
    "    print('%s => %s' % (review, \n",
    "                        le.classes_[predicted_label]))\n",
    "\n",
    "\n"
   ]
  },
  {
   "cell_type": "code",
   "execution_count": 35,
   "metadata": {},
   "outputs": [
    {
     "name": "stdout",
     "output_type": "stream",
     "text": [
      "[[0.02683891 0.00691002 0.00973693 0.44890352 0.4274696  0.03636787\n",
      "  0.04377315]\n",
      " [0.19377594 0.00972677 0.02869718 0.59289415 0.06249003 0.03201222\n",
      "  0.08040371]\n",
      " [0.30233837 0.03863421 0.01427503 0.05800378 0.25326459 0.06331723\n",
      "  0.27016679]\n",
      " [0.11802492 0.03648063 0.027924   0.1195201  0.13414265 0.54618025\n",
      "  0.01772745]\n",
      " [0.4087405  0.15293821 0.00839875 0.02155103 0.11440176 0.19433383\n",
      "  0.09963592]\n",
      " [0.1262005  0.0828798  0.00280905 0.12636135 0.64596725 0.0046714\n",
      "  0.01111065]\n",
      " [0.14235381 0.01937473 0.04323813 0.07555018 0.55819141 0.07492903\n",
      "  0.08636271]\n",
      " [0.04307893 0.02541457 0.02662532 0.23161007 0.13178276 0.04175628\n",
      "  0.49973206]\n",
      " [0.01993648 0.0130976  0.00688361 0.57365992 0.28987442 0.03049902\n",
      "  0.06604895]]\n"
     ]
    }
   ],
   "source": [
    "some_chat_pred_probabilities = svm_linear_clf.predict_proba(some_chat_embedding_vectors)\n",
    "print(some_chat_pred_probabilities)"
   ]
  },
  {
   "cell_type": "markdown",
   "metadata": {},
   "source": [
    "Using *Pandas* we can nicely visualise the results. "
   ]
  },
  {
   "cell_type": "code",
   "execution_count": 36,
   "metadata": {},
   "outputs": [
    {
     "data": {
      "text/html": [
       "<div>\n",
       "<style scoped>\n",
       "    .dataframe tbody tr th:only-of-type {\n",
       "        vertical-align: middle;\n",
       "    }\n",
       "\n",
       "    .dataframe tbody tr th {\n",
       "        vertical-align: top;\n",
       "    }\n",
       "\n",
       "    .dataframe thead th {\n",
       "        text-align: right;\n",
       "    }\n",
       "</style>\n",
       "<table border=\"1\" class=\"dataframe\">\n",
       "  <thead>\n",
       "    <tr style=\"text-align: right;\">\n",
       "      <th></th>\n",
       "      <th>anger</th>\n",
       "      <th>disgust</th>\n",
       "      <th>fear</th>\n",
       "      <th>joy</th>\n",
       "      <th>neutral</th>\n",
       "      <th>sadness</th>\n",
       "      <th>surprise</th>\n",
       "      <th>Chat</th>\n",
       "      <th>Predication</th>\n",
       "      <th>Gold</th>\n",
       "    </tr>\n",
       "  </thead>\n",
       "  <tbody>\n",
       "    <tr>\n",
       "      <th>0</th>\n",
       "      <td>2.683891</td>\n",
       "      <td>0.691002</td>\n",
       "      <td>0.973693</td>\n",
       "      <td>44.890352</td>\n",
       "      <td>42.746960</td>\n",
       "      <td>3.636787</td>\n",
       "      <td>4.377315</td>\n",
       "      <td>That is sweet of you</td>\n",
       "      <td>joy</td>\n",
       "      <td>joy</td>\n",
       "    </tr>\n",
       "    <tr>\n",
       "      <th>1</th>\n",
       "      <td>19.377594</td>\n",
       "      <td>0.972677</td>\n",
       "      <td>2.869718</td>\n",
       "      <td>59.289415</td>\n",
       "      <td>6.249003</td>\n",
       "      <td>3.201222</td>\n",
       "      <td>8.040371</td>\n",
       "      <td>You are so funny</td>\n",
       "      <td>joy</td>\n",
       "      <td>joy</td>\n",
       "    </tr>\n",
       "    <tr>\n",
       "      <th>2</th>\n",
       "      <td>30.233837</td>\n",
       "      <td>3.863421</td>\n",
       "      <td>1.427503</td>\n",
       "      <td>5.800378</td>\n",
       "      <td>25.326459</td>\n",
       "      <td>6.331723</td>\n",
       "      <td>27.016679</td>\n",
       "      <td>Are you a man or a woman?</td>\n",
       "      <td>anger</td>\n",
       "      <td>neutral</td>\n",
       "    </tr>\n",
       "    <tr>\n",
       "      <th>3</th>\n",
       "      <td>11.802492</td>\n",
       "      <td>3.648063</td>\n",
       "      <td>2.792400</td>\n",
       "      <td>11.952010</td>\n",
       "      <td>13.414265</td>\n",
       "      <td>54.618025</td>\n",
       "      <td>1.772745</td>\n",
       "      <td>Chatbots make me sad and feel lonely.</td>\n",
       "      <td>sadness</td>\n",
       "      <td>sadness</td>\n",
       "    </tr>\n",
       "    <tr>\n",
       "      <th>4</th>\n",
       "      <td>40.874050</td>\n",
       "      <td>15.293821</td>\n",
       "      <td>0.839875</td>\n",
       "      <td>2.155103</td>\n",
       "      <td>11.440176</td>\n",
       "      <td>19.433383</td>\n",
       "      <td>9.963592</td>\n",
       "      <td>Your are stupid and boring.</td>\n",
       "      <td>anger</td>\n",
       "      <td>anger</td>\n",
       "    </tr>\n",
       "    <tr>\n",
       "      <th>5</th>\n",
       "      <td>12.620050</td>\n",
       "      <td>8.287980</td>\n",
       "      <td>0.280905</td>\n",
       "      <td>12.636135</td>\n",
       "      <td>64.596725</td>\n",
       "      <td>0.467140</td>\n",
       "      <td>1.111065</td>\n",
       "      <td>Two thumbs up</td>\n",
       "      <td>neutral</td>\n",
       "      <td>joy</td>\n",
       "    </tr>\n",
       "    <tr>\n",
       "      <th>6</th>\n",
       "      <td>14.235381</td>\n",
       "      <td>1.937473</td>\n",
       "      <td>4.323813</td>\n",
       "      <td>7.555018</td>\n",
       "      <td>55.819141</td>\n",
       "      <td>7.492903</td>\n",
       "      <td>8.636271</td>\n",
       "      <td>I fell asleep halfway through this conversation</td>\n",
       "      <td>neutral</td>\n",
       "      <td>anger</td>\n",
       "    </tr>\n",
       "    <tr>\n",
       "      <th>7</th>\n",
       "      <td>4.307893</td>\n",
       "      <td>2.541457</td>\n",
       "      <td>2.662532</td>\n",
       "      <td>23.161007</td>\n",
       "      <td>13.178276</td>\n",
       "      <td>4.175628</td>\n",
       "      <td>49.973206</td>\n",
       "      <td>Wow, I am really amazed.</td>\n",
       "      <td>surprise</td>\n",
       "      <td>surprise</td>\n",
       "    </tr>\n",
       "    <tr>\n",
       "      <th>8</th>\n",
       "      <td>1.993648</td>\n",
       "      <td>1.309760</td>\n",
       "      <td>0.688361</td>\n",
       "      <td>57.365992</td>\n",
       "      <td>28.987442</td>\n",
       "      <td>3.049902</td>\n",
       "      <td>6.604895</td>\n",
       "      <td>You are amazing.</td>\n",
       "      <td>joy</td>\n",
       "      <td>joy</td>\n",
       "    </tr>\n",
       "  </tbody>\n",
       "</table>\n",
       "</div>"
      ],
      "text/plain": [
       "       anger    disgust      fear        joy    neutral    sadness   surprise  \\\n",
       "0   2.683891   0.691002  0.973693  44.890352  42.746960   3.636787   4.377315   \n",
       "1  19.377594   0.972677  2.869718  59.289415   6.249003   3.201222   8.040371   \n",
       "2  30.233837   3.863421  1.427503   5.800378  25.326459   6.331723  27.016679   \n",
       "3  11.802492   3.648063  2.792400  11.952010  13.414265  54.618025   1.772745   \n",
       "4  40.874050  15.293821  0.839875   2.155103  11.440176  19.433383   9.963592   \n",
       "5  12.620050   8.287980  0.280905  12.636135  64.596725   0.467140   1.111065   \n",
       "6  14.235381   1.937473  4.323813   7.555018  55.819141   7.492903   8.636271   \n",
       "7   4.307893   2.541457  2.662532  23.161007  13.178276   4.175628  49.973206   \n",
       "8   1.993648   1.309760  0.688361  57.365992  28.987442   3.049902   6.604895   \n",
       "\n",
       "                                              Chat Predication      Gold  \n",
       "0                             That is sweet of you         joy       joy  \n",
       "1                                 You are so funny         joy       joy  \n",
       "2                        Are you a man or a woman?       anger   neutral  \n",
       "3            Chatbots make me sad and feel lonely.     sadness   sadness  \n",
       "4                      Your are stupid and boring.       anger     anger  \n",
       "5                                    Two thumbs up     neutral       joy  \n",
       "6  I fell asleep halfway through this conversation     neutral     anger  \n",
       "7                         Wow, I am really amazed.    surprise  surprise  \n",
       "8                                 You are amazing.         joy       joy  "
      ]
     },
     "execution_count": 36,
     "metadata": {},
     "output_type": "execute_result"
    }
   ],
   "source": [
    "some_chat_pred_labels = []\n",
    "for predicted_label in some_chat_pred:\n",
    "    some_chat_pred_labels.append(le.classes_[predicted_label])\n",
    "\n",
    "some_chat_gold_labels = []\n",
    "for gold_label in some_chat_labels:\n",
    "    some_chat_gold_labels.append(le.classes_[gold_label])\n",
    "\n",
    "\n",
    "result_frame = pd.DataFrame(some_chat_pred_probabilities*100, columns=le.classes_)\n",
    "result_frame['Chat']=some_chat\n",
    "result_frame['Predication']=some_chat_pred_labels\n",
    "result_frame['Gold']=some_chat_gold_labels\n",
    "\n",
    "result_frame"
   ]
  },
  {
   "cell_type": "code",
   "execution_count": 37,
   "metadata": {},
   "outputs": [
    {
     "name": "stdout",
     "output_type": "stream",
     "text": [
      "['anger' 'disgust' 'fear' 'joy' 'neutral' 'sadness' 'surprise']\n",
      "SVM LINEAR ----------------------------------------------------------------\n",
      "              precision    recall  f1-score   support\n",
      "\n",
      "           0  0.5000000 0.5000000 0.5000000         2\n",
      "           3  1.0000000 0.7500000 0.8571429         4\n",
      "           4  0.0000000 0.0000000 0.0000000         1\n",
      "           5  1.0000000 1.0000000 1.0000000         1\n",
      "           6  1.0000000 1.0000000 1.0000000         1\n",
      "\n",
      "    accuracy                      0.6666667         9\n",
      "   macro avg  0.7000000 0.6500000 0.6714286         9\n",
      "weighted avg  0.7777778 0.6666667 0.7142857         9\n",
      "\n"
     ]
    }
   ],
   "source": [
    "report = classification_report(some_chat_labels,some_chat_pred,digits = 7)\n",
    "print(le.classes_)\n",
    "print('SVM LINEAR ----------------------------------------------------------------')\n",
    "print(report)"
   ]
  },
  {
   "cell_type": "markdown",
   "metadata": {},
   "source": [
    "### 7. Saving the classifier to disk"
   ]
  },
  {
   "cell_type": "markdown",
   "metadata": {},
   "source": [
    "Just as with the previous notebook, you can save the emotion classification model to disk and load the model some other time. Note that you need to load the same word2vec model as well to represent any text input with vector representations that are compatible."
   ]
  },
  {
   "cell_type": "code",
   "execution_count": 38,
   "metadata": {},
   "outputs": [
    {
     "name": "stdout",
     "output_type": "stream",
     "text": [
      "Review 0 of 9\n",
      "System predictions [3 3 0 5 0 4 4 6 3]\n",
      "Gold labels [3 3 4 5 0 3 0 6 3]\n",
      "That is sweet of you => joy\n",
      "You are so funny => joy\n",
      "Are you a man or a woman? => anger\n",
      "Chatbots make me sad and feel lonely. => sadness\n",
      "Your are stupid and boring. => anger\n",
      "Two thumbs up => neutral\n",
      "I fell asleep halfway through this conversation => neutral\n",
      "Wow, I am really amazed. => surprise\n",
      "You are amazing. => joy\n",
      "[[0.06242633 0.03354553 0.01709483 0.17764976 0.604794   0.08274854\n",
      "  0.021741  ]\n",
      " [0.09756114 0.01984959 0.03185186 0.17215211 0.58706584 0.03305914\n",
      "  0.05846033]\n",
      " [0.09228869 0.03033759 0.01519324 0.00618809 0.53911847 0.04233373\n",
      "  0.27454019]\n",
      " [0.04894699 0.03526466 0.01985468 0.06069891 0.62965904 0.18741068\n",
      "  0.01816504]\n",
      " [0.1952723  0.05168056 0.01651187 0.00395565 0.58432463 0.08356258\n",
      "  0.0646924 ]\n",
      " [0.09950616 0.03340602 0.0169997  0.17008627 0.60165589 0.04673985\n",
      "  0.03160612]\n",
      " [0.11498147 0.02327063 0.02666716 0.09333747 0.61696948 0.1028548\n",
      "  0.02191899]\n",
      " [0.01741515 0.01760496 0.03579511 0.36809152 0.35008873 0.08117588\n",
      "  0.12982865]\n",
      " [0.09310381 0.03405607 0.01750032 0.41948208 0.3349138  0.03515799\n",
      "  0.06578594]]\n"
     ]
    }
   ],
   "source": [
    "import pickle\n",
    "\n",
    "# save the classifier to disk\n",
    "filename_classifier = './models/svm_linear_clf_embeddings.sav'\n",
    "pickle.dump(svm_linear_clf, open(filename_classifier, 'wb'))\n",
    "\n",
    "filename_classifier = './models/svm_nonlinear_clf_embeddings.sav'\n",
    "pickle.dump(svm_nonlinear_clf, open(filename_classifier, 'wb'))\n",
    "\n",
    "filename_encoder = './models/label_encoder.sav'\n",
    " \n",
    "# some time later...\n",
    " \n",
    "# load the classifier and the vectorizer from disk\n",
    "loaded_classifier = pickle.load(open(filename_classifier, 'rb'))\n",
    "loaded_label_encoder = pickle.load(open(filename_encoder, 'rb'))\n",
    "\n",
    "# Apply preprocessing\n",
    "some_chat_tokens = []\n",
    "for utterance in some_chat:\n",
    "    some_chat_tokens.append(nltk.tokenize.word_tokenize(utterance))\n",
    "some_chat_embedding_vectors = getAvgFeatureVecs(some_chat_tokens, stop_words, word_embedding_model, index2word_set, num_features)\n",
    "some_chat_embedding_vectors = np.nan_to_num(some_chat_embedding_vectors)\n",
    "\n",
    "# Apply classifier and report predictions\n",
    "pred_from_loaded_classifier = loaded_classifier.predict(some_chat_embedding_vectors)\n",
    "\n",
    "# Report predictions\n",
    "print('System predictions', some_chat_pred)\n",
    "print('Gold labels', some_chat_labels)\n",
    "for review, predicted_label in zip(some_chat, some_chat_pred):\n",
    "    print('%s => %s' % (review, \n",
    "                        loaded_label_encoder.classes_[predicted_label]))\n",
    "    \n",
    "# Report predictions (probabilities)\n",
    "some_chat_pred_probabilities = loaded_classifier.predict_proba(some_chat_embedding_vectors)\n",
    "print(some_chat_pred_probabilities)\n"
   ]
  },
  {
   "cell_type": "markdown",
   "metadata": {},
   "source": [
    "# End of this notebook"
   ]
  }
 ],
 "metadata": {
  "kernelspec": {
   "display_name": "Python 3",
   "language": "python",
   "name": "python3"
  },
  "language_info": {
   "codemirror_mode": {
    "name": "ipython",
    "version": 3
   },
   "file_extension": ".py",
   "mimetype": "text/x-python",
   "name": "python",
   "nbconvert_exporter": "python",
   "pygments_lexer": "ipython3",
   "version": "3.8.5"
  }
 },
 "nbformat": 4,
 "nbformat_minor": 4
}
