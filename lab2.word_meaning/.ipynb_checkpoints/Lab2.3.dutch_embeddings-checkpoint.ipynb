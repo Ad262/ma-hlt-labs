{
 "cells": [
  {
   "cell_type": "markdown",
   "metadata": {},
   "source": [
    "# Creating embeddings from Dutch text\n",
    "\n",
    "In this notebook, we are going to show how you can create word embeddings from a text collection for a specific language:\n",
    "\n",
    "<ol>\n",
    "<li>Obtain a text corpus from the web. We will use the Leipzig Corpora Collection that contains texts in many languages and was already preprocessed.\n",
    "<li>Tokenize the text to get the individual words in sentences as a list. We use the NLTK toolkit and a specific tokenization function to do that.\n",
    "<li>Create an embedding model from the tokenized text using the Gensim package\n",
    "<li>Demonstrate how to use the embedding model\n",
    "<li>Show how the word embedding space can be visualised\n",
    "</ol>\n"
   ]
  },
  {
   "cell_type": "markdown",
   "metadata": {},
   "source": [
    "## 1. Obtaining text from the Leipzig Corpora collection"
   ]
  },
  {
   "cell_type": "markdown",
   "metadata": {},
   "source": [
    "The Leipzig corpora collection has corpora for over 250 languages. These corpora are collected from Wikipedia, news and web crawls.\n",
    "For example, for the Dutch corpus they give the following information:\n",
    "\n",
    "* Dutch Web text corpus based on material from 2002\n",
    "* Sentences: 21,819,413 · Types: 4,556,733 · Tokens: 337,800,733\n",
    "\n",
    "Download a corpus in a language from:\n",
    "\n",
    "http://wortschatz.uni-leipzig.de/en/download/\n",
    "\n",
    "Unpack the compressed file somewhere on your computer. You will see it contains a number of files in a folder that have been created by the Leipzig NLP group from the sources. For example, the files \"...-sources.txt\" contain the list of URLs from which the text was obtained preceded by an identifier and followed by the data of crawling:\n",
    "\n",
    "\n",
    "- 1\thttp://www.pzc.nl/algemeen/specials/ijzeren-gordijn/herinneringen-aan-het-ijzeren-gordijn-1.4672192\t2017-01-13\n",
    "- 2\thttps://www.gooieneemlander.nl/playlist/het-gooi-uitgelicht/artikel/zeven-tips-over-moord-op-hilversumse-bakker-ruste\t2017-01-12\n",
    "- 3\thttp://www.wos.nl/westland/content/page?2062\t2017-01-13\n",
    "\n",
    "The \"...-words.txt\" files contains the vocabulary of words with their frequency, e.g.:\n",
    "\n",
    "- 255\tplaats\tplaats\t9561\n",
    "- 256\tpolitie\tpolitie\t9546\n",
    "- 257\tsteeds\tsteeds\t9501\n",
    "- 258\tzoals\tzoals\t9445\n",
    "- 259\tDie\tDie\t9412\n",
    "- 260\twerden\twerden\t9230\n",
    "- 261\tNederlandse\tNederlandse\t9057\n",
    "\n",
    "We are going to use the files named \"...-sentences.txt\", which contain a sentence on each line preceded by an identifier, e.g.:\n",
    "\n",
    "- 1       00.01 uur: Ouders slachtoffers aangekomen in Melsbroek Op de militaire luchthaven van Melsbroek is de militaire vlucht met aan boord de ouders van de dodelijke slachtoffers geland.\n",
    "- 2       ‘00:11:31 aan technische spreektijd, Hart voor Bloemendaal’.\n",
    "- 3       01/02/16 om 15:20 - Bijgewerkt op 31/01/16 om 22:10 Over het belang van de eerste voorverkiezing in Iowa zijn de meningen verdeeld, maar voor Barack Obama in 2008 betekende ze een cruciale eerste stap.\n",
    "- 4       01/04/10 om 15:47 - Bijgewerkt om 15:47 Digitale artiesten zijn er in geslaagd een driedimensionale afbeelding van het gezicht van Jezus te vormen.\n",
    "\n",
    "We need to process this file line by line. Obtain the tokens from each sentence and separate punctuation from each token. We are going to do this with the NLTK toolkit and define a specific function that does all the work for us. We then only need to call this function to a local file on our disk."
   ]
  },
  {
   "cell_type": "markdown",
   "metadata": {},
   "source": [
    "## Preprocessing function"
   ]
  },
  {
   "cell_type": "code",
   "execution_count": 28,
   "metadata": {},
   "outputs": [],
   "source": [
    "# We use the NLTK tokenization function to process the text\n",
    "# For this we import the modules word_tokenize and sent_tokenize\n",
    "\n",
    "from nltk.tokenize import word_tokenize, sent_tokenize\n",
    "\n",
    "import string\n",
    "\n",
    "#Function to remove punctuation from word tokens, \n",
    "#Takes a list of tokens as input\n",
    "def remove_punct(tokens):\n",
    "    # punct is a string with all punctuation tokens: !\"#$%&'()*+,-./:;<=>?@[\\]^_`{|}~\n",
    "    punct = string.punctuation\n",
    "    # empty list in which we put the clean tokens\n",
    "    tokens_clean = []\n",
    "\n",
    "    # Iterate over all characters in tokens \n",
    "    # and only keeps them if not in punct\n",
    "    for t in tokens:\n",
    "        if t not in punct:\n",
    "            tokens_clean.append(t)\n",
    "            \n",
    "    return tokens_clean\n",
    "\n",
    "# The leipnitz corpus is already processed into sentences. \n",
    "# We can read it line by line but \n",
    "# we need to skip the first token which is the identifier\n",
    "# Takes as input the path to a file\n",
    "def preprocess_leipnitz_sentences(file):\n",
    "    clean_sentences = []\n",
    "    \n",
    "    with open(file, \"r\") as i:\n",
    "            for sentence in i:\n",
    "                # We downcase each sentence, word_tokenize it with NLTK\n",
    "                tokens = word_tokenize(sentence.lower())\n",
    "                # We apply our custom remove_punct function and exclude the first token\n",
    "                tokens_clean = remove_punct(tokens[1:]) # we skip the first token which is the identifier.\n",
    "                # We add the clean tokens to the list of sentences\n",
    "                clean_sentences.append(tokens_clean)\n",
    "    return clean_sentences\n",
    "\n",
    "# If you want to process raw text that is not split into sentences,\n",
    "# you can call the next function. The difference is:\n",
    "# - we read the complete file as a text string\n",
    "# - we apply the NLTK sent_tokenize function to the get a list of sentences\n",
    "def preprocess_rawtext(file):\n",
    "    clean_sentences = []\n",
    "\n",
    "    with open(file) as infile:\n",
    "        text = infile.read()\n",
    "        \n",
    "    sentences = sent_tokenize(text.strip())\n",
    "\n",
    "    for sentence in sentences:\n",
    "        tokens = word_tokenize(sentence.lower())\n",
    "        tokens_clean = remove_punct(tokens)\n",
    "        clean_sentences.append(tokens_clean)\n",
    "    return clean_sentences\n"
   ]
  },
  {
   "cell_type": "markdown",
   "metadata": {},
   "source": [
    "### We now apply the above custom function to the Leibniz text corpus file with the sentences\n",
    "\n",
    "You need to adapt the path_to_the_corpus_file to the correct location of the file on your computer.\n",
    "If the path is wrong you get an error message!\n",
    "\n",
    "It takes a while before the whole file is processed. Get a coffee or cup of tea!"
   ]
  },
  {
   "cell_type": "code",
   "execution_count": 29,
   "metadata": {},
   "outputs": [],
   "source": [
    "#nld_newscrawl_2016_1M-sentences.txt\n",
    "#nld_mixed-typical_2012_1M-sentences.txt\n",
    "path_to_the_corpus_file='../data/nld_newscrawl_2016_1M-sentences.txt'\n",
    "\n",
    "text_leibnitzcorpus_clean = preprocess_leipnitz_sentences(path_to_the_corpus_file)"
   ]
  },
  {
   "cell_type": "markdown",
   "metadata": {},
   "source": [
    "We can inspect text_leibnitzcorpus_clean by asking for its length and printing a small sample, in this case sentence 201 till 208. "
   ]
  },
  {
   "cell_type": "code",
   "execution_count": 34,
   "metadata": {},
   "outputs": [
    {
     "name": "stdout",
     "output_type": "stream",
     "text": [
      "Number of sentences= 1000000\n",
      "[['10', 'april', '2015', 'bron', 'de', 'tijd', 'vergelijkbare', 'resultaten', 'de', 'oude', 'belgen', 'van', 'de', 'beurs..'], ['10', 'april', '2015', 'bron', 'de', 'tijd', 'vergelijkbare', 'resultaten', 'euronext', 'brussel', 'galapagos', 'op', 'zucht', 'van', 'recordkoersop', 'de', 'brusselse', 'beurs', 'heeft', 'galapagos', 'de', 'dag', 'afgesloten', 'op', 'een', 'zucht', 'van', 'een', 'nieuwe', 'recordkoers'], ['10', 'april', '2015', 'bron', 'de', 'tijd', 'vergelijkbare', 'resultaten', 'euronext', 'elia', 'op', 'pechstrook', 'van', 'de', 'beursrally..'], ['10', 'april', '2015', 'bron', 'de', 'tijd', 'vergelijkbare', 'resultaten', 'straffe', 'cocktail', 'brengt', 'ceo', \"'s\", 'niet', 'in', 'hogere', 'sferenmix', 'de', 'ultralage', 'rente', 'met', 'een', 'zwakke', 'euro'], ['10', 'april', '2016', 'bron', 'de', 'tijd', 'vergelijkbare', 'resultaten', 'rusland', 'wil', 'militair', 'gesprek', 'met', 'vs', 'over', 'syriërusland', 'stelt', 'de', 'vs', 'militaire', 'gesprekken', 'te', 'hebben', 'over', 'de', 'situatie', 'in', 'syrië'], ['10', 'augustus', '1991', 'bron', 'de', 'tijd', 'vergelijkbare', 'resultaten', 'groeizorgen', 'duwen', 'wall', 'street', 'in', 'het', 'roodnet', 'als', 'in', 'europa', 'gingen', 'ook', 'de', 'amerikaanse', 'beurzen', 'vrijdag', 'lager', 'al', 'waren', 'de', 'verliezen', 'er', 'minder', 'uitgesproken'], ['10', 'augustus', '2006', 'bron', 'de', 'tijd', 'vergelijkbare', 'resultaten', 'euronext', 'brussel', 'bel20', 'met', 'kleine', 'winst', 'dag', 'uit..']]\n"
     ]
    }
   ],
   "source": [
    "print('Number of sentences=',len(text_leibnitzcorpus_clean))\n",
    "#we print a few sentences to see how it looks like\n",
    "print(text_leibnitzcorpus_clean[201:208])"
   ]
  },
  {
   "cell_type": "markdown",
   "metadata": {},
   "source": [
    "## Training word embeddings"
   ]
  },
  {
   "cell_type": "markdown",
   "metadata": {},
   "source": [
    "To train a language model with word embeddings, we will use the **gensim** package. You can find more information on gensim on the [Gensim website](https://radimrehurek.com/gensim/ \"Gensim website\").\n",
    "\n",
    "You need to install Gensim on your local machine from the command line:\n",
    "\n",
    "    conda install -c conda-forge gensim\n",
    "\n",
    "If gensim is succefully installed you can continue to build embedding models (and save them) or to use existing models."
   ]
  },
  {
   "cell_type": "markdown",
   "metadata": {},
   "source": [
    "When we train our embeddings, gensim allows us to set a number of parameters. The most important of these are `min_count`, `window`, `size` and `sg`:\n",
    "\n",
    "* `min_count` is the minimum frequency of the words in our corpus. For infrequent words, we just don't have enough information to train reliable word embeddings. It therefore makes sense to set this minimum frequency to at least 10. In these experiments, we'll set it to 100 to limit the size of our model even more.\n",
    "* `window` is number of words to the left and to the right that make up the context that word2vec will take into account.\n",
    "* `size` is the dimensionality of the word vectors. This is generally between 100 and 1000. You often have to make a trade-off: embeddings with a higher dimensionality are able to model more information, but also need more data to train.\n",
    "* `sg`: there are two algorithms to train word2vec: skip-gram and CBOW. Skip-gram tries to predict the context on the basis of the target word; CBOW tries to find the target on the basis of the context. By default, Gensim uses CBOW (`sg=0`).\n",
    "\n",
    "We'll investigate the impact of some of these parameters later."
   ]
  },
  {
   "cell_type": "markdown",
   "metadata": {},
   "source": [
    "The next command creates an embedding model from our cleaned corpus. The model is assigned to the variable 'dutchleibnitz_w2v' and can be used next in this notebook. We also save the embedding model to disk as 'txt' file and as 'binary' data (bin) so that we can load it later and do not need to build the model over and over again."
   ]
  },
  {
   "cell_type": "code",
   "execution_count": 35,
   "metadata": {},
   "outputs": [],
   "source": [
    "# You need to do the next commands only once. When you have succesfully created and saved the embeddings you can load them afterwards\n",
    "from gensim.models import Word2Vec\n",
    "\n",
    "dutchleibnitz_w2v = Word2Vec(text_leibnitzcorpus_clean, size = 300, window = 4, min_count =2)\n",
    "## We can save the model for later usage\n",
    "dutchleibnitz_w2v.wv.save_word2vec_format('../models/nld_newscrawl_2016_1M-sentences.txt')\n",
    "dutchleibnitz_w2v.wv.save_word2vec_format('../models/nld_newscrawl_2016_1M-sentences.bin', binary=True)"
   ]
  },
  {
   "cell_type": "code",
   "execution_count": 37,
   "metadata": {},
   "outputs": [
    {
     "name": "stdout",
     "output_type": "stream",
     "text": [
      "Vector size = 300\n",
      "Vocabulary size = 204278\n"
     ]
    }
   ],
   "source": [
    "# Show some properties of our model\n",
    "print('Vector size =', dutchleibnitz_w2v.wv.vector_size)\n",
    "print('Vocabulary size =', len(dutchleibnitz_w2v.wv.vocab))"
   ]
  },
  {
   "cell_type": "markdown",
   "metadata": {},
   "source": [
    "## Using word embeddings"
   ]
  },
  {
   "cell_type": "markdown",
   "metadata": {},
   "source": [
    "Now we saved our model to disk, we can load it any time and use it. The next time you launch this notebook, you do not need to collect and preprocess the corpus and to build a model from it. You can load it from the location where you saved it. That's what we are going to do now."
   ]
  },
  {
   "cell_type": "code",
   "execution_count": 1,
   "metadata": {},
   "outputs": [],
   "source": [
    "# How to load a stored model:\n",
    "from gensim.models import KeyedVectors\n",
    "\n",
    "# You can load it either as text or as binary data. The latter is more efficient but you may not be able to port it from machine to machine.\n",
    "#dutchleibnitz_w2v = KeyedVectors.load_word2vec_format('../models/nld_newscrawl_2016_1M-sentences.txt', binary=False) \n",
    "dutchleibnitz_w2v = KeyedVectors.load_word2vec_format('../models/nld_newscrawl_2016_1M-sentences.bin', binary=True) "
   ]
  },
  {
   "cell_type": "markdown",
   "metadata": {},
   "source": [
    "Let's take a look at the model. The word embeddings are on its `wv` attribute, and we can access them by the using the token as key. For example, here is the embedding for Dutch *koning* (king), with the requested 100 dimensions."
   ]
  },
  {
   "cell_type": "code",
   "execution_count": 6,
   "metadata": {},
   "outputs": [
    {
     "name": "stderr",
     "output_type": "stream",
     "text": [
      "/anaconda3/lib/python3.6/site-packages/ipykernel_launcher.py:1: DeprecationWarning: Call to deprecated `wv` (Attribute will be removed in 4.0.0, use self instead).\n",
      "  \"\"\"Entry point for launching an IPython kernel.\n"
     ]
    },
    {
     "data": {
      "text/plain": [
       "array([-0.49769902, -0.34516183,  0.42430684,  0.15049955, -1.6401116 ,\n",
       "       -0.04121036, -0.6355386 , -0.18224816, -0.15899771,  1.2520732 ,\n",
       "       -1.301957  , -1.6576903 , -0.23005748, -0.5760701 , -0.3229524 ,\n",
       "       -0.8784133 ,  1.6244949 ,  0.5952014 ,  0.08957877, -0.18286157,\n",
       "        0.7030027 , -0.34309813, -0.56504273, -0.6165105 , -0.33587807,\n",
       "        2.0613897 ,  0.583364  , -0.46701327,  0.34988663,  0.5565489 ,\n",
       "        0.5405137 , -0.8700068 ,  0.359652  ,  0.4045758 ,  0.58363974,\n",
       "        0.6136328 , -0.31852156,  0.16060159, -0.9391412 ,  0.10941853,\n",
       "       -0.3710872 , -0.2747417 , -0.04914817,  0.42970225, -0.32872373,\n",
       "        0.5376348 ,  0.21092631, -0.2846078 ,  1.5480698 ,  0.39264685,\n",
       "        1.077865  , -0.37717265,  1.3160956 ,  0.93765074,  0.1923365 ,\n",
       "       -1.0608717 ,  0.2026879 ,  0.765575  ,  0.4081502 ,  1.33905   ,\n",
       "       -0.4930764 ,  0.24318686, -0.10052484, -1.3849837 ,  0.04212368,\n",
       "        0.41002804,  1.0788286 ,  0.44049135,  0.99543196,  0.9601142 ,\n",
       "       -0.8520325 ,  0.3853154 ,  0.18989855,  0.9413358 ,  0.11331457,\n",
       "        0.1955559 ,  0.75067717, -0.36617628, -0.8809098 ,  0.47213766,\n",
       "        0.02991576, -0.46514872, -0.8631501 , -0.67255425,  0.0560393 ,\n",
       "       -0.5272877 ,  0.04019405,  1.3102994 , -1.8252841 ,  0.5207923 ,\n",
       "        0.39733404,  0.99721533, -0.6808827 , -0.22823848,  0.6625798 ,\n",
       "       -0.8656304 , -0.26460332,  0.3412998 , -0.44487244, -0.05636565,\n",
       "       -0.05593222, -0.24512616, -0.00589285, -0.98403287,  0.63592505,\n",
       "       -0.7264916 ,  0.43533096, -0.24946932,  0.8682267 , -0.9325082 ,\n",
       "        0.03210956, -1.0867194 ,  0.41939476,  0.02880279, -0.11010235,\n",
       "        0.53149796,  0.23634996,  0.7015467 ,  0.90709704,  1.019479  ,\n",
       "       -1.4330169 ,  0.28635395, -0.07261056, -1.1769698 ,  0.56714666,\n",
       "       -0.21877639,  0.53286713, -0.15668286, -0.9834262 , -0.29258308,\n",
       "        0.38977963, -1.0755758 , -0.01504179, -0.1652975 ,  0.1850094 ,\n",
       "       -0.6919979 , -0.841808  ,  0.02834838,  0.38563815, -0.39275983,\n",
       "        0.68405604, -0.95145077, -0.48099023,  0.5446998 ,  0.17306136,\n",
       "        0.32321417, -0.04633746, -0.57051617,  0.01270398, -0.23416997,\n",
       "       -0.11697205,  0.8582887 ,  0.5181241 , -0.06366602, -1.4908758 ,\n",
       "       -1.0102186 ,  0.16093439,  0.5622994 , -0.99113   , -0.24782339,\n",
       "       -0.19238949, -1.0239639 , -0.10026572, -0.05174838,  0.10957796,\n",
       "        0.5999309 , -0.22631924,  0.968384  , -0.45298102,  0.08198031,\n",
       "        0.3648978 ,  0.31738117,  1.2328523 ,  0.05389222,  0.03307896,\n",
       "       -0.08338164, -0.22881638, -0.77542645, -0.23567958, -0.4047232 ,\n",
       "       -0.1374818 ,  0.23005088, -0.5959198 ,  0.44645077, -1.1477273 ,\n",
       "        0.38157868,  1.1299368 ,  0.9862844 ,  0.9374108 ,  0.4500267 ,\n",
       "       -0.14875808,  0.6540956 ,  0.49638605, -0.30763465, -0.5910739 ,\n",
       "        1.580165  , -0.8303503 ,  0.34554464,  0.687084  ,  0.34347677,\n",
       "       -0.5148182 ,  0.30014783, -1.0321236 , -0.21627302,  0.1325616 ,\n",
       "        0.0542189 ,  0.16654703, -0.36491543, -0.7885597 , -0.63675934,\n",
       "        0.6068312 , -1.142184  ,  0.18890378,  0.2635457 , -0.25340188,\n",
       "        0.31521243,  0.4657602 , -0.02223242, -0.51752394, -0.83022183,\n",
       "        0.81740886, -0.8695917 ,  0.25396296,  0.6691334 ,  0.11122018,\n",
       "       -0.05995087, -0.12202474, -1.1681505 , -0.44577116,  0.41099793,\n",
       "       -0.84107834, -0.56182444, -0.15907359, -0.01391298,  0.9495587 ,\n",
       "        0.8435024 ,  0.27117127,  0.70690966,  1.2616377 ,  0.60102737,\n",
       "       -0.6782207 ,  1.472271  , -0.46043164, -0.8661629 , -0.06376842,\n",
       "        0.2829421 , -0.39238614,  0.3787739 , -0.38085952,  0.1799237 ,\n",
       "       -0.15119725, -0.14445752,  1.0980402 ,  1.1303363 ,  0.86637044,\n",
       "        0.9186643 ,  1.1861918 , -0.71403337,  0.6511243 , -0.80058575,\n",
       "       -0.25019947, -0.29755235,  1.1283    , -0.2769034 , -0.26035032,\n",
       "        0.24611798,  0.38214833,  0.00897842,  0.17268759, -0.2635842 ,\n",
       "        0.20510206, -0.42454022, -0.04094769, -0.8823737 ,  0.71354395,\n",
       "       -0.42079732, -0.5158352 ,  0.53009295,  0.6361813 ,  0.04729757,\n",
       "       -0.30163962, -0.01894824, -0.74183005, -0.17232177, -1.0804155 ,\n",
       "        1.8745561 , -0.3984769 ,  0.21033065, -0.970601  , -0.5474107 ,\n",
       "       -0.5345663 , -0.48371372, -0.241221  ,  0.23334566,  0.45397902,\n",
       "       -1.2774248 , -0.2185092 , -0.19235627, -0.7607393 ,  0.44443074],\n",
       "      dtype=float32)"
      ]
     },
     "execution_count": 6,
     "metadata": {},
     "output_type": "execute_result"
    }
   ],
   "source": [
    "dutchleibnitz_w2v.wv[\"koning\"]"
   ]
  },
  {
   "cell_type": "markdown",
   "metadata": {},
   "source": [
    "We can also easily find the similarity between two words. Similarity is measured as the cosine between the two word embeddings, and ranges between -1 and +1. The higher the cosine, the more similar two words are. As expected, the figures below show that *koning* (king) is closer to *koningin* (queen) than to *koffie* (coffee)."
   ]
  },
  {
   "cell_type": "code",
   "execution_count": 7,
   "metadata": {},
   "outputs": [
    {
     "name": "stdout",
     "output_type": "stream",
     "text": [
      "0.7473205402184178\n",
      "-0.02495853081532883\n"
     ]
    },
    {
     "name": "stderr",
     "output_type": "stream",
     "text": [
      "/anaconda3/lib/python3.6/site-packages/ipykernel_launcher.py:1: DeprecationWarning: Call to deprecated `wv` (Attribute will be removed in 4.0.0, use self instead).\n",
      "  \"\"\"Entry point for launching an IPython kernel.\n",
      "/anaconda3/lib/python3.6/site-packages/ipykernel_launcher.py:2: DeprecationWarning: Call to deprecated `wv` (Attribute will be removed in 4.0.0, use self instead).\n",
      "  \n"
     ]
    }
   ],
   "source": [
    "print(dutchleibnitz_w2v.wv.similarity(\"koning\", \"koningin\"))\n",
    "print(dutchleibnitz_w2v.wv.similarity(\"koning\", \"koffie\"))"
   ]
  },
  {
   "cell_type": "markdown",
   "metadata": {},
   "source": [
    "In a similar vein, we can find the words that are most similar to a target word. The words with the most similar embedding to *koning* are all similar titles (such as *keizer* (emperor) and *hertog* (duke)) or are semantically related to royalty (such as *troon* (throne))."
   ]
  },
  {
   "cell_type": "code",
   "execution_count": 8,
   "metadata": {},
   "outputs": [
    {
     "name": "stderr",
     "output_type": "stream",
     "text": [
      "/anaconda3/lib/python3.6/site-packages/ipykernel_launcher.py:1: DeprecationWarning: Call to deprecated `wv` (Attribute will be removed in 4.0.0, use self instead).\n",
      "  \"\"\"Entry point for launching an IPython kernel.\n"
     ]
    },
    {
     "data": {
      "text/plain": [
       "[('prins', 0.7949233055114746),\n",
       " ('kroonprins', 0.7651820182800293),\n",
       " ('koningin', 0.7473205924034119),\n",
       " ('máxima', 0.6794818639755249),\n",
       " ('keizer', 0.6710089445114136),\n",
       " ('prinses', 0.6528749465942383),\n",
       " ('beatrix', 0.65277099609375),\n",
       " ('aartsbisschop', 0.6235039234161377),\n",
       " ('willem-alexander', 0.6198657751083374),\n",
       " ('paulus', 0.6164722442626953)]"
      ]
     },
     "execution_count": 8,
     "metadata": {},
     "output_type": "execute_result"
    }
   ],
   "source": [
    "dutchleibnitz_w2v.wv.similar_by_word(\"koning\", topn=10)"
   ]
  },
  {
   "cell_type": "markdown",
   "metadata": {},
   "source": [
    "Interestingly, we can look for words that are similar to a set of words and dissimilar to another set of words at the same time. This allows us to look for analogies of the type *king (koning) is to man (man) like ... is to woman (vrouw)*. Although the most similar word is not the correct answer (which would be queen), notice how female titles, such as *echtgenote* (wife), *keizerin* (empress) and *koningin* (queen) are now present in the top 10 most similar words. This wasn't the case above."
   ]
  },
  {
   "cell_type": "code",
   "execution_count": 9,
   "metadata": {},
   "outputs": [
    {
     "name": "stderr",
     "output_type": "stream",
     "text": [
      "/anaconda3/lib/python3.6/site-packages/ipykernel_launcher.py:1: DeprecationWarning: Call to deprecated `wv` (Attribute will be removed in 4.0.0, use self instead).\n",
      "  \"\"\"Entry point for launching an IPython kernel.\n"
     ]
    },
    {
     "data": {
      "text/plain": [
       "[('prins', 0.7092097997665405),\n",
       " ('kroonprins', 0.7064428329467773),\n",
       " ('koningin', 0.6821207404136658),\n",
       " ('prinses', 0.6459366083145142),\n",
       " ('máxima', 0.6393944621086121),\n",
       " ('beatrix', 0.6058264970779419),\n",
       " ('keizer', 0.6049472093582153),\n",
       " ('willem-alexander', 0.5962990522384644),\n",
       " ('priester', 0.5750612020492554),\n",
       " ('filip', 0.5671772956848145)]"
      ]
     },
     "execution_count": 9,
     "metadata": {},
     "output_type": "execute_result"
    }
   ],
   "source": [
    "dutchleibnitz_w2v.wv.most_similar(positive=['vrouw', 'koning'], negative=[\"man\"], topn=10)"
   ]
  },
  {
   "cell_type": "markdown",
   "metadata": {},
   "source": [
    "Similarly, we can also zoom in on one of the meanings of ambiguous words. For example, like in English, *muis* (mouse) in Dutch can refer to two things: an animal and a computer mouse. If we look at the 10 nearest neighbours to *muis*, most of them are animals, such as *papegaai* (parrot). This suggests the animal meaning is much more frequent on Wikipedia than the other one."
   ]
  },
  {
   "cell_type": "code",
   "execution_count": 24,
   "metadata": {},
   "outputs": [
    {
     "name": "stderr",
     "output_type": "stream",
     "text": [
      "/anaconda3/lib/python3.6/site-packages/ipykernel_launcher.py:1: DeprecationWarning: Call to deprecated `wv` (Attribute will be removed in 4.0.0, use self instead).\n",
      "  \"\"\"Entry point for launching an IPython kernel.\n"
     ]
    },
    {
     "data": {
      "text/plain": [
       "[('muur', 0.4977409243583679),\n",
       " ('wolk', 0.48633116483688354),\n",
       " ('oceaan', 0.48022082448005676),\n",
       " ('planeet', 0.47881391644477844),\n",
       " ('lijn', 0.47873878479003906),\n",
       " ('muren', 0.47670120000839233),\n",
       " ('rivier', 0.4762237071990967),\n",
       " ('steen', 0.47407227754592896),\n",
       " ('vrachtwagen', 0.46704232692718506),\n",
       " ('wolken', 0.4656563103199005),\n",
       " ('stoel', 0.46506911516189575),\n",
       " ('maan', 0.4586440622806549),\n",
       " ('aarde', 0.4552525281906128),\n",
       " ('richting', 0.451851487159729),\n",
       " ('adem', 0.451760470867157),\n",
       " ('schaduw', 0.44530829787254333),\n",
       " ('draad', 0.44496485590934753),\n",
       " ('bocht', 0.4431494474411011),\n",
       " ('wind', 0.43827101588249207),\n",
       " ('hemel', 0.4374813735485077)]"
      ]
     },
     "execution_count": 24,
     "metadata": {},
     "output_type": "execute_result"
    }
   ],
   "source": [
    "dutchleibnitz_w2v.wv.most_similar(positive=[\"ster\"], negative=[\"award\"], topn=20)"
   ]
  },
  {
   "cell_type": "markdown",
   "metadata": {},
   "source": [
    "However, if we specify we're looking for words that are similar to *muis* (mouse), but dissimilar to *dier* (animal), suddenly the computer meaning takes over. We now find similar devices in the top ten nearest neighbours, such as *afstandsbediening* (remote control)."
   ]
  },
  {
   "cell_type": "code",
   "execution_count": 13,
   "metadata": {},
   "outputs": [
    {
     "name": "stderr",
     "output_type": "stream",
     "text": [
      "/anaconda3/lib/python3.6/site-packages/ipykernel_launcher.py:1: DeprecationWarning: Call to deprecated `wv` (Attribute will be removed in 4.0.0, use self instead).\n",
      "  \"\"\"Entry point for launching an IPython kernel.\n"
     ]
    },
    {
     "data": {
      "text/plain": [
       "[('toewenste', 0.5640045404434204),\n",
       " ('uivariaties', 0.559887170791626),\n",
       " ('theaterproductie', 0.5535278916358948),\n",
       " ('bladknoppen', 0.5493187308311462),\n",
       " ('ndp-parlementariër', 0.5485700368881226),\n",
       " ('safrina', 0.5423091053962708),\n",
       " ('basketcompetitie', 0.5418466329574585),\n",
       " ('soup', 0.5405064821243286),\n",
       " ('vakdiscussies', 0.5374612808227539),\n",
       " ('doorslaer', 0.5343290567398071)]"
      ]
     },
     "execution_count": 13,
     "metadata": {},
     "output_type": "execute_result"
    }
   ],
   "source": [
    "dutchleibnitz_w2v.wv.most_similar(positive=[\"muis\"], negative=[\"dier\"], topn=10)"
   ]
  },
  {
   "cell_type": "markdown",
   "metadata": {},
   "source": [
    "Finally, we can present the word2vec model with a list of words and ask it to identify the odd one out. It then uses the word embeddings to identify the word that is least similar to the other ones. For example, in the list *auto fiets bus koffie* (car, bike, bus, coffee), it correctly identifies *koffie* as the odd one out. In the list *koffie auto thee melk* (coffee, car, tea, milk), it correctly singles out *auto*."
   ]
  },
  {
   "cell_type": "code",
   "execution_count": 14,
   "metadata": {},
   "outputs": [
    {
     "name": "stdout",
     "output_type": "stream",
     "text": [
      "koffie\n",
      "auto\n"
     ]
    },
    {
     "name": "stderr",
     "output_type": "stream",
     "text": [
      "/anaconda3/lib/python3.6/site-packages/ipykernel_launcher.py:1: DeprecationWarning: Call to deprecated `wv` (Attribute will be removed in 4.0.0, use self instead).\n",
      "  \"\"\"Entry point for launching an IPython kernel.\n",
      "/anaconda3/lib/python3.6/site-packages/gensim/models/keyedvectors.py:730: FutureWarning: arrays to stack must be passed as a \"sequence\" type such as list or tuple. Support for non-sequence iterables such as generators is deprecated as of NumPy 1.16 and will raise an error in the future.\n",
      "  vectors = vstack(self.word_vec(word, use_norm=True) for word in used_words).astype(REAL)\n",
      "/anaconda3/lib/python3.6/site-packages/ipykernel_launcher.py:2: DeprecationWarning: Call to deprecated `wv` (Attribute will be removed in 4.0.0, use self instead).\n",
      "  \n"
     ]
    }
   ],
   "source": [
    "print(dutchleibnitz_w2v.wv.doesnt_match(\"auto fiets bus koffie\".split()))\n",
    "print(dutchleibnitz_w2v.wv.doesnt_match(\"koffie auto thee melk\".split()))"
   ]
  },
  {
   "cell_type": "markdown",
   "metadata": {},
   "source": [
    "## Plotting embeddings"
   ]
  },
  {
   "cell_type": "markdown",
   "metadata": {},
   "source": [
    "Let's now visualize some of our embeddings. To plot embeddings with a dimensionality of 100 or more, we first need to map them to a dimensionality of 2. We do this with the popular [t-SNE](https://lvdmaaten.github.io/tsne/) method. T-SNE, short for t-distributed Stochastic Neighbor Embedding, helps us visualize high-dimensional data by mapping similar data to nearby points and dissimilar data to distance points in the low-dimensional space.\n",
    "\n",
    "T-SNE is present in [Scikit-learn](https://scikit-learn.org/stable/modules/generated/sklearn.manifold.TSNE.html). To run it, we just have to specify the number of dimensions we'd like to map the data to (`n_components`), and the similarity metric that t-SNE should use to compute the similarity between two data points (`metric`). We're going to map to 2 dimensions and use the cosine as our similarity metric. Additionally, we use PCA as an initialization method to remove some noise and speed up computation. The [Scikit-learn user guide](https://scikit-learn.org/stable/modules/manifold.html#t-sne) contains some additional tips for optimizing performance. \n",
    "\n",
    "Plotting all the embeddings in our vector space would result in a very crowded figure where the labels are hardly legible. Therefore we'll focus on a subset of embeddings by selecting the 'n' most similar words to a target word. "
   ]
  },
  {
   "cell_type": "code",
   "execution_count": 14,
   "metadata": {},
   "outputs": [
    {
     "name": "stderr",
     "output_type": "stream",
     "text": [
      "/anaconda3/lib/python3.6/site-packages/ipykernel_launcher.py:11: DeprecationWarning: Call to deprecated `wv` (Attribute will be removed in 4.0.0, use self instead).\n",
      "  # This is added back by InteractiveShellApp.init_path()\n",
      "/anaconda3/lib/python3.6/site-packages/ipykernel_launcher.py:12: DeprecationWarning: Call to deprecated `wv` (Attribute will be removed in 4.0.0, use self instead).\n",
      "  if sys.path[0] == '':\n"
     ]
    }
   ],
   "source": [
    "%matplotlib inline\n",
    "\n",
    "import pandas as pd\n",
    "import matplotlib\n",
    "import matplotlib.pyplot as plt\n",
    "\n",
    "from sklearn.manifold import TSNE\n",
    "\n",
    "count=50\n",
    "target_word = \"maan\"\n",
    "selected_words = [w[0] for w in dutchleibnitz_w2v.wv.most_similar(positive=[target_word], topn=count)]\n",
    "embeddings = [dutchleibnitz_w2v.wv[w] for w in selected_words]\n",
    "\n",
    "mapped_embeddings = TSNE(n_components=2, metric='cosine', init='pca').fit_transform(embeddings)"
   ]
  },
  {
   "cell_type": "code",
   "execution_count": 20,
   "metadata": {},
   "outputs": [],
   "source": [
    "#https://www.kaggle.com/jeffd23/visualizing-word-vectors-with-t-sne\n",
    "#https://matplotlib.org/3.1.1/api/_as_gen/matplotlib.pyplot.savefig.html\n",
    "from sklearn.manifold import TSNE\n",
    "import matplotlib.pyplot as plt\n",
    "%matplotlib inline\n",
    "\n",
    "def tsne_plot_target_word(model, selected_words, name, count):\n",
    "    \"Creates and TSNE model and plots it\"\n",
    "    labels = []\n",
    "    tokens = []\n",
    "\n",
    "    for i, word in enumerate(selected_words):\n",
    "        tokens.append(model[i])\n",
    "        labels.append(word)\n",
    "\n",
    "    tsne_model = TSNE(perplexity=40, n_components=2, init='pca', n_iter=2500, random_state=23)\n",
    "    new_values = tsne_model.fit_transform(tokens)\n",
    "\n",
    "    x = []\n",
    "    y = []\n",
    "    for value in new_values:\n",
    "        x.append(value[0])\n",
    "        y.append(value[1])\n",
    "        \n",
    "    plt.figure(figsize=(16, 16)) \n",
    "    for i in range(len(x)):\n",
    "        plt.scatter(x[i],y[i])\n",
    "        plt.annotate(labels[i],\n",
    "                     xy=(x[i], y[i]),\n",
    "                     xytext=(5, 2),\n",
    "                     textcoords='offset points',\n",
    "                     ha='right',\n",
    "                     va='bottom')\n",
    "    plt.title('Word embedding space:'+name)\n",
    "    plt.savefig(name+str(count)+'_dutchleibnitz_w2v.pdf', dpi=600, transparent='true', bbox_inches='tight')\n",
    "    plt.show()"
   ]
  },
  {
   "cell_type": "code",
   "execution_count": 21,
   "metadata": {},
   "outputs": [
    {
     "data": {
      "image/png": "[encoded data removed]",
      "text/plain": [
       "<Figure size 1152x1152 with 1 Axes>"
      ]
     },
     "metadata": {},
     "output_type": "display_data"
    }
   ],
   "source": [
    "tsne_plot_target_word(embeddings, selected_words,target_word, count)"
   ]
  },
  {
   "cell_type": "markdown",
   "metadata": {},
   "source": [
    "### Displaying the full graph\n",
    "\n",
    "To display the whole space we limit the vocabulary to frequency of 500 or more and reduce the dimensions to 100. This may still take a while to complete. The result may look cluttered, which is why we save it to a PDF file to expand."
   ]
  },
  {
   "cell_type": "code",
   "execution_count": 20,
   "metadata": {},
   "outputs": [
    {
     "ename": "NameError",
     "evalue": "name 'text_leibnitzcorpus_clean' is not defined",
     "output_type": "error",
     "traceback": [
      "\u001b[0;31m---------------------------------------------------------------------------\u001b[0m",
      "\u001b[0;31mNameError\u001b[0m                                 Traceback (most recent call last)",
      "\u001b[0;32m<ipython-input-20-972be8e43d43>\u001b[0m in \u001b[0;36m<module>\u001b[0;34m()\u001b[0m\n\u001b[1;32m      1\u001b[0m \u001b[0;32mfrom\u001b[0m \u001b[0mgensim\u001b[0m\u001b[0;34m.\u001b[0m\u001b[0mmodels\u001b[0m \u001b[0;32mimport\u001b[0m \u001b[0mWord2Vec\u001b[0m\u001b[0;34m\u001b[0m\u001b[0m\n\u001b[1;32m      2\u001b[0m \u001b[0mcount\u001b[0m\u001b[0;34m=\u001b[0m\u001b[0;36m500\u001b[0m\u001b[0;34m\u001b[0m\u001b[0m\n\u001b[0;32m----> 3\u001b[0;31m \u001b[0mdutchleibnitz_w2v\u001b[0m \u001b[0;34m=\u001b[0m \u001b[0mWord2Vec\u001b[0m\u001b[0;34m(\u001b[0m\u001b[0mtext_leibnitzcorpus_clean\u001b[0m\u001b[0;34m,\u001b[0m \u001b[0msize\u001b[0m \u001b[0;34m=\u001b[0m \u001b[0;36m100\u001b[0m\u001b[0;34m,\u001b[0m \u001b[0mwindow\u001b[0m \u001b[0;34m=\u001b[0m \u001b[0;36m4\u001b[0m\u001b[0;34m,\u001b[0m \u001b[0mmin_count\u001b[0m \u001b[0;34m=\u001b[0m\u001b[0mcount\u001b[0m\u001b[0;34m)\u001b[0m\u001b[0;34m\u001b[0m\u001b[0m\n\u001b[0m",
      "\u001b[0;31mNameError\u001b[0m: name 'text_leibnitzcorpus_clean' is not defined"
     ]
    }
   ],
   "source": [
    "from gensim.models import Word2Vec\n",
    "count=500\n",
    "\n",
    "dutchleibnitz_w2v = Word2Vec(text_leibnitzcorpus_clean, size = 100, window = 4, min_count =count)"
   ]
  },
  {
   "cell_type": "code",
   "execution_count": 17,
   "metadata": {},
   "outputs": [],
   "source": [
    "#https://www.kaggle.com/jeffd23/visualizing-word-vectors-with-t-sne\n",
    "#https://matplotlib.org/3.1.1/api/_as_gen/matplotlib.pyplot.savefig.html\n",
    "from sklearn.manifold import TSNE\n",
    "import matplotlib.pyplot as plt\n",
    "%matplotlib inline\n",
    "\n",
    "def tsne_plot(model, name):\n",
    "    \"Creates and TSNE model and plots it\"\n",
    "    labels = []\n",
    "    tokens = []\n",
    "\n",
    "    for word in model.wv.vocab:\n",
    "        tokens.append(model[word])\n",
    "        labels.append(word)\n",
    "    \n",
    "    tsne_model = TSNE(perplexity=40, n_components=2, init='pca', n_iter=2500, random_state=23)\n",
    "    new_values = tsne_model.fit_transform(tokens)\n",
    "\n",
    "    x = []\n",
    "    y = []\n",
    "    for value in new_values:\n",
    "        x.append(value[0])\n",
    "        y.append(value[1])\n",
    "        \n",
    "    plt.figure(figsize=(16, 16)) \n",
    "    for i in range(len(x)):\n",
    "        plt.scatter(x[i],y[i])\n",
    "        plt.annotate(labels[i],\n",
    "                     xy=(x[i], y[i]),\n",
    "                     xytext=(5, 2),\n",
    "                     textcoords='offset points',\n",
    "                     ha='right',\n",
    "                     va='bottom')\n",
    "    plt.title('Word embedding space:'+name)\n",
    "    plt.savefig(name+'_dutchleibnitz_w2v.pdf', dpi=600, transparent='true', bbox_inches='tight')\n",
    "    plt.show()"
   ]
  },
  {
   "cell_type": "code",
   "execution_count": null,
   "metadata": {},
   "outputs": [
    {
     "name": "stderr",
     "output_type": "stream",
     "text": [
      "/anaconda3/lib/python3.6/site-packages/ipykernel_launcher.py:12: DeprecationWarning: Call to deprecated `wv` (Attribute will be removed in 4.0.0, use self instead).\n",
      "  if sys.path[0] == '':\n"
     ]
    }
   ],
   "source": [
    "tsne_plot(dutchleibnitz_w2v, count)"
   ]
  },
  {
   "cell_type": "markdown",
   "metadata": {},
   "source": [
    "End of notebook"
   ]
  }
 ],
 "metadata": {
  "kernelspec": {
   "display_name": "Python 3",
   "language": "python",
   "name": "python3"
  },
  "language_info": {
   "codemirror_mode": {
    "name": "ipython",
    "version": 3
   },
   "file_extension": ".py",
   "mimetype": "text/x-python",
   "name": "python",
   "nbconvert_exporter": "python",
   "pygments_lexer": "ipython3",
   "version": "3.6.5"
  }
 },
 "nbformat": 4,
 "nbformat_minor": 2
}
