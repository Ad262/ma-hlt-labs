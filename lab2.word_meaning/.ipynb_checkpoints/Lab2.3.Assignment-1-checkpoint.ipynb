{
 "cells": [
  {
   "cell_type": "markdown",
   "metadata": {},
   "source": [
    "## Assignment 1c: Use Word Embeddings to extend Wordnet"
   ]
  },
  {
   "cell_type": "markdown",
   "metadata": {},
   "source": [
    "In this assignment you:\n",
    "\n",
    "* select the word embedding model for a language of your choice, \n",
    "* extract the 50 most similar words for your target word \n",
    "* map these words to a wordnet in the same language:\n",
    "    * which words are already there and what relations they have with your target word\n",
    "    * which words are not there and what would be the relation to the target word (if any)\n",
    "    \n",
    "You can follow the Wikipedia2Vec notebook instructions notebook to create the two concordances. This notebook should show how you applied this to your word. Insert Mardown rows the explain your steps and discuss any problems or issues. Once you generated the concordances, convert this notebook to PDF using the menu \"File/Export Notebook As\".\n",
    "\n",
    "Including a PDF of your notebook for the assignment with output. Maximum of 5 pages including the log."
   ]
  },
  {
   "cell_type": "markdown",
   "metadata": {},
   "source": [
    "## HERE COMES YOUR CODE!"
   ]
  }
 ],
 "metadata": {
  "kernelspec": {
   "display_name": "Python 3",
   "language": "python",
   "name": "python3"
  },
  "language_info": {
   "codemirror_mode": {
    "name": "ipython",
    "version": 3
   },
   "file_extension": ".py",
   "mimetype": "text/x-python",
   "name": "python",
   "nbconvert_exporter": "python",
   "pygments_lexer": "ipython3",
   "version": "3.6.5"
  }
 },
 "nbformat": 4,
 "nbformat_minor": 2
}
