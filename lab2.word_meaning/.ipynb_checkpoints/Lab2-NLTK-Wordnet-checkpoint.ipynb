{
 "cells": [
  {
   "cell_type": "markdown",
   "metadata": {},
   "source": [
    "http://www.nltk.org/howto/wordnet.html"
   ]
  },
  {
   "cell_type": "code",
   "execution_count": 3,
   "metadata": {},
   "outputs": [],
   "source": [
    "from nltk.corpus import wordnet as wn"
   ]
  },
  {
   "cell_type": "markdown",
   "metadata": {},
   "source": [
    "Look up a word using synsets(); this function has an optional pos argument which lets you constrain the part of speech of the word:"
   ]
  },
  {
   "cell_type": "code",
   "execution_count": 4,
   "metadata": {},
   "outputs": [
    {
     "data": {
      "text/plain": [
       "[Synset('dog.n.01'),\n",
       " Synset('frump.n.01'),\n",
       " Synset('dog.n.03'),\n",
       " Synset('cad.n.01'),\n",
       " Synset('frank.n.02'),\n",
       " Synset('pawl.n.01'),\n",
       " Synset('andiron.n.01'),\n",
       " Synset('chase.v.01')]"
      ]
     },
     "execution_count": 4,
     "metadata": {},
     "output_type": "execute_result"
    }
   ],
   "source": [
    "wn.synsets('dog') # doctest: +ELLIPSIS +NORMALIZE_WHITESPACE"
   ]
  },
  {
   "cell_type": "code",
   "execution_count": 46,
   "metadata": {},
   "outputs": [
    {
     "data": {
      "text/plain": [
       "Synset('dog.n.01')"
      ]
     },
     "execution_count": 46,
     "metadata": {},
     "output_type": "execute_result"
    }
   ],
   "source": [
    "wn.synset('dog.n.01')"
   ]
  },
  {
   "cell_type": "markdown",
   "metadata": {},
   "source": [
    "http://compling.hss.ntu.edu.sg/omw/"
   ]
  },
  {
   "cell_type": "code",
   "execution_count": 47,
   "metadata": {},
   "outputs": [
    {
     "data": {
      "text/plain": [
       "['als',\n",
       " 'arb',\n",
       " 'bul',\n",
       " 'cat',\n",
       " 'cmn',\n",
       " 'dan',\n",
       " 'ell',\n",
       " 'eng',\n",
       " 'eus',\n",
       " 'fas',\n",
       " 'fin',\n",
       " 'fra',\n",
       " 'glg',\n",
       " 'heb',\n",
       " 'hrv',\n",
       " 'ind',\n",
       " 'ita',\n",
       " 'jpn',\n",
       " 'nld',\n",
       " 'nno',\n",
       " 'nob',\n",
       " 'pol',\n",
       " 'por',\n",
       " 'qcn',\n",
       " 'slv',\n",
       " 'spa',\n",
       " 'swe',\n",
       " 'tha',\n",
       " 'zsm']"
      ]
     },
     "execution_count": 47,
     "metadata": {},
     "output_type": "execute_result"
    }
   ],
   "source": [
    "sorted(wn.langs())"
   ]
  },
  {
   "cell_type": "code",
   "execution_count": 48,
   "metadata": {},
   "outputs": [
    {
     "data": {
      "text/plain": [
       "['いぬ',\n",
       " 'スパイ',\n",
       " '回者',\n",
       " '回し者',\n",
       " '密偵',\n",
       " '工作員',\n",
       " '廻者',\n",
       " '廻し者',\n",
       " '探',\n",
       " '探り',\n",
       " '犬',\n",
       " '秘密捜査員',\n",
       " 'まわし者',\n",
       " '諜報員',\n",
       " '諜者',\n",
       " '間者',\n",
       " '間諜',\n",
       " '隠密']"
      ]
     },
     "execution_count": 48,
     "metadata": {},
     "output_type": "execute_result"
    }
   ],
   "source": [
    "wn.synset('spy.n.01').lemma_names('jpn')"
   ]
  },
  {
   "cell_type": "code",
   "execution_count": 49,
   "metadata": {},
   "outputs": [
    {
     "data": {
      "text/plain": [
       "['geheim_agent', 'dwarskijker', 'spion', 'verspieder']"
      ]
     },
     "execution_count": 49,
     "metadata": {},
     "output_type": "execute_result"
    }
   ],
   "source": [
    "wn.synset('spy.n.01').lemma_names('nld')"
   ]
  },
  {
   "cell_type": "code",
   "execution_count": 50,
   "metadata": {},
   "outputs": [
    {
     "data": {
      "text/plain": [
       "[Lemma('dog.n.01.cane'),\n",
       " Lemma('cramp.n.02.cane'),\n",
       " Lemma('hammer.n.01.cane'),\n",
       " Lemma('bad_person.n.01.cane'),\n",
       " Lemma('incompetent.n.01.cane')]"
      ]
     },
     "execution_count": 50,
     "metadata": {},
     "output_type": "execute_result"
    }
   ],
   "source": [
    "wn.lemmas('cane', lang='ita')"
   ]
  },
  {
   "cell_type": "code",
   "execution_count": 51,
   "metadata": {},
   "outputs": [
    {
     "data": {
      "text/plain": [
       "[Lemma('dog.n.01.hond'), Lemma('asshole.n.01.hond')]"
      ]
     },
     "execution_count": 51,
     "metadata": {},
     "output_type": "execute_result"
    }
   ],
   "source": [
    "wn.lemmas('hond', lang='nld')"
   ]
  },
  {
   "cell_type": "code",
   "execution_count": 52,
   "metadata": {},
   "outputs": [
    {
     "name": "stdout",
     "output_type": "stream",
     "text": [
      "['kat', 'katje', 'kattekop', 'kattenkop']\n"
     ]
    }
   ],
   "source": [
    "kat_synsets = wn.synsets('kat', lang='nld')\n",
    "for kat_synset in kat_synsets:\n",
    "    print([lemma.name() for lemma in kat_synset.lemmas(lang='nld')])"
   ]
  },
  {
   "cell_type": "code",
   "execution_count": 53,
   "metadata": {},
   "outputs": [
    {
     "data": {
      "text/plain": [
       "36896"
      ]
     },
     "execution_count": 53,
     "metadata": {},
     "output_type": "execute_result"
    }
   ],
   "source": [
    "len(wordnet.all_lemma_names(pos='n', lang='nld'))"
   ]
  },
  {
   "cell_type": "code",
   "execution_count": 54,
   "metadata": {},
   "outputs": [],
   "source": [
    "dog = wn.synset('dog.n.01')"
   ]
  },
  {
   "cell_type": "code",
   "execution_count": 55,
   "metadata": {},
   "outputs": [
    {
     "name": "stdout",
     "output_type": "stream",
     "text": [
      "a member of the genus Canis (probably descended from the common wolf) that has been domesticated by man since prehistoric times; occurs in many breeds\n"
     ]
    }
   ],
   "source": [
    "print(wn.synset('dog.n.01').definition())"
   ]
  },
  {
   "cell_type": "code",
   "execution_count": 56,
   "metadata": {},
   "outputs": [],
   "source": [
    "hypo = lambda s: s.hyponyms()"
   ]
  },
  {
   "cell_type": "code",
   "execution_count": 57,
   "metadata": {},
   "outputs": [],
   "source": [
    "hyper= lambda s: s.hypernyms()"
   ]
  },
  {
   "cell_type": "code",
   "execution_count": 67,
   "metadata": {},
   "outputs": [
    {
     "data": {
      "text/plain": [
       "[Synset('basenji.n.01'),\n",
       " Synset('corgi.n.01'),\n",
       " Synset('cur.n.01'),\n",
       " Synset('dalmatian.n.02'),\n",
       " Synset('great_pyrenees.n.01'),\n",
       " Synset('griffon.n.02'),\n",
       " Synset('hunting_dog.n.01'),\n",
       " Synset('lapdog.n.01'),\n",
       " Synset('leonberg.n.01'),\n",
       " Synset('mexican_hairless.n.01')]"
      ]
     },
     "execution_count": 67,
     "metadata": {},
     "output_type": "execute_result"
    }
   ],
   "source": [
    "list(dog.closure(hypo))[:10]"
   ]
  },
  {
   "cell_type": "code",
   "execution_count": 32,
   "metadata": {},
   "outputs": [
    {
     "data": {
      "text/plain": [
       "[Synset('canine.n.02'),\n",
       " Synset('domestic_animal.n.01'),\n",
       " Synset('carnivore.n.01'),\n",
       " Synset('animal.n.01'),\n",
       " Synset('placental.n.01'),\n",
       " Synset('organism.n.01'),\n",
       " Synset('mammal.n.01'),\n",
       " Synset('living_thing.n.01'),\n",
       " Synset('vertebrate.n.01'),\n",
       " Synset('whole.n.02'),\n",
       " Synset('chordate.n.01'),\n",
       " Synset('object.n.01'),\n",
       " Synset('physical_entity.n.01'),\n",
       " Synset('entity.n.01')]"
      ]
     },
     "execution_count": 32,
     "metadata": {},
     "output_type": "execute_result"
    }
   ],
   "source": [
    "list(dog.closure(hyper))"
   ]
  },
  {
   "cell_type": "markdown",
   "metadata": {},
   "source": [
    "### Get  Dutch dogs"
   ]
  },
  {
   "cell_type": "code",
   "execution_count": 38,
   "metadata": {},
   "outputs": [
    {
     "data": {
      "text/plain": [
       "['dalmatiër', 'Dalmatische']"
      ]
     },
     "execution_count": 38,
     "metadata": {},
     "output_type": "execute_result"
    }
   ],
   "source": [
    " wn.synset('dalmatian.n.02').lemma_names('nld')"
   ]
  },
  {
   "cell_type": "code",
   "execution_count": 65,
   "metadata": {},
   "outputs": [
    {
     "name": "stdout",
     "output_type": "stream",
     "text": [
      "Synset('basenji.n.01')\n",
      "[]\n",
      "Synset('corgi.n.01')\n",
      "[]\n",
      "Synset('cur.n.01')\n",
      "['mormel', 'idioot', 'halve_gare', 'bastaard', 'bastaardhond', 'straathond']\n",
      "Synset('dalmatian.n.02')\n",
      "['dalmatiër', 'Dalmatische']\n",
      "Synset('great_pyrenees.n.01')\n",
      "[]\n",
      "Synset('griffon.n.02')\n",
      "[]\n",
      "Synset('hunting_dog.n.01')\n",
      "[]\n",
      "Synset('lapdog.n.01')\n",
      "[]\n",
      "Synset('leonberg.n.01')\n",
      "[]\n",
      "Synset('mexican_hairless.n.01')\n",
      "[]\n",
      "Synset('newfoundland.n.01')\n",
      "[]\n",
      "Synset('pooch.n.01')\n",
      "['bastaard', 'vuilnisbakkie']\n",
      "Synset('poodle.n.01')\n",
      "['poedel']\n",
      "Synset('pug.n.01')\n",
      "['mops', 'mopshond']\n",
      "Synset('puppy.n.01')\n",
      "['hondejong', 'hondenjong', 'pup', 'puppy']\n",
      "Synset('spitz.n.01')\n",
      "[]\n",
      "Synset('toy_dog.n.01')\n",
      "[]\n",
      "Synset('working_dog.n.01')\n",
      "['werkhond']\n",
      "Synset('cardigan.n.02')\n",
      "[]\n",
      "Synset('pembroke.n.01')\n",
      "[]\n",
      "Synset('feist.n.01')\n",
      "['Feist']\n",
      "Synset('pariah_dog.n.01')\n",
      "[]\n",
      "Synset('liver-spotted_dalmatian.n.01')\n",
      "[]\n",
      "Synset('brabancon_griffon.n.01')\n",
      "[]\n",
      "Synset('courser.n.03')\n",
      "[]\n",
      "Synset('dachshund.n.01')\n",
      "['dashond', 'taks', 'teckel']\n",
      "Synset('hound.n.01')\n",
      "['jachthond']\n",
      "Synset('rhodesian_ridgeback.n.01')\n",
      "[]\n",
      "Synset('sporting_dog.n.01')\n",
      "['vogelhond']\n",
      "Synset('terrier.n.01')\n",
      "['terriër']\n",
      "Synset('large_poodle.n.01')\n",
      "[]\n",
      "Synset('miniature_poodle.n.01')\n",
      "[]\n",
      "Synset('standard_poodle.n.01')\n",
      "[]\n",
      "Synset('toy_poodle.n.01')\n",
      "[]\n",
      "Synset('chow.n.03')\n",
      "['eten']\n",
      "Synset('keeshond.n.01')\n",
      "['keeshond']\n",
      "Synset('pomeranian.n.01')\n",
      "['Pommers']\n",
      "Synset('samoyed.n.03')\n",
      "['Samojeed']\n",
      "Synset('chihuahua.n.03')\n",
      "['chihuahua']\n",
      "Synset('japanese_spaniel.n.01')\n",
      "[]\n",
      "Synset('maltese_dog.n.01')\n",
      "['Maltese']\n",
      "Synset('pekinese.n.01')\n",
      "[]\n",
      "Synset('shih-tzu.n.01')\n",
      "[]\n",
      "Synset('toy_spaniel.n.01')\n",
      "[]\n",
      "Synset('toy_terrier.n.01')\n",
      "[]\n",
      "Synset('boxer.n.04')\n",
      "['boxer', 'pugilist', 'vuistvechter', 'bokser']\n",
      "Synset('bull_mastiff.n.01')\n",
      "[]\n",
      "Synset('bulldog.n.01')\n",
      "['buldog']\n",
      "Synset('eskimo_dog.n.01')\n",
      "['sledehond']\n",
      "Synset('great_dane.n.01')\n",
      "[]\n",
      "Synset('guide_dog.n.01')\n",
      "[]\n",
      "Synset('hearing_dog.n.01')\n",
      "[]\n",
      "Synset('mastiff.n.01')\n",
      "['bulhond', 'mastiff']\n",
      "Synset('police_dog.n.01')\n",
      "['politiehond']\n",
      "Synset('saint_bernard.n.01')\n",
      "[]\n",
      "Synset('seizure-alert_dog.n.01')\n",
      "[]\n",
      "Synset('sennenhunde.n.01')\n",
      "[]\n",
      "Synset('shepherd_dog.n.01')\n",
      "['herdershond']\n",
      "Synset('sled_dog.n.01')\n",
      "['sledehond']\n",
      "Synset('watchdog.n.02')\n",
      "['waakhond']\n",
      "Synset('sausage_dog.n.01')\n",
      "[]\n",
      "Synset('afghan_hound.n.01')\n",
      "['Afghaanse_windhond']\n",
      "Synset('basset.n.01')\n",
      "['brak']\n",
      "Synset('beagle.n.01')\n",
      "['snuffelaar', 'beagle', 'brak']\n",
      "Synset('bloodhound.n.01')\n",
      "[]\n",
      "Synset('bluetick.n.01')\n",
      "[]\n",
      "Synset('boarhound.n.01')\n",
      "[]\n",
      "Synset('coonhound.n.01')\n",
      "[]\n",
      "Synset('foxhound.n.01')\n",
      "['vossenjacht']\n",
      "Synset('greyhound.n.01')\n",
      "['hazewind', 'hazewindhond', 'windhond']\n",
      "Synset('harrier.n.02')\n",
      "[]\n",
      "Synset('ibizan_hound.n.01')\n",
      "[]\n",
      "Synset('norwegian_elkhound.n.01')\n",
      "[]\n",
      "Synset('otterhound.n.01')\n",
      "['hond_voor_jacht_op_otters']\n",
      "Synset('plott_hound.n.01')\n",
      "[]\n",
      "Synset('redbone.n.01')\n",
      "[]\n",
      "Synset('saluki.n.01')\n",
      "[]\n",
      "Synset('scottish_deerhound.n.01')\n",
      "[]\n",
      "Synset('staghound.n.01')\n",
      "[]\n",
      "Synset('weimaraner.n.01')\n",
      "[]\n",
      "Synset('wolfhound.n.01')\n",
      "[]\n",
      "Synset('bird_dog.n.01')\n",
      "[]\n",
      "Synset('griffon.n.03')\n",
      "[]\n",
      "Synset('pointer.n.04')\n",
      "[]\n",
      "Synset('retriever.n.01')\n",
      "[]\n",
      "Synset('setter.n.02')\n",
      "[]\n",
      "Synset('spaniel.n.01')\n",
      "['spaniël']\n",
      "Synset('water_dog.n.02')\n",
      "['waterhond']\n",
      "Synset('airedale.n.01')\n",
      "[]\n",
      "Synset('australian_terrier.n.01')\n",
      "[]\n",
      "Synset('bedlington_terrier.n.01')\n",
      "[]\n",
      "Synset('border_terrier.n.01')\n",
      "[]\n",
      "Synset('boston_bull.n.01')\n",
      "[]\n",
      "Synset('bullterrier.n.01')\n",
      "['bulterriër']\n",
      "Synset('cairn.n.02')\n",
      "[]\n",
      "Synset('dandie_dinmont.n.01')\n",
      "[]\n",
      "Synset('fox_terrier.n.01')\n",
      "[]\n",
      "Synset('irish_terrier.n.01')\n",
      "[]\n",
      "Synset('kerry_blue_terrier.n.01')\n",
      "[]\n",
      "Synset('lhasa.n.02')\n",
      "[]\n"
     ]
    }
   ],
   "source": [
    "for s in list(dog.closure(hypo))[:100]:\n",
    "    print(s)\n",
    "    print( s.lemma_names('nld'))"
   ]
  },
  {
   "cell_type": "code",
   "execution_count": null,
   "metadata": {},
   "outputs": [],
   "source": []
  }
 ],
 "metadata": {
  "kernelspec": {
   "display_name": "Python 3",
   "language": "python",
   "name": "python3"
  },
  "language_info": {
   "codemirror_mode": {
    "name": "ipython",
    "version": 3
   },
   "file_extension": ".py",
   "mimetype": "text/x-python",
   "name": "python",
   "nbconvert_exporter": "python",
   "pygments_lexer": "ipython3",
   "version": "3.6.5"
  }
 },
 "nbformat": 4,
 "nbformat_minor": 2
}
