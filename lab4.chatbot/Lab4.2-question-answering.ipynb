{
 "cells": [
  {
   "cell_type": "markdown",
   "metadata": {},
   "source": [
    "# Lab 4.2 - Chatbot for question-answering\n",
    "\n",
    "Copyright, Vrije Universiteit Amsterdam, Faculty of Humanities, CLTL\n",
    "\n",
    "In this notebook, we will create a Telegram chatbot that will answer questions, given a predefined question-answer set. "
   ]
  },
  {
   "cell_type": "markdown",
   "metadata": {},
   "source": [
    "**Main goal of this notebook**: The most important goal of this notebook is to have a Telegram chatbot that you can ask factual questions to, and receive predefined answers."
   ]
  },
  {
   "cell_type": "markdown",
   "metadata": {},
   "source": [
    "**At the end of this notebook, you will**:\n",
    "* **Use a predefined question - answering dataset**: "
   ]
  },
  {
   "cell_type": "markdown",
   "metadata": {},
   "source": [
    "## Using a question-answer dictionary"
   ]
  },
  {
   "cell_type": "code",
   "execution_count": 1,
   "metadata": {},
   "outputs": [],
   "source": [
    "import json\n",
    "import random\n",
    "import datetime\n",
    "import requests"
   ]
  },
  {
   "cell_type": "code",
   "execution_count": 2,
   "metadata": {},
   "outputs": [],
   "source": [
    "def read_token():\n",
    "    tokens_path = './data/tokens.json'\n",
    "    with open(tokens_path) as f:\n",
    "        tokens = json.load(f)\n",
    "\n",
    "    return tokens['CLTL_token']\n",
    "\n",
    "def read_qa():\n",
    "    qa_path = './data/q-and-a.json'\n",
    "    with open(qa_path) as f:\n",
    "        qa_data = json.load(f)\n",
    "\n",
    "    return qa_data"
   ]
  },
  {
   "cell_type": "code",
   "execution_count": 3,
   "metadata": {},
   "outputs": [],
   "source": [
    "class BotHandler:\n",
    "    def __init__(self, token):\n",
    "        self.token = token\n",
    "        self.api_url = \"https://api.telegram.org/bot{}/\".format(token)\n",
    "\n",
    "    def get_all_messages(self, offset=None, timeout=200):\n",
    "        \"\"\" Function to get all messages sent to the bot \"\"\"\n",
    "        method = 'getUpdates'\n",
    "        params = {'timeout': timeout, 'offset': offset}\n",
    "        resp = requests.get(self.api_url + method, params)\n",
    "        return resp.json()['result']\n",
    "\n",
    "    def get_last_message_by(self, chat_id):\n",
    "        \"\"\" Function to get the last message sent to the bot by a specific user\"\"\"\n",
    "        messages = self.get_all_messages()\n",
    "        messages_by_user = list(filter(lambda d: d['message']['chat']['id'] == chat_id, messages))\n",
    "\n",
    "        if messages_by_user:\n",
    "            last_message = messages_by_user[-1]['message']['text']\n",
    "        else:\n",
    "            last_message = None\n",
    "\n",
    "        return last_message\n",
    "    \n",
    "    def send_message_to(self, chat_id, text):\n",
    "        \"\"\" Function to send a message from the bot to a specific user\"\"\"\n",
    "        params = {'chat_id': chat_id, 'text': text}\n",
    "        method = 'sendMessage'\n",
    "        resp = requests.post(self.api_url + method, params)"
   ]
  },
  {
   "cell_type": "code",
   "execution_count": 4,
   "metadata": {},
   "outputs": [
    {
     "name": "stdout",
     "output_type": "stream",
     "text": [
      "{\n",
      "  \"category\": \"greeting\",\n",
      "  \"questions\": [\n",
      "    \"Hi there\",\n",
      "    \"How are you\",\n",
      "    \"Is anyone there\",\n",
      "    \"Hey\",\n",
      "    \"Hola\",\n",
      "    \"Hello\",\n",
      "    \"Good day\"\n",
      "  ],\n",
      "  \"responses\": [\n",
      "    \"Hello\",\n",
      "    \"Good to see you again\",\n",
      "    \"Hi there, how can I help\"\n",
      "  ]\n",
      "}\n"
     ]
    }
   ],
   "source": [
    "CLTL_TOKEN = read_token()\n",
    "qa_data = read_qa()\n",
    "user_id = 408043639\n",
    "print(json.dumps(qa_data['intents'][0], indent=2))"
   ]
  },
  {
   "cell_type": "code",
   "execution_count": 5,
   "metadata": {},
   "outputs": [],
   "source": [
    "def create_response(message, qa_data):\n",
    "    response = \"I cannot respond to this\"\n",
    "    \n",
    "    for i in qa_data['intents']:\n",
    "        if message in i['questions']:\n",
    "            response = random.choice(i['responses'])\n",
    "            break\n",
    "    \n",
    "    return response"
   ]
  },
  {
   "cell_type": "code",
   "execution_count": 6,
   "metadata": {},
   "outputs": [
    {
     "name": "stdout",
     "output_type": "stream",
     "text": [
      "Received: Hi there\n",
      "Responded: Good to see you again\n"
     ]
    }
   ],
   "source": [
    "bot = BotHandler(CLTL_TOKEN)\n",
    "last_message = bot.get_last_message_by(user_id)\n",
    "response = create_response(last_message, qa_data)\n",
    "bot.send_message_to(user_id, response)\n",
    "\n",
    "\n",
    "print(\"Received: {message}\".format(message=last_message))\n",
    "print(\"Responded: {response}\".format(response=response))"
   ]
  },
  {
   "cell_type": "code",
   "execution_count": null,
   "metadata": {},
   "outputs": [],
   "source": []
  },
  {
   "cell_type": "markdown",
   "metadata": {},
   "source": [
    "## End of this notebook"
   ]
  },
  {
   "cell_type": "code",
   "execution_count": null,
   "metadata": {},
   "outputs": [],
   "source": []
  }
 ],
 "metadata": {
  "kernelspec": {
   "display_name": "Python 3",
   "language": "python",
   "name": "python3"
  },
  "language_info": {
   "codemirror_mode": {
    "name": "ipython",
    "version": 3
   },
   "file_extension": ".py",
   "mimetype": "text/x-python",
   "name": "python",
   "nbconvert_exporter": "python",
   "pygments_lexer": "ipython3",
   "version": "3.8.5"
  }
 },
 "nbformat": 4,
 "nbformat_minor": 2
}
